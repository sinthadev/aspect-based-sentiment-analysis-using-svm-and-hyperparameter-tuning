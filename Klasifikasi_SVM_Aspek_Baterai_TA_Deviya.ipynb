{
  "nbformat": 4,
  "nbformat_minor": 0,
  "metadata": {
    "colab": {
      "provenance": [],
      "collapsed_sections": [
        "2lxG9JbN1psE",
        "fH-_jTzA1woC",
        "W--Y7kGa114e",
        "YZSbWOM-2PHi",
        "4lfKg9___80e",
        "k19u6zZmAAkf",
        "SQ3fawOVADuP",
        "GV2dH2ayAGvg",
        "VHzk392bAVMk",
        "4jDusIX0AVMm",
        "hIgmnGtFAVMn",
        "bMOe71BiAVMn",
        "LTkYmsyvA_K7",
        "FXQpA_TZA_K7",
        "n8ste4wgA_K8",
        "AmlnKUFvA_K9"
      ]
    },
    "kernelspec": {
      "name": "python3",
      "display_name": "Python 3"
    },
    "language_info": {
      "name": "python"
    }
  },
  "cells": [
    {
      "cell_type": "code",
      "source": [
        "!pip install Sastrawi"
      ],
      "metadata": {
        "colab": {
          "base_uri": "https://localhost:8080/"
        },
        "id": "-8N2Rx-rPVWu",
        "outputId": "fc952626-d4cd-494b-e243-0d37091ab7c2"
      },
      "execution_count": 1,
      "outputs": [
        {
          "output_type": "stream",
          "name": "stdout",
          "text": [
            "Looking in indexes: https://pypi.org/simple, https://us-python.pkg.dev/colab-wheels/public/simple/\n",
            "Collecting Sastrawi\n",
            "  Downloading Sastrawi-1.0.1-py2.py3-none-any.whl (209 kB)\n",
            "\u001b[K     |████████████████████████████████| 209 kB 14.1 MB/s \n",
            "\u001b[?25hInstalling collected packages: Sastrawi\n",
            "Successfully installed Sastrawi-1.0.1\n"
          ]
        }
      ]
    },
    {
      "cell_type": "markdown",
      "source": [
        "# **Import Library**"
      ],
      "metadata": {
        "id": "tWLJXv9btmm-"
      }
    },
    {
      "cell_type": "code",
      "execution_count": 2,
      "metadata": {
        "id": "gLIM0aldsSDX"
      },
      "outputs": [],
      "source": [
        "# LIBRARY UNTUK MENGOLAH DATA\n",
        "import pandas as pd\n",
        "import numpy as np\n",
        "import re,string #import regular expression\n",
        "import Sastrawi\n",
        "import joblib\n",
        "\n",
        "import matplotlib.pyplot as plt\n",
        "import seaborn as sns\n",
        "import matplotlib as mpl\n",
        "\n",
        "#Library Untuk Split Data\n",
        "from sklearn import model_selection\n",
        "from sklearn.model_selection import train_test_split\n",
        "\n",
        "#Library Ekstraksi Fitur TFIDF\n",
        "from sklearn.feature_extraction.text import TfidfVectorizer\n",
        "from sklearn.preprocessing import OneHotEncoder\n",
        "\n",
        "#Library Klasifikasi Support Vector Machine\n",
        "from sklearn.svm import SVC\n",
        "from sklearn import svm\n",
        "from sklearn.metrics import f1_score as f1\n",
        "from sklearn .metrics import accuracy_score as acc\n",
        "from sklearn.metrics import precision_score as prec\n",
        "from sklearn.metrics import recall_score as recall\n",
        "from sklearn.metrics import confusion_matrix\n",
        "from sklearn.metrics import classification_report\n",
        "from sklearn import metrics\n",
        "\n",
        "\n",
        "#Library HyperParameter Tuning\n",
        "from sklearn.model_selection import cross_val_score\n",
        "from sklearn.model_selection import GridSearchCV\n",
        "import timeit\n",
        "\n",
        "import warnings\n",
        "warnings.filterwarnings('ignore')"
      ]
    },
    {
      "cell_type": "code",
      "source": [
        "from google.colab import drive\n",
        "drive.mount('/content/drive')"
      ],
      "metadata": {
        "colab": {
          "base_uri": "https://localhost:8080/"
        },
        "id": "F6DeMTWSu6fR",
        "outputId": "8bffce10-1901-4f5e-c512-39f8a7b56397"
      },
      "execution_count": 3,
      "outputs": [
        {
          "output_type": "stream",
          "name": "stdout",
          "text": [
            "Mounted at /content/drive\n"
          ]
        }
      ]
    },
    {
      "cell_type": "markdown",
      "source": [
        "# **Aspek Baterai**"
      ],
      "metadata": {
        "id": "AKnyAMHsuwki"
      }
    },
    {
      "cell_type": "code",
      "source": [
        "tweet_baterai = pd.read_csv('/content/drive/MyDrive/Dataset TA/aspek_baterai.csv')\n",
        "tweet_baterai.shape"
      ],
      "metadata": {
        "colab": {
          "base_uri": "https://localhost:8080/"
        },
        "id": "XKDWbPlru2iS",
        "outputId": "22e136ba-ddc2-416e-b1d2-a9f20b4bdf8a"
      },
      "execution_count": 4,
      "outputs": [
        {
          "output_type": "execute_result",
          "data": {
            "text/plain": [
              "(5000, 3)"
            ]
          },
          "metadata": {},
          "execution_count": 4
        }
      ]
    },
    {
      "cell_type": "code",
      "source": [
        "tweet_baterai['label'].value_counts()"
      ],
      "metadata": {
        "colab": {
          "base_uri": "https://localhost:8080/"
        },
        "id": "2M7qEwddz0AC",
        "outputId": "70595173-3e13-4770-db7a-7f45ed461972"
      },
      "execution_count": 5,
      "outputs": [
        {
          "output_type": "execute_result",
          "data": {
            "text/plain": [
              "-1    3533\n",
              " 0    1358\n",
              " 1     109\n",
              "Name: label, dtype: int64"
            ]
          },
          "metadata": {},
          "execution_count": 5
        }
      ]
    },
    {
      "cell_type": "code",
      "source": [
        "baterai = sns.countplot(tweet_baterai['label'], palette = 'hls')\n",
        "plt.show()"
      ],
      "metadata": {
        "colab": {
          "base_uri": "https://localhost:8080/",
          "height": 279
        },
        "id": "MnWQRdtC0hkV",
        "outputId": "0c76eb87-b059-4bee-c05e-e779416904d8"
      },
      "execution_count": 6,
      "outputs": [
        {
          "output_type": "display_data",
          "data": {
            "text/plain": [
              "<Figure size 432x288 with 1 Axes>"
            ],
            "image/png": "[encoded data removed]"
          },
          "metadata": {
            "needs_background": "light"
          }
        }
      ]
    },
    {
      "cell_type": "code",
      "source": [
        "tweet_baterai.isna().sum()"
      ],
      "metadata": {
        "colab": {
          "base_uri": "https://localhost:8080/"
        },
        "id": "-ZGgs4pjNTO4",
        "outputId": "c11f626e-7bc2-4adb-faa1-67a3ec332886"
      },
      "execution_count": 7,
      "outputs": [
        {
          "output_type": "execute_result",
          "data": {
            "text/plain": [
              "tweet       0\n",
              "stemming    0\n",
              "label       0\n",
              "dtype: int64"
            ]
          },
          "metadata": {},
          "execution_count": 7
        }
      ]
    },
    {
      "cell_type": "markdown",
      "source": [
        "## Inisialisasi Data"
      ],
      "metadata": {
        "id": "C7etTqJU17mJ"
      }
    },
    {
      "cell_type": "code",
      "source": [
        "x_baterai = tweet_baterai['stemming']\n",
        "y_baterai = tweet_baterai['label'].values"
      ],
      "metadata": {
        "id": "kuNEQPmTwAxq"
      },
      "execution_count": 8,
      "outputs": []
    },
    {
      "cell_type": "markdown",
      "source": [
        "## Split Data\n",
        "\n"
      ],
      "metadata": {
        "id": "Gs8QMCc21DkM"
      }
    },
    {
      "cell_type": "code",
      "source": [
        "from sklearn.model_selection import train_test_split\n",
        "x_baterai_train, x_baterai_test, y_baterai_train, y_baterai_test = train_test_split(\n",
        "    tweet_baterai['stemming'], \n",
        "    tweet_baterai['label'], \n",
        "    test_size=0.2)\n",
        "\n",
        "train_df = pd.DataFrame()\n",
        "train_df['tweet'] = x_baterai_train\n",
        "train_df['sentiment'] = y_baterai_train\n",
        "test_df = pd.DataFrame()\n",
        "test_df['tweet'] = x_baterai_test\n",
        "test_df['sentiment'] = y_baterai_test"
      ],
      "metadata": {
        "id": "ogTyOQnb06mz"
      },
      "execution_count": 9,
      "outputs": []
    },
    {
      "cell_type": "markdown",
      "source": [
        "## Feature TF-IDF"
      ],
      "metadata": {
        "id": "5UeiexVgunm-"
      }
    },
    {
      "cell_type": "code",
      "source": [
        "tfidf_vect = TfidfVectorizer(use_idf=True)\n",
        "tfidf_vect.fit(x_baterai_train)\n",
        "x_baterai_train_vectorized = tfidf_vect.transform(x_baterai_train)\n",
        "x_baterai_test_vectorized = tfidf_vect.transform(x_baterai_test)"
      ],
      "metadata": {
        "id": "t0fBDy8cKaHL"
      },
      "execution_count": 10,
      "outputs": []
    },
    {
      "cell_type": "code",
      "source": [
        "print (x_baterai_train_vectorized)"
      ],
      "metadata": {
        "colab": {
          "base_uri": "https://localhost:8080/"
        },
        "id": "zL5IKnQKCovp",
        "outputId": "785c25b3-7fd2-4b15-a364-06902ffc8966"
      },
      "execution_count": 11,
      "outputs": [
        {
          "output_type": "stream",
          "name": "stdout",
          "text": [
            "  (0, 2139)\t0.6569038831275619\n",
            "  (0, 1388)\t0.35296078213578497\n",
            "  (0, 1308)\t0.23754705214979083\n",
            "  (0, 1156)\t0.15341268572990416\n",
            "  (0, 317)\t0.5593936380702246\n",
            "  (0, 210)\t0.225855436429293\n",
            "  (1, 2544)\t0.1356482749022101\n",
            "  (1, 1578)\t0.1355767732627005\n",
            "  (1, 1388)\t0.23155684352086398\n",
            "  (1, 1156)\t0.10064505480954203\n",
            "  (1, 1023)\t0.13589893607120226\n",
            "  (1, 614)\t0.22225318716304607\n",
            "  (1, 578)\t0.8557675933297867\n",
            "  (1, 417)\t0.24381627953092502\n",
            "  (1, 210)\t0.14817048974997715\n",
            "  (1, 178)\t0.13366540019333775\n",
            "  (2, 2544)\t0.1475122391687116\n",
            "  (2, 1975)\t0.2925630188325174\n",
            "  (2, 1578)\t0.1474344839082345\n",
            "  (2, 1388)\t0.25180908866866164\n",
            "  (2, 1244)\t0.3365072364670358\n",
            "  (2, 1156)\t0.10944759457439558\n",
            "  (2, 1023)\t0.1477848234705565\n",
            "  (2, 880)\t0.6530956851761112\n",
            "  (2, 839)\t0.3928979672399735\n",
            "  :\t:\n",
            "  (3997, 839)\t0.32446747603829357\n",
            "  (3997, 614)\t0.19959661266361922\n",
            "  (3997, 178)\t0.1200394984182851\n",
            "  (3998, 2544)\t0.12165595053567059\n",
            "  (3998, 2400)\t0.5819421519512418\n",
            "  (3998, 1976)\t0.6694630335293603\n",
            "  (3998, 1578)\t0.12159182439823416\n",
            "  (3998, 1388)\t0.20767140549246507\n",
            "  (3998, 1156)\t0.09026336544564498\n",
            "  (3998, 1023)\t0.12188075562661708\n",
            "  (3998, 614)\t0.19932743533520705\n",
            "  (3998, 417)\t0.21866626216801358\n",
            "  (3998, 246)\t0.12462354286433408\n",
            "  (3998, 178)\t0.11987761234688854\n",
            "  (3999, 2544)\t0.17703275639586197\n",
            "  (3999, 1578)\t0.17693944055872118\n",
            "  (3999, 1308)\t0.20338558522547168\n",
            "  (3999, 1248)\t0.2565504320957145\n",
            "  (3999, 1156)\t0.13135052018457724\n",
            "  (3999, 1023)\t0.17735989094807125\n",
            "  (3999, 695)\t0.24660815551819437\n",
            "  (3999, 467)\t0.7125640923625417\n",
            "  (3999, 246)\t0.181351172778203\n",
            "  (3999, 210)\t0.38675066433205174\n",
            "  (3999, 178)\t0.17444493303023217\n"
          ]
        }
      ]
    },
    {
      "cell_type": "markdown",
      "source": [
        "## Klasifikasi SVM Dengan Cross Validation"
      ],
      "metadata": {
        "id": "j6IfZ89CuuYL"
      }
    },
    {
      "cell_type": "markdown",
      "source": [
        "* Cross Validation Using Linear Kernel"
      ],
      "metadata": {
        "id": "IJIUFix_znz6"
      }
    },
    {
      "cell_type": "code",
      "source": [
        "### create model\n",
        "clf_linear = SVC(kernel='linear')\n",
        "### cross-validation evaluation\n",
        "cv_linear = cross_val_score(clf_linear, x_baterai_train_vectorized, y_baterai_train, scoring='accuracy', cv=5)\n",
        "### Show CV result\n",
        "print(\"Accuracy Score Linear of : %0.4f\" % (cv_linear.mean()))\n"
      ],
      "metadata": {
        "colab": {
          "base_uri": "https://localhost:8080/"
        },
        "id": "_L8AVoYQUIzt",
        "outputId": "da041fcd-21fc-4aa6-f67a-df40298fb6bf"
      },
      "execution_count": 12,
      "outputs": [
        {
          "output_type": "stream",
          "name": "stdout",
          "text": [
            "Accuracy Score Linear of : 0.9753\n"
          ]
        }
      ]
    },
    {
      "cell_type": "markdown",
      "source": [
        "* Cross Validation Using Polynomial Kernel"
      ],
      "metadata": {
        "id": "Wba3ePrMzyKW"
      }
    },
    {
      "cell_type": "code",
      "source": [
        "### create model\n",
        "clf_poly = SVC(kernel='poly')\n",
        "### cross-validation evaluation\n",
        "cv_poly = cross_val_score(clf_poly, x_baterai_train_vectorized, y_baterai_train, scoring='accuracy', cv=5)\n",
        "### Show CV result\n",
        "print(\"Accuracy Score Poly of : %0.4f\" % (cv_poly.mean()))"
      ],
      "metadata": {
        "colab": {
          "base_uri": "https://localhost:8080/"
        },
        "id": "jSkdo0KAXCAM",
        "outputId": "30469aac-8034-4587-c5a0-4140fa16f11a"
      },
      "execution_count": 13,
      "outputs": [
        {
          "output_type": "stream",
          "name": "stdout",
          "text": [
            "Accuracy Score Poly of : 0.8742\n"
          ]
        }
      ]
    },
    {
      "cell_type": "markdown",
      "source": [
        "* Cross Validation with default RBF Kernel"
      ],
      "metadata": {
        "id": "BoAFNfsLz1-k"
      }
    },
    {
      "cell_type": "code",
      "source": [
        "### create model\n",
        "clf_rbf = SVC(kernel='rbf')\n",
        "### cross-validation evaluation\n",
        "cv_rbf= cross_val_score(clf_rbf, x_baterai_train_vectorized, y_baterai_train, scoring='accuracy', cv=5)\n",
        "### Show CV result\n",
        "print(\"Accuracy Score RBF of : %0.4f\" % (cv_rbf.mean()))"
      ],
      "metadata": {
        "colab": {
          "base_uri": "https://localhost:8080/"
        },
        "id": "TFl4s-wqXQ_1",
        "outputId": "bc69efd7-bdb1-4525-d84b-c58f5405b8ce"
      },
      "execution_count": 14,
      "outputs": [
        {
          "output_type": "stream",
          "name": "stdout",
          "text": [
            "Accuracy Score RBF of : 0.9693\n"
          ]
        }
      ]
    },
    {
      "cell_type": "markdown",
      "source": [
        "## Tuning Parameter with GridSearchCV"
      ],
      "metadata": {
        "id": "678jI1EfyRCU"
      }
    },
    {
      "cell_type": "markdown",
      "source": [
        "* Linear Kernel"
      ],
      "metadata": {
        "id": "RqtswuNByR9P"
      }
    },
    {
      "cell_type": "code",
      "source": [
        "param_grid = {'C': [0.001, 0.1, 1, 10, 100, 1000],\n",
        "              'kernel': ['linear']\n",
        "             }\n",
        " \n",
        "grid = GridSearchCV(svm.SVC(), param_grid, scoring='accuracy', refit = True, verbose = 3) \n",
        "# fitting the model for grid search\n",
        "grid.fit(x_baterai_train_vectorized, y_baterai_train)\n",
        "\n",
        "selected_kernel_linear = grid.best_params_['kernel']\n",
        "print(\"Selected Kernel: \", selected_kernel_linear)\n",
        "selected_C_linear = grid.best_params_['C']\n",
        "print(\"Selected C: \", selected_C_linear)\n",
        "\n",
        "best_params_linear_HT = grid.best_params_\n",
        "model_looks_linear_HT= grid.best_estimator_\n",
        "\n",
        "print(f'Best Score : {grid.best_score_}')\n",
        "print(\"best estimator: %s\" % (model_looks_linear_HT))"
      ],
      "metadata": {
        "colab": {
          "base_uri": "https://localhost:8080/"
        },
        "id": "mGhe6-voEz8j",
        "outputId": "88c5c56d-95dd-45a8-8466-f697d6d6faef"
      },
      "execution_count": 15,
      "outputs": [
        {
          "output_type": "stream",
          "name": "stdout",
          "text": [
            "Fitting 5 folds for each of 6 candidates, totalling 30 fits\n",
            "[CV 1/5] END ............C=0.001, kernel=linear;, score=0.709 total time=   1.2s\n",
            "[CV 2/5] END ............C=0.001, kernel=linear;, score=0.709 total time=   1.1s\n",
            "[CV 3/5] END ............C=0.001, kernel=linear;, score=0.708 total time=   1.1s\n",
            "[CV 4/5] END ............C=0.001, kernel=linear;, score=0.708 total time=   1.3s\n",
            "[CV 5/5] END ............C=0.001, kernel=linear;, score=0.709 total time=   1.4s\n",
            "[CV 1/5] END ..............C=0.1, kernel=linear;, score=0.965 total time=   1.0s\n",
            "[CV 2/5] END ..............C=0.1, kernel=linear;, score=0.971 total time=   1.3s\n",
            "[CV 3/5] END ..............C=0.1, kernel=linear;, score=0.961 total time=   1.1s\n",
            "[CV 4/5] END ..............C=0.1, kernel=linear;, score=0.964 total time=   0.6s\n",
            "[CV 5/5] END ..............C=0.1, kernel=linear;, score=0.963 total time=   0.6s\n",
            "[CV 1/5] END ................C=1, kernel=linear;, score=0.975 total time=   0.4s\n",
            "[CV 2/5] END ................C=1, kernel=linear;, score=0.986 total time=   0.4s\n",
            "[CV 3/5] END ................C=1, kernel=linear;, score=0.971 total time=   0.4s\n",
            "[CV 4/5] END ................C=1, kernel=linear;, score=0.973 total time=   0.4s\n",
            "[CV 5/5] END ................C=1, kernel=linear;, score=0.971 total time=   0.4s\n",
            "[CV 1/5] END ...............C=10, kernel=linear;, score=0.976 total time=   0.4s\n",
            "[CV 2/5] END ...............C=10, kernel=linear;, score=0.981 total time=   0.4s\n",
            "[CV 3/5] END ...............C=10, kernel=linear;, score=0.969 total time=   0.4s\n",
            "[CV 4/5] END ...............C=10, kernel=linear;, score=0.970 total time=   0.4s\n",
            "[CV 5/5] END ...............C=10, kernel=linear;, score=0.976 total time=   0.4s\n",
            "[CV 1/5] END ..............C=100, kernel=linear;, score=0.976 total time=   0.3s\n",
            "[CV 2/5] END ..............C=100, kernel=linear;, score=0.985 total time=   0.4s\n",
            "[CV 3/5] END ..............C=100, kernel=linear;, score=0.970 total time=   0.4s\n",
            "[CV 4/5] END ..............C=100, kernel=linear;, score=0.969 total time=   0.4s\n",
            "[CV 5/5] END ..............C=100, kernel=linear;, score=0.974 total time=   0.3s\n",
            "[CV 1/5] END .............C=1000, kernel=linear;, score=0.976 total time=   0.4s\n",
            "[CV 2/5] END .............C=1000, kernel=linear;, score=0.985 total time=   0.4s\n",
            "[CV 3/5] END .............C=1000, kernel=linear;, score=0.970 total time=   0.3s\n",
            "[CV 4/5] END .............C=1000, kernel=linear;, score=0.969 total time=   0.4s\n",
            "[CV 5/5] END .............C=1000, kernel=linear;, score=0.974 total time=   0.3s\n",
            "Selected Kernel:  linear\n",
            "Selected C:  1\n",
            "Best Score : 0.9752500000000002\n",
            "best estimator: SVC(C=1, kernel='linear')\n"
          ]
        }
      ]
    },
    {
      "cell_type": "markdown",
      "source": [
        "* Polynomial Kernel"
      ],
      "metadata": {
        "id": "zYzh-jrhyxVi"
      }
    },
    {
      "cell_type": "code",
      "source": [
        "param_grid = {'C': [0.001, 0.1, 1, 10, 100, 1000],\n",
        "              'kernel': ['poly'],\n",
        "              'degree':[1, 2, 3, 4, 5, 6],\n",
        "              'gamma' :['auto', 'scale']\n",
        "             }\n",
        " \n",
        "grid = GridSearchCV(svm.SVC(), param_grid, scoring='accuracy', refit = True, verbose = 3) \n",
        "# fitting the model for grid search\n",
        "grid.fit(x_baterai_train_vectorized, y_baterai_train)\n",
        "\n",
        "\n",
        "selected_kernel_poly = grid.best_params_['kernel']\n",
        "print(\"Selected Kernel: \", selected_kernel_poly)\n",
        "selected_C_poly= grid.best_params_['C']\n",
        "print(\"Selected C: \", selected_C_poly)\n",
        "selected_gamma_poly = grid.best_params_['gamma']\n",
        "print(\"Selected Gamma: \", selected_gamma_poly)\n",
        "selected_degree_poly = grid.best_params_['degree']\n",
        "print(\"Selected Degree: \", selected_degree_poly)\n",
        "\n",
        "best_params_poly_HT = grid.best_params_\n",
        "model_looks_poly_HT= grid.best_estimator_\n",
        "\n",
        "print(f'Best Score : {grid.best_score_}')\n",
        "print(\"best estimator: %s\" % (model_looks_poly_HT))"
      ],
      "metadata": {
        "colab": {
          "base_uri": "https://localhost:8080/"
        },
        "id": "kyy2Uaqpy1VZ",
        "outputId": "d695e6e8-9941-4f59-b045-47e0d92cb789"
      },
      "execution_count": 16,
      "outputs": [
        {
          "output_type": "stream",
          "name": "stdout",
          "text": [
            "Fitting 5 folds for each of 72 candidates, totalling 360 fits\n",
            "[CV 1/5] END C=0.001, degree=1, gamma=auto, kernel=poly;, score=0.709 total time=   0.7s\n",
            "[CV 2/5] END C=0.001, degree=1, gamma=auto, kernel=poly;, score=0.709 total time=   0.7s\n",
            "[CV 3/5] END C=0.001, degree=1, gamma=auto, kernel=poly;, score=0.708 total time=   0.8s\n",
            "[CV 4/5] END C=0.001, degree=1, gamma=auto, kernel=poly;, score=0.708 total time=   0.7s\n",
            "[CV 5/5] END C=0.001, degree=1, gamma=auto, kernel=poly;, score=0.709 total time=   0.7s\n",
            "[CV 1/5] END C=0.001, degree=1, gamma=scale, kernel=poly;, score=0.709 total time=   0.8s\n",
            "[CV 2/5] END C=0.001, degree=1, gamma=scale, kernel=poly;, score=0.709 total time=   0.8s\n",
            "[CV 3/5] END C=0.001, degree=1, gamma=scale, kernel=poly;, score=0.708 total time=   0.7s\n",
            "[CV 4/5] END C=0.001, degree=1, gamma=scale, kernel=poly;, score=0.708 total time=   0.7s\n",
            "[CV 5/5] END C=0.001, degree=1, gamma=scale, kernel=poly;, score=0.709 total time=   0.7s\n",
            "[CV 1/5] END C=0.001, degree=2, gamma=auto, kernel=poly;, score=0.709 total time=   0.7s\n",
            "[CV 2/5] END C=0.001, degree=2, gamma=auto, kernel=poly;, score=0.709 total time=   0.7s\n",
            "[CV 3/5] END C=0.001, degree=2, gamma=auto, kernel=poly;, score=0.708 total time=   0.7s\n",
            "[CV 4/5] END C=0.001, degree=2, gamma=auto, kernel=poly;, score=0.708 total time=   0.7s\n",
            "[CV 5/5] END C=0.001, degree=2, gamma=auto, kernel=poly;, score=0.709 total time=   0.7s\n",
            "[CV 1/5] END C=0.001, degree=2, gamma=scale, kernel=poly;, score=0.709 total time=   0.8s\n",
            "[CV 2/5] END C=0.001, degree=2, gamma=scale, kernel=poly;, score=0.709 total time=   0.8s\n",
            "[CV 3/5] END C=0.001, degree=2, gamma=scale, kernel=poly;, score=0.708 total time=   0.8s\n",
            "[CV 4/5] END C=0.001, degree=2, gamma=scale, kernel=poly;, score=0.708 total time=   0.8s\n",
            "[CV 5/5] END C=0.001, degree=2, gamma=scale, kernel=poly;, score=0.709 total time=   0.7s\n",
            "[CV 1/5] END C=0.001, degree=3, gamma=auto, kernel=poly;, score=0.709 total time=   0.7s\n",
            "[CV 2/5] END C=0.001, degree=3, gamma=auto, kernel=poly;, score=0.709 total time=   0.7s\n",
            "[CV 3/5] END C=0.001, degree=3, gamma=auto, kernel=poly;, score=0.708 total time=   0.7s\n",
            "[CV 4/5] END C=0.001, degree=3, gamma=auto, kernel=poly;, score=0.708 total time=   0.7s\n",
            "[CV 5/5] END C=0.001, degree=3, gamma=auto, kernel=poly;, score=0.709 total time=   0.7s\n",
            "[CV 1/5] END C=0.001, degree=3, gamma=scale, kernel=poly;, score=0.709 total time=   0.7s\n",
            "[CV 2/5] END C=0.001, degree=3, gamma=scale, kernel=poly;, score=0.709 total time=   0.7s\n",
            "[CV 3/5] END C=0.001, degree=3, gamma=scale, kernel=poly;, score=0.708 total time=   0.8s\n",
            "[CV 4/5] END C=0.001, degree=3, gamma=scale, kernel=poly;, score=0.708 total time=   0.7s\n",
            "[CV 5/5] END C=0.001, degree=3, gamma=scale, kernel=poly;, score=0.709 total time=   0.8s\n",
            "[CV 1/5] END C=0.001, degree=4, gamma=auto, kernel=poly;, score=0.709 total time=   0.7s\n",
            "[CV 2/5] END C=0.001, degree=4, gamma=auto, kernel=poly;, score=0.709 total time=   0.7s\n",
            "[CV 3/5] END C=0.001, degree=4, gamma=auto, kernel=poly;, score=0.708 total time=   0.7s\n",
            "[CV 4/5] END C=0.001, degree=4, gamma=auto, kernel=poly;, score=0.708 total time=   0.7s\n",
            "[CV 5/5] END C=0.001, degree=4, gamma=auto, kernel=poly;, score=0.709 total time=   0.7s\n",
            "[CV 1/5] END C=0.001, degree=4, gamma=scale, kernel=poly;, score=0.709 total time=   0.8s\n",
            "[CV 2/5] END C=0.001, degree=4, gamma=scale, kernel=poly;, score=0.709 total time=   0.8s\n",
            "[CV 3/5] END C=0.001, degree=4, gamma=scale, kernel=poly;, score=0.708 total time=   0.8s\n",
            "[CV 4/5] END C=0.001, degree=4, gamma=scale, kernel=poly;, score=0.708 total time=   0.8s\n",
            "[CV 5/5] END C=0.001, degree=4, gamma=scale, kernel=poly;, score=0.709 total time=   0.8s\n",
            "[CV 1/5] END C=0.001, degree=5, gamma=auto, kernel=poly;, score=0.709 total time=   0.7s\n",
            "[CV 2/5] END C=0.001, degree=5, gamma=auto, kernel=poly;, score=0.709 total time=   0.7s\n",
            "[CV 3/5] END C=0.001, degree=5, gamma=auto, kernel=poly;, score=0.708 total time=   0.7s\n",
            "[CV 4/5] END C=0.001, degree=5, gamma=auto, kernel=poly;, score=0.708 total time=   0.7s\n",
            "[CV 5/5] END C=0.001, degree=5, gamma=auto, kernel=poly;, score=0.709 total time=   0.7s\n",
            "[CV 1/5] END C=0.001, degree=5, gamma=scale, kernel=poly;, score=0.709 total time=   0.8s\n",
            "[CV 2/5] END C=0.001, degree=5, gamma=scale, kernel=poly;, score=0.709 total time=   0.8s\n",
            "[CV 3/5] END C=0.001, degree=5, gamma=scale, kernel=poly;, score=0.708 total time=   0.8s\n",
            "[CV 4/5] END C=0.001, degree=5, gamma=scale, kernel=poly;, score=0.708 total time=   0.8s\n",
            "[CV 5/5] END C=0.001, degree=5, gamma=scale, kernel=poly;, score=0.709 total time=   0.8s\n",
            "[CV 1/5] END C=0.001, degree=6, gamma=auto, kernel=poly;, score=0.709 total time=   0.7s\n",
            "[CV 2/5] END C=0.001, degree=6, gamma=auto, kernel=poly;, score=0.709 total time=   0.7s\n",
            "[CV 3/5] END C=0.001, degree=6, gamma=auto, kernel=poly;, score=0.708 total time=   0.7s\n",
            "[CV 4/5] END C=0.001, degree=6, gamma=auto, kernel=poly;, score=0.708 total time=   0.7s\n",
            "[CV 5/5] END C=0.001, degree=6, gamma=auto, kernel=poly;, score=0.709 total time=   0.9s\n",
            "[CV 1/5] END C=0.001, degree=6, gamma=scale, kernel=poly;, score=0.709 total time=   1.3s\n",
            "[CV 2/5] END C=0.001, degree=6, gamma=scale, kernel=poly;, score=0.709 total time=   1.5s\n",
            "[CV 3/5] END C=0.001, degree=6, gamma=scale, kernel=poly;, score=0.708 total time=   1.6s\n",
            "[CV 4/5] END C=0.001, degree=6, gamma=scale, kernel=poly;, score=0.708 total time=   1.4s\n",
            "[CV 5/5] END C=0.001, degree=6, gamma=scale, kernel=poly;, score=0.709 total time=   1.7s\n",
            "[CV 1/5] END C=0.1, degree=1, gamma=auto, kernel=poly;, score=0.709 total time=   1.3s\n",
            "[CV 2/5] END C=0.1, degree=1, gamma=auto, kernel=poly;, score=0.709 total time=   1.3s\n",
            "[CV 3/5] END C=0.1, degree=1, gamma=auto, kernel=poly;, score=0.708 total time=   1.5s\n",
            "[CV 4/5] END C=0.1, degree=1, gamma=auto, kernel=poly;, score=0.708 total time=   1.4s\n",
            "[CV 5/5] END C=0.1, degree=1, gamma=auto, kernel=poly;, score=0.709 total time=   1.3s\n",
            "[CV 1/5] END C=0.1, degree=1, gamma=scale, kernel=poly;, score=0.965 total time=   0.6s\n",
            "[CV 2/5] END C=0.1, degree=1, gamma=scale, kernel=poly;, score=0.971 total time=   0.6s\n",
            "[CV 3/5] END C=0.1, degree=1, gamma=scale, kernel=poly;, score=0.961 total time=   0.6s\n",
            "[CV 4/5] END C=0.1, degree=1, gamma=scale, kernel=poly;, score=0.964 total time=   0.6s\n",
            "[CV 5/5] END C=0.1, degree=1, gamma=scale, kernel=poly;, score=0.963 total time=   0.6s\n",
            "[CV 1/5] END C=0.1, degree=2, gamma=auto, kernel=poly;, score=0.709 total time=   0.8s\n",
            "[CV 2/5] END C=0.1, degree=2, gamma=auto, kernel=poly;, score=0.709 total time=   0.7s\n",
            "[CV 3/5] END C=0.1, degree=2, gamma=auto, kernel=poly;, score=0.708 total time=   0.8s\n",
            "[CV 4/5] END C=0.1, degree=2, gamma=auto, kernel=poly;, score=0.708 total time=   0.7s\n",
            "[CV 5/5] END C=0.1, degree=2, gamma=auto, kernel=poly;, score=0.709 total time=   0.7s\n",
            "[CV 1/5] END C=0.1, degree=2, gamma=scale, kernel=poly;, score=0.819 total time=   0.9s\n",
            "[CV 2/5] END C=0.1, degree=2, gamma=scale, kernel=poly;, score=0.833 total time=   0.9s\n",
            "[CV 3/5] END C=0.1, degree=2, gamma=scale, kernel=poly;, score=0.826 total time=   0.9s\n",
            "[CV 4/5] END C=0.1, degree=2, gamma=scale, kernel=poly;, score=0.830 total time=   0.9s\n",
            "[CV 5/5] END C=0.1, degree=2, gamma=scale, kernel=poly;, score=0.823 total time=   0.9s\n",
            "[CV 1/5] END C=0.1, degree=3, gamma=auto, kernel=poly;, score=0.709 total time=   0.7s\n",
            "[CV 2/5] END C=0.1, degree=3, gamma=auto, kernel=poly;, score=0.709 total time=   0.7s\n",
            "[CV 3/5] END C=0.1, degree=3, gamma=auto, kernel=poly;, score=0.708 total time=   0.7s\n",
            "[CV 4/5] END C=0.1, degree=3, gamma=auto, kernel=poly;, score=0.708 total time=   0.7s\n",
            "[CV 5/5] END C=0.1, degree=3, gamma=auto, kernel=poly;, score=0.709 total time=   0.7s\n",
            "[CV 1/5] END C=0.1, degree=3, gamma=scale, kernel=poly;, score=0.772 total time=   1.2s\n",
            "[CV 2/5] END C=0.1, degree=3, gamma=scale, kernel=poly;, score=0.771 total time=   1.2s\n",
            "[CV 3/5] END C=0.1, degree=3, gamma=scale, kernel=poly;, score=0.760 total time=   1.2s\n",
            "[CV 4/5] END C=0.1, degree=3, gamma=scale, kernel=poly;, score=0.780 total time=   1.2s\n",
            "[CV 5/5] END C=0.1, degree=3, gamma=scale, kernel=poly;, score=0.770 total time=   1.2s\n",
            "[CV 1/5] END C=0.1, degree=4, gamma=auto, kernel=poly;, score=0.709 total time=   0.8s\n",
            "[CV 2/5] END C=0.1, degree=4, gamma=auto, kernel=poly;, score=0.709 total time=   0.7s\n",
            "[CV 3/5] END C=0.1, degree=4, gamma=auto, kernel=poly;, score=0.708 total time=   0.7s\n",
            "[CV 4/5] END C=0.1, degree=4, gamma=auto, kernel=poly;, score=0.708 total time=   0.7s\n",
            "[CV 5/5] END C=0.1, degree=4, gamma=auto, kernel=poly;, score=0.709 total time=   0.8s\n",
            "[CV 1/5] END C=0.1, degree=4, gamma=scale, kernel=poly;, score=0.754 total time=   1.5s\n",
            "[CV 2/5] END C=0.1, degree=4, gamma=scale, kernel=poly;, score=0.751 total time=   1.5s\n",
            "[CV 3/5] END C=0.1, degree=4, gamma=scale, kernel=poly;, score=0.739 total time=   1.5s\n",
            "[CV 4/5] END C=0.1, degree=4, gamma=scale, kernel=poly;, score=0.756 total time=   1.5s\n",
            "[CV 5/5] END C=0.1, degree=4, gamma=scale, kernel=poly;, score=0.749 total time=   1.5s\n",
            "[CV 1/5] END C=0.1, degree=5, gamma=auto, kernel=poly;, score=0.709 total time=   0.7s\n",
            "[CV 2/5] END C=0.1, degree=5, gamma=auto, kernel=poly;, score=0.709 total time=   0.7s\n",
            "[CV 3/5] END C=0.1, degree=5, gamma=auto, kernel=poly;, score=0.708 total time=   0.7s\n",
            "[CV 4/5] END C=0.1, degree=5, gamma=auto, kernel=poly;, score=0.708 total time=   0.7s\n",
            "[CV 5/5] END C=0.1, degree=5, gamma=auto, kernel=poly;, score=0.709 total time=   0.7s\n",
            "[CV 1/5] END C=0.1, degree=5, gamma=scale, kernel=poly;, score=0.744 total time=   1.7s\n",
            "[CV 2/5] END C=0.1, degree=5, gamma=scale, kernel=poly;, score=0.745 total time=   1.8s\n",
            "[CV 3/5] END C=0.1, degree=5, gamma=scale, kernel=poly;, score=0.735 total time=   2.0s\n",
            "[CV 4/5] END C=0.1, degree=5, gamma=scale, kernel=poly;, score=0.740 total time=   2.3s\n",
            "[CV 5/5] END C=0.1, degree=5, gamma=scale, kernel=poly;, score=0.743 total time=   1.7s\n",
            "[CV 1/5] END C=0.1, degree=6, gamma=auto, kernel=poly;, score=0.709 total time=   0.7s\n",
            "[CV 2/5] END C=0.1, degree=6, gamma=auto, kernel=poly;, score=0.709 total time=   0.7s\n",
            "[CV 3/5] END C=0.1, degree=6, gamma=auto, kernel=poly;, score=0.708 total time=   0.7s\n",
            "[CV 4/5] END C=0.1, degree=6, gamma=auto, kernel=poly;, score=0.708 total time=   0.7s\n",
            "[CV 5/5] END C=0.1, degree=6, gamma=auto, kernel=poly;, score=0.709 total time=   0.7s\n",
            "[CV 1/5] END C=0.1, degree=6, gamma=scale, kernel=poly;, score=0.739 total time=   1.7s\n",
            "[CV 2/5] END C=0.1, degree=6, gamma=scale, kernel=poly;, score=0.739 total time=   1.7s\n",
            "[CV 3/5] END C=0.1, degree=6, gamma=scale, kernel=poly;, score=0.730 total time=   1.7s\n",
            "[CV 4/5] END C=0.1, degree=6, gamma=scale, kernel=poly;, score=0.736 total time=   1.7s\n",
            "[CV 5/5] END C=0.1, degree=6, gamma=scale, kernel=poly;, score=0.740 total time=   1.7s\n",
            "[CV 1/5] END C=1, degree=1, gamma=auto, kernel=poly;, score=0.709 total time=   0.8s\n",
            "[CV 2/5] END C=1, degree=1, gamma=auto, kernel=poly;, score=0.709 total time=   0.8s\n",
            "[CV 3/5] END C=1, degree=1, gamma=auto, kernel=poly;, score=0.708 total time=   0.8s\n",
            "[CV 4/5] END C=1, degree=1, gamma=auto, kernel=poly;, score=0.708 total time=   0.7s\n",
            "[CV 5/5] END C=1, degree=1, gamma=auto, kernel=poly;, score=0.709 total time=   0.7s\n",
            "[CV 1/5] END C=1, degree=1, gamma=scale, kernel=poly;, score=0.975 total time=   0.4s\n",
            "[CV 2/5] END C=1, degree=1, gamma=scale, kernel=poly;, score=0.986 total time=   0.4s\n",
            "[CV 3/5] END C=1, degree=1, gamma=scale, kernel=poly;, score=0.971 total time=   0.4s\n",
            "[CV 4/5] END C=1, degree=1, gamma=scale, kernel=poly;, score=0.973 total time=   0.4s\n",
            "[CV 5/5] END C=1, degree=1, gamma=scale, kernel=poly;, score=0.971 total time=   0.4s\n",
            "[CV 1/5] END C=1, degree=2, gamma=auto, kernel=poly;, score=0.709 total time=   0.8s\n",
            "[CV 2/5] END C=1, degree=2, gamma=auto, kernel=poly;, score=0.709 total time=   0.8s\n",
            "[CV 3/5] END C=1, degree=2, gamma=auto, kernel=poly;, score=0.708 total time=   0.8s\n",
            "[CV 4/5] END C=1, degree=2, gamma=auto, kernel=poly;, score=0.708 total time=   0.7s\n",
            "[CV 5/5] END C=1, degree=2, gamma=auto, kernel=poly;, score=0.709 total time=   0.7s\n",
            "[CV 1/5] END C=1, degree=2, gamma=scale, kernel=poly;, score=0.949 total time=   0.8s\n",
            "[CV 2/5] END C=1, degree=2, gamma=scale, kernel=poly;, score=0.956 total time=   0.8s\n",
            "[CV 3/5] END C=1, degree=2, gamma=scale, kernel=poly;, score=0.949 total time=   0.8s\n",
            "[CV 4/5] END C=1, degree=2, gamma=scale, kernel=poly;, score=0.956 total time=   0.8s\n",
            "[CV 5/5] END C=1, degree=2, gamma=scale, kernel=poly;, score=0.951 total time=   0.8s\n",
            "[CV 1/5] END C=1, degree=3, gamma=auto, kernel=poly;, score=0.709 total time=   0.7s\n",
            "[CV 2/5] END C=1, degree=3, gamma=auto, kernel=poly;, score=0.709 total time=   0.7s\n",
            "[CV 3/5] END C=1, degree=3, gamma=auto, kernel=poly;, score=0.708 total time=   0.7s\n",
            "[CV 4/5] END C=1, degree=3, gamma=auto, kernel=poly;, score=0.708 total time=   0.7s\n",
            "[CV 5/5] END C=1, degree=3, gamma=auto, kernel=poly;, score=0.709 total time=   0.7s\n",
            "[CV 1/5] END C=1, degree=3, gamma=scale, kernel=poly;, score=0.873 total time=   1.2s\n",
            "[CV 2/5] END C=1, degree=3, gamma=scale, kernel=poly;, score=0.874 total time=   1.2s\n",
            "[CV 3/5] END C=1, degree=3, gamma=scale, kernel=poly;, score=0.870 total time=   1.2s\n",
            "[CV 4/5] END C=1, degree=3, gamma=scale, kernel=poly;, score=0.882 total time=   1.2s\n",
            "[CV 5/5] END C=1, degree=3, gamma=scale, kernel=poly;, score=0.873 total time=   1.2s\n",
            "[CV 1/5] END C=1, degree=4, gamma=auto, kernel=poly;, score=0.709 total time=   1.1s\n",
            "[CV 2/5] END C=1, degree=4, gamma=auto, kernel=poly;, score=0.709 total time=   1.1s\n",
            "[CV 3/5] END C=1, degree=4, gamma=auto, kernel=poly;, score=0.708 total time=   1.1s\n",
            "[CV 4/5] END C=1, degree=4, gamma=auto, kernel=poly;, score=0.708 total time=   0.7s\n",
            "[CV 5/5] END C=1, degree=4, gamma=auto, kernel=poly;, score=0.709 total time=   0.8s\n",
            "[CV 1/5] END C=1, degree=4, gamma=scale, kernel=poly;, score=0.830 total time=   1.8s\n",
            "[CV 2/5] END C=1, degree=4, gamma=scale, kernel=poly;, score=0.831 total time=   1.8s\n",
            "[CV 3/5] END C=1, degree=4, gamma=scale, kernel=poly;, score=0.826 total time=   1.8s\n",
            "[CV 4/5] END C=1, degree=4, gamma=scale, kernel=poly;, score=0.836 total time=   1.7s\n",
            "[CV 5/5] END C=1, degree=4, gamma=scale, kernel=poly;, score=0.821 total time=   1.8s\n",
            "[CV 1/5] END C=1, degree=5, gamma=auto, kernel=poly;, score=0.709 total time=   0.7s\n",
            "[CV 2/5] END C=1, degree=5, gamma=auto, kernel=poly;, score=0.709 total time=   0.8s\n",
            "[CV 3/5] END C=1, degree=5, gamma=auto, kernel=poly;, score=0.708 total time=   0.7s\n",
            "[CV 4/5] END C=1, degree=5, gamma=auto, kernel=poly;, score=0.708 total time=   0.7s\n",
            "[CV 5/5] END C=1, degree=5, gamma=auto, kernel=poly;, score=0.709 total time=   0.7s\n",
            "[CV 1/5] END C=1, degree=5, gamma=scale, kernel=poly;, score=0.804 total time=   1.8s\n",
            "[CV 2/5] END C=1, degree=5, gamma=scale, kernel=poly;, score=0.809 total time=   1.8s\n",
            "[CV 3/5] END C=1, degree=5, gamma=scale, kernel=poly;, score=0.794 total time=   1.8s\n",
            "[CV 4/5] END C=1, degree=5, gamma=scale, kernel=poly;, score=0.805 total time=   1.8s\n",
            "[CV 5/5] END C=1, degree=5, gamma=scale, kernel=poly;, score=0.800 total time=   1.8s\n",
            "[CV 1/5] END C=1, degree=6, gamma=auto, kernel=poly;, score=0.709 total time=   0.7s\n",
            "[CV 2/5] END C=1, degree=6, gamma=auto, kernel=poly;, score=0.709 total time=   0.7s\n",
            "[CV 3/5] END C=1, degree=6, gamma=auto, kernel=poly;, score=0.708 total time=   0.7s\n",
            "[CV 4/5] END C=1, degree=6, gamma=auto, kernel=poly;, score=0.708 total time=   0.7s\n",
            "[CV 5/5] END C=1, degree=6, gamma=auto, kernel=poly;, score=0.709 total time=   0.7s\n",
            "[CV 1/5] END C=1, degree=6, gamma=scale, kernel=poly;, score=0.790 total time=   1.9s\n",
            "[CV 2/5] END C=1, degree=6, gamma=scale, kernel=poly;, score=0.790 total time=   1.8s\n",
            "[CV 3/5] END C=1, degree=6, gamma=scale, kernel=poly;, score=0.772 total time=   1.9s\n",
            "[CV 4/5] END C=1, degree=6, gamma=scale, kernel=poly;, score=0.795 total time=   1.8s\n",
            "[CV 5/5] END C=1, degree=6, gamma=scale, kernel=poly;, score=0.791 total time=   1.9s\n",
            "[CV 1/5] END C=10, degree=1, gamma=auto, kernel=poly;, score=0.709 total time=   0.8s\n",
            "[CV 2/5] END C=10, degree=1, gamma=auto, kernel=poly;, score=0.709 total time=   0.8s\n",
            "[CV 3/5] END C=10, degree=1, gamma=auto, kernel=poly;, score=0.708 total time=   0.8s\n",
            "[CV 4/5] END C=10, degree=1, gamma=auto, kernel=poly;, score=0.708 total time=   0.8s\n",
            "[CV 5/5] END C=10, degree=1, gamma=auto, kernel=poly;, score=0.709 total time=   0.8s\n",
            "[CV 1/5] END C=10, degree=1, gamma=scale, kernel=poly;, score=0.976 total time=   0.4s\n",
            "[CV 2/5] END C=10, degree=1, gamma=scale, kernel=poly;, score=0.983 total time=   0.4s\n",
            "[CV 3/5] END C=10, degree=1, gamma=scale, kernel=poly;, score=0.969 total time=   0.4s\n",
            "[CV 4/5] END C=10, degree=1, gamma=scale, kernel=poly;, score=0.970 total time=   0.4s\n",
            "[CV 5/5] END C=10, degree=1, gamma=scale, kernel=poly;, score=0.976 total time=   0.4s\n",
            "[CV 1/5] END C=10, degree=2, gamma=auto, kernel=poly;, score=0.709 total time=   0.8s\n",
            "[CV 2/5] END C=10, degree=2, gamma=auto, kernel=poly;, score=0.709 total time=   0.7s\n",
            "[CV 3/5] END C=10, degree=2, gamma=auto, kernel=poly;, score=0.708 total time=   0.8s\n",
            "[CV 4/5] END C=10, degree=2, gamma=auto, kernel=poly;, score=0.708 total time=   0.8s\n",
            "[CV 5/5] END C=10, degree=2, gamma=auto, kernel=poly;, score=0.709 total time=   0.8s\n",
            "[CV 1/5] END C=10, degree=2, gamma=scale, kernel=poly;, score=0.951 total time=   0.8s\n",
            "[CV 2/5] END C=10, degree=2, gamma=scale, kernel=poly;, score=0.970 total time=   0.8s\n",
            "[CV 3/5] END C=10, degree=2, gamma=scale, kernel=poly;, score=0.950 total time=   0.8s\n",
            "[CV 4/5] END C=10, degree=2, gamma=scale, kernel=poly;, score=0.961 total time=   0.8s\n",
            "[CV 5/5] END C=10, degree=2, gamma=scale, kernel=poly;, score=0.955 total time=   0.8s\n",
            "[CV 1/5] END C=10, degree=3, gamma=auto, kernel=poly;, score=0.709 total time=   0.7s\n",
            "[CV 2/5] END C=10, degree=3, gamma=auto, kernel=poly;, score=0.709 total time=   0.7s\n",
            "[CV 3/5] END C=10, degree=3, gamma=auto, kernel=poly;, score=0.708 total time=   0.7s\n",
            "[CV 4/5] END C=10, degree=3, gamma=auto, kernel=poly;, score=0.708 total time=   0.7s\n",
            "[CV 5/5] END C=10, degree=3, gamma=auto, kernel=poly;, score=0.709 total time=   0.7s\n",
            "[CV 1/5] END C=10, degree=3, gamma=scale, kernel=poly;, score=0.882 total time=   1.6s\n",
            "[CV 2/5] END C=10, degree=3, gamma=scale, kernel=poly;, score=0.884 total time=   1.6s\n",
            "[CV 3/5] END C=10, degree=3, gamma=scale, kernel=poly;, score=0.880 total time=   1.5s\n",
            "[CV 4/5] END C=10, degree=3, gamma=scale, kernel=poly;, score=0.896 total time=   1.5s\n",
            "[CV 5/5] END C=10, degree=3, gamma=scale, kernel=poly;, score=0.887 total time=   1.5s\n",
            "[CV 1/5] END C=10, degree=4, gamma=auto, kernel=poly;, score=0.709 total time=   0.8s\n",
            "[CV 2/5] END C=10, degree=4, gamma=auto, kernel=poly;, score=0.709 total time=   0.8s\n",
            "[CV 3/5] END C=10, degree=4, gamma=auto, kernel=poly;, score=0.708 total time=   0.8s\n",
            "[CV 4/5] END C=10, degree=4, gamma=auto, kernel=poly;, score=0.708 total time=   0.8s\n",
            "[CV 5/5] END C=10, degree=4, gamma=auto, kernel=poly;, score=0.709 total time=   0.8s\n",
            "[CV 1/5] END C=10, degree=4, gamma=scale, kernel=poly;, score=0.843 total time=   1.9s\n",
            "[CV 2/5] END C=10, degree=4, gamma=scale, kernel=poly;, score=0.843 total time=   1.9s\n",
            "[CV 3/5] END C=10, degree=4, gamma=scale, kernel=poly;, score=0.835 total time=   1.9s\n",
            "[CV 4/5] END C=10, degree=4, gamma=scale, kernel=poly;, score=0.845 total time=   1.9s\n",
            "[CV 5/5] END C=10, degree=4, gamma=scale, kernel=poly;, score=0.834 total time=   1.9s\n",
            "[CV 1/5] END C=10, degree=5, gamma=auto, kernel=poly;, score=0.709 total time=   0.7s\n",
            "[CV 2/5] END C=10, degree=5, gamma=auto, kernel=poly;, score=0.709 total time=   0.7s\n",
            "[CV 3/5] END C=10, degree=5, gamma=auto, kernel=poly;, score=0.708 total time=   0.7s\n",
            "[CV 4/5] END C=10, degree=5, gamma=auto, kernel=poly;, score=0.708 total time=   0.7s\n",
            "[CV 5/5] END C=10, degree=5, gamma=auto, kernel=poly;, score=0.709 total time=   0.7s\n",
            "[CV 1/5] END C=10, degree=5, gamma=scale, kernel=poly;, score=0.811 total time=   1.9s\n",
            "[CV 2/5] END C=10, degree=5, gamma=scale, kernel=poly;, score=0.811 total time=   1.9s\n",
            "[CV 3/5] END C=10, degree=5, gamma=scale, kernel=poly;, score=0.805 total time=   1.9s\n",
            "[CV 4/5] END C=10, degree=5, gamma=scale, kernel=poly;, score=0.816 total time=   1.9s\n",
            "[CV 5/5] END C=10, degree=5, gamma=scale, kernel=poly;, score=0.810 total time=   1.9s\n",
            "[CV 1/5] END C=10, degree=6, gamma=auto, kernel=poly;, score=0.709 total time=   0.7s\n",
            "[CV 2/5] END C=10, degree=6, gamma=auto, kernel=poly;, score=0.709 total time=   0.7s\n",
            "[CV 3/5] END C=10, degree=6, gamma=auto, kernel=poly;, score=0.708 total time=   0.7s\n",
            "[CV 4/5] END C=10, degree=6, gamma=auto, kernel=poly;, score=0.708 total time=   0.7s\n",
            "[CV 5/5] END C=10, degree=6, gamma=auto, kernel=poly;, score=0.709 total time=   0.7s\n",
            "[CV 1/5] END C=10, degree=6, gamma=scale, kernel=poly;, score=0.801 total time=   2.0s\n",
            "[CV 2/5] END C=10, degree=6, gamma=scale, kernel=poly;, score=0.797 total time=   2.0s\n",
            "[CV 3/5] END C=10, degree=6, gamma=scale, kernel=poly;, score=0.781 total time=   2.0s\n",
            "[CV 4/5] END C=10, degree=6, gamma=scale, kernel=poly;, score=0.801 total time=   1.9s\n",
            "[CV 5/5] END C=10, degree=6, gamma=scale, kernel=poly;, score=0.799 total time=   2.0s\n",
            "[CV 1/5] END C=100, degree=1, gamma=auto, kernel=poly;, score=0.886 total time=   0.7s\n",
            "[CV 2/5] END C=100, degree=1, gamma=auto, kernel=poly;, score=0.890 total time=   0.7s\n",
            "[CV 3/5] END C=100, degree=1, gamma=auto, kernel=poly;, score=0.890 total time=   0.7s\n",
            "[CV 4/5] END C=100, degree=1, gamma=auto, kernel=poly;, score=0.901 total time=   0.7s\n",
            "[CV 5/5] END C=100, degree=1, gamma=auto, kernel=poly;, score=0.880 total time=   0.7s\n",
            "[CV 1/5] END C=100, degree=1, gamma=scale, kernel=poly;, score=0.976 total time=   0.4s\n",
            "[CV 2/5] END C=100, degree=1, gamma=scale, kernel=poly;, score=0.985 total time=   0.4s\n",
            "[CV 3/5] END C=100, degree=1, gamma=scale, kernel=poly;, score=0.970 total time=   0.4s\n",
            "[CV 4/5] END C=100, degree=1, gamma=scale, kernel=poly;, score=0.969 total time=   0.4s\n",
            "[CV 5/5] END C=100, degree=1, gamma=scale, kernel=poly;, score=0.974 total time=   0.4s\n",
            "[CV 1/5] END C=100, degree=2, gamma=auto, kernel=poly;, score=0.709 total time=   0.8s\n",
            "[CV 2/5] END C=100, degree=2, gamma=auto, kernel=poly;, score=0.709 total time=   0.8s\n",
            "[CV 3/5] END C=100, degree=2, gamma=auto, kernel=poly;, score=0.708 total time=   0.7s\n",
            "[CV 4/5] END C=100, degree=2, gamma=auto, kernel=poly;, score=0.708 total time=   0.8s\n",
            "[CV 5/5] END C=100, degree=2, gamma=auto, kernel=poly;, score=0.709 total time=   0.7s\n",
            "[CV 1/5] END C=100, degree=2, gamma=scale, kernel=poly;, score=0.951 total time=   0.8s\n",
            "[CV 2/5] END C=100, degree=2, gamma=scale, kernel=poly;, score=0.970 total time=   0.8s\n",
            "[CV 3/5] END C=100, degree=2, gamma=scale, kernel=poly;, score=0.950 total time=   0.8s\n",
            "[CV 4/5] END C=100, degree=2, gamma=scale, kernel=poly;, score=0.961 total time=   0.8s\n",
            "[CV 5/5] END C=100, degree=2, gamma=scale, kernel=poly;, score=0.955 total time=   0.8s\n",
            "[CV 1/5] END C=100, degree=3, gamma=auto, kernel=poly;, score=0.709 total time=   0.7s\n",
            "[CV 2/5] END C=100, degree=3, gamma=auto, kernel=poly;, score=0.709 total time=   0.7s\n",
            "[CV 3/5] END C=100, degree=3, gamma=auto, kernel=poly;, score=0.708 total time=   0.7s\n",
            "[CV 4/5] END C=100, degree=3, gamma=auto, kernel=poly;, score=0.708 total time=   0.7s\n",
            "[CV 5/5] END C=100, degree=3, gamma=auto, kernel=poly;, score=0.709 total time=   0.7s\n",
            "[CV 1/5] END C=100, degree=3, gamma=scale, kernel=poly;, score=0.882 total time=   1.6s\n",
            "[CV 2/5] END C=100, degree=3, gamma=scale, kernel=poly;, score=0.884 total time=   1.6s\n",
            "[CV 3/5] END C=100, degree=3, gamma=scale, kernel=poly;, score=0.880 total time=   1.5s\n",
            "[CV 4/5] END C=100, degree=3, gamma=scale, kernel=poly;, score=0.896 total time=   1.5s\n",
            "[CV 5/5] END C=100, degree=3, gamma=scale, kernel=poly;, score=0.887 total time=   1.5s\n",
            "[CV 1/5] END C=100, degree=4, gamma=auto, kernel=poly;, score=0.709 total time=   0.8s\n",
            "[CV 2/5] END C=100, degree=4, gamma=auto, kernel=poly;, score=0.709 total time=   0.8s\n",
            "[CV 3/5] END C=100, degree=4, gamma=auto, kernel=poly;, score=0.708 total time=   0.8s\n",
            "[CV 4/5] END C=100, degree=4, gamma=auto, kernel=poly;, score=0.708 total time=   0.8s\n",
            "[CV 5/5] END C=100, degree=4, gamma=auto, kernel=poly;, score=0.709 total time=   0.8s\n",
            "[CV 1/5] END C=100, degree=4, gamma=scale, kernel=poly;, score=0.843 total time=   1.9s\n",
            "[CV 2/5] END C=100, degree=4, gamma=scale, kernel=poly;, score=0.843 total time=   1.9s\n",
            "[CV 3/5] END C=100, degree=4, gamma=scale, kernel=poly;, score=0.835 total time=   1.9s\n",
            "[CV 4/5] END C=100, degree=4, gamma=scale, kernel=poly;, score=0.845 total time=   1.8s\n",
            "[CV 5/5] END C=100, degree=4, gamma=scale, kernel=poly;, score=0.834 total time=   1.9s\n",
            "[CV 1/5] END C=100, degree=5, gamma=auto, kernel=poly;, score=0.709 total time=   0.7s\n",
            "[CV 2/5] END C=100, degree=5, gamma=auto, kernel=poly;, score=0.709 total time=   0.7s\n",
            "[CV 3/5] END C=100, degree=5, gamma=auto, kernel=poly;, score=0.708 total time=   0.7s\n",
            "[CV 4/5] END C=100, degree=5, gamma=auto, kernel=poly;, score=0.708 total time=   0.7s\n",
            "[CV 5/5] END C=100, degree=5, gamma=auto, kernel=poly;, score=0.709 total time=   0.8s\n",
            "[CV 1/5] END C=100, degree=5, gamma=scale, kernel=poly;, score=0.811 total time=   1.9s\n",
            "[CV 2/5] END C=100, degree=5, gamma=scale, kernel=poly;, score=0.811 total time=   1.9s\n",
            "[CV 3/5] END C=100, degree=5, gamma=scale, kernel=poly;, score=0.805 total time=   1.9s\n",
            "[CV 4/5] END C=100, degree=5, gamma=scale, kernel=poly;, score=0.816 total time=   1.9s\n",
            "[CV 5/5] END C=100, degree=5, gamma=scale, kernel=poly;, score=0.810 total time=   1.9s\n",
            "[CV 1/5] END C=100, degree=6, gamma=auto, kernel=poly;, score=0.709 total time=   0.7s\n",
            "[CV 2/5] END C=100, degree=6, gamma=auto, kernel=poly;, score=0.709 total time=   0.7s\n",
            "[CV 3/5] END C=100, degree=6, gamma=auto, kernel=poly;, score=0.708 total time=   0.7s\n",
            "[CV 4/5] END C=100, degree=6, gamma=auto, kernel=poly;, score=0.708 total time=   0.7s\n",
            "[CV 5/5] END C=100, degree=6, gamma=auto, kernel=poly;, score=0.709 total time=   0.7s\n",
            "[CV 1/5] END C=100, degree=6, gamma=scale, kernel=poly;, score=0.801 total time=   2.0s\n",
            "[CV 2/5] END C=100, degree=6, gamma=scale, kernel=poly;, score=0.797 total time=   2.0s\n",
            "[CV 3/5] END C=100, degree=6, gamma=scale, kernel=poly;, score=0.781 total time=   2.0s\n",
            "[CV 4/5] END C=100, degree=6, gamma=scale, kernel=poly;, score=0.801 total time=   1.9s\n",
            "[CV 5/5] END C=100, degree=6, gamma=scale, kernel=poly;, score=0.799 total time=   2.0s\n",
            "[CV 1/5] END C=1000, degree=1, gamma=auto, kernel=poly;, score=0.970 total time=   0.5s\n",
            "[CV 2/5] END C=1000, degree=1, gamma=auto, kernel=poly;, score=0.975 total time=   0.5s\n",
            "[CV 3/5] END C=1000, degree=1, gamma=auto, kernel=poly;, score=0.968 total time=   0.5s\n",
            "[CV 4/5] END C=1000, degree=1, gamma=auto, kernel=poly;, score=0.966 total time=   0.5s\n",
            "[CV 5/5] END C=1000, degree=1, gamma=auto, kernel=poly;, score=0.966 total time=   0.4s\n",
            "[CV 1/5] END C=1000, degree=1, gamma=scale, kernel=poly;, score=0.976 total time=   0.4s\n",
            "[CV 2/5] END C=1000, degree=1, gamma=scale, kernel=poly;, score=0.985 total time=   0.4s\n",
            "[CV 3/5] END C=1000, degree=1, gamma=scale, kernel=poly;, score=0.970 total time=   0.4s\n",
            "[CV 4/5] END C=1000, degree=1, gamma=scale, kernel=poly;, score=0.969 total time=   0.4s\n",
            "[CV 5/5] END C=1000, degree=1, gamma=scale, kernel=poly;, score=0.974 total time=   0.4s\n",
            "[CV 1/5] END C=1000, degree=2, gamma=auto, kernel=poly;, score=0.709 total time=   0.8s\n",
            "[CV 2/5] END C=1000, degree=2, gamma=auto, kernel=poly;, score=0.709 total time=   0.8s\n",
            "[CV 3/5] END C=1000, degree=2, gamma=auto, kernel=poly;, score=0.708 total time=   0.8s\n",
            "[CV 4/5] END C=1000, degree=2, gamma=auto, kernel=poly;, score=0.708 total time=   0.8s\n",
            "[CV 5/5] END C=1000, degree=2, gamma=auto, kernel=poly;, score=0.709 total time=   0.8s\n",
            "[CV 1/5] END C=1000, degree=2, gamma=scale, kernel=poly;, score=0.951 total time=   0.8s\n",
            "[CV 2/5] END C=1000, degree=2, gamma=scale, kernel=poly;, score=0.970 total time=   0.8s\n",
            "[CV 3/5] END C=1000, degree=2, gamma=scale, kernel=poly;, score=0.950 total time=   0.8s\n",
            "[CV 4/5] END C=1000, degree=2, gamma=scale, kernel=poly;, score=0.961 total time=   0.8s\n",
            "[CV 5/5] END C=1000, degree=2, gamma=scale, kernel=poly;, score=0.955 total time=   0.8s\n",
            "[CV 1/5] END C=1000, degree=3, gamma=auto, kernel=poly;, score=0.709 total time=   0.8s\n",
            "[CV 2/5] END C=1000, degree=3, gamma=auto, kernel=poly;, score=0.709 total time=   0.7s\n",
            "[CV 3/5] END C=1000, degree=3, gamma=auto, kernel=poly;, score=0.708 total time=   0.7s\n",
            "[CV 4/5] END C=1000, degree=3, gamma=auto, kernel=poly;, score=0.708 total time=   0.7s\n",
            "[CV 5/5] END C=1000, degree=3, gamma=auto, kernel=poly;, score=0.709 total time=   0.7s\n",
            "[CV 1/5] END C=1000, degree=3, gamma=scale, kernel=poly;, score=0.882 total time=   1.6s\n",
            "[CV 2/5] END C=1000, degree=3, gamma=scale, kernel=poly;, score=0.884 total time=   1.6s\n",
            "[CV 3/5] END C=1000, degree=3, gamma=scale, kernel=poly;, score=0.880 total time=   1.5s\n",
            "[CV 4/5] END C=1000, degree=3, gamma=scale, kernel=poly;, score=0.896 total time=   1.5s\n",
            "[CV 5/5] END C=1000, degree=3, gamma=scale, kernel=poly;, score=0.887 total time=   1.5s\n",
            "[CV 1/5] END C=1000, degree=4, gamma=auto, kernel=poly;, score=0.709 total time=   0.8s\n",
            "[CV 2/5] END C=1000, degree=4, gamma=auto, kernel=poly;, score=0.709 total time=   0.8s\n",
            "[CV 3/5] END C=1000, degree=4, gamma=auto, kernel=poly;, score=0.708 total time=   0.8s\n",
            "[CV 4/5] END C=1000, degree=4, gamma=auto, kernel=poly;, score=0.708 total time=   0.7s\n",
            "[CV 5/5] END C=1000, degree=4, gamma=auto, kernel=poly;, score=0.709 total time=   0.8s\n",
            "[CV 1/5] END C=1000, degree=4, gamma=scale, kernel=poly;, score=0.843 total time=   1.9s\n",
            "[CV 2/5] END C=1000, degree=4, gamma=scale, kernel=poly;, score=0.843 total time=   1.9s\n",
            "[CV 3/5] END C=1000, degree=4, gamma=scale, kernel=poly;, score=0.835 total time=   1.9s\n",
            "[CV 4/5] END C=1000, degree=4, gamma=scale, kernel=poly;, score=0.845 total time=   1.9s\n",
            "[CV 5/5] END C=1000, degree=4, gamma=scale, kernel=poly;, score=0.834 total time=   1.9s\n",
            "[CV 1/5] END C=1000, degree=5, gamma=auto, kernel=poly;, score=0.709 total time=   0.8s\n",
            "[CV 2/5] END C=1000, degree=5, gamma=auto, kernel=poly;, score=0.709 total time=   0.8s\n",
            "[CV 3/5] END C=1000, degree=5, gamma=auto, kernel=poly;, score=0.708 total time=   0.8s\n",
            "[CV 4/5] END C=1000, degree=5, gamma=auto, kernel=poly;, score=0.708 total time=   0.8s\n",
            "[CV 5/5] END C=1000, degree=5, gamma=auto, kernel=poly;, score=0.709 total time=   0.8s\n",
            "[CV 1/5] END C=1000, degree=5, gamma=scale, kernel=poly;, score=0.811 total time=   1.9s\n",
            "[CV 2/5] END C=1000, degree=5, gamma=scale, kernel=poly;, score=0.811 total time=   1.9s\n",
            "[CV 3/5] END C=1000, degree=5, gamma=scale, kernel=poly;, score=0.805 total time=   1.9s\n",
            "[CV 4/5] END C=1000, degree=5, gamma=scale, kernel=poly;, score=0.816 total time=   2.1s\n",
            "[CV 5/5] END C=1000, degree=5, gamma=scale, kernel=poly;, score=0.810 total time=   2.6s\n",
            "[CV 1/5] END C=1000, degree=6, gamma=auto, kernel=poly;, score=0.709 total time=   1.0s\n",
            "[CV 2/5] END C=1000, degree=6, gamma=auto, kernel=poly;, score=0.709 total time=   1.2s\n",
            "[CV 3/5] END C=1000, degree=6, gamma=auto, kernel=poly;, score=0.708 total time=   0.9s\n",
            "[CV 4/5] END C=1000, degree=6, gamma=auto, kernel=poly;, score=0.708 total time=   0.9s\n",
            "[CV 5/5] END C=1000, degree=6, gamma=auto, kernel=poly;, score=0.709 total time=   0.9s\n",
            "[CV 1/5] END C=1000, degree=6, gamma=scale, kernel=poly;, score=0.801 total time=   2.0s\n",
            "[CV 2/5] END C=1000, degree=6, gamma=scale, kernel=poly;, score=0.797 total time=   1.9s\n",
            "[CV 3/5] END C=1000, degree=6, gamma=scale, kernel=poly;, score=0.781 total time=   1.9s\n",
            "[CV 4/5] END C=1000, degree=6, gamma=scale, kernel=poly;, score=0.801 total time=   1.9s\n",
            "[CV 5/5] END C=1000, degree=6, gamma=scale, kernel=poly;, score=0.799 total time=   2.0s\n",
            "Selected Kernel:  poly\n",
            "Selected C:  1\n",
            "Selected Gamma:  scale\n",
            "Selected Degree:  1\n",
            "Best Score : 0.9752500000000002\n",
            "best estimator: SVC(C=1, degree=1, kernel='poly')\n"
          ]
        }
      ]
    },
    {
      "cell_type": "markdown",
      "source": [
        "* RBF Kernel"
      ],
      "metadata": {
        "id": "tuZVqSAY0BQO"
      }
    },
    {
      "cell_type": "code",
      "source": [
        "param_grid = {'C': [0.001, 0.1, 1, 10, 100, 1000],\n",
        "              'kernel': ['rbf'],\n",
        "              'gamma' :['auto', 'scale']\n",
        "             }\n",
        " \n",
        "grid = GridSearchCV(svm.SVC(), param_grid, scoring='accuracy', refit = True, verbose = 3) \n",
        "# fitting the model for grid search\n",
        "grid.fit(x_baterai_train_vectorized, y_baterai_train)\n",
        "\n",
        "selected_kernel_rbf = grid.best_params_['kernel']\n",
        "print(\"Selected Kernel: \", selected_kernel_rbf)\n",
        "selected_C_rbf = grid.best_params_['C']\n",
        "print(\"Selected C: \", selected_C_rbf)\n",
        "selected_gamma_rbf= grid.best_params_['gamma']\n",
        "print(\"Selected Gamma: \", selected_gamma_rbf)\n",
        "\n",
        "best_params_rbf_HT = grid.best_params_\n",
        "model_looks_rbf_HT= grid.best_estimator_\n",
        "\n",
        "print(f'Best Score : {grid.best_score_}')\n",
        "print(\"best estimator: %s\" % (model_looks_rbf_HT))"
      ],
      "metadata": {
        "colab": {
          "base_uri": "https://localhost:8080/"
        },
        "id": "itXr1dkV0Cs5",
        "outputId": "6eb5cb05-77f4-4718-cb5a-f7dedc570cfe"
      },
      "execution_count": 17,
      "outputs": [
        {
          "output_type": "stream",
          "name": "stdout",
          "text": [
            "Fitting 5 folds for each of 12 candidates, totalling 60 fits\n",
            "[CV 1/5] END ...C=0.001, gamma=auto, kernel=rbf;, score=0.709 total time=   0.9s\n",
            "[CV 2/5] END ...C=0.001, gamma=auto, kernel=rbf;, score=0.709 total time=   0.9s\n",
            "[CV 3/5] END ...C=0.001, gamma=auto, kernel=rbf;, score=0.708 total time=   0.9s\n",
            "[CV 4/5] END ...C=0.001, gamma=auto, kernel=rbf;, score=0.708 total time=   0.9s\n",
            "[CV 5/5] END ...C=0.001, gamma=auto, kernel=rbf;, score=0.709 total time=   0.9s\n",
            "[CV 1/5] END ..C=0.001, gamma=scale, kernel=rbf;, score=0.709 total time=   0.9s\n",
            "[CV 2/5] END ..C=0.001, gamma=scale, kernel=rbf;, score=0.709 total time=   0.9s\n",
            "[CV 3/5] END ..C=0.001, gamma=scale, kernel=rbf;, score=0.708 total time=   0.9s\n",
            "[CV 4/5] END ..C=0.001, gamma=scale, kernel=rbf;, score=0.708 total time=   0.9s\n",
            "[CV 5/5] END ..C=0.001, gamma=scale, kernel=rbf;, score=0.709 total time=   0.9s\n",
            "[CV 1/5] END .....C=0.1, gamma=auto, kernel=rbf;, score=0.709 total time=   0.9s\n",
            "[CV 2/5] END .....C=0.1, gamma=auto, kernel=rbf;, score=0.709 total time=   0.9s\n",
            "[CV 3/5] END .....C=0.1, gamma=auto, kernel=rbf;, score=0.708 total time=   0.9s\n",
            "[CV 4/5] END .....C=0.1, gamma=auto, kernel=rbf;, score=0.708 total time=   0.9s\n",
            "[CV 5/5] END .....C=0.1, gamma=auto, kernel=rbf;, score=0.709 total time=   0.9s\n",
            "[CV 1/5] END ....C=0.1, gamma=scale, kernel=rbf;, score=0.866 total time=   0.9s\n",
            "[CV 2/5] END ....C=0.1, gamma=scale, kernel=rbf;, score=0.871 total time=   1.0s\n",
            "[CV 3/5] END ....C=0.1, gamma=scale, kernel=rbf;, score=0.871 total time=   0.9s\n",
            "[CV 4/5] END ....C=0.1, gamma=scale, kernel=rbf;, score=0.882 total time=   0.9s\n",
            "[CV 5/5] END ....C=0.1, gamma=scale, kernel=rbf;, score=0.868 total time=   0.9s\n",
            "[CV 1/5] END .......C=1, gamma=auto, kernel=rbf;, score=0.709 total time=   0.9s\n",
            "[CV 2/5] END .......C=1, gamma=auto, kernel=rbf;, score=0.709 total time=   0.9s\n",
            "[CV 3/5] END .......C=1, gamma=auto, kernel=rbf;, score=0.708 total time=   0.9s\n",
            "[CV 4/5] END .......C=1, gamma=auto, kernel=rbf;, score=0.708 total time=   0.9s\n",
            "[CV 5/5] END .......C=1, gamma=auto, kernel=rbf;, score=0.709 total time=   0.9s\n",
            "[CV 1/5] END ......C=1, gamma=scale, kernel=rbf;, score=0.970 total time=   0.8s\n",
            "[CV 2/5] END ......C=1, gamma=scale, kernel=rbf;, score=0.975 total time=   0.8s\n",
            "[CV 3/5] END ......C=1, gamma=scale, kernel=rbf;, score=0.969 total time=   0.8s\n",
            "[CV 4/5] END ......C=1, gamma=scale, kernel=rbf;, score=0.970 total time=   0.8s\n",
            "[CV 5/5] END ......C=1, gamma=scale, kernel=rbf;, score=0.963 total time=   0.8s\n",
            "[CV 1/5] END ......C=10, gamma=auto, kernel=rbf;, score=0.715 total time=   0.9s\n",
            "[CV 2/5] END ......C=10, gamma=auto, kernel=rbf;, score=0.709 total time=   0.9s\n",
            "[CV 3/5] END ......C=10, gamma=auto, kernel=rbf;, score=0.709 total time=   0.9s\n",
            "[CV 4/5] END ......C=10, gamma=auto, kernel=rbf;, score=0.708 total time=   0.9s\n",
            "[CV 5/5] END ......C=10, gamma=auto, kernel=rbf;, score=0.709 total time=   0.9s\n",
            "[CV 1/5] END .....C=10, gamma=scale, kernel=rbf;, score=0.974 total time=   0.8s\n",
            "[CV 2/5] END .....C=10, gamma=scale, kernel=rbf;, score=0.984 total time=   0.8s\n",
            "[CV 3/5] END .....C=10, gamma=scale, kernel=rbf;, score=0.971 total time=   0.7s\n",
            "[CV 4/5] END .....C=10, gamma=scale, kernel=rbf;, score=0.971 total time=   0.8s\n",
            "[CV 5/5] END .....C=10, gamma=scale, kernel=rbf;, score=0.966 total time=   0.8s\n",
            "[CV 1/5] END .....C=100, gamma=auto, kernel=rbf;, score=0.949 total time=   0.7s\n",
            "[CV 2/5] END .....C=100, gamma=auto, kernel=rbf;, score=0.958 total time=   0.7s\n",
            "[CV 3/5] END .....C=100, gamma=auto, kernel=rbf;, score=0.932 total time=   0.7s\n",
            "[CV 4/5] END .....C=100, gamma=auto, kernel=rbf;, score=0.951 total time=   0.8s\n",
            "[CV 5/5] END .....C=100, gamma=auto, kernel=rbf;, score=0.941 total time=   0.7s\n",
            "[CV 1/5] END ....C=100, gamma=scale, kernel=rbf;, score=0.974 total time=   0.8s\n",
            "[CV 2/5] END ....C=100, gamma=scale, kernel=rbf;, score=0.984 total time=   0.8s\n",
            "[CV 3/5] END ....C=100, gamma=scale, kernel=rbf;, score=0.971 total time=   0.8s\n",
            "[CV 4/5] END ....C=100, gamma=scale, kernel=rbf;, score=0.971 total time=   0.8s\n",
            "[CV 5/5] END ....C=100, gamma=scale, kernel=rbf;, score=0.966 total time=   0.8s\n",
            "[CV 1/5] END ....C=1000, gamma=auto, kernel=rbf;, score=0.971 total time=   0.5s\n",
            "[CV 2/5] END ....C=1000, gamma=auto, kernel=rbf;, score=0.976 total time=   0.5s\n",
            "[CV 3/5] END ....C=1000, gamma=auto, kernel=rbf;, score=0.968 total time=   0.5s\n",
            "[CV 4/5] END ....C=1000, gamma=auto, kernel=rbf;, score=0.970 total time=   0.5s\n",
            "[CV 5/5] END ....C=1000, gamma=auto, kernel=rbf;, score=0.966 total time=   0.5s\n",
            "[CV 1/5] END ...C=1000, gamma=scale, kernel=rbf;, score=0.974 total time=   0.8s\n",
            "[CV 2/5] END ...C=1000, gamma=scale, kernel=rbf;, score=0.984 total time=   0.8s\n",
            "[CV 3/5] END ...C=1000, gamma=scale, kernel=rbf;, score=0.971 total time=   0.8s\n",
            "[CV 4/5] END ...C=1000, gamma=scale, kernel=rbf;, score=0.971 total time=   0.8s\n",
            "[CV 5/5] END ...C=1000, gamma=scale, kernel=rbf;, score=0.966 total time=   0.8s\n",
            "Selected Kernel:  rbf\n",
            "Selected C:  10\n",
            "Selected Gamma:  scale\n",
            "Best Score : 0.97325\n",
            "best estimator: SVC(C=10)\n"
          ]
        }
      ]
    },
    {
      "cell_type": "markdown",
      "source": [
        "## CV with Tuned Hyperparamater"
      ],
      "metadata": {
        "id": "ddmozdxJ9UX9"
      }
    },
    {
      "cell_type": "code",
      "source": [
        "cross_val_score_linear= cross_val_score(model_looks_linear_HT, x_baterai_train_vectorized, y_baterai_train, scoring='accuracy', cv=5)\n",
        "print(\"Accuracy Score Linear of : %0.4f\" % cross_val_score_linear.mean(), cross_val_score_linear.std())\n",
        "\n",
        "cross_val_score_poly = cross_val_score(model_looks_poly_HT, x_baterai_train_vectorized, y_baterai_train, scoring='accuracy', cv=5)\n",
        "print(\"Accuracy Score poly of : %0.4f\" % cross_val_score_poly.mean(), cross_val_score_poly.std())\n",
        "\n",
        "cross_val_score_rbf = cross_val_score(model_looks_rbf_HT, x_baterai_train_vectorized, y_baterai_train, scoring='accuracy', cv=5)\n",
        "print(\"Accuracy Score rbf of : %0.4f\" % cross_val_score_rbf.mean(), cross_val_score_rbf.std())"
      ],
      "metadata": {
        "colab": {
          "base_uri": "https://localhost:8080/"
        },
        "id": "MZGVV_VP9lAY",
        "outputId": "ed08a761-d1ec-4a71-d053-dc154c5661cb"
      },
      "execution_count": 26,
      "outputs": [
        {
          "output_type": "stream",
          "name": "stdout",
          "text": [
            "Accuracy Score Linear of : 0.9753 0.005667892024377314\n",
            "Accuracy Score poly of : 0.9753 0.005667892024377314\n",
            "Accuracy Score rbf of : 0.9732 0.005787918451395112\n"
          ]
        }
      ]
    },
    {
      "cell_type": "code",
      "source": [
        "import numpy as np\n",
        "from matplotlib.ticker import FormatStrFormatter\n",
        "\n",
        "import matplotlib.pyplot as plt\n",
        "%matplotlib inline\n",
        "\n",
        "\n",
        "name = ['Linear', 'RBF', 'Polynomial']\n",
        "before_HT = [cv_linear.mean(), cv_rbf.mean(), cv_poly.mean()]\n",
        "after_HT = [cross_val_score_linear.mean(), cross_val_score_rbf.mean(), cross_val_score_poly.mean()]\n",
        "diff_linear = ((cross_val_score_linear.mean()-cv_linear.mean()))\n",
        "diff_rbf = ((cross_val_score_rbf.mean()-cv_rbf.mean()))\n",
        "diff_poly = ((cross_val_score_poly.mean()-cv_poly.mean()))\n",
        "diff_HT = [diff_linear, diff_rbf, diff_poly]\n",
        "\n",
        "x = np.arange(len(name))\n",
        "width = 0.2\n",
        "\n",
        "fig, ax = plt.subplots(figsize=(14, 7))\n",
        "\n",
        "bfr = ax.bar(x - width/2, before_HT, width, label='Before', color='steelblue')\n",
        "aftr = ax.bar(x + width/2, after_HT, width, label='After', color='orange')\n",
        "diff = ax.bar(x + 0.3, diff_HT, width, label='Diffrenciate', color='cyan')\n",
        "\n",
        "ax.set_title('Hasil Hyperparameter Aspek Baterai', size=16)\n",
        "ax.set_ylabel('Accuracy', size=14)\n",
        "ax.set_xticks(x)\n",
        "ax.set_xticklabels(name, size=14)\n",
        "ax.legend(fontsize=14)\n",
        "ax.legend(bbox_to_anchor=(1.02, 1), loc='upper left', borderaxespad=0)\n",
        "ax.yaxis.set_major_formatter(FormatStrFormatter(\"%0.2f\"))\n",
        "for p in ax.patches:\n",
        "    h = p.get_height()\n",
        "    x = p.get_x()+p.get_width()/2\n",
        "    if h!= 0:\n",
        "      ax.annotate(\"%g\" % p.get_height(), xy=(x,h), xytext=(0,5), textcoords=\"offset points\",\n",
        "                  ha=\"center\", fontsize=10)\n",
        "    \n",
        "plt.show()"
      ],
      "metadata": {
        "colab": {
          "base_uri": "https://localhost:8080/",
          "height": 450
        },
        "id": "RlDi3OZBWwO4",
        "outputId": "82966bc3-dd7b-454e-fe09-623324fb5c92"
      },
      "execution_count": 19,
      "outputs": [
        {
          "output_type": "display_data",
          "data": {
            "text/plain": [
              "<Figure size 1008x504 with 1 Axes>"
            ],
            "image/png": "[encoded data removed]"
          },
          "metadata": {
            "needs_background": "light"
          }
        }
      ]
    },
    {
      "cell_type": "markdown",
      "source": [
        "## Model Validation"
      ],
      "metadata": {
        "id": "P6SG8dgvAd-i"
      }
    },
    {
      "cell_type": "markdown",
      "source": [
        "### Model Validation Hyperparameter Tuning Test Dataset"
      ],
      "metadata": {
        "id": "xSMKBr_CA95O"
      }
    },
    {
      "cell_type": "markdown",
      "source": [
        "* Linear Kernel"
      ],
      "metadata": {
        "id": "a9DYVC85h5mq"
      }
    },
    {
      "cell_type": "code",
      "source": [
        "grid_predictions = model_looks_linear_HT.predict(x_baterai_test_vectorized)\n",
        "\n",
        "print(\"F1-SCORE \",f1(y_baterai_test,grid_predictions,average='macro') * 100)\n",
        "print(\"ACCURACY \",acc(y_baterai_test,grid_predictions) * 100)\n",
        "print(\"PRECISION \",prec(y_baterai_test,grid_predictions,average='macro') * 100)\n",
        "print(\"RECALL\",recall(y_baterai_test,grid_predictions,average='macro') * 100)\n",
        "\n",
        "print('Confusion Matrix : \\n', confusion_matrix(y_baterai_test, grid_predictions))\n",
        "print('Report Hasil : \\n',classification_report(y_baterai_test, grid_predictions))"
      ],
      "metadata": {
        "colab": {
          "base_uri": "https://localhost:8080/"
        },
        "id": "wzIVFSATh_A5",
        "outputId": "603c0655-cdbc-4599-ec80-d19dbb032aed"
      },
      "execution_count": 20,
      "outputs": [
        {
          "output_type": "stream",
          "name": "stdout",
          "text": [
            "F1-SCORE  77.12950021005526\n",
            "ACCURACY  98.2\n",
            "PRECISION  82.46383284945034\n",
            "RECALL 74.57478202548626\n",
            "Confusion Matrix : \n",
            " [[696   2   2]\n",
            " [  0 282   2]\n",
            " [ 11   1   4]]\n",
            "Report Hasil : \n",
            "               precision    recall  f1-score   support\n",
            "\n",
            "          -1       0.98      0.99      0.99       700\n",
            "           0       0.99      0.99      0.99       284\n",
            "           1       0.50      0.25      0.33        16\n",
            "\n",
            "    accuracy                           0.98      1000\n",
            "   macro avg       0.82      0.75      0.77      1000\n",
            "weighted avg       0.98      0.98      0.98      1000\n",
            "\n"
          ]
        }
      ]
    },
    {
      "cell_type": "markdown",
      "source": [
        "* Poly Kernel"
      ],
      "metadata": {
        "id": "NCZZNnY9h6dg"
      }
    },
    {
      "cell_type": "code",
      "source": [
        "grid_predictions = model_looks_poly_HT.predict(x_baterai_test_vectorized)\n",
        "\n",
        "print(\"F1-SCORE \",f1(y_baterai_test,grid_predictions,average='macro') * 100)\n",
        "print(\"ACCURACY \",acc(y_baterai_test,grid_predictions) * 100)\n",
        "print(\"PRECISION \",prec(y_baterai_test,grid_predictions,average='macro') * 100)\n",
        "print(\"RECALL\",recall(y_baterai_test,grid_predictions,average='macro') * 100)\n",
        "\n",
        "print('Confusion Matrix : \\n', confusion_matrix(y_baterai_test, grid_predictions))\n",
        "print('Report Hasil : \\n',classification_report(y_baterai_test, grid_predictions))"
      ],
      "metadata": {
        "colab": {
          "base_uri": "https://localhost:8080/"
        },
        "id": "6iuXz8jki85T",
        "outputId": "fedf7ded-700d-42cc-f5c7-58854d2bd0af"
      },
      "execution_count": 21,
      "outputs": [
        {
          "output_type": "stream",
          "name": "stdout",
          "text": [
            "F1-SCORE  77.12950021005526\n",
            "ACCURACY  98.2\n",
            "PRECISION  82.46383284945034\n",
            "RECALL 74.57478202548626\n",
            "Confusion Matrix : \n",
            " [[696   2   2]\n",
            " [  0 282   2]\n",
            " [ 11   1   4]]\n",
            "Report Hasil : \n",
            "               precision    recall  f1-score   support\n",
            "\n",
            "          -1       0.98      0.99      0.99       700\n",
            "           0       0.99      0.99      0.99       284\n",
            "           1       0.50      0.25      0.33        16\n",
            "\n",
            "    accuracy                           0.98      1000\n",
            "   macro avg       0.82      0.75      0.77      1000\n",
            "weighted avg       0.98      0.98      0.98      1000\n",
            "\n"
          ]
        }
      ]
    },
    {
      "cell_type": "markdown",
      "source": [
        "* RBF Kernel"
      ],
      "metadata": {
        "id": "zfVKCG4Jh8La"
      }
    },
    {
      "cell_type": "code",
      "source": [
        "grid_predictions = model_looks_rbf_HT.predict(x_baterai_test_vectorized)\n",
        "\n",
        "print(\"F1-SCORE \",f1(y_baterai_test,grid_predictions,average='macro') * 100)\n",
        "print(\"ACCURACY \",acc(y_baterai_test,grid_predictions) * 100)\n",
        "print(\"PRECISION \",prec(y_baterai_test,grid_predictions,average='macro') * 100)\n",
        "print(\"RECALL\",recall(y_baterai_test,grid_predictions,average='macro') * 100)\n",
        "\n",
        "print('Confusion Matrix : \\n', confusion_matrix(y_baterai_test, grid_predictions))\n",
        "print('Report Hasil : \\n',classification_report(y_baterai_test, grid_predictions))"
      ],
      "metadata": {
        "colab": {
          "base_uri": "https://localhost:8080/"
        },
        "id": "J8lpNpY3jDrH",
        "outputId": "251a5d8d-0604-46b4-e73f-36f128e9204c"
      },
      "execution_count": 22,
      "outputs": [
        {
          "output_type": "stream",
          "name": "stdout",
          "text": [
            "F1-SCORE  79.29325092089655\n",
            "ACCURACY  98.2\n",
            "PRECISION  84.24617148021403\n",
            "RECALL 76.61049631120052\n",
            "Confusion Matrix : \n",
            " [[695   2   3]\n",
            " [  1 282   1]\n",
            " [  9   2   5]]\n",
            "Report Hasil : \n",
            "               precision    recall  f1-score   support\n",
            "\n",
            "          -1       0.99      0.99      0.99       700\n",
            "           0       0.99      0.99      0.99       284\n",
            "           1       0.56      0.31      0.40        16\n",
            "\n",
            "    accuracy                           0.98      1000\n",
            "   macro avg       0.84      0.77      0.79      1000\n",
            "weighted avg       0.98      0.98      0.98      1000\n",
            "\n"
          ]
        }
      ]
    },
    {
      "cell_type": "markdown",
      "source": [
        "### Model Validation Hyperparameter Tuning Train Dataset"
      ],
      "metadata": {
        "id": "S7jltPrXZk1W"
      }
    },
    {
      "cell_type": "markdown",
      "source": [
        "* Linear Kernel"
      ],
      "metadata": {
        "id": "HTEm2He2Zk1W"
      }
    },
    {
      "cell_type": "code",
      "source": [
        "grid_predictions = model_looks_linear_HT.predict(x_baterai_train_vectorized)\n",
        "\n",
        "print(\"F1-SCORE \",f1(y_baterai_train,grid_predictions,average='macro') * 100)\n",
        "print(\"ACCURACY \",acc(y_baterai_train,grid_predictions) * 100)\n",
        "print(\"PRECISION \",prec(y_baterai_train,grid_predictions,average='macro') * 100)\n",
        "print(\"RECALL\",recall(y_baterai_train,grid_predictions,average='macro') * 100)\n",
        "\n",
        "print('Confusion Matrix : \\n', confusion_matrix(y_baterai_train, grid_predictions))\n",
        "print('Report Hasil : \\n',classification_report(y_baterai_train, grid_predictions))"
      ],
      "metadata": {
        "colab": {
          "base_uri": "https://localhost:8080/"
        },
        "outputId": "e0adcffe-66a7-4c23-c03d-4db40860ba90",
        "id": "bOnP49DQZk1X"
      },
      "execution_count": 23,
      "outputs": [
        {
          "output_type": "stream",
          "name": "stdout",
          "text": [
            "F1-SCORE  95.55489624996468\n",
            "ACCURACY  99.4\n",
            "PRECISION  98.02013589344783\n",
            "RECALL 93.47779055600469\n",
            "Confusion Matrix : \n",
            " [[2827    2    4]\n",
            " [   0 1074    0]\n",
            " [  17    1   75]]\n",
            "Report Hasil : \n",
            "               precision    recall  f1-score   support\n",
            "\n",
            "          -1       0.99      1.00      1.00      2833\n",
            "           0       1.00      1.00      1.00      1074\n",
            "           1       0.95      0.81      0.87        93\n",
            "\n",
            "    accuracy                           0.99      4000\n",
            "   macro avg       0.98      0.93      0.96      4000\n",
            "weighted avg       0.99      0.99      0.99      4000\n",
            "\n"
          ]
        }
      ]
    },
    {
      "cell_type": "markdown",
      "source": [
        "* Poly Kernel"
      ],
      "metadata": {
        "id": "abEyxPp5Zk1Y"
      }
    },
    {
      "cell_type": "code",
      "source": [
        "grid_predictions = model_looks_poly_HT.predict(x_baterai_train_vectorized)\n",
        "\n",
        "print(\"F1-SCORE \",f1(y_baterai_train,grid_predictions,average='macro') * 100)\n",
        "print(\"ACCURACY \",acc(y_baterai_train,grid_predictions) * 100)\n",
        "print(\"PRECISION \",prec(y_baterai_train,grid_predictions,average='macro') * 100)\n",
        "print(\"RECALL\",recall(y_baterai_train,grid_predictions,average='macro') * 100)\n",
        "\n",
        "print('Confusion Matrix : \\n', confusion_matrix(y_baterai_train, grid_predictions))\n",
        "print('Report Hasil : \\n',classification_report(y_baterai_train, grid_predictions))"
      ],
      "metadata": {
        "colab": {
          "base_uri": "https://localhost:8080/"
        },
        "outputId": "7f856b9e-5d47-4584-d08d-83b29b50afe6",
        "id": "6UhuulfEZk1Y"
      },
      "execution_count": 24,
      "outputs": [
        {
          "output_type": "stream",
          "name": "stdout",
          "text": [
            "F1-SCORE  95.55489624996468\n",
            "ACCURACY  99.4\n",
            "PRECISION  98.02013589344783\n",
            "RECALL 93.47779055600469\n",
            "Confusion Matrix : \n",
            " [[2827    2    4]\n",
            " [   0 1074    0]\n",
            " [  17    1   75]]\n",
            "Report Hasil : \n",
            "               precision    recall  f1-score   support\n",
            "\n",
            "          -1       0.99      1.00      1.00      2833\n",
            "           0       1.00      1.00      1.00      1074\n",
            "           1       0.95      0.81      0.87        93\n",
            "\n",
            "    accuracy                           0.99      4000\n",
            "   macro avg       0.98      0.93      0.96      4000\n",
            "weighted avg       0.99      0.99      0.99      4000\n",
            "\n"
          ]
        }
      ]
    },
    {
      "cell_type": "markdown",
      "source": [
        "* RBF Kernel"
      ],
      "metadata": {
        "id": "k6evb4xdZk1Y"
      }
    },
    {
      "cell_type": "code",
      "source": [
        "grid_predictions = model_looks_rbf_HT.predict(x_baterai_train_vectorized)\n",
        "\n",
        "print(\"F1-SCORE \",f1(y_baterai_train,grid_predictions,average='macro') * 100)\n",
        "print(\"ACCURACY \",acc(y_baterai_train,grid_predictions) * 100)\n",
        "print(\"PRECISION \",prec(y_baterai_train,grid_predictions,average='macro') * 100)\n",
        "print(\"RECALL\",recall(y_baterai_train,grid_predictions,average='macro') * 100)\n",
        "\n",
        "print('Confusion Matrix : \\n', confusion_matrix(y_baterai_train, grid_predictions))\n",
        "print('Report Hasil : \\n',classification_report(y_baterai_train, grid_predictions))"
      ],
      "metadata": {
        "colab": {
          "base_uri": "https://localhost:8080/"
        },
        "outputId": "e2722a62-f957-4e55-cf5c-cb686910c175",
        "id": "7YExcT23Zk1Z"
      },
      "execution_count": 25,
      "outputs": [
        {
          "output_type": "stream",
          "name": "stdout",
          "text": [
            "F1-SCORE  100.0\n",
            "ACCURACY  100.0\n",
            "PRECISION  100.0\n",
            "RECALL 100.0\n",
            "Confusion Matrix : \n",
            " [[2833    0    0]\n",
            " [   0 1074    0]\n",
            " [   0    0   93]]\n",
            "Report Hasil : \n",
            "               precision    recall  f1-score   support\n",
            "\n",
            "          -1       1.00      1.00      1.00      2833\n",
            "           0       1.00      1.00      1.00      1074\n",
            "           1       1.00      1.00      1.00        93\n",
            "\n",
            "    accuracy                           1.00      4000\n",
            "   macro avg       1.00      1.00      1.00      4000\n",
            "weighted avg       1.00      1.00      1.00      4000\n",
            "\n"
          ]
        }
      ]
    }
  ]
}