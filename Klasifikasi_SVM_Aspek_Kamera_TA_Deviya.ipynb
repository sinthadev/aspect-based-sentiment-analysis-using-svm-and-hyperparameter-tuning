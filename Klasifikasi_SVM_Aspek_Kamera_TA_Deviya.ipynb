{
  "nbformat": 4,
  "nbformat_minor": 0,
  "metadata": {
    "colab": {
      "provenance": []
    },
    "kernelspec": {
      "name": "python3",
      "display_name": "Python 3"
    },
    "language_info": {
      "name": "python"
    }
  },
  "cells": [
    {
      "cell_type": "code",
      "source": [
        "!pip install Sastrawi"
      ],
      "metadata": {
        "colab": {
          "base_uri": "https://localhost:8080/"
        },
        "id": "-8N2Rx-rPVWu",
        "outputId": "4166dd11-d87d-4ac9-c516-92cf83d929d0"
      },
      "execution_count": 1,
      "outputs": [
        {
          "output_type": "stream",
          "name": "stdout",
          "text": [
            "Looking in indexes: https://pypi.org/simple, https://us-python.pkg.dev/colab-wheels/public/simple/\n",
            "Collecting Sastrawi\n",
            "  Downloading Sastrawi-1.0.1-py2.py3-none-any.whl (209 kB)\n",
            "\u001b[K     |████████████████████████████████| 209 kB 8.6 MB/s \n",
            "\u001b[?25hInstalling collected packages: Sastrawi\n",
            "Successfully installed Sastrawi-1.0.1\n"
          ]
        }
      ]
    },
    {
      "cell_type": "markdown",
      "source": [
        "# **Import Library**"
      ],
      "metadata": {
        "id": "tWLJXv9btmm-"
      }
    },
    {
      "cell_type": "code",
      "execution_count": 2,
      "metadata": {
        "id": "gLIM0aldsSDX"
      },
      "outputs": [],
      "source": [
        "# LIBRARY UNTUK MENGOLAH DATA\n",
        "import pandas as pd\n",
        "import numpy as np\n",
        "import re,string #import regular expression\n",
        "import Sastrawi\n",
        "import joblib\n",
        "\n",
        "import matplotlib.pyplot as plt\n",
        "import seaborn as sns\n",
        "import matplotlib as mpl\n",
        "\n",
        "#Library Untuk Split Data\n",
        "from sklearn import model_selection\n",
        "from sklearn.model_selection import train_test_split\n",
        "\n",
        "#Library Ekstraksi Fitur TFIDF\n",
        "from sklearn.feature_extraction.text import TfidfVectorizer\n",
        "from sklearn.preprocessing import OneHotEncoder\n",
        "\n",
        "#Library Klasifikasi Support Vector Machine\n",
        "from sklearn.svm import SVC\n",
        "from sklearn import svm\n",
        "from sklearn.metrics import f1_score as f1\n",
        "from sklearn .metrics import accuracy_score as acc\n",
        "from sklearn.metrics import precision_score as prec\n",
        "from sklearn.metrics import recall_score as recall\n",
        "from sklearn.metrics import confusion_matrix\n",
        "from sklearn.metrics import classification_report\n",
        "from sklearn import metrics\n",
        "\n",
        "\n",
        "#Library HyperParameter Tuning\n",
        "from sklearn.model_selection import cross_val_score\n",
        "from sklearn.model_selection import GridSearchCV\n",
        "import timeit\n",
        "\n",
        "import warnings\n",
        "warnings.filterwarnings('ignore')"
      ]
    },
    {
      "cell_type": "code",
      "source": [
        "from google.colab import drive\n",
        "drive.mount('/content/drive')"
      ],
      "metadata": {
        "colab": {
          "base_uri": "https://localhost:8080/"
        },
        "id": "F6DeMTWSu6fR",
        "outputId": "57bda93d-6893-4d10-9e1a-37d9ced4bf7d"
      },
      "execution_count": 3,
      "outputs": [
        {
          "output_type": "stream",
          "name": "stdout",
          "text": [
            "Mounted at /content/drive\n"
          ]
        }
      ]
    },
    {
      "cell_type": "markdown",
      "source": [
        "# **Aspek Kamera**"
      ],
      "metadata": {
        "id": "AKnyAMHsuwki"
      }
    },
    {
      "cell_type": "code",
      "source": [
        "tweet_kamera = pd.read_csv('/content/drive/MyDrive/Dataset TA/aspek_kamera.csv')\n",
        "tweet_kamera.shape"
      ],
      "metadata": {
        "colab": {
          "base_uri": "https://localhost:8080/"
        },
        "id": "XKDWbPlru2iS",
        "outputId": "a9d13c49-ec06-49d9-ae40-8882ef420481"
      },
      "execution_count": 4,
      "outputs": [
        {
          "output_type": "execute_result",
          "data": {
            "text/plain": [
              "(5000, 3)"
            ]
          },
          "metadata": {},
          "execution_count": 4
        }
      ]
    },
    {
      "cell_type": "code",
      "source": [
        "tweet_kamera['label'].value_counts()"
      ],
      "metadata": {
        "colab": {
          "base_uri": "https://localhost:8080/"
        },
        "id": "2M7qEwddz0AC",
        "outputId": "e7422d34-2c05-49a7-9fa4-b94867f71dcd"
      },
      "execution_count": 5,
      "outputs": [
        {
          "output_type": "execute_result",
          "data": {
            "text/plain": [
              " 1    3523\n",
              " 0    1430\n",
              "-1      47\n",
              "Name: label, dtype: int64"
            ]
          },
          "metadata": {},
          "execution_count": 5
        }
      ]
    },
    {
      "cell_type": "code",
      "source": [
        "kamera = sns.countplot(tweet_kamera['label'], palette = 'hls')\n",
        "plt.show()"
      ],
      "metadata": {
        "colab": {
          "base_uri": "https://localhost:8080/",
          "height": 279
        },
        "id": "MnWQRdtC0hkV",
        "outputId": "f1bfae74-7a82-4de4-da2e-b2b493fc595f"
      },
      "execution_count": 6,
      "outputs": [
        {
          "output_type": "display_data",
          "data": {
            "text/plain": [
              "<Figure size 432x288 with 1 Axes>"
            ],
            "image/png": "[encoded data removed]"
          },
          "metadata": {
            "needs_background": "light"
          }
        }
      ]
    },
    {
      "cell_type": "code",
      "source": [
        "tweet_kamera.isna().sum()"
      ],
      "metadata": {
        "colab": {
          "base_uri": "https://localhost:8080/"
        },
        "id": "-ZGgs4pjNTO4",
        "outputId": "6533982c-91c2-4ffa-a1b3-5160f83f2457"
      },
      "execution_count": 7,
      "outputs": [
        {
          "output_type": "execute_result",
          "data": {
            "text/plain": [
              "tweet       0\n",
              "stemming    0\n",
              "label       0\n",
              "dtype: int64"
            ]
          },
          "metadata": {},
          "execution_count": 7
        }
      ]
    },
    {
      "cell_type": "markdown",
      "source": [
        "## Inisialisasi Data"
      ],
      "metadata": {
        "id": "C7etTqJU17mJ"
      }
    },
    {
      "cell_type": "code",
      "source": [
        "x_kamera = tweet_kamera['stemming']\n",
        "y_kamera = tweet_kamera['label'].values"
      ],
      "metadata": {
        "id": "kuNEQPmTwAxq"
      },
      "execution_count": 8,
      "outputs": []
    },
    {
      "cell_type": "markdown",
      "source": [
        "## Split Data\n",
        "\n"
      ],
      "metadata": {
        "id": "Gs8QMCc21DkM"
      }
    },
    {
      "cell_type": "code",
      "source": [
        "from sklearn.model_selection import train_test_split\n",
        "x_kamera_train, x_kamera_test, y_kamera_train, y_kamera_test = train_test_split(\n",
        "    tweet_kamera['stemming'], \n",
        "    tweet_kamera['label'], \n",
        "    test_size=0.2)\n",
        "\n",
        "train_df = pd.DataFrame()\n",
        "train_df['tweet'] = x_kamera_train\n",
        "train_df['sentiment'] = y_kamera_train\n",
        "test_df = pd.DataFrame()\n",
        "test_df['tweet'] = x_kamera_test\n",
        "test_df['sentiment'] = y_kamera_test"
      ],
      "metadata": {
        "id": "ogTyOQnb06mz"
      },
      "execution_count": 9,
      "outputs": []
    },
    {
      "cell_type": "markdown",
      "source": [
        "## Feature TF-IDF"
      ],
      "metadata": {
        "id": "5UeiexVgunm-"
      }
    },
    {
      "cell_type": "code",
      "source": [
        "tfidf_vect = TfidfVectorizer(use_idf=True)\n",
        "tfidf_vect.fit(x_kamera_train)\n",
        "x_kamera_train_vectorized = tfidf_vect.transform(x_kamera_train)\n",
        "x_kamera_test_vectorized = tfidf_vect.transform(x_kamera_test)"
      ],
      "metadata": {
        "id": "t0fBDy8cKaHL"
      },
      "execution_count": 10,
      "outputs": []
    },
    {
      "cell_type": "code",
      "source": [
        "print (x_kamera_train_vectorized)"
      ],
      "metadata": {
        "colab": {
          "base_uri": "https://localhost:8080/"
        },
        "id": "zL5IKnQKCovp",
        "outputId": "bd4e279e-3e4c-43e9-8e92-4e6ad57f8387"
      },
      "execution_count": 11,
      "outputs": [
        {
          "output_type": "stream",
          "name": "stdout",
          "text": [
            "  (0, 1145)\t0.2019864073681873\n",
            "  (0, 482)\t0.8464550796036484\n",
            "  (0, 400)\t0.492661434914155\n",
            "  (1, 2511)\t0.10959167454138274\n",
            "  (1, 2139)\t0.5928660764322427\n",
            "  (1, 1572)\t0.10950515471556015\n",
            "  (1, 1524)\t0.6939386542936069\n",
            "  (1, 1291)\t0.12740749348347716\n",
            "  (1, 1235)\t0.15945730680201542\n",
            "  (1, 1145)\t0.16318458300824482\n",
            "  (1, 1007)\t0.10973608075471133\n",
            "  (1, 680)\t0.15377328582920086\n",
            "  (1, 238)\t0.11285993749617389\n",
            "  (1, 203)\t0.12087773032129985\n",
            "  (1, 166)\t0.107850420498489\n",
            "  (2, 2733)\t0.5077153652257029\n",
            "  (2, 2492)\t0.2600267569578996\n",
            "  (2, 2432)\t0.2773111708570712\n",
            "  (2, 2092)\t0.29103058199104415\n",
            "  (2, 1892)\t0.24412360550260473\n",
            "  (2, 1519)\t0.2773111708570712\n",
            "  (2, 1291)\t0.05343336438904888\n",
            "  (2, 1145)\t0.06843789990802486\n",
            "  (2, 730)\t0.17651557063211515\n",
            "  (2, 604)\t0.24013827147887842\n",
            "  :\t:\n",
            "  (3997, 238)\t0.07753581868869962\n",
            "  (3997, 203)\t0.08304411635893003\n",
            "  (3997, 166)\t0.14818846855296813\n",
            "  (3997, 150)\t0.39337468078452054\n",
            "  (3998, 2511)\t0.2682085993594791\n",
            "  (3998, 1572)\t0.2679968555258548\n",
            "  (3998, 1291)\t0.3118100486930858\n",
            "  (3998, 1235)\t0.3902469881400873\n",
            "  (3998, 1145)\t0.3993689176560124\n",
            "  (3998, 1007)\t0.26856201113439493\n",
            "  (3998, 680)\t0.376336229770638\n",
            "  (3998, 238)\t0.27620716524608757\n",
            "  (3998, 203)\t0.29582946769361057\n",
            "  (3998, 166)\t0.2639471505776448\n",
            "  (3999, 2511)\t0.23654480997996474\n",
            "  (3999, 1976)\t0.47135528007573135\n",
            "  (3999, 1572)\t0.23635806389871042\n",
            "  (3999, 1291)\t0.2749988214177026\n",
            "  (3999, 1235)\t0.344175764219724\n",
            "  (3999, 1145)\t0.35222078995397765\n",
            "  (3999, 1007)\t0.23685649917017634\n",
            "  (3999, 680)\t0.3319072623781097\n",
            "  (3999, 238)\t0.2435990925506148\n",
            "  (3999, 203)\t0.2609048531224362\n",
            "  (3999, 166)\t0.23278645325782513\n"
          ]
        }
      ]
    },
    {
      "cell_type": "markdown",
      "source": [
        "## Klasifikasi SVM Dengan Cross Validation"
      ],
      "metadata": {
        "id": "j6IfZ89CuuYL"
      }
    },
    {
      "cell_type": "markdown",
      "source": [
        "* Cross Validation Using Linear Kernel"
      ],
      "metadata": {
        "id": "IJIUFix_znz6"
      }
    },
    {
      "cell_type": "code",
      "source": [
        "### create model\n",
        "clf_linear = SVC(kernel='linear')\n",
        "### cross-validation evaluation\n",
        "cv_linear = cross_val_score(clf_linear, x_kamera_train_vectorized, y_kamera_train, scoring='accuracy', cv=5)\n",
        "### Show CV result\n",
        "print(\"Accuracy Score Linear of : %0.4f\" % (cv_linear.mean()))\n"
      ],
      "metadata": {
        "colab": {
          "base_uri": "https://localhost:8080/"
        },
        "id": "_L8AVoYQUIzt",
        "outputId": "e3d627d8-d805-4057-adbe-7dcd51a3ee18"
      },
      "execution_count": 12,
      "outputs": [
        {
          "output_type": "stream",
          "name": "stdout",
          "text": [
            "Accuracy Score Linear of : 0.9807\n"
          ]
        }
      ]
    },
    {
      "cell_type": "markdown",
      "source": [
        "* Cross Validation Using Polynomial Kernel"
      ],
      "metadata": {
        "id": "Wba3ePrMzyKW"
      }
    },
    {
      "cell_type": "code",
      "source": [
        "### create model\n",
        "clf_poly = SVC(kernel='poly')\n",
        "### cross-validation evaluation\n",
        "cv_poly = cross_val_score(clf_poly, x_kamera_train_vectorized, y_kamera_train, scoring='accuracy', cv=5)\n",
        "### Show CV result\n",
        "print(\"Accuracy Score Poly of : %0.4f\" % (cv_poly.mean()))"
      ],
      "metadata": {
        "colab": {
          "base_uri": "https://localhost:8080/"
        },
        "id": "jSkdo0KAXCAM",
        "outputId": "5c9ed91d-7846-429a-ac99-6d294c878249"
      },
      "execution_count": 13,
      "outputs": [
        {
          "output_type": "stream",
          "name": "stdout",
          "text": [
            "Accuracy Score Poly of : 0.9005\n"
          ]
        }
      ]
    },
    {
      "cell_type": "markdown",
      "source": [
        "* Cross Validation with default RBF Kernel"
      ],
      "metadata": {
        "id": "BoAFNfsLz1-k"
      }
    },
    {
      "cell_type": "code",
      "source": [
        "### create model\n",
        "clf_rbf = SVC(kernel='rbf')\n",
        "### cross-validation evaluation\n",
        "cv_rbf= cross_val_score(clf_rbf, x_kamera_train_vectorized, y_kamera_train, scoring='accuracy', cv=5)\n",
        "### Show CV result\n",
        "print(\"Accuracy Score RBF of : %0.4f\" % (cv_rbf.mean()))"
      ],
      "metadata": {
        "colab": {
          "base_uri": "https://localhost:8080/"
        },
        "id": "TFl4s-wqXQ_1",
        "outputId": "8404fa32-0eae-4a3e-b649-257f9f660f6f"
      },
      "execution_count": 14,
      "outputs": [
        {
          "output_type": "stream",
          "name": "stdout",
          "text": [
            "Accuracy Score RBF of : 0.9747\n"
          ]
        }
      ]
    },
    {
      "cell_type": "markdown",
      "source": [
        "## Tuning Parameter with GridSearchCV"
      ],
      "metadata": {
        "id": "678jI1EfyRCU"
      }
    },
    {
      "cell_type": "markdown",
      "source": [
        "* Linear Kernel"
      ],
      "metadata": {
        "id": "RqtswuNByR9P"
      }
    },
    {
      "cell_type": "code",
      "source": [
        "param_grid = {'C': [0.001, 0.1, 1, 10, 100, 1000],\n",
        "              'kernel': ['linear']\n",
        "             }\n",
        " \n",
        "grid = GridSearchCV(svm.SVC(), param_grid, scoring='accuracy', refit = True, verbose = 3) \n",
        "# fitting the model for grid search\n",
        "grid.fit(x_kamera_train_vectorized, y_kamera_train)\n",
        "\n",
        "selected_kernel_linear = grid.best_params_['kernel']\n",
        "print(\"Selected Kernel: \", selected_kernel_linear)\n",
        "selected_C_linear = grid.best_params_['C']\n",
        "print(\"Selected C: \", selected_C_linear)\n",
        "\n",
        "best_params_linear_HT = grid.best_params_\n",
        "model_looks_linear_HT= grid.best_estimator_\n",
        "print(f'Best Score : {grid.best_score_}')\n",
        "print(\"best estimator: %s\" % (model_looks_linear_HT))"
      ],
      "metadata": {
        "colab": {
          "base_uri": "https://localhost:8080/"
        },
        "id": "mGhe6-voEz8j",
        "outputId": "4a35bcd2-9fa3-4359-f516-6b8c2bd61398"
      },
      "execution_count": 15,
      "outputs": [
        {
          "output_type": "stream",
          "name": "stdout",
          "text": [
            "Fitting 5 folds for each of 6 candidates, totalling 30 fits\n",
            "[CV 1/5] END ............C=0.001, kernel=linear;, score=0.706 total time=   0.9s\n",
            "[CV 2/5] END ............C=0.001, kernel=linear;, score=0.706 total time=   0.9s\n",
            "[CV 3/5] END ............C=0.001, kernel=linear;, score=0.706 total time=   0.9s\n",
            "[CV 4/5] END ............C=0.001, kernel=linear;, score=0.706 total time=   0.9s\n",
            "[CV 5/5] END ............C=0.001, kernel=linear;, score=0.708 total time=   0.9s\n",
            "[CV 1/5] END ..............C=0.1, kernel=linear;, score=0.954 total time=   0.5s\n",
            "[CV 2/5] END ..............C=0.1, kernel=linear;, score=0.948 total time=   0.6s\n",
            "[CV 3/5] END ..............C=0.1, kernel=linear;, score=0.953 total time=   0.6s\n",
            "[CV 4/5] END ..............C=0.1, kernel=linear;, score=0.951 total time=   0.6s\n",
            "[CV 5/5] END ..............C=0.1, kernel=linear;, score=0.941 total time=   0.6s\n",
            "[CV 1/5] END ................C=1, kernel=linear;, score=0.981 total time=   0.4s\n",
            "[CV 2/5] END ................C=1, kernel=linear;, score=0.978 total time=   0.4s\n",
            "[CV 3/5] END ................C=1, kernel=linear;, score=0.981 total time=   0.4s\n",
            "[CV 4/5] END ................C=1, kernel=linear;, score=0.978 total time=   0.4s\n",
            "[CV 5/5] END ................C=1, kernel=linear;, score=0.986 total time=   0.4s\n",
            "[CV 1/5] END ...............C=10, kernel=linear;, score=0.979 total time=   0.4s\n",
            "[CV 2/5] END ...............C=10, kernel=linear;, score=0.978 total time=   0.4s\n",
            "[CV 3/5] END ...............C=10, kernel=linear;, score=0.980 total time=   0.3s\n",
            "[CV 4/5] END ...............C=10, kernel=linear;, score=0.975 total time=   0.3s\n",
            "[CV 5/5] END ...............C=10, kernel=linear;, score=0.988 total time=   0.4s\n",
            "[CV 1/5] END ..............C=100, kernel=linear;, score=0.973 total time=   0.3s\n",
            "[CV 2/5] END ..............C=100, kernel=linear;, score=0.970 total time=   0.3s\n",
            "[CV 3/5] END ..............C=100, kernel=linear;, score=0.981 total time=   0.3s\n",
            "[CV 4/5] END ..............C=100, kernel=linear;, score=0.970 total time=   0.3s\n",
            "[CV 5/5] END ..............C=100, kernel=linear;, score=0.988 total time=   0.4s\n",
            "[CV 1/5] END .............C=1000, kernel=linear;, score=0.973 total time=   0.3s\n",
            "[CV 2/5] END .............C=1000, kernel=linear;, score=0.970 total time=   0.3s\n",
            "[CV 3/5] END .............C=1000, kernel=linear;, score=0.981 total time=   0.3s\n",
            "[CV 4/5] END .............C=1000, kernel=linear;, score=0.970 total time=   0.3s\n",
            "[CV 5/5] END .............C=1000, kernel=linear;, score=0.988 total time=   0.4s\n",
            "Selected Kernel:  linear\n",
            "Selected C:  1\n",
            "Best Score : 0.9807499999999999\n",
            "best estimator: SVC(C=1, kernel='linear')\n"
          ]
        }
      ]
    },
    {
      "cell_type": "markdown",
      "source": [
        "* Polynomial Kernel"
      ],
      "metadata": {
        "id": "zYzh-jrhyxVi"
      }
    },
    {
      "cell_type": "code",
      "source": [
        "param_grid = {'C': [0.001, 0.1, 1, 10, 100, 1000],\n",
        "              'kernel': ['poly'],\n",
        "              'degree':[1, 2, 3, 4, 5, 6],\n",
        "              'gamma' :['auto', 'scale']\n",
        "             }\n",
        " \n",
        "grid = GridSearchCV(svm.SVC(), param_grid, scoring='accuracy', refit = True, verbose = 3) \n",
        "# fitting the model for grid search\n",
        "grid.fit(x_kamera_train_vectorized, y_kamera_train)\n",
        "\n",
        "selected_kernel_poly = grid.best_params_['kernel']\n",
        "print(\"Selected Kernel: \", selected_kernel_poly)\n",
        "selected_C_poly= grid.best_params_['C']\n",
        "print(\"Selected C: \", selected_C_poly)\n",
        "selected_gamma_poly = grid.best_params_['gamma']\n",
        "print(\"Selected Gamma: \", selected_gamma_poly)\n",
        "selected_degree_poly = grid.best_params_['degree']\n",
        "print(\"Selected Degree: \", selected_degree_poly)\n",
        "\n",
        "best_params_poly_HT = grid.best_params_\n",
        "model_looks_poly_HT= grid.best_estimator_\n",
        "\n",
        "print(f'Best Score : {grid.best_score_}')\n",
        "print(\"best estimator: %s\" % (model_looks_poly_HT))"
      ],
      "metadata": {
        "colab": {
          "base_uri": "https://localhost:8080/"
        },
        "id": "kyy2Uaqpy1VZ",
        "outputId": "f2ab17db-46f0-443c-cca8-9cfe67421625"
      },
      "execution_count": 16,
      "outputs": [
        {
          "output_type": "stream",
          "name": "stdout",
          "text": [
            "Fitting 5 folds for each of 72 candidates, totalling 360 fits\n",
            "[CV 1/5] END C=0.001, degree=1, gamma=auto, kernel=poly;, score=0.706 total time=   0.7s\n",
            "[CV 2/5] END C=0.001, degree=1, gamma=auto, kernel=poly;, score=0.706 total time=   0.7s\n",
            "[CV 3/5] END C=0.001, degree=1, gamma=auto, kernel=poly;, score=0.706 total time=   0.7s\n",
            "[CV 4/5] END C=0.001, degree=1, gamma=auto, kernel=poly;, score=0.706 total time=   0.7s\n",
            "[CV 5/5] END C=0.001, degree=1, gamma=auto, kernel=poly;, score=0.708 total time=   0.7s\n",
            "[CV 1/5] END C=0.001, degree=1, gamma=scale, kernel=poly;, score=0.706 total time=   1.3s\n",
            "[CV 2/5] END C=0.001, degree=1, gamma=scale, kernel=poly;, score=0.706 total time=   1.3s\n",
            "[CV 3/5] END C=0.001, degree=1, gamma=scale, kernel=poly;, score=0.706 total time=   1.5s\n",
            "[CV 4/5] END C=0.001, degree=1, gamma=scale, kernel=poly;, score=0.706 total time=   1.5s\n",
            "[CV 5/5] END C=0.001, degree=1, gamma=scale, kernel=poly;, score=0.708 total time=   1.6s\n",
            "[CV 1/5] END C=0.001, degree=2, gamma=auto, kernel=poly;, score=0.706 total time=   1.3s\n",
            "[CV 2/5] END C=0.001, degree=2, gamma=auto, kernel=poly;, score=0.706 total time=   1.2s\n",
            "[CV 3/5] END C=0.001, degree=2, gamma=auto, kernel=poly;, score=0.706 total time=   1.1s\n",
            "[CV 4/5] END C=0.001, degree=2, gamma=auto, kernel=poly;, score=0.706 total time=   1.4s\n",
            "[CV 5/5] END C=0.001, degree=2, gamma=auto, kernel=poly;, score=0.708 total time=   1.4s\n",
            "[CV 1/5] END C=0.001, degree=2, gamma=scale, kernel=poly;, score=0.706 total time=   2.0s\n",
            "[CV 2/5] END C=0.001, degree=2, gamma=scale, kernel=poly;, score=0.706 total time=   1.6s\n",
            "[CV 3/5] END C=0.001, degree=2, gamma=scale, kernel=poly;, score=0.706 total time=   1.8s\n",
            "[CV 4/5] END C=0.001, degree=2, gamma=scale, kernel=poly;, score=0.706 total time=   0.9s\n",
            "[CV 5/5] END C=0.001, degree=2, gamma=scale, kernel=poly;, score=0.708 total time=   1.0s\n",
            "[CV 1/5] END C=0.001, degree=3, gamma=auto, kernel=poly;, score=0.706 total time=   0.7s\n",
            "[CV 2/5] END C=0.001, degree=3, gamma=auto, kernel=poly;, score=0.706 total time=   0.7s\n",
            "[CV 3/5] END C=0.001, degree=3, gamma=auto, kernel=poly;, score=0.706 total time=   0.7s\n",
            "[CV 4/5] END C=0.001, degree=3, gamma=auto, kernel=poly;, score=0.706 total time=   0.7s\n",
            "[CV 5/5] END C=0.001, degree=3, gamma=auto, kernel=poly;, score=0.708 total time=   0.7s\n",
            "[CV 1/5] END C=0.001, degree=3, gamma=scale, kernel=poly;, score=0.706 total time=   0.9s\n",
            "[CV 2/5] END C=0.001, degree=3, gamma=scale, kernel=poly;, score=0.706 total time=   1.0s\n",
            "[CV 3/5] END C=0.001, degree=3, gamma=scale, kernel=poly;, score=0.706 total time=   1.0s\n",
            "[CV 4/5] END C=0.001, degree=3, gamma=scale, kernel=poly;, score=0.706 total time=   1.0s\n",
            "[CV 5/5] END C=0.001, degree=3, gamma=scale, kernel=poly;, score=0.708 total time=   1.0s\n",
            "[CV 1/5] END C=0.001, degree=4, gamma=auto, kernel=poly;, score=0.706 total time=   1.4s\n",
            "[CV 2/5] END C=0.001, degree=4, gamma=auto, kernel=poly;, score=0.706 total time=   1.0s\n",
            "[CV 3/5] END C=0.001, degree=4, gamma=auto, kernel=poly;, score=0.706 total time=   0.7s\n",
            "[CV 4/5] END C=0.001, degree=4, gamma=auto, kernel=poly;, score=0.706 total time=   0.7s\n",
            "[CV 5/5] END C=0.001, degree=4, gamma=auto, kernel=poly;, score=0.708 total time=   0.7s\n",
            "[CV 1/5] END C=0.001, degree=4, gamma=scale, kernel=poly;, score=0.706 total time=   1.0s\n",
            "[CV 2/5] END C=0.001, degree=4, gamma=scale, kernel=poly;, score=0.706 total time=   1.5s\n",
            "[CV 3/5] END C=0.001, degree=4, gamma=scale, kernel=poly;, score=0.706 total time=   1.5s\n",
            "[CV 4/5] END C=0.001, degree=4, gamma=scale, kernel=poly;, score=0.706 total time=   1.0s\n",
            "[CV 5/5] END C=0.001, degree=4, gamma=scale, kernel=poly;, score=0.708 total time=   1.0s\n",
            "[CV 1/5] END C=0.001, degree=5, gamma=auto, kernel=poly;, score=0.706 total time=   0.7s\n",
            "[CV 2/5] END C=0.001, degree=5, gamma=auto, kernel=poly;, score=0.706 total time=   0.8s\n",
            "[CV 3/5] END C=0.001, degree=5, gamma=auto, kernel=poly;, score=0.706 total time=   0.9s\n",
            "[CV 4/5] END C=0.001, degree=5, gamma=auto, kernel=poly;, score=0.706 total time=   1.1s\n",
            "[CV 5/5] END C=0.001, degree=5, gamma=auto, kernel=poly;, score=0.708 total time=   0.9s\n",
            "[CV 1/5] END C=0.001, degree=5, gamma=scale, kernel=poly;, score=0.706 total time=   1.3s\n",
            "[CV 2/5] END C=0.001, degree=5, gamma=scale, kernel=poly;, score=0.706 total time=   1.2s\n",
            "[CV 3/5] END C=0.001, degree=5, gamma=scale, kernel=poly;, score=0.706 total time=   1.2s\n",
            "[CV 4/5] END C=0.001, degree=5, gamma=scale, kernel=poly;, score=0.706 total time=   1.3s\n",
            "[CV 5/5] END C=0.001, degree=5, gamma=scale, kernel=poly;, score=0.708 total time=   1.0s\n",
            "[CV 1/5] END C=0.001, degree=6, gamma=auto, kernel=poly;, score=0.706 total time=   0.7s\n",
            "[CV 2/5] END C=0.001, degree=6, gamma=auto, kernel=poly;, score=0.706 total time=   0.7s\n",
            "[CV 3/5] END C=0.001, degree=6, gamma=auto, kernel=poly;, score=0.706 total time=   0.7s\n",
            "[CV 4/5] END C=0.001, degree=6, gamma=auto, kernel=poly;, score=0.706 total time=   0.7s\n",
            "[CV 5/5] END C=0.001, degree=6, gamma=auto, kernel=poly;, score=0.708 total time=   0.7s\n",
            "[CV 1/5] END C=0.001, degree=6, gamma=scale, kernel=poly;, score=0.706 total time=   1.0s\n",
            "[CV 2/5] END C=0.001, degree=6, gamma=scale, kernel=poly;, score=0.706 total time=   1.0s\n",
            "[CV 3/5] END C=0.001, degree=6, gamma=scale, kernel=poly;, score=0.706 total time=   1.0s\n",
            "[CV 4/5] END C=0.001, degree=6, gamma=scale, kernel=poly;, score=0.706 total time=   1.0s\n",
            "[CV 5/5] END C=0.001, degree=6, gamma=scale, kernel=poly;, score=0.708 total time=   1.0s\n",
            "[CV 1/5] END C=0.1, degree=1, gamma=auto, kernel=poly;, score=0.706 total time=   0.9s\n",
            "[CV 2/5] END C=0.1, degree=1, gamma=auto, kernel=poly;, score=0.706 total time=   0.9s\n",
            "[CV 3/5] END C=0.1, degree=1, gamma=auto, kernel=poly;, score=0.706 total time=   0.9s\n",
            "[CV 4/5] END C=0.1, degree=1, gamma=auto, kernel=poly;, score=0.706 total time=   0.9s\n",
            "[CV 5/5] END C=0.1, degree=1, gamma=auto, kernel=poly;, score=0.708 total time=   0.9s\n",
            "[CV 1/5] END C=0.1, degree=1, gamma=scale, kernel=poly;, score=0.954 total time=   0.6s\n",
            "[CV 2/5] END C=0.1, degree=1, gamma=scale, kernel=poly;, score=0.948 total time=   0.6s\n",
            "[CV 3/5] END C=0.1, degree=1, gamma=scale, kernel=poly;, score=0.953 total time=   0.6s\n",
            "[CV 4/5] END C=0.1, degree=1, gamma=scale, kernel=poly;, score=0.951 total time=   0.6s\n",
            "[CV 5/5] END C=0.1, degree=1, gamma=scale, kernel=poly;, score=0.941 total time=   0.6s\n",
            "[CV 1/5] END C=0.1, degree=2, gamma=auto, kernel=poly;, score=0.706 total time=   0.7s\n",
            "[CV 2/5] END C=0.1, degree=2, gamma=auto, kernel=poly;, score=0.706 total time=   0.7s\n",
            "[CV 3/5] END C=0.1, degree=2, gamma=auto, kernel=poly;, score=0.706 total time=   0.7s\n",
            "[CV 4/5] END C=0.1, degree=2, gamma=auto, kernel=poly;, score=0.706 total time=   0.7s\n",
            "[CV 5/5] END C=0.1, degree=2, gamma=auto, kernel=poly;, score=0.708 total time=   0.7s\n",
            "[CV 1/5] END C=0.1, degree=2, gamma=scale, kernel=poly;, score=0.830 total time=   0.9s\n",
            "[CV 2/5] END C=0.1, degree=2, gamma=scale, kernel=poly;, score=0.796 total time=   0.9s\n",
            "[CV 3/5] END C=0.1, degree=2, gamma=scale, kernel=poly;, score=0.819 total time=   1.0s\n",
            "[CV 4/5] END C=0.1, degree=2, gamma=scale, kernel=poly;, score=0.796 total time=   0.9s\n",
            "[CV 5/5] END C=0.1, degree=2, gamma=scale, kernel=poly;, score=0.809 total time=   0.9s\n",
            "[CV 1/5] END C=0.1, degree=3, gamma=auto, kernel=poly;, score=0.706 total time=   0.7s\n",
            "[CV 2/5] END C=0.1, degree=3, gamma=auto, kernel=poly;, score=0.706 total time=   0.7s\n",
            "[CV 3/5] END C=0.1, degree=3, gamma=auto, kernel=poly;, score=0.706 total time=   0.7s\n",
            "[CV 4/5] END C=0.1, degree=3, gamma=auto, kernel=poly;, score=0.706 total time=   0.7s\n",
            "[CV 5/5] END C=0.1, degree=3, gamma=auto, kernel=poly;, score=0.708 total time=   0.7s\n",
            "[CV 1/5] END C=0.1, degree=3, gamma=scale, kernel=poly;, score=0.767 total time=   1.2s\n",
            "[CV 2/5] END C=0.1, degree=3, gamma=scale, kernel=poly;, score=0.736 total time=   1.2s\n",
            "[CV 3/5] END C=0.1, degree=3, gamma=scale, kernel=poly;, score=0.752 total time=   1.2s\n",
            "[CV 4/5] END C=0.1, degree=3, gamma=scale, kernel=poly;, score=0.752 total time=   1.2s\n",
            "[CV 5/5] END C=0.1, degree=3, gamma=scale, kernel=poly;, score=0.755 total time=   1.2s\n",
            "[CV 1/5] END C=0.1, degree=4, gamma=auto, kernel=poly;, score=0.706 total time=   0.7s\n",
            "[CV 2/5] END C=0.1, degree=4, gamma=auto, kernel=poly;, score=0.706 total time=   0.7s\n",
            "[CV 3/5] END C=0.1, degree=4, gamma=auto, kernel=poly;, score=0.706 total time=   0.7s\n",
            "[CV 4/5] END C=0.1, degree=4, gamma=auto, kernel=poly;, score=0.706 total time=   0.7s\n",
            "[CV 5/5] END C=0.1, degree=4, gamma=auto, kernel=poly;, score=0.708 total time=   0.7s\n",
            "[CV 1/5] END C=0.1, degree=4, gamma=scale, kernel=poly;, score=0.755 total time=   1.6s\n",
            "[CV 2/5] END C=0.1, degree=4, gamma=scale, kernel=poly;, score=0.735 total time=   1.6s\n",
            "[CV 3/5] END C=0.1, degree=4, gamma=scale, kernel=poly;, score=0.741 total time=   1.6s\n",
            "[CV 4/5] END C=0.1, degree=4, gamma=scale, kernel=poly;, score=0.739 total time=   1.6s\n",
            "[CV 5/5] END C=0.1, degree=4, gamma=scale, kernel=poly;, score=0.740 total time=   1.6s\n",
            "[CV 1/5] END C=0.1, degree=5, gamma=auto, kernel=poly;, score=0.706 total time=   0.7s\n",
            "[CV 2/5] END C=0.1, degree=5, gamma=auto, kernel=poly;, score=0.706 total time=   0.7s\n",
            "[CV 3/5] END C=0.1, degree=5, gamma=auto, kernel=poly;, score=0.706 total time=   0.7s\n",
            "[CV 4/5] END C=0.1, degree=5, gamma=auto, kernel=poly;, score=0.706 total time=   0.7s\n",
            "[CV 5/5] END C=0.1, degree=5, gamma=auto, kernel=poly;, score=0.708 total time=   0.7s\n",
            "[CV 1/5] END C=0.1, degree=5, gamma=scale, kernel=poly;, score=0.751 total time=   1.8s\n",
            "[CV 2/5] END C=0.1, degree=5, gamma=scale, kernel=poly;, score=0.731 total time=   2.6s\n",
            "[CV 3/5] END C=0.1, degree=5, gamma=scale, kernel=poly;, score=0.736 total time=   1.6s\n",
            "[CV 4/5] END C=0.1, degree=5, gamma=scale, kernel=poly;, score=0.736 total time=   1.6s\n",
            "[CV 5/5] END C=0.1, degree=5, gamma=scale, kernel=poly;, score=0.734 total time=   1.6s\n",
            "[CV 1/5] END C=0.1, degree=6, gamma=auto, kernel=poly;, score=0.706 total time=   0.7s\n",
            "[CV 2/5] END C=0.1, degree=6, gamma=auto, kernel=poly;, score=0.706 total time=   0.7s\n",
            "[CV 3/5] END C=0.1, degree=6, gamma=auto, kernel=poly;, score=0.706 total time=   0.7s\n",
            "[CV 4/5] END C=0.1, degree=6, gamma=auto, kernel=poly;, score=0.706 total time=   0.7s\n",
            "[CV 5/5] END C=0.1, degree=6, gamma=auto, kernel=poly;, score=0.708 total time=   0.7s\n",
            "[CV 1/5] END C=0.1, degree=6, gamma=scale, kernel=poly;, score=0.749 total time=   1.7s\n",
            "[CV 2/5] END C=0.1, degree=6, gamma=scale, kernel=poly;, score=0.731 total time=   1.7s\n",
            "[CV 3/5] END C=0.1, degree=6, gamma=scale, kernel=poly;, score=0.731 total time=   1.7s\n",
            "[CV 4/5] END C=0.1, degree=6, gamma=scale, kernel=poly;, score=0.729 total time=   1.7s\n",
            "[CV 5/5] END C=0.1, degree=6, gamma=scale, kernel=poly;, score=0.730 total time=   1.7s\n",
            "[CV 1/5] END C=1, degree=1, gamma=auto, kernel=poly;, score=0.706 total time=   1.0s\n",
            "[CV 2/5] END C=1, degree=1, gamma=auto, kernel=poly;, score=0.706 total time=   1.0s\n",
            "[CV 3/5] END C=1, degree=1, gamma=auto, kernel=poly;, score=0.706 total time=   1.0s\n",
            "[CV 4/5] END C=1, degree=1, gamma=auto, kernel=poly;, score=0.706 total time=   1.0s\n",
            "[CV 5/5] END C=1, degree=1, gamma=auto, kernel=poly;, score=0.708 total time=   1.0s\n",
            "[CV 1/5] END C=1, degree=1, gamma=scale, kernel=poly;, score=0.981 total time=   0.4s\n",
            "[CV 2/5] END C=1, degree=1, gamma=scale, kernel=poly;, score=0.978 total time=   0.4s\n",
            "[CV 3/5] END C=1, degree=1, gamma=scale, kernel=poly;, score=0.981 total time=   0.4s\n",
            "[CV 4/5] END C=1, degree=1, gamma=scale, kernel=poly;, score=0.978 total time=   0.4s\n",
            "[CV 5/5] END C=1, degree=1, gamma=scale, kernel=poly;, score=0.986 total time=   0.4s\n",
            "[CV 1/5] END C=1, degree=2, gamma=auto, kernel=poly;, score=0.706 total time=   0.7s\n",
            "[CV 2/5] END C=1, degree=2, gamma=auto, kernel=poly;, score=0.706 total time=   0.7s\n",
            "[CV 3/5] END C=1, degree=2, gamma=auto, kernel=poly;, score=0.706 total time=   0.7s\n",
            "[CV 4/5] END C=1, degree=2, gamma=auto, kernel=poly;, score=0.706 total time=   0.7s\n",
            "[CV 5/5] END C=1, degree=2, gamma=auto, kernel=poly;, score=0.708 total time=   0.7s\n",
            "[CV 1/5] END C=1, degree=2, gamma=scale, kernel=poly;, score=0.958 total time=   0.8s\n",
            "[CV 2/5] END C=1, degree=2, gamma=scale, kernel=poly;, score=0.961 total time=   0.8s\n",
            "[CV 3/5] END C=1, degree=2, gamma=scale, kernel=poly;, score=0.961 total time=   0.9s\n",
            "[CV 4/5] END C=1, degree=2, gamma=scale, kernel=poly;, score=0.965 total time=   0.8s\n",
            "[CV 5/5] END C=1, degree=2, gamma=scale, kernel=poly;, score=0.959 total time=   0.9s\n",
            "[CV 1/5] END C=1, degree=3, gamma=auto, kernel=poly;, score=0.706 total time=   0.7s\n",
            "[CV 2/5] END C=1, degree=3, gamma=auto, kernel=poly;, score=0.706 total time=   0.7s\n",
            "[CV 3/5] END C=1, degree=3, gamma=auto, kernel=poly;, score=0.706 total time=   0.7s\n",
            "[CV 4/5] END C=1, degree=3, gamma=auto, kernel=poly;, score=0.706 total time=   0.7s\n",
            "[CV 5/5] END C=1, degree=3, gamma=auto, kernel=poly;, score=0.708 total time=   0.7s\n",
            "[CV 1/5] END C=1, degree=3, gamma=scale, kernel=poly;, score=0.916 total time=   1.2s\n",
            "[CV 2/5] END C=1, degree=3, gamma=scale, kernel=poly;, score=0.885 total time=   1.2s\n",
            "[CV 3/5] END C=1, degree=3, gamma=scale, kernel=poly;, score=0.912 total time=   1.3s\n",
            "[CV 4/5] END C=1, degree=3, gamma=scale, kernel=poly;, score=0.885 total time=   1.2s\n",
            "[CV 5/5] END C=1, degree=3, gamma=scale, kernel=poly;, score=0.904 total time=   1.2s\n",
            "[CV 1/5] END C=1, degree=4, gamma=auto, kernel=poly;, score=0.706 total time=   0.7s\n",
            "[CV 2/5] END C=1, degree=4, gamma=auto, kernel=poly;, score=0.706 total time=   0.7s\n",
            "[CV 3/5] END C=1, degree=4, gamma=auto, kernel=poly;, score=0.706 total time=   0.7s\n",
            "[CV 4/5] END C=1, degree=4, gamma=auto, kernel=poly;, score=0.706 total time=   0.7s\n",
            "[CV 5/5] END C=1, degree=4, gamma=auto, kernel=poly;, score=0.708 total time=   0.8s\n",
            "[CV 1/5] END C=1, degree=4, gamma=scale, kernel=poly;, score=0.838 total time=   1.8s\n",
            "[CV 2/5] END C=1, degree=4, gamma=scale, kernel=poly;, score=0.807 total time=   1.8s\n",
            "[CV 3/5] END C=1, degree=4, gamma=scale, kernel=poly;, score=0.830 total time=   2.2s\n",
            "[CV 4/5] END C=1, degree=4, gamma=scale, kernel=poly;, score=0.805 total time=   2.1s\n",
            "[CV 5/5] END C=1, degree=4, gamma=scale, kernel=poly;, score=0.828 total time=   1.8s\n",
            "[CV 1/5] END C=1, degree=5, gamma=auto, kernel=poly;, score=0.706 total time=   0.7s\n",
            "[CV 2/5] END C=1, degree=5, gamma=auto, kernel=poly;, score=0.706 total time=   0.7s\n",
            "[CV 3/5] END C=1, degree=5, gamma=auto, kernel=poly;, score=0.706 total time=   0.7s\n",
            "[CV 4/5] END C=1, degree=5, gamma=auto, kernel=poly;, score=0.706 total time=   0.7s\n",
            "[CV 5/5] END C=1, degree=5, gamma=auto, kernel=poly;, score=0.708 total time=   0.7s\n",
            "[CV 1/5] END C=1, degree=5, gamma=scale, kernel=poly;, score=0.804 total time=   1.9s\n",
            "[CV 2/5] END C=1, degree=5, gamma=scale, kernel=poly;, score=0.779 total time=   1.9s\n",
            "[CV 3/5] END C=1, degree=5, gamma=scale, kernel=poly;, score=0.801 total time=   1.9s\n",
            "[CV 4/5] END C=1, degree=5, gamma=scale, kernel=poly;, score=0.782 total time=   1.9s\n",
            "[CV 5/5] END C=1, degree=5, gamma=scale, kernel=poly;, score=0.794 total time=   1.9s\n",
            "[CV 1/5] END C=1, degree=6, gamma=auto, kernel=poly;, score=0.706 total time=   0.7s\n",
            "[CV 2/5] END C=1, degree=6, gamma=auto, kernel=poly;, score=0.706 total time=   0.7s\n",
            "[CV 3/5] END C=1, degree=6, gamma=auto, kernel=poly;, score=0.706 total time=   0.7s\n",
            "[CV 4/5] END C=1, degree=6, gamma=auto, kernel=poly;, score=0.706 total time=   0.7s\n",
            "[CV 5/5] END C=1, degree=6, gamma=auto, kernel=poly;, score=0.708 total time=   0.7s\n",
            "[CV 1/5] END C=1, degree=6, gamma=scale, kernel=poly;, score=0.789 total time=   1.9s\n",
            "[CV 2/5] END C=1, degree=6, gamma=scale, kernel=poly;, score=0.762 total time=   1.9s\n",
            "[CV 3/5] END C=1, degree=6, gamma=scale, kernel=poly;, score=0.790 total time=   1.9s\n",
            "[CV 4/5] END C=1, degree=6, gamma=scale, kernel=poly;, score=0.772 total time=   1.9s\n",
            "[CV 5/5] END C=1, degree=6, gamma=scale, kernel=poly;, score=0.784 total time=   1.9s\n",
            "[CV 1/5] END C=10, degree=1, gamma=auto, kernel=poly;, score=0.706 total time=   0.9s\n",
            "[CV 2/5] END C=10, degree=1, gamma=auto, kernel=poly;, score=0.706 total time=   0.9s\n",
            "[CV 3/5] END C=10, degree=1, gamma=auto, kernel=poly;, score=0.706 total time=   1.0s\n",
            "[CV 4/5] END C=10, degree=1, gamma=auto, kernel=poly;, score=0.706 total time=   0.9s\n",
            "[CV 5/5] END C=10, degree=1, gamma=auto, kernel=poly;, score=0.708 total time=   0.9s\n",
            "[CV 1/5] END C=10, degree=1, gamma=scale, kernel=poly;, score=0.979 total time=   0.4s\n",
            "[CV 2/5] END C=10, degree=1, gamma=scale, kernel=poly;, score=0.978 total time=   0.4s\n",
            "[CV 3/5] END C=10, degree=1, gamma=scale, kernel=poly;, score=0.980 total time=   0.3s\n",
            "[CV 4/5] END C=10, degree=1, gamma=scale, kernel=poly;, score=0.975 total time=   0.4s\n",
            "[CV 5/5] END C=10, degree=1, gamma=scale, kernel=poly;, score=0.988 total time=   0.4s\n",
            "[CV 1/5] END C=10, degree=2, gamma=auto, kernel=poly;, score=0.706 total time=   0.7s\n",
            "[CV 2/5] END C=10, degree=2, gamma=auto, kernel=poly;, score=0.706 total time=   0.7s\n",
            "[CV 3/5] END C=10, degree=2, gamma=auto, kernel=poly;, score=0.706 total time=   0.7s\n",
            "[CV 4/5] END C=10, degree=2, gamma=auto, kernel=poly;, score=0.706 total time=   0.7s\n",
            "[CV 5/5] END C=10, degree=2, gamma=auto, kernel=poly;, score=0.708 total time=   0.7s\n",
            "[CV 1/5] END C=10, degree=2, gamma=scale, kernel=poly;, score=0.961 total time=   0.8s\n",
            "[CV 2/5] END C=10, degree=2, gamma=scale, kernel=poly;, score=0.961 total time=   0.8s\n",
            "[CV 3/5] END C=10, degree=2, gamma=scale, kernel=poly;, score=0.966 total time=   0.9s\n",
            "[CV 4/5] END C=10, degree=2, gamma=scale, kernel=poly;, score=0.966 total time=   0.8s\n",
            "[CV 5/5] END C=10, degree=2, gamma=scale, kernel=poly;, score=0.966 total time=   0.8s\n",
            "[CV 1/5] END C=10, degree=3, gamma=auto, kernel=poly;, score=0.706 total time=   0.7s\n",
            "[CV 2/5] END C=10, degree=3, gamma=auto, kernel=poly;, score=0.706 total time=   0.7s\n",
            "[CV 3/5] END C=10, degree=3, gamma=auto, kernel=poly;, score=0.706 total time=   0.7s\n",
            "[CV 4/5] END C=10, degree=3, gamma=auto, kernel=poly;, score=0.706 total time=   0.7s\n",
            "[CV 5/5] END C=10, degree=3, gamma=auto, kernel=poly;, score=0.708 total time=   0.7s\n",
            "[CV 1/5] END C=10, degree=3, gamma=scale, kernel=poly;, score=0.924 total time=   1.5s\n",
            "[CV 2/5] END C=10, degree=3, gamma=scale, kernel=poly;, score=0.897 total time=   1.5s\n",
            "[CV 3/5] END C=10, degree=3, gamma=scale, kernel=poly;, score=0.920 total time=   1.5s\n",
            "[CV 4/5] END C=10, degree=3, gamma=scale, kernel=poly;, score=0.889 total time=   1.5s\n",
            "[CV 5/5] END C=10, degree=3, gamma=scale, kernel=poly;, score=0.910 total time=   1.5s\n",
            "[CV 1/5] END C=10, degree=4, gamma=auto, kernel=poly;, score=0.706 total time=   0.8s\n",
            "[CV 2/5] END C=10, degree=4, gamma=auto, kernel=poly;, score=0.706 total time=   0.7s\n",
            "[CV 3/5] END C=10, degree=4, gamma=auto, kernel=poly;, score=0.706 total time=   0.7s\n",
            "[CV 4/5] END C=10, degree=4, gamma=auto, kernel=poly;, score=0.706 total time=   0.8s\n",
            "[CV 5/5] END C=10, degree=4, gamma=auto, kernel=poly;, score=0.708 total time=   0.8s\n",
            "[CV 1/5] END C=10, degree=4, gamma=scale, kernel=poly;, score=0.855 total time=   1.8s\n",
            "[CV 2/5] END C=10, degree=4, gamma=scale, kernel=poly;, score=0.819 total time=   1.8s\n",
            "[CV 3/5] END C=10, degree=4, gamma=scale, kernel=poly;, score=0.858 total time=   1.8s\n",
            "[CV 4/5] END C=10, degree=4, gamma=scale, kernel=poly;, score=0.820 total time=   1.8s\n",
            "[CV 5/5] END C=10, degree=4, gamma=scale, kernel=poly;, score=0.849 total time=   1.8s\n",
            "[CV 1/5] END C=10, degree=5, gamma=auto, kernel=poly;, score=0.706 total time=   0.7s\n",
            "[CV 2/5] END C=10, degree=5, gamma=auto, kernel=poly;, score=0.706 total time=   0.7s\n",
            "[CV 3/5] END C=10, degree=5, gamma=auto, kernel=poly;, score=0.706 total time=   0.7s\n",
            "[CV 4/5] END C=10, degree=5, gamma=auto, kernel=poly;, score=0.706 total time=   0.7s\n",
            "[CV 5/5] END C=10, degree=5, gamma=auto, kernel=poly;, score=0.708 total time=   0.7s\n",
            "[CV 1/5] END C=10, degree=5, gamma=scale, kernel=poly;, score=0.816 total time=   2.0s\n",
            "[CV 2/5] END C=10, degree=5, gamma=scale, kernel=poly;, score=0.791 total time=   2.0s\n",
            "[CV 3/5] END C=10, degree=5, gamma=scale, kernel=poly;, score=0.818 total time=   2.0s\n",
            "[CV 4/5] END C=10, degree=5, gamma=scale, kernel=poly;, score=0.791 total time=   1.9s\n",
            "[CV 5/5] END C=10, degree=5, gamma=scale, kernel=poly;, score=0.805 total time=   1.9s\n",
            "[CV 1/5] END C=10, degree=6, gamma=auto, kernel=poly;, score=0.706 total time=   0.7s\n",
            "[CV 2/5] END C=10, degree=6, gamma=auto, kernel=poly;, score=0.706 total time=   0.7s\n",
            "[CV 3/5] END C=10, degree=6, gamma=auto, kernel=poly;, score=0.706 total time=   0.7s\n",
            "[CV 4/5] END C=10, degree=6, gamma=auto, kernel=poly;, score=0.706 total time=   0.7s\n",
            "[CV 5/5] END C=10, degree=6, gamma=auto, kernel=poly;, score=0.708 total time=   0.7s\n",
            "[CV 1/5] END C=10, degree=6, gamma=scale, kernel=poly;, score=0.797 total time=   2.0s\n",
            "[CV 2/5] END C=10, degree=6, gamma=scale, kernel=poly;, score=0.772 total time=   1.9s\n",
            "[CV 3/5] END C=10, degree=6, gamma=scale, kernel=poly;, score=0.800 total time=   2.0s\n",
            "[CV 4/5] END C=10, degree=6, gamma=scale, kernel=poly;, score=0.781 total time=   2.0s\n",
            "[CV 5/5] END C=10, degree=6, gamma=scale, kernel=poly;, score=0.789 total time=   2.0s\n",
            "[CV 1/5] END C=100, degree=1, gamma=auto, kernel=poly;, score=0.920 total time=   0.7s\n",
            "[CV 2/5] END C=100, degree=1, gamma=auto, kernel=poly;, score=0.916 total time=   0.7s\n",
            "[CV 3/5] END C=100, degree=1, gamma=auto, kernel=poly;, score=0.900 total time=   0.8s\n",
            "[CV 4/5] END C=100, degree=1, gamma=auto, kernel=poly;, score=0.912 total time=   0.7s\n",
            "[CV 5/5] END C=100, degree=1, gamma=auto, kernel=poly;, score=0.897 total time=   0.7s\n",
            "[CV 1/5] END C=100, degree=1, gamma=scale, kernel=poly;, score=0.973 total time=   0.3s\n",
            "[CV 2/5] END C=100, degree=1, gamma=scale, kernel=poly;, score=0.970 total time=   0.3s\n",
            "[CV 3/5] END C=100, degree=1, gamma=scale, kernel=poly;, score=0.981 total time=   0.3s\n",
            "[CV 4/5] END C=100, degree=1, gamma=scale, kernel=poly;, score=0.970 total time=   0.3s\n",
            "[CV 5/5] END C=100, degree=1, gamma=scale, kernel=poly;, score=0.988 total time=   0.4s\n",
            "[CV 1/5] END C=100, degree=2, gamma=auto, kernel=poly;, score=0.706 total time=   0.8s\n",
            "[CV 2/5] END C=100, degree=2, gamma=auto, kernel=poly;, score=0.706 total time=   0.8s\n",
            "[CV 3/5] END C=100, degree=2, gamma=auto, kernel=poly;, score=0.706 total time=   0.8s\n",
            "[CV 4/5] END C=100, degree=2, gamma=auto, kernel=poly;, score=0.706 total time=   0.8s\n",
            "[CV 5/5] END C=100, degree=2, gamma=auto, kernel=poly;, score=0.708 total time=   0.8s\n",
            "[CV 1/5] END C=100, degree=2, gamma=scale, kernel=poly;, score=0.961 total time=   0.8s\n",
            "[CV 2/5] END C=100, degree=2, gamma=scale, kernel=poly;, score=0.961 total time=   0.8s\n",
            "[CV 3/5] END C=100, degree=2, gamma=scale, kernel=poly;, score=0.966 total time=   0.9s\n",
            "[CV 4/5] END C=100, degree=2, gamma=scale, kernel=poly;, score=0.966 total time=   0.8s\n",
            "[CV 5/5] END C=100, degree=2, gamma=scale, kernel=poly;, score=0.966 total time=   0.8s\n",
            "[CV 1/5] END C=100, degree=3, gamma=auto, kernel=poly;, score=0.706 total time=   0.7s\n",
            "[CV 2/5] END C=100, degree=3, gamma=auto, kernel=poly;, score=0.706 total time=   0.7s\n",
            "[CV 3/5] END C=100, degree=3, gamma=auto, kernel=poly;, score=0.706 total time=   0.8s\n",
            "[CV 4/5] END C=100, degree=3, gamma=auto, kernel=poly;, score=0.706 total time=   0.9s\n",
            "[CV 5/5] END C=100, degree=3, gamma=auto, kernel=poly;, score=0.708 total time=   0.9s\n",
            "[CV 1/5] END C=100, degree=3, gamma=scale, kernel=poly;, score=0.924 total time=   1.9s\n",
            "[CV 2/5] END C=100, degree=3, gamma=scale, kernel=poly;, score=0.897 total time=   2.1s\n",
            "[CV 3/5] END C=100, degree=3, gamma=scale, kernel=poly;, score=0.920 total time=   1.9s\n",
            "[CV 4/5] END C=100, degree=3, gamma=scale, kernel=poly;, score=0.889 total time=   1.6s\n",
            "[CV 5/5] END C=100, degree=3, gamma=scale, kernel=poly;, score=0.910 total time=   1.5s\n",
            "[CV 1/5] END C=100, degree=4, gamma=auto, kernel=poly;, score=0.706 total time=   0.7s\n",
            "[CV 2/5] END C=100, degree=4, gamma=auto, kernel=poly;, score=0.706 total time=   0.7s\n",
            "[CV 3/5] END C=100, degree=4, gamma=auto, kernel=poly;, score=0.706 total time=   0.8s\n",
            "[CV 4/5] END C=100, degree=4, gamma=auto, kernel=poly;, score=0.706 total time=   0.7s\n",
            "[CV 5/5] END C=100, degree=4, gamma=auto, kernel=poly;, score=0.708 total time=   0.8s\n",
            "[CV 1/5] END C=100, degree=4, gamma=scale, kernel=poly;, score=0.855 total time=   1.8s\n",
            "[CV 2/5] END C=100, degree=4, gamma=scale, kernel=poly;, score=0.819 total time=   1.8s\n",
            "[CV 3/5] END C=100, degree=4, gamma=scale, kernel=poly;, score=0.858 total time=   1.8s\n",
            "[CV 4/5] END C=100, degree=4, gamma=scale, kernel=poly;, score=0.820 total time=   1.8s\n",
            "[CV 5/5] END C=100, degree=4, gamma=scale, kernel=poly;, score=0.849 total time=   1.8s\n",
            "[CV 1/5] END C=100, degree=5, gamma=auto, kernel=poly;, score=0.706 total time=   0.7s\n",
            "[CV 2/5] END C=100, degree=5, gamma=auto, kernel=poly;, score=0.706 total time=   0.7s\n",
            "[CV 3/5] END C=100, degree=5, gamma=auto, kernel=poly;, score=0.706 total time=   0.7s\n",
            "[CV 4/5] END C=100, degree=5, gamma=auto, kernel=poly;, score=0.706 total time=   0.7s\n",
            "[CV 5/5] END C=100, degree=5, gamma=auto, kernel=poly;, score=0.708 total time=   0.7s\n",
            "[CV 1/5] END C=100, degree=5, gamma=scale, kernel=poly;, score=0.816 total time=   2.0s\n",
            "[CV 2/5] END C=100, degree=5, gamma=scale, kernel=poly;, score=0.791 total time=   2.0s\n",
            "[CV 3/5] END C=100, degree=5, gamma=scale, kernel=poly;, score=0.818 total time=   2.0s\n",
            "[CV 4/5] END C=100, degree=5, gamma=scale, kernel=poly;, score=0.791 total time=   1.9s\n",
            "[CV 5/5] END C=100, degree=5, gamma=scale, kernel=poly;, score=0.805 total time=   2.0s\n",
            "[CV 1/5] END C=100, degree=6, gamma=auto, kernel=poly;, score=0.706 total time=   0.7s\n",
            "[CV 2/5] END C=100, degree=6, gamma=auto, kernel=poly;, score=0.706 total time=   0.7s\n",
            "[CV 3/5] END C=100, degree=6, gamma=auto, kernel=poly;, score=0.706 total time=   0.7s\n",
            "[CV 4/5] END C=100, degree=6, gamma=auto, kernel=poly;, score=0.706 total time=   0.7s\n",
            "[CV 5/5] END C=100, degree=6, gamma=auto, kernel=poly;, score=0.708 total time=   0.7s\n",
            "[CV 1/5] END C=100, degree=6, gamma=scale, kernel=poly;, score=0.797 total time=   2.0s\n",
            "[CV 2/5] END C=100, degree=6, gamma=scale, kernel=poly;, score=0.772 total time=   2.0s\n",
            "[CV 3/5] END C=100, degree=6, gamma=scale, kernel=poly;, score=0.800 total time=   2.0s\n",
            "[CV 4/5] END C=100, degree=6, gamma=scale, kernel=poly;, score=0.781 total time=   1.9s\n",
            "[CV 5/5] END C=100, degree=6, gamma=scale, kernel=poly;, score=0.789 total time=   2.0s\n",
            "[CV 1/5] END C=1000, degree=1, gamma=auto, kernel=poly;, score=0.973 total time=   0.4s\n",
            "[CV 2/5] END C=1000, degree=1, gamma=auto, kernel=poly;, score=0.973 total time=   0.4s\n",
            "[CV 3/5] END C=1000, degree=1, gamma=auto, kernel=poly;, score=0.974 total time=   0.5s\n",
            "[CV 4/5] END C=1000, degree=1, gamma=auto, kernel=poly;, score=0.968 total time=   0.4s\n",
            "[CV 5/5] END C=1000, degree=1, gamma=auto, kernel=poly;, score=0.978 total time=   0.5s\n",
            "[CV 1/5] END C=1000, degree=1, gamma=scale, kernel=poly;, score=0.973 total time=   0.3s\n",
            "[CV 2/5] END C=1000, degree=1, gamma=scale, kernel=poly;, score=0.970 total time=   0.3s\n",
            "[CV 3/5] END C=1000, degree=1, gamma=scale, kernel=poly;, score=0.981 total time=   0.3s\n",
            "[CV 4/5] END C=1000, degree=1, gamma=scale, kernel=poly;, score=0.970 total time=   0.3s\n",
            "[CV 5/5] END C=1000, degree=1, gamma=scale, kernel=poly;, score=0.988 total time=   0.4s\n",
            "[CV 1/5] END C=1000, degree=2, gamma=auto, kernel=poly;, score=0.706 total time=   0.9s\n",
            "[CV 2/5] END C=1000, degree=2, gamma=auto, kernel=poly;, score=0.706 total time=   0.9s\n",
            "[CV 3/5] END C=1000, degree=2, gamma=auto, kernel=poly;, score=0.706 total time=   0.9s\n",
            "[CV 4/5] END C=1000, degree=2, gamma=auto, kernel=poly;, score=0.706 total time=   0.9s\n",
            "[CV 5/5] END C=1000, degree=2, gamma=auto, kernel=poly;, score=0.708 total time=   0.9s\n",
            "[CV 1/5] END C=1000, degree=2, gamma=scale, kernel=poly;, score=0.961 total time=   0.8s\n",
            "[CV 2/5] END C=1000, degree=2, gamma=scale, kernel=poly;, score=0.961 total time=   0.8s\n",
            "[CV 3/5] END C=1000, degree=2, gamma=scale, kernel=poly;, score=0.966 total time=   0.9s\n",
            "[CV 4/5] END C=1000, degree=2, gamma=scale, kernel=poly;, score=0.966 total time=   0.8s\n",
            "[CV 5/5] END C=1000, degree=2, gamma=scale, kernel=poly;, score=0.966 total time=   0.8s\n",
            "[CV 1/5] END C=1000, degree=3, gamma=auto, kernel=poly;, score=0.706 total time=   0.7s\n",
            "[CV 2/5] END C=1000, degree=3, gamma=auto, kernel=poly;, score=0.706 total time=   0.7s\n",
            "[CV 3/5] END C=1000, degree=3, gamma=auto, kernel=poly;, score=0.706 total time=   0.7s\n",
            "[CV 4/5] END C=1000, degree=3, gamma=auto, kernel=poly;, score=0.706 total time=   0.7s\n",
            "[CV 5/5] END C=1000, degree=3, gamma=auto, kernel=poly;, score=0.708 total time=   0.7s\n",
            "[CV 1/5] END C=1000, degree=3, gamma=scale, kernel=poly;, score=0.924 total time=   1.5s\n",
            "[CV 2/5] END C=1000, degree=3, gamma=scale, kernel=poly;, score=0.897 total time=   1.5s\n",
            "[CV 3/5] END C=1000, degree=3, gamma=scale, kernel=poly;, score=0.920 total time=   1.5s\n",
            "[CV 4/5] END C=1000, degree=3, gamma=scale, kernel=poly;, score=0.889 total time=   1.5s\n",
            "[CV 5/5] END C=1000, degree=3, gamma=scale, kernel=poly;, score=0.910 total time=   1.5s\n",
            "[CV 1/5] END C=1000, degree=4, gamma=auto, kernel=poly;, score=0.706 total time=   0.7s\n",
            "[CV 2/5] END C=1000, degree=4, gamma=auto, kernel=poly;, score=0.706 total time=   0.7s\n",
            "[CV 3/5] END C=1000, degree=4, gamma=auto, kernel=poly;, score=0.706 total time=   0.7s\n",
            "[CV 4/5] END C=1000, degree=4, gamma=auto, kernel=poly;, score=0.706 total time=   0.7s\n",
            "[CV 5/5] END C=1000, degree=4, gamma=auto, kernel=poly;, score=0.708 total time=   0.8s\n",
            "[CV 1/5] END C=1000, degree=4, gamma=scale, kernel=poly;, score=0.855 total time=   1.8s\n",
            "[CV 2/5] END C=1000, degree=4, gamma=scale, kernel=poly;, score=0.819 total time=   1.8s\n",
            "[CV 3/5] END C=1000, degree=4, gamma=scale, kernel=poly;, score=0.858 total time=   1.8s\n",
            "[CV 4/5] END C=1000, degree=4, gamma=scale, kernel=poly;, score=0.820 total time=   1.8s\n",
            "[CV 5/5] END C=1000, degree=4, gamma=scale, kernel=poly;, score=0.849 total time=   1.8s\n",
            "[CV 1/5] END C=1000, degree=5, gamma=auto, kernel=poly;, score=0.706 total time=   0.8s\n",
            "[CV 2/5] END C=1000, degree=5, gamma=auto, kernel=poly;, score=0.706 total time=   0.7s\n",
            "[CV 3/5] END C=1000, degree=5, gamma=auto, kernel=poly;, score=0.706 total time=   0.8s\n",
            "[CV 4/5] END C=1000, degree=5, gamma=auto, kernel=poly;, score=0.706 total time=   0.7s\n",
            "[CV 5/5] END C=1000, degree=5, gamma=auto, kernel=poly;, score=0.708 total time=   0.7s\n",
            "[CV 1/5] END C=1000, degree=5, gamma=scale, kernel=poly;, score=0.816 total time=   2.0s\n",
            "[CV 2/5] END C=1000, degree=5, gamma=scale, kernel=poly;, score=0.791 total time=   2.0s\n",
            "[CV 3/5] END C=1000, degree=5, gamma=scale, kernel=poly;, score=0.818 total time=   2.0s\n",
            "[CV 4/5] END C=1000, degree=5, gamma=scale, kernel=poly;, score=0.791 total time=   1.9s\n",
            "[CV 5/5] END C=1000, degree=5, gamma=scale, kernel=poly;, score=0.805 total time=   1.9s\n",
            "[CV 1/5] END C=1000, degree=6, gamma=auto, kernel=poly;, score=0.706 total time=   0.7s\n",
            "[CV 2/5] END C=1000, degree=6, gamma=auto, kernel=poly;, score=0.706 total time=   0.7s\n",
            "[CV 3/5] END C=1000, degree=6, gamma=auto, kernel=poly;, score=0.706 total time=   0.7s\n",
            "[CV 4/5] END C=1000, degree=6, gamma=auto, kernel=poly;, score=0.706 total time=   0.7s\n",
            "[CV 5/5] END C=1000, degree=6, gamma=auto, kernel=poly;, score=0.708 total time=   0.7s\n",
            "[CV 1/5] END C=1000, degree=6, gamma=scale, kernel=poly;, score=0.797 total time=   2.0s\n",
            "[CV 2/5] END C=1000, degree=6, gamma=scale, kernel=poly;, score=0.772 total time=   2.0s\n",
            "[CV 3/5] END C=1000, degree=6, gamma=scale, kernel=poly;, score=0.800 total time=   2.0s\n",
            "[CV 4/5] END C=1000, degree=6, gamma=scale, kernel=poly;, score=0.781 total time=   2.0s\n",
            "[CV 5/5] END C=1000, degree=6, gamma=scale, kernel=poly;, score=0.789 total time=   2.0s\n",
            "Selected Kernel:  poly\n",
            "Selected C:  1\n",
            "Selected Gamma:  scale\n",
            "Selected Degree:  1\n",
            "Best Score : 0.9807499999999999\n",
            "best estimator: SVC(C=1, degree=1, kernel='poly')\n"
          ]
        }
      ]
    },
    {
      "cell_type": "markdown",
      "source": [
        "* RBF Kernel"
      ],
      "metadata": {
        "id": "tuZVqSAY0BQO"
      }
    },
    {
      "cell_type": "code",
      "source": [
        "param_grid = {'C': [0.001, 0.1, 1, 10, 100, 1000],\n",
        "              'kernel': ['rbf'],\n",
        "              'gamma' :['auto', 'scale']\n",
        "             }\n",
        " \n",
        "grid = GridSearchCV(svm.SVC(), param_grid, scoring='accuracy', refit = True, verbose = 3) \n",
        "# fitting the model for grid search\n",
        "grid.fit(x_kamera_train_vectorized, y_kamera_train)\n",
        "\n",
        "selected_kernel_rbf = grid.best_params_['kernel']\n",
        "print(\"Selected Kernel: \", selected_kernel_rbf)\n",
        "selected_C_rbf = grid.best_params_['C']\n",
        "print(\"Selected C: \", selected_C_rbf)\n",
        "selected_gamma_rbf= grid.best_params_['gamma']\n",
        "print(\"Selected Gamma: \", selected_gamma_rbf)\n",
        "\n",
        "best_params_rbf_HT = grid.best_params_\n",
        "model_looks_rbf_HT= grid.best_estimator_\n",
        "\n",
        "print(f'Best Score : {grid.best_score_}')\n",
        "print(\"best estimator: %s\" % (model_looks_rbf_HT))"
      ],
      "metadata": {
        "colab": {
          "base_uri": "https://localhost:8080/"
        },
        "id": "itXr1dkV0Cs5",
        "outputId": "0eb0b4cb-c0c0-4d97-ccd6-1869e678df13"
      },
      "execution_count": 17,
      "outputs": [
        {
          "output_type": "stream",
          "name": "stdout",
          "text": [
            "Fitting 5 folds for each of 12 candidates, totalling 60 fits\n",
            "[CV 1/5] END ...C=0.001, gamma=auto, kernel=rbf;, score=0.706 total time=   0.9s\n",
            "[CV 2/5] END ...C=0.001, gamma=auto, kernel=rbf;, score=0.706 total time=   0.9s\n",
            "[CV 3/5] END ...C=0.001, gamma=auto, kernel=rbf;, score=0.706 total time=   0.9s\n",
            "[CV 4/5] END ...C=0.001, gamma=auto, kernel=rbf;, score=0.706 total time=   0.8s\n",
            "[CV 5/5] END ...C=0.001, gamma=auto, kernel=rbf;, score=0.708 total time=   0.9s\n",
            "[CV 1/5] END ..C=0.001, gamma=scale, kernel=rbf;, score=0.706 total time=   1.1s\n",
            "[CV 2/5] END ..C=0.001, gamma=scale, kernel=rbf;, score=0.706 total time=   1.1s\n",
            "[CV 3/5] END ..C=0.001, gamma=scale, kernel=rbf;, score=0.706 total time=   1.2s\n",
            "[CV 4/5] END ..C=0.001, gamma=scale, kernel=rbf;, score=0.706 total time=   1.1s\n",
            "[CV 5/5] END ..C=0.001, gamma=scale, kernel=rbf;, score=0.708 total time=   1.1s\n",
            "[CV 1/5] END .....C=0.1, gamma=auto, kernel=rbf;, score=0.706 total time=   1.1s\n",
            "[CV 2/5] END .....C=0.1, gamma=auto, kernel=rbf;, score=0.706 total time=   1.1s\n",
            "[CV 3/5] END .....C=0.1, gamma=auto, kernel=rbf;, score=0.706 total time=   1.1s\n",
            "[CV 4/5] END .....C=0.1, gamma=auto, kernel=rbf;, score=0.706 total time=   1.1s\n",
            "[CV 5/5] END .....C=0.1, gamma=auto, kernel=rbf;, score=0.708 total time=   1.1s\n",
            "[CV 1/5] END ....C=0.1, gamma=scale, kernel=rbf;, score=0.916 total time=   1.0s\n",
            "[CV 2/5] END ....C=0.1, gamma=scale, kernel=rbf;, score=0.900 total time=   0.9s\n",
            "[CV 3/5] END ....C=0.1, gamma=scale, kernel=rbf;, score=0.901 total time=   1.0s\n",
            "[CV 4/5] END ....C=0.1, gamma=scale, kernel=rbf;, score=0.897 total time=   0.9s\n",
            "[CV 5/5] END ....C=0.1, gamma=scale, kernel=rbf;, score=0.895 total time=   1.0s\n",
            "[CV 1/5] END .......C=1, gamma=auto, kernel=rbf;, score=0.706 total time=   1.1s\n",
            "[CV 2/5] END .......C=1, gamma=auto, kernel=rbf;, score=0.706 total time=   1.1s\n",
            "[CV 3/5] END .......C=1, gamma=auto, kernel=rbf;, score=0.706 total time=   1.1s\n",
            "[CV 4/5] END .......C=1, gamma=auto, kernel=rbf;, score=0.706 total time=   1.1s\n",
            "[CV 5/5] END .......C=1, gamma=auto, kernel=rbf;, score=0.708 total time=   1.1s\n",
            "[CV 1/5] END ......C=1, gamma=scale, kernel=rbf;, score=0.973 total time=   0.8s\n",
            "[CV 2/5] END ......C=1, gamma=scale, kernel=rbf;, score=0.975 total time=   0.8s\n",
            "[CV 3/5] END ......C=1, gamma=scale, kernel=rbf;, score=0.973 total time=   0.8s\n",
            "[CV 4/5] END ......C=1, gamma=scale, kernel=rbf;, score=0.974 total time=   0.8s\n",
            "[CV 5/5] END ......C=1, gamma=scale, kernel=rbf;, score=0.980 total time=   0.8s\n",
            "[CV 1/5] END ......C=10, gamma=auto, kernel=rbf;, score=0.731 total time=   1.1s\n",
            "[CV 2/5] END ......C=10, gamma=auto, kernel=rbf;, score=0.718 total time=   1.1s\n",
            "[CV 3/5] END ......C=10, gamma=auto, kernel=rbf;, score=0.721 total time=   1.1s\n",
            "[CV 4/5] END ......C=10, gamma=auto, kernel=rbf;, score=0.721 total time=   1.1s\n",
            "[CV 5/5] END ......C=10, gamma=auto, kernel=rbf;, score=0.724 total time=   1.1s\n",
            "[CV 1/5] END .....C=10, gamma=scale, kernel=rbf;, score=0.978 total time=   0.8s\n",
            "[CV 2/5] END .....C=10, gamma=scale, kernel=rbf;, score=0.973 total time=   0.8s\n",
            "[CV 3/5] END .....C=10, gamma=scale, kernel=rbf;, score=0.978 total time=   0.8s\n",
            "[CV 4/5] END .....C=10, gamma=scale, kernel=rbf;, score=0.974 total time=   0.8s\n",
            "[CV 5/5] END .....C=10, gamma=scale, kernel=rbf;, score=0.981 total time=   0.8s\n",
            "[CV 1/5] END .....C=100, gamma=auto, kernel=rbf;, score=0.945 total time=   0.7s\n",
            "[CV 2/5] END .....C=100, gamma=auto, kernel=rbf;, score=0.938 total time=   0.7s\n",
            "[CV 3/5] END .....C=100, gamma=auto, kernel=rbf;, score=0.936 total time=   0.8s\n",
            "[CV 4/5] END .....C=100, gamma=auto, kernel=rbf;, score=0.938 total time=   0.7s\n",
            "[CV 5/5] END .....C=100, gamma=auto, kernel=rbf;, score=0.935 total time=   0.8s\n",
            "[CV 1/5] END ....C=100, gamma=scale, kernel=rbf;, score=0.978 total time=   0.8s\n",
            "[CV 2/5] END ....C=100, gamma=scale, kernel=rbf;, score=0.973 total time=   0.8s\n",
            "[CV 3/5] END ....C=100, gamma=scale, kernel=rbf;, score=0.978 total time=   0.8s\n",
            "[CV 4/5] END ....C=100, gamma=scale, kernel=rbf;, score=0.974 total time=   0.8s\n",
            "[CV 5/5] END ....C=100, gamma=scale, kernel=rbf;, score=0.981 total time=   0.8s\n",
            "[CV 1/5] END ....C=1000, gamma=auto, kernel=rbf;, score=0.979 total time=   0.5s\n",
            "[CV 2/5] END ....C=1000, gamma=auto, kernel=rbf;, score=0.978 total time=   0.5s\n",
            "[CV 3/5] END ....C=1000, gamma=auto, kernel=rbf;, score=0.979 total time=   0.5s\n",
            "[CV 4/5] END ....C=1000, gamma=auto, kernel=rbf;, score=0.976 total time=   0.5s\n",
            "[CV 5/5] END ....C=1000, gamma=auto, kernel=rbf;, score=0.986 total time=   0.5s\n",
            "[CV 1/5] END ...C=1000, gamma=scale, kernel=rbf;, score=0.978 total time=   0.8s\n",
            "[CV 2/5] END ...C=1000, gamma=scale, kernel=rbf;, score=0.973 total time=   0.8s\n",
            "[CV 3/5] END ...C=1000, gamma=scale, kernel=rbf;, score=0.978 total time=   0.8s\n",
            "[CV 4/5] END ...C=1000, gamma=scale, kernel=rbf;, score=0.974 total time=   0.8s\n",
            "[CV 5/5] END ...C=1000, gamma=scale, kernel=rbf;, score=0.981 total time=   0.8s\n",
            "Selected Kernel:  rbf\n",
            "Selected C:  1000\n",
            "Selected Gamma:  auto\n",
            "Best Score : 0.9795\n",
            "best estimator: SVC(C=1000, gamma='auto')\n"
          ]
        }
      ]
    },
    {
      "cell_type": "markdown",
      "source": [
        "## CV with Tuned Hyperparamater"
      ],
      "metadata": {
        "id": "ddmozdxJ9UX9"
      }
    },
    {
      "cell_type": "code",
      "source": [
        "cross_val_score_linear= cross_val_score(model_looks_linear_HT, x_kamera_train_vectorized, y_kamera_train, scoring='accuracy', cv=5)\n",
        "print(\"Accuracy Score Linear of : %0.4f\" % cross_val_score_linear.mean(), cross_val_score_linear.std())\n",
        "\n",
        "cross_val_score_poly = cross_val_score(model_looks_poly_HT, x_kamera_train_vectorized, y_kamera_train, scoring='accuracy', cv=5)\n",
        "print(\"Accuracy Score Poly of : %0.4f\" % cross_val_score_poly.mean(), cross_val_score_poly.std())\n",
        "\n",
        "cross_val_score_rbf = cross_val_score(model_looks_rbf_HT, x_kamera_train_vectorized, y_kamera_train, scoring='accuracy', cv=5)\n",
        "print(\"Accuracy Score RBF of : %0.4f\" % cross_val_score_rbf.mean(), cross_val_score_rbf.std())"
      ],
      "metadata": {
        "id": "MZGVV_VP9lAY",
        "colab": {
          "base_uri": "https://localhost:8080/"
        },
        "outputId": "9dfaa565-18af-4bfe-f785-8ce7c833c32d"
      },
      "execution_count": 26,
      "outputs": [
        {
          "output_type": "stream",
          "name": "stdout",
          "text": [
            "Accuracy Score Linear of : 0.9807 0.0032210246816812504\n",
            "Accuracy Score Poly of : 0.9807 0.0032210246816812504\n",
            "Accuracy Score RBF of : 0.9795 0.0034999999999999892\n"
          ]
        }
      ]
    },
    {
      "cell_type": "code",
      "source": [
        "import numpy as np\n",
        "from matplotlib.ticker import FormatStrFormatter\n",
        "\n",
        "import matplotlib.pyplot as plt\n",
        "%matplotlib inline\n",
        "\n",
        "\n",
        "name = ['Linear', 'RBF', 'Polynomial']\n",
        "before_HT = [cv_linear.mean(), cv_rbf.mean(), cv_poly.mean()]\n",
        "after_HT = [cross_val_score_linear.mean(), cross_val_score_rbf.mean(), cross_val_score_poly.mean()]\n",
        "diff_linear = ((cross_val_score_linear.mean()-cv_linear.mean()))\n",
        "diff_rbf = ((cross_val_score_rbf.mean()-cv_rbf.mean()))\n",
        "diff_poly = ((cross_val_score_poly.mean()-cv_poly.mean()))\n",
        "diff_HT = [diff_linear, diff_rbf, diff_poly]\n",
        "\n",
        "x = np.arange(len(name))\n",
        "width = 0.2\n",
        "\n",
        "fig, ax = plt.subplots(figsize=(14, 7))\n",
        "\n",
        "bfr = ax.bar(x - width/2, before_HT, width, label='Before', color='steelblue')\n",
        "aftr = ax.bar(x + width/2, after_HT, width, label='After', color='orange')\n",
        "diff = ax.bar(x + 0.3, diff_HT, width, label='Diffrenciate', color='cyan')\n",
        "\n",
        "ax.set_title('Hasil Hyperparameter Aspek Kamera', size=16)\n",
        "ax.set_ylabel('Accuracy', size=14)\n",
        "ax.set_xticks(x)\n",
        "ax.set_xticklabels(name, size=14)\n",
        "ax.legend(fontsize=14)\n",
        "ax.legend(bbox_to_anchor=(1.02, 1), loc='upper left', borderaxespad=0)\n",
        "ax.yaxis.set_major_formatter(FormatStrFormatter(\"%0.2f\"))\n",
        "for p in ax.patches:\n",
        "    h = p.get_height()\n",
        "    x = p.get_x()+p.get_width()/2\n",
        "    if h!= 0:\n",
        "      ax.annotate(\"%g\" % p.get_height(), xy=(x,h), xytext=(0,5), textcoords=\"offset points\",\n",
        "                  ha=\"center\", fontsize=10)\n",
        "    \n",
        "plt.show()"
      ],
      "metadata": {
        "id": "o8JMcYaRShZ2",
        "colab": {
          "base_uri": "https://localhost:8080/",
          "height": 450
        },
        "outputId": "1fa89e46-0c1c-432f-9c6d-bef8cdc3f3e5"
      },
      "execution_count": 19,
      "outputs": [
        {
          "output_type": "display_data",
          "data": {
            "text/plain": [
              "<Figure size 1008x504 with 1 Axes>"
            ],
            "image/png": "[encoded data removed]"
          },
          "metadata": {
            "needs_background": "light"
          }
        }
      ]
    },
    {
      "cell_type": "markdown",
      "source": [
        "## Model Validation"
      ],
      "metadata": {
        "id": "P6SG8dgvAd-i"
      }
    },
    {
      "cell_type": "markdown",
      "source": [
        "### Model Validation Hyperparameter Tuning Test Dataset"
      ],
      "metadata": {
        "id": "xSMKBr_CA95O"
      }
    },
    {
      "cell_type": "markdown",
      "source": [
        "* Linear Kernel"
      ],
      "metadata": {
        "id": "a9DYVC85h5mq"
      }
    },
    {
      "cell_type": "code",
      "source": [
        "grid_predictions = model_looks_linear_HT.predict(x_kamera_test_vectorized)\n",
        "\n",
        "print(\"F1-SCORE \",f1(y_kamera_test,grid_predictions,average='macro') * 100)\n",
        "print(\"ACCURACY \",acc(y_kamera_test,grid_predictions) * 100)\n",
        "print(\"PRECISION \",prec(y_kamera_test,grid_predictions,average='macro') * 100)\n",
        "print(\"RECALL\",recall(y_kamera_test,grid_predictions,average='macro') * 100)\n",
        "\n",
        "print('Confusion Matrix : \\n', confusion_matrix(y_kamera_test, grid_predictions))\n",
        "print('Report Hasil : \\n',classification_report(y_kamera_test, grid_predictions))"
      ],
      "metadata": {
        "id": "wzIVFSATh_A5",
        "colab": {
          "base_uri": "https://localhost:8080/"
        },
        "outputId": "699c364c-f86d-477b-baa9-86e216510d04"
      },
      "execution_count": 20,
      "outputs": [
        {
          "output_type": "stream",
          "name": "stdout",
          "text": [
            "F1-SCORE  80.63260467016687\n",
            "ACCURACY  97.7\n",
            "PRECISION  98.50275924066746\n",
            "RECALL 75.6008936066325\n",
            "Confusion Matrix : \n",
            " [[  5   0  12]\n",
            " [  0 281   5]\n",
            " [  0   6 691]]\n",
            "Report Hasil : \n",
            "               precision    recall  f1-score   support\n",
            "\n",
            "          -1       1.00      0.29      0.45        17\n",
            "           0       0.98      0.98      0.98       286\n",
            "           1       0.98      0.99      0.98       697\n",
            "\n",
            "    accuracy                           0.98      1000\n",
            "   macro avg       0.99      0.76      0.81      1000\n",
            "weighted avg       0.98      0.98      0.97      1000\n",
            "\n"
          ]
        }
      ]
    },
    {
      "cell_type": "markdown",
      "source": [
        "* Poly Kernel"
      ],
      "metadata": {
        "id": "NCZZNnY9h6dg"
      }
    },
    {
      "cell_type": "code",
      "source": [
        "grid_predictions = model_looks_poly_HT.predict(x_kamera_test_vectorized)\n",
        "\n",
        "print(\"F1-SCORE \",f1(y_kamera_test,grid_predictions,average='macro') * 100)\n",
        "print(\"ACCURACY \",acc(y_kamera_test,grid_predictions) * 100)\n",
        "print(\"PRECISION \",prec(y_kamera_test,grid_predictions,average='macro') * 100)\n",
        "print(\"RECALL\",recall(y_kamera_test,grid_predictions,average='macro') * 100)\n",
        "\n",
        "print('Confusion Matrix : \\n', confusion_matrix(y_kamera_test, grid_predictions))\n",
        "print('Report Hasil : \\n',classification_report(y_kamera_test, grid_predictions))"
      ],
      "metadata": {
        "id": "6iuXz8jki85T",
        "colab": {
          "base_uri": "https://localhost:8080/"
        },
        "outputId": "0f7292f5-8f99-4c89-c358-0e843e5c87f0"
      },
      "execution_count": 21,
      "outputs": [
        {
          "output_type": "stream",
          "name": "stdout",
          "text": [
            "F1-SCORE  80.63260467016687\n",
            "ACCURACY  97.7\n",
            "PRECISION  98.50275924066746\n",
            "RECALL 75.6008936066325\n",
            "Confusion Matrix : \n",
            " [[  5   0  12]\n",
            " [  0 281   5]\n",
            " [  0   6 691]]\n",
            "Report Hasil : \n",
            "               precision    recall  f1-score   support\n",
            "\n",
            "          -1       1.00      0.29      0.45        17\n",
            "           0       0.98      0.98      0.98       286\n",
            "           1       0.98      0.99      0.98       697\n",
            "\n",
            "    accuracy                           0.98      1000\n",
            "   macro avg       0.99      0.76      0.81      1000\n",
            "weighted avg       0.98      0.98      0.97      1000\n",
            "\n"
          ]
        }
      ]
    },
    {
      "cell_type": "markdown",
      "source": [
        "* RBF Kernel"
      ],
      "metadata": {
        "id": "zfVKCG4Jh8La"
      }
    },
    {
      "cell_type": "code",
      "source": [
        "grid_predictions = model_looks_rbf_HT.predict(x_kamera_test_vectorized)\n",
        "\n",
        "print(\"F1-SCORE \",f1(y_kamera_test,grid_predictions,average='macro') * 100)\n",
        "print(\"ACCURACY \",acc(y_kamera_test,grid_predictions) * 100)\n",
        "print(\"PRECISION \",prec(y_kamera_test,grid_predictions,average='macro') * 100)\n",
        "print(\"RECALL\",recall(y_kamera_test,grid_predictions,average='macro') * 100)\n",
        "\n",
        "print('Confusion Matrix : \\n', confusion_matrix(y_kamera_test, grid_predictions))\n",
        "print('Report Hasil : \\n',classification_report(y_kamera_test, grid_predictions))"
      ],
      "metadata": {
        "id": "J8lpNpY3jDrH",
        "colab": {
          "base_uri": "https://localhost:8080/"
        },
        "outputId": "3d405f68-752e-433b-e093-89315b2bad1e"
      },
      "execution_count": 22,
      "outputs": [
        {
          "output_type": "stream",
          "name": "stdout",
          "text": [
            "F1-SCORE  75.43448303235753\n",
            "ACCURACY  97.5\n",
            "PRECISION  98.41111710915902\n",
            "RECALL 71.67932497918152\n",
            "Confusion Matrix : \n",
            " [[  3   0  14]\n",
            " [  0 281   5]\n",
            " [  0   6 691]]\n",
            "Report Hasil : \n",
            "               precision    recall  f1-score   support\n",
            "\n",
            "          -1       1.00      0.18      0.30        17\n",
            "           0       0.98      0.98      0.98       286\n",
            "           1       0.97      0.99      0.98       697\n",
            "\n",
            "    accuracy                           0.97      1000\n",
            "   macro avg       0.98      0.72      0.75      1000\n",
            "weighted avg       0.98      0.97      0.97      1000\n",
            "\n"
          ]
        }
      ]
    },
    {
      "cell_type": "markdown",
      "source": [
        "### Model Validation Hyperparameter Tuning Train Dataset"
      ],
      "metadata": {
        "id": "S7jltPrXZk1W"
      }
    },
    {
      "cell_type": "markdown",
      "source": [
        "* Linear Kernel"
      ],
      "metadata": {
        "id": "HTEm2He2Zk1W"
      }
    },
    {
      "cell_type": "code",
      "source": [
        "grid_predictions = model_looks_linear_HT.predict(x_kamera_train_vectorized)\n",
        "\n",
        "print(\"F1-SCORE \",f1(y_kamera_train,grid_predictions,average='macro') * 100)\n",
        "print(\"ACCURACY \",acc(y_kamera_train,grid_predictions) * 100)\n",
        "print(\"PRECISION \",prec(y_kamera_train,grid_predictions,average='macro') * 100)\n",
        "print(\"RECALL\",recall(y_kamera_train,grid_predictions,average='macro') * 100)\n",
        "\n",
        "print('Confusion Matrix : \\n', confusion_matrix(y_kamera_train, grid_predictions))\n",
        "print('Report Hasil : \\n',classification_report(y_kamera_train, grid_predictions))"
      ],
      "metadata": {
        "id": "bOnP49DQZk1X",
        "colab": {
          "base_uri": "https://localhost:8080/"
        },
        "outputId": "67909bce-d739-40d1-a48f-4ec47b2f32b9"
      },
      "execution_count": 23,
      "outputs": [
        {
          "output_type": "stream",
          "name": "stdout",
          "text": [
            "F1-SCORE  92.14536659774693\n",
            "ACCURACY  99.35000000000001\n",
            "PRECISION  99.57269699990815\n",
            "RECALL 87.46211090160133\n",
            "Confusion Matrix : \n",
            " [[  19    0   11]\n",
            " [   0 1136    8]\n",
            " [   0    7 2819]]\n",
            "Report Hasil : \n",
            "               precision    recall  f1-score   support\n",
            "\n",
            "          -1       1.00      0.63      0.78        30\n",
            "           0       0.99      0.99      0.99      1144\n",
            "           1       0.99      1.00      1.00      2826\n",
            "\n",
            "    accuracy                           0.99      4000\n",
            "   macro avg       1.00      0.87      0.92      4000\n",
            "weighted avg       0.99      0.99      0.99      4000\n",
            "\n"
          ]
        }
      ]
    },
    {
      "cell_type": "markdown",
      "source": [
        "* Poly Kernel"
      ],
      "metadata": {
        "id": "abEyxPp5Zk1Y"
      }
    },
    {
      "cell_type": "code",
      "source": [
        "grid_predictions = model_looks_poly_HT.predict(x_kamera_train_vectorized)\n",
        "\n",
        "print(\"F1-SCORE \",f1(y_kamera_train,grid_predictions,average='macro') * 100)\n",
        "print(\"ACCURACY \",acc(y_kamera_train,grid_predictions) * 100)\n",
        "print(\"PRECISION \",prec(y_kamera_train,grid_predictions,average='macro') * 100)\n",
        "print(\"RECALL\",recall(y_kamera_train,grid_predictions,average='macro') * 100)\n",
        "\n",
        "print('Confusion Matrix : \\n', confusion_matrix(y_kamera_train, grid_predictions))\n",
        "print('Report Hasil : \\n',classification_report(y_kamera_train, grid_predictions))"
      ],
      "metadata": {
        "id": "6UhuulfEZk1Y",
        "colab": {
          "base_uri": "https://localhost:8080/"
        },
        "outputId": "9e42726d-dddc-4446-9b4e-7b81391bb353"
      },
      "execution_count": 24,
      "outputs": [
        {
          "output_type": "stream",
          "name": "stdout",
          "text": [
            "F1-SCORE  92.14536659774693\n",
            "ACCURACY  99.35000000000001\n",
            "PRECISION  99.57269699990815\n",
            "RECALL 87.46211090160133\n",
            "Confusion Matrix : \n",
            " [[  19    0   11]\n",
            " [   0 1136    8]\n",
            " [   0    7 2819]]\n",
            "Report Hasil : \n",
            "               precision    recall  f1-score   support\n",
            "\n",
            "          -1       1.00      0.63      0.78        30\n",
            "           0       0.99      0.99      0.99      1144\n",
            "           1       0.99      1.00      1.00      2826\n",
            "\n",
            "    accuracy                           0.99      4000\n",
            "   macro avg       1.00      0.87      0.92      4000\n",
            "weighted avg       0.99      0.99      0.99      4000\n",
            "\n"
          ]
        }
      ]
    },
    {
      "cell_type": "markdown",
      "source": [
        "* RBF Kernel"
      ],
      "metadata": {
        "id": "k6evb4xdZk1Y"
      }
    },
    {
      "cell_type": "code",
      "source": [
        "grid_predictions = model_looks_rbf_HT.predict(x_kamera_train_vectorized)\n",
        "\n",
        "print(\"F1-SCORE \",f1(y_kamera_train,grid_predictions,average='macro') * 100)\n",
        "print(\"ACCURACY \",acc(y_kamera_train,grid_predictions) * 100)\n",
        "print(\"PRECISION \",prec(y_kamera_train,grid_predictions,average='macro') * 100)\n",
        "print(\"RECALL\",recall(y_kamera_train,grid_predictions,average='macro') * 100)\n",
        "\n",
        "print('Confusion Matrix : \\n', confusion_matrix(y_kamera_train, grid_predictions))\n",
        "print('Report Hasil : \\n',classification_report(y_kamera_train, grid_predictions))"
      ],
      "metadata": {
        "id": "7YExcT23Zk1Z",
        "colab": {
          "base_uri": "https://localhost:8080/"
        },
        "outputId": "6d983287-8416-46b3-ae3d-d246239762b0"
      },
      "execution_count": 25,
      "outputs": [
        {
          "output_type": "stream",
          "name": "stdout",
          "text": [
            "F1-SCORE  82.7576133246492\n",
            "ACCURACY  98.95\n",
            "PRECISION  99.28218643342377\n",
            "RECALL 77.34485966970043\n",
            "Confusion Matrix : \n",
            " [[  10    1   19]\n",
            " [   0 1134   10]\n",
            " [   0   12 2814]]\n",
            "Report Hasil : \n",
            "               precision    recall  f1-score   support\n",
            "\n",
            "          -1       1.00      0.33      0.50        30\n",
            "           0       0.99      0.99      0.99      1144\n",
            "           1       0.99      1.00      0.99      2826\n",
            "\n",
            "    accuracy                           0.99      4000\n",
            "   macro avg       0.99      0.77      0.83      4000\n",
            "weighted avg       0.99      0.99      0.99      4000\n",
            "\n"
          ]
        }
      ]
    }
  ]
}