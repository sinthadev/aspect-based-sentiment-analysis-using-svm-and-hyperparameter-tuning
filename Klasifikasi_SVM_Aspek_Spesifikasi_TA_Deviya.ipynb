{
  "nbformat": 4,
  "nbformat_minor": 0,
  "metadata": {
    "colab": {
      "provenance": [],
      "collapsed_sections": [
        "2lxG9JbN1psE",
        "fH-_jTzA1woC",
        "W--Y7kGa114e",
        "YZSbWOM-2PHi",
        "4lfKg9___80e",
        "k19u6zZmAAkf",
        "SQ3fawOVADuP",
        "GV2dH2ayAGvg",
        "VHzk392bAVMk",
        "4jDusIX0AVMm",
        "hIgmnGtFAVMn",
        "bMOe71BiAVMn",
        "LTkYmsyvA_K7",
        "FXQpA_TZA_K7",
        "n8ste4wgA_K8",
        "AmlnKUFvA_K9"
      ]
    },
    "kernelspec": {
      "name": "python3",
      "display_name": "Python 3"
    },
    "language_info": {
      "name": "python"
    }
  },
  "cells": [
    {
      "cell_type": "code",
      "source": [
        "!pip install Sastrawi"
      ],
      "metadata": {
        "colab": {
          "base_uri": "https://localhost:8080/"
        },
        "id": "-8N2Rx-rPVWu",
        "outputId": "d446f8e1-1e5f-468e-f06b-00177a854813"
      },
      "execution_count": 1,
      "outputs": [
        {
          "output_type": "stream",
          "name": "stdout",
          "text": [
            "Looking in indexes: https://pypi.org/simple, https://us-python.pkg.dev/colab-wheels/public/simple/\n",
            "Collecting Sastrawi\n",
            "  Downloading Sastrawi-1.0.1-py2.py3-none-any.whl (209 kB)\n",
            "\u001b[K     |████████████████████████████████| 209 kB 7.1 MB/s \n",
            "\u001b[?25hInstalling collected packages: Sastrawi\n",
            "Successfully installed Sastrawi-1.0.1\n"
          ]
        }
      ]
    },
    {
      "cell_type": "markdown",
      "source": [
        "# **Import Library**"
      ],
      "metadata": {
        "id": "tWLJXv9btmm-"
      }
    },
    {
      "cell_type": "code",
      "execution_count": 2,
      "metadata": {
        "id": "gLIM0aldsSDX"
      },
      "outputs": [],
      "source": [
        "# LIBRARY UNTUK MENGOLAH DATA\n",
        "import pandas as pd\n",
        "import numpy as np\n",
        "import re,string #import regular expression\n",
        "import Sastrawi\n",
        "import joblib\n",
        "\n",
        "import matplotlib.pyplot as plt\n",
        "import seaborn as sns\n",
        "import matplotlib as mpl\n",
        "\n",
        "#Library Untuk Split Data\n",
        "from sklearn import model_selection\n",
        "from sklearn.model_selection import train_test_split\n",
        "\n",
        "#Library Ekstraksi Fitur TFIDF\n",
        "from sklearn.feature_extraction.text import TfidfVectorizer\n",
        "from sklearn.preprocessing import OneHotEncoder\n",
        "\n",
        "#Library Klasifikasi Support Vector Machine\n",
        "from sklearn.svm import SVC\n",
        "from sklearn import svm\n",
        "from sklearn.metrics import f1_score as f1\n",
        "from sklearn .metrics import accuracy_score as acc\n",
        "from sklearn.metrics import precision_score as prec\n",
        "from sklearn.metrics import recall_score as recall\n",
        "from sklearn.metrics import confusion_matrix\n",
        "from sklearn.metrics import classification_report\n",
        "from sklearn import metrics\n",
        "\n",
        "\n",
        "#Library HyperParameter Tuning\n",
        "from sklearn.model_selection import cross_val_score\n",
        "from sklearn.model_selection import GridSearchCV\n",
        "import timeit\n",
        "\n",
        "import warnings\n",
        "warnings.filterwarnings('ignore')"
      ]
    },
    {
      "cell_type": "code",
      "source": [
        "from google.colab import drive\n",
        "drive.mount('/content/drive')"
      ],
      "metadata": {
        "colab": {
          "base_uri": "https://localhost:8080/"
        },
        "id": "F6DeMTWSu6fR",
        "outputId": "1f5adc38-2937-4cd8-e5ec-cd5051d770a4"
      },
      "execution_count": 3,
      "outputs": [
        {
          "output_type": "stream",
          "name": "stdout",
          "text": [
            "Mounted at /content/drive\n"
          ]
        }
      ]
    },
    {
      "cell_type": "markdown",
      "source": [
        "# **Aspek Spesifikasi**"
      ],
      "metadata": {
        "id": "AKnyAMHsuwki"
      }
    },
    {
      "cell_type": "code",
      "source": [
        "tweet_spesifikasi = pd.read_csv('/content/drive/MyDrive/Dataset TA/aspek_spesifikasi.csv')\n",
        "tweet_spesifikasi.shape"
      ],
      "metadata": {
        "colab": {
          "base_uri": "https://localhost:8080/"
        },
        "id": "XKDWbPlru2iS",
        "outputId": "2e1fee87-3dc2-4077-f535-2621013a8a34"
      },
      "execution_count": 4,
      "outputs": [
        {
          "output_type": "execute_result",
          "data": {
            "text/plain": [
              "(5000, 3)"
            ]
          },
          "metadata": {},
          "execution_count": 4
        }
      ]
    },
    {
      "cell_type": "code",
      "source": [
        "tweet_spesifikasi['label'].value_counts()"
      ],
      "metadata": {
        "colab": {
          "base_uri": "https://localhost:8080/"
        },
        "id": "2M7qEwddz0AC",
        "outputId": "e2c4cd3d-a308-4a5d-8e60-5d60f67aeeea"
      },
      "execution_count": 5,
      "outputs": [
        {
          "output_type": "execute_result",
          "data": {
            "text/plain": [
              " 1    3644\n",
              " 0    1313\n",
              "-1      43\n",
              "Name: label, dtype: int64"
            ]
          },
          "metadata": {},
          "execution_count": 5
        }
      ]
    },
    {
      "cell_type": "code",
      "source": [
        "spesifikasi = sns.countplot(tweet_spesifikasi['label'], palette = 'hls')\n",
        "plt.show()"
      ],
      "metadata": {
        "colab": {
          "base_uri": "https://localhost:8080/",
          "height": 279
        },
        "id": "MnWQRdtC0hkV",
        "outputId": "c0477d7b-fcb6-4375-9634-82b39c29660c"
      },
      "execution_count": 6,
      "outputs": [
        {
          "output_type": "display_data",
          "data": {
            "text/plain": [
              "<Figure size 432x288 with 1 Axes>"
            ],
            "image/png": "[encoded data removed]"
          },
          "metadata": {
            "needs_background": "light"
          }
        }
      ]
    },
    {
      "cell_type": "code",
      "source": [
        "tweet_spesifikasi.isna().sum()"
      ],
      "metadata": {
        "colab": {
          "base_uri": "https://localhost:8080/"
        },
        "id": "-ZGgs4pjNTO4",
        "outputId": "cfc4fa27-51f0-4df8-a21e-6626eda6c115"
      },
      "execution_count": 7,
      "outputs": [
        {
          "output_type": "execute_result",
          "data": {
            "text/plain": [
              "tweet       0\n",
              "stemming    0\n",
              "label       0\n",
              "dtype: int64"
            ]
          },
          "metadata": {},
          "execution_count": 7
        }
      ]
    },
    {
      "cell_type": "markdown",
      "source": [
        "## Inisialisasi Data"
      ],
      "metadata": {
        "id": "C7etTqJU17mJ"
      }
    },
    {
      "cell_type": "code",
      "source": [
        "x_spesifikasi = tweet_spesifikasi['stemming']\n",
        "y_spesifikasi = tweet_spesifikasi['label'].values"
      ],
      "metadata": {
        "id": "kuNEQPmTwAxq"
      },
      "execution_count": 8,
      "outputs": []
    },
    {
      "cell_type": "markdown",
      "source": [
        "## Split Data\n",
        "\n"
      ],
      "metadata": {
        "id": "Gs8QMCc21DkM"
      }
    },
    {
      "cell_type": "code",
      "source": [
        "from sklearn.model_selection import train_test_split\n",
        "x_spesifikasi_train, x_spesifikasi_test, y_spesifikasi_train, y_spesifikasi_test = train_test_split(\n",
        "    tweet_spesifikasi['stemming'], \n",
        "    tweet_spesifikasi['label'], \n",
        "    test_size=0.2)\n",
        "\n",
        "train_df = pd.DataFrame()\n",
        "train_df['tweet'] = x_spesifikasi_train\n",
        "train_df['sentiment'] = y_spesifikasi_train\n",
        "test_df = pd.DataFrame()\n",
        "test_df['tweet'] = x_spesifikasi_test\n",
        "test_df['sentiment'] = y_spesifikasi_test"
      ],
      "metadata": {
        "id": "ogTyOQnb06mz"
      },
      "execution_count": 9,
      "outputs": []
    },
    {
      "cell_type": "markdown",
      "source": [
        "## Feature TF-IDF"
      ],
      "metadata": {
        "id": "5UeiexVgunm-"
      }
    },
    {
      "cell_type": "code",
      "source": [
        "tfidf_vect = TfidfVectorizer(use_idf=True)\n",
        "tfidf_vect.fit(x_spesifikasi_train)\n",
        "x_spesifikasi_train_vectorized = tfidf_vect.transform(x_spesifikasi_train)\n",
        "x_spesifikasi_test_vectorized = tfidf_vect.transform(x_spesifikasi_test)"
      ],
      "metadata": {
        "id": "t0fBDy8cKaHL"
      },
      "execution_count": 10,
      "outputs": []
    },
    {
      "cell_type": "code",
      "source": [
        "print (x_spesifikasi_train_vectorized)"
      ],
      "metadata": {
        "colab": {
          "base_uri": "https://localhost:8080/"
        },
        "id": "zL5IKnQKCovp",
        "outputId": "11f43c6c-cf94-4aab-e5be-a57de36712b9"
      },
      "execution_count": 11,
      "outputs": [
        {
          "output_type": "stream",
          "name": "stdout",
          "text": [
            "  (0, 2887)\t0.46853576951632114\n",
            "  (0, 2765)\t0.46853576951632114\n",
            "  (0, 2536)\t0.0739944651391385\n",
            "  (0, 2411)\t0.3625350310457743\n",
            "  (0, 2360)\t0.46853576951632114\n",
            "  (0, 1597)\t0.34310566146784116\n",
            "  (0, 1562)\t0.07405294459058416\n",
            "  (0, 1285)\t0.08609634747241732\n",
            "  (0, 1231)\t0.10802558090336956\n",
            "  (0, 1149)\t0.11026215086554808\n",
            "  (0, 1012)\t0.07424833075339252\n",
            "  (0, 691)\t0.10396006911667258\n",
            "  (0, 244)\t0.07664931888570345\n",
            "  (0, 208)\t0.08156982380758732\n",
            "  (0, 174)\t0.14567573918702967\n",
            "  (1, 2536)\t0.2356754803653769\n",
            "  (1, 1562)\t0.2358617398752611\n",
            "  (1, 1550)\t0.5385434841388146\n",
            "  (1, 1368)\t0.4091072076391294\n",
            "  (1, 1285)\t0.2742204840606892\n",
            "  (1, 1149)\t0.17559479160024813\n",
            "  (1, 1012)\t0.23648405301300754\n",
            "  (1, 609)\t0.3849097344375872\n",
            "  (1, 208)\t0.2598033160051046\n",
            "  (1, 174)\t0.2319916749578947\n",
            "  :\t:\n",
            "  (3997, 691)\t0.16358795907530888\n",
            "  (3997, 244)\t0.12061270974101182\n",
            "  (3997, 208)\t0.1283554456263413\n",
            "  (3997, 174)\t0.22923029065754366\n",
            "  (3998, 2553)\t0.34290078438571553\n",
            "  (3998, 2199)\t0.38951668688506363\n",
            "  (3998, 1964)\t0.13058119298621645\n",
            "  (3998, 1809)\t0.3758440120550213\n",
            "  (3998, 1542)\t0.28508912586792506\n",
            "  (3998, 1459)\t0.40878723972432707\n",
            "  (3998, 1285)\t0.07511718533235703\n",
            "  (3998, 1149)\t0.04810066085768144\n",
            "  (3998, 1004)\t0.1770835844901469\n",
            "  (3998, 344)\t0.40878723972432707\n",
            "  (3998, 74)\t0.34290078438571553\n",
            "  (3999, 2536)\t0.15254663489466067\n",
            "  (3999, 2014)\t0.7018657297746596\n",
            "  (3999, 1562)\t0.15266719585164235\n",
            "  (3999, 1368)\t0.2648045004077087\n",
            "  (3999, 1285)\t0.17749581754449043\n",
            "  (3999, 1149)\t0.1136579610323445\n",
            "  (3999, 1012)\t0.1530700030289812\n",
            "  (3999, 841)\t0.41299572154277187\n",
            "  (3999, 609)\t0.24914210267279668\n",
            "  (3999, 174)\t0.3003244061158755\n"
          ]
        }
      ]
    },
    {
      "cell_type": "markdown",
      "source": [
        "## Klasifikasi SVM Dengan Cross Validation"
      ],
      "metadata": {
        "id": "j6IfZ89CuuYL"
      }
    },
    {
      "cell_type": "markdown",
      "source": [
        "* Cross Validation Using Linear Kernel"
      ],
      "metadata": {
        "id": "IJIUFix_znz6"
      }
    },
    {
      "cell_type": "code",
      "source": [
        "### create model\n",
        "clf_linear = SVC(kernel='linear')\n",
        "### cross-validation evaluation\n",
        "cv_linear = cross_val_score(clf_linear, x_spesifikasi_train_vectorized, y_spesifikasi_train, scoring='accuracy', cv=5)\n",
        "### Show CV result\n",
        "print(\"Accuracy Score Linear of : %0.4f\" % (cv_linear.mean()))\n"
      ],
      "metadata": {
        "colab": {
          "base_uri": "https://localhost:8080/"
        },
        "id": "_L8AVoYQUIzt",
        "outputId": "70593520-2dc8-49ec-b5f0-012bb8800e6d"
      },
      "execution_count": 12,
      "outputs": [
        {
          "output_type": "stream",
          "name": "stdout",
          "text": [
            "Accuracy Score Linear of : 0.9708\n"
          ]
        }
      ]
    },
    {
      "cell_type": "markdown",
      "source": [
        "* Cross Validation Using Polynomial Kernel"
      ],
      "metadata": {
        "id": "Wba3ePrMzyKW"
      }
    },
    {
      "cell_type": "code",
      "source": [
        "### create model\n",
        "clf_poly = SVC(kernel='poly')\n",
        "### cross-validation evaluation\n",
        "cv_poly = cross_val_score(clf_poly, x_spesifikasi_train_vectorized, y_spesifikasi_train, scoring='accuracy', cv=5)\n",
        "### Show CV result\n",
        "print(\"Accuracy Score Poly of : %0.4f\" % (cv_poly.mean()))"
      ],
      "metadata": {
        "colab": {
          "base_uri": "https://localhost:8080/"
        },
        "id": "jSkdo0KAXCAM",
        "outputId": "9000e46d-5626-43ba-8404-c99dc5ff9668"
      },
      "execution_count": 13,
      "outputs": [
        {
          "output_type": "stream",
          "name": "stdout",
          "text": [
            "Accuracy Score Poly of : 0.8950\n"
          ]
        }
      ]
    },
    {
      "cell_type": "markdown",
      "source": [
        "* Cross Validation with default RBF Kernel"
      ],
      "metadata": {
        "id": "BoAFNfsLz1-k"
      }
    },
    {
      "cell_type": "code",
      "source": [
        "### create model\n",
        "clf_rbf = SVC(kernel='rbf')\n",
        "### cross-validation evaluation\n",
        "cv_rbf= cross_val_score(clf_rbf, x_spesifikasi_train_vectorized, y_spesifikasi_train, scoring='accuracy', cv=5)\n",
        "### Show CV result\n",
        "print(\"Accuracy Score RBF of : %0.4f\" % (cv_rbf.mean()))"
      ],
      "metadata": {
        "colab": {
          "base_uri": "https://localhost:8080/"
        },
        "id": "TFl4s-wqXQ_1",
        "outputId": "8f06a20e-d4cd-47e2-8b15-b333f7662568"
      },
      "execution_count": 14,
      "outputs": [
        {
          "output_type": "stream",
          "name": "stdout",
          "text": [
            "Accuracy Score RBF of : 0.9635\n"
          ]
        }
      ]
    },
    {
      "cell_type": "markdown",
      "source": [
        "## Tuning Parameter with GridSearchCV"
      ],
      "metadata": {
        "id": "678jI1EfyRCU"
      }
    },
    {
      "cell_type": "markdown",
      "source": [
        "* Linear Kernel"
      ],
      "metadata": {
        "id": "RqtswuNByR9P"
      }
    },
    {
      "cell_type": "code",
      "source": [
        "param_grid = {'C': [0.001, 0.1, 1, 10, 100, 1000],\n",
        "              'kernel': ['linear']\n",
        "             }\n",
        " \n",
        "grid = GridSearchCV(svm.SVC(), param_grid, scoring='accuracy', refit = True, verbose = 3) \n",
        "# fitting the model for grid search\n",
        "grid.fit(x_spesifikasi_train_vectorized, y_spesifikasi_train)\n",
        "\n",
        "selected_kernel_linear = grid.best_params_['kernel']\n",
        "print(\"Selected Kernel: \", selected_kernel_linear)\n",
        "selected_C_linear = grid.best_params_['C']\n",
        "print(\"Selected C: \", selected_C_linear)\n",
        "\n",
        "best_params_linear_HT = grid.best_params_\n",
        "model_looks_linear_HT= grid.best_estimator_\n",
        "\n",
        "print(f'Best Score : {grid.best_score_}')\n",
        "print(\"best estimator: %s\" % (model_looks_linear_HT))"
      ],
      "metadata": {
        "colab": {
          "base_uri": "https://localhost:8080/"
        },
        "id": "mGhe6-voEz8j",
        "outputId": "344d6fb7-eda3-49da-ba48-3e841ab3e468"
      },
      "execution_count": 15,
      "outputs": [
        {
          "output_type": "stream",
          "name": "stdout",
          "text": [
            "Fitting 5 folds for each of 6 candidates, totalling 30 fits\n",
            "[CV 1/5] END ............C=0.001, kernel=linear;, score=0.730 total time=   0.9s\n",
            "[CV 2/5] END ............C=0.001, kernel=linear;, score=0.730 total time=   0.9s\n",
            "[CV 3/5] END ............C=0.001, kernel=linear;, score=0.730 total time=   0.8s\n",
            "[CV 4/5] END ............C=0.001, kernel=linear;, score=0.730 total time=   0.8s\n",
            "[CV 5/5] END ............C=0.001, kernel=linear;, score=0.730 total time=   0.8s\n",
            "[CV 1/5] END ..............C=0.1, kernel=linear;, score=0.950 total time=   0.6s\n",
            "[CV 2/5] END ..............C=0.1, kernel=linear;, score=0.944 total time=   0.6s\n",
            "[CV 3/5] END ..............C=0.1, kernel=linear;, score=0.943 total time=   0.6s\n",
            "[CV 4/5] END ..............C=0.1, kernel=linear;, score=0.934 total time=   0.5s\n",
            "[CV 5/5] END ..............C=0.1, kernel=linear;, score=0.950 total time=   0.6s\n",
            "[CV 1/5] END ................C=1, kernel=linear;, score=0.974 total time=   0.4s\n",
            "[CV 2/5] END ................C=1, kernel=linear;, score=0.971 total time=   0.4s\n",
            "[CV 3/5] END ................C=1, kernel=linear;, score=0.965 total time=   0.4s\n",
            "[CV 4/5] END ................C=1, kernel=linear;, score=0.971 total time=   0.4s\n",
            "[CV 5/5] END ................C=1, kernel=linear;, score=0.973 total time=   0.4s\n",
            "[CV 1/5] END ...............C=10, kernel=linear;, score=0.975 total time=   0.4s\n",
            "[CV 2/5] END ...............C=10, kernel=linear;, score=0.976 total time=   0.4s\n",
            "[CV 3/5] END ...............C=10, kernel=linear;, score=0.968 total time=   0.4s\n",
            "[CV 4/5] END ...............C=10, kernel=linear;, score=0.973 total time=   0.3s\n",
            "[CV 5/5] END ...............C=10, kernel=linear;, score=0.970 total time=   0.4s\n",
            "[CV 1/5] END ..............C=100, kernel=linear;, score=0.971 total time=   0.4s\n",
            "[CV 2/5] END ..............C=100, kernel=linear;, score=0.976 total time=   0.4s\n",
            "[CV 3/5] END ..............C=100, kernel=linear;, score=0.968 total time=   0.4s\n",
            "[CV 4/5] END ..............C=100, kernel=linear;, score=0.975 total time=   0.3s\n",
            "[CV 5/5] END ..............C=100, kernel=linear;, score=0.969 total time=   0.3s\n",
            "[CV 1/5] END .............C=1000, kernel=linear;, score=0.971 total time=   0.4s\n",
            "[CV 2/5] END .............C=1000, kernel=linear;, score=0.976 total time=   0.4s\n",
            "[CV 3/5] END .............C=1000, kernel=linear;, score=0.968 total time=   0.4s\n",
            "[CV 4/5] END .............C=1000, kernel=linear;, score=0.975 total time=   0.3s\n",
            "[CV 5/5] END .............C=1000, kernel=linear;, score=0.969 total time=   0.3s\n",
            "Selected Kernel:  linear\n",
            "Selected C:  10\n",
            "Best Score : 0.9722500000000001\n",
            "best estimator: SVC(C=10, kernel='linear')\n"
          ]
        }
      ]
    },
    {
      "cell_type": "markdown",
      "source": [
        "* Polynomial Kernel"
      ],
      "metadata": {
        "id": "zYzh-jrhyxVi"
      }
    },
    {
      "cell_type": "code",
      "source": [
        "param_grid = {'C': [0.001, 0.1, 1, 10, 100, 1000],\n",
        "              'kernel': ['poly'],\n",
        "              'degree':[1, 2, 3, 4, 5, 6],\n",
        "              'gamma' :['auto', 'scale']\n",
        "             }\n",
        " \n",
        "grid = GridSearchCV(svm.SVC(), param_grid, scoring='accuracy', refit = True, verbose = 3) \n",
        "# fitting the model for grid search\n",
        "grid.fit(x_spesifikasi_train_vectorized, y_spesifikasi_train)\n",
        "\n",
        "\n",
        "selected_kernel_poly = grid.best_params_['kernel']\n",
        "print(\"Selected Kernel: \", selected_kernel_poly)\n",
        "selected_C_poly= grid.best_params_['C']\n",
        "print(\"Selected C: \", selected_C_poly)\n",
        "selected_gamma_poly = grid.best_params_['gamma']\n",
        "print(\"Selected Gamma: \", selected_gamma_poly)\n",
        "selected_degree_poly = grid.best_params_['degree']\n",
        "print(\"Selected Degree: \", selected_degree_poly)\n",
        "\n",
        "best_params_poly_HT = grid.best_params_\n",
        "model_looks_poly_HT= grid.best_estimator_\n",
        "\n",
        "print(f'Best Score : {grid.best_score_}')\n",
        "print(\"best estimator: %s\" % (model_looks_poly_HT))"
      ],
      "metadata": {
        "colab": {
          "base_uri": "https://localhost:8080/"
        },
        "id": "kyy2Uaqpy1VZ",
        "outputId": "c18035a4-c276-4bc1-a76d-66785ad5884d"
      },
      "execution_count": 16,
      "outputs": [
        {
          "output_type": "stream",
          "name": "stdout",
          "text": [
            "Fitting 5 folds for each of 72 candidates, totalling 360 fits\n",
            "[CV 1/5] END C=0.001, degree=1, gamma=auto, kernel=poly;, score=0.730 total time=   0.6s\n",
            "[CV 2/5] END C=0.001, degree=1, gamma=auto, kernel=poly;, score=0.730 total time=   0.6s\n",
            "[CV 3/5] END C=0.001, degree=1, gamma=auto, kernel=poly;, score=0.730 total time=   0.6s\n",
            "[CV 4/5] END C=0.001, degree=1, gamma=auto, kernel=poly;, score=0.730 total time=   0.6s\n",
            "[CV 5/5] END C=0.001, degree=1, gamma=auto, kernel=poly;, score=0.730 total time=   0.6s\n",
            "[CV 1/5] END C=0.001, degree=1, gamma=scale, kernel=poly;, score=0.730 total time=   0.9s\n",
            "[CV 2/5] END C=0.001, degree=1, gamma=scale, kernel=poly;, score=0.730 total time=   0.9s\n",
            "[CV 3/5] END C=0.001, degree=1, gamma=scale, kernel=poly;, score=0.730 total time=   0.9s\n",
            "[CV 4/5] END C=0.001, degree=1, gamma=scale, kernel=poly;, score=0.730 total time=   0.9s\n",
            "[CV 5/5] END C=0.001, degree=1, gamma=scale, kernel=poly;, score=0.730 total time=   0.9s\n",
            "[CV 1/5] END C=0.001, degree=2, gamma=auto, kernel=poly;, score=0.730 total time=   0.6s\n",
            "[CV 2/5] END C=0.001, degree=2, gamma=auto, kernel=poly;, score=0.730 total time=   0.6s\n",
            "[CV 3/5] END C=0.001, degree=2, gamma=auto, kernel=poly;, score=0.730 total time=   0.6s\n",
            "[CV 4/5] END C=0.001, degree=2, gamma=auto, kernel=poly;, score=0.730 total time=   0.6s\n",
            "[CV 5/5] END C=0.001, degree=2, gamma=auto, kernel=poly;, score=0.730 total time=   0.6s\n",
            "[CV 1/5] END C=0.001, degree=2, gamma=scale, kernel=poly;, score=0.730 total time=   0.9s\n",
            "[CV 2/5] END C=0.001, degree=2, gamma=scale, kernel=poly;, score=0.730 total time=   0.9s\n",
            "[CV 3/5] END C=0.001, degree=2, gamma=scale, kernel=poly;, score=0.730 total time=   0.9s\n",
            "[CV 4/5] END C=0.001, degree=2, gamma=scale, kernel=poly;, score=0.730 total time=   0.9s\n",
            "[CV 5/5] END C=0.001, degree=2, gamma=scale, kernel=poly;, score=0.730 total time=   0.9s\n",
            "[CV 1/5] END C=0.001, degree=3, gamma=auto, kernel=poly;, score=0.730 total time=   0.6s\n",
            "[CV 2/5] END C=0.001, degree=3, gamma=auto, kernel=poly;, score=0.730 total time=   0.6s\n",
            "[CV 3/5] END C=0.001, degree=3, gamma=auto, kernel=poly;, score=0.730 total time=   0.6s\n",
            "[CV 4/5] END C=0.001, degree=3, gamma=auto, kernel=poly;, score=0.730 total time=   0.6s\n",
            "[CV 5/5] END C=0.001, degree=3, gamma=auto, kernel=poly;, score=0.730 total time=   0.6s\n",
            "[CV 1/5] END C=0.001, degree=3, gamma=scale, kernel=poly;, score=0.730 total time=   0.9s\n",
            "[CV 2/5] END C=0.001, degree=3, gamma=scale, kernel=poly;, score=0.730 total time=   0.9s\n",
            "[CV 3/5] END C=0.001, degree=3, gamma=scale, kernel=poly;, score=0.730 total time=   0.9s\n",
            "[CV 4/5] END C=0.001, degree=3, gamma=scale, kernel=poly;, score=0.730 total time=   0.9s\n",
            "[CV 5/5] END C=0.001, degree=3, gamma=scale, kernel=poly;, score=0.730 total time=   0.9s\n",
            "[CV 1/5] END C=0.001, degree=4, gamma=auto, kernel=poly;, score=0.730 total time=   0.6s\n",
            "[CV 2/5] END C=0.001, degree=4, gamma=auto, kernel=poly;, score=0.730 total time=   0.6s\n",
            "[CV 3/5] END C=0.001, degree=4, gamma=auto, kernel=poly;, score=0.730 total time=   0.6s\n",
            "[CV 4/5] END C=0.001, degree=4, gamma=auto, kernel=poly;, score=0.730 total time=   0.6s\n",
            "[CV 5/5] END C=0.001, degree=4, gamma=auto, kernel=poly;, score=0.730 total time=   0.6s\n",
            "[CV 1/5] END C=0.001, degree=4, gamma=scale, kernel=poly;, score=0.730 total time=   0.9s\n",
            "[CV 2/5] END C=0.001, degree=4, gamma=scale, kernel=poly;, score=0.730 total time=   0.9s\n",
            "[CV 3/5] END C=0.001, degree=4, gamma=scale, kernel=poly;, score=0.730 total time=   0.9s\n",
            "[CV 4/5] END C=0.001, degree=4, gamma=scale, kernel=poly;, score=0.730 total time=   0.9s\n",
            "[CV 5/5] END C=0.001, degree=4, gamma=scale, kernel=poly;, score=0.730 total time=   0.9s\n",
            "[CV 1/5] END C=0.001, degree=5, gamma=auto, kernel=poly;, score=0.730 total time=   0.6s\n",
            "[CV 2/5] END C=0.001, degree=5, gamma=auto, kernel=poly;, score=0.730 total time=   0.6s\n",
            "[CV 3/5] END C=0.001, degree=5, gamma=auto, kernel=poly;, score=0.730 total time=   0.6s\n",
            "[CV 4/5] END C=0.001, degree=5, gamma=auto, kernel=poly;, score=0.730 total time=   0.6s\n",
            "[CV 5/5] END C=0.001, degree=5, gamma=auto, kernel=poly;, score=0.730 total time=   0.6s\n",
            "[CV 1/5] END C=0.001, degree=5, gamma=scale, kernel=poly;, score=0.730 total time=   0.9s\n",
            "[CV 2/5] END C=0.001, degree=5, gamma=scale, kernel=poly;, score=0.730 total time=   0.9s\n",
            "[CV 3/5] END C=0.001, degree=5, gamma=scale, kernel=poly;, score=0.730 total time=   0.9s\n",
            "[CV 4/5] END C=0.001, degree=5, gamma=scale, kernel=poly;, score=0.730 total time=   0.9s\n",
            "[CV 5/5] END C=0.001, degree=5, gamma=scale, kernel=poly;, score=0.730 total time=   0.9s\n",
            "[CV 1/5] END C=0.001, degree=6, gamma=auto, kernel=poly;, score=0.730 total time=   0.6s\n",
            "[CV 2/5] END C=0.001, degree=6, gamma=auto, kernel=poly;, score=0.730 total time=   0.6s\n",
            "[CV 3/5] END C=0.001, degree=6, gamma=auto, kernel=poly;, score=0.730 total time=   0.6s\n",
            "[CV 4/5] END C=0.001, degree=6, gamma=auto, kernel=poly;, score=0.730 total time=   0.6s\n",
            "[CV 5/5] END C=0.001, degree=6, gamma=auto, kernel=poly;, score=0.730 total time=   0.6s\n",
            "[CV 1/5] END C=0.001, degree=6, gamma=scale, kernel=poly;, score=0.730 total time=   0.9s\n",
            "[CV 2/5] END C=0.001, degree=6, gamma=scale, kernel=poly;, score=0.730 total time=   0.9s\n",
            "[CV 3/5] END C=0.001, degree=6, gamma=scale, kernel=poly;, score=0.730 total time=   0.9s\n",
            "[CV 4/5] END C=0.001, degree=6, gamma=scale, kernel=poly;, score=0.730 total time=   0.9s\n",
            "[CV 5/5] END C=0.001, degree=6, gamma=scale, kernel=poly;, score=0.730 total time=   0.9s\n",
            "[CV 1/5] END C=0.1, degree=1, gamma=auto, kernel=poly;, score=0.730 total time=   0.8s\n",
            "[CV 2/5] END C=0.1, degree=1, gamma=auto, kernel=poly;, score=0.730 total time=   0.8s\n",
            "[CV 3/5] END C=0.1, degree=1, gamma=auto, kernel=poly;, score=0.730 total time=   0.8s\n",
            "[CV 4/5] END C=0.1, degree=1, gamma=auto, kernel=poly;, score=0.730 total time=   0.8s\n",
            "[CV 5/5] END C=0.1, degree=1, gamma=auto, kernel=poly;, score=0.730 total time=   0.8s\n",
            "[CV 1/5] END C=0.1, degree=1, gamma=scale, kernel=poly;, score=0.950 total time=   0.6s\n",
            "[CV 2/5] END C=0.1, degree=1, gamma=scale, kernel=poly;, score=0.944 total time=   0.6s\n",
            "[CV 3/5] END C=0.1, degree=1, gamma=scale, kernel=poly;, score=0.943 total time=   0.6s\n",
            "[CV 4/5] END C=0.1, degree=1, gamma=scale, kernel=poly;, score=0.934 total time=   0.6s\n",
            "[CV 5/5] END C=0.1, degree=1, gamma=scale, kernel=poly;, score=0.950 total time=   0.6s\n",
            "[CV 1/5] END C=0.1, degree=2, gamma=auto, kernel=poly;, score=0.730 total time=   0.6s\n",
            "[CV 2/5] END C=0.1, degree=2, gamma=auto, kernel=poly;, score=0.730 total time=   0.7s\n",
            "[CV 3/5] END C=0.1, degree=2, gamma=auto, kernel=poly;, score=0.730 total time=   0.6s\n",
            "[CV 4/5] END C=0.1, degree=2, gamma=auto, kernel=poly;, score=0.730 total time=   0.6s\n",
            "[CV 5/5] END C=0.1, degree=2, gamma=auto, kernel=poly;, score=0.730 total time=   0.6s\n",
            "[CV 1/5] END C=0.1, degree=2, gamma=scale, kernel=poly;, score=0.787 total time=   0.9s\n",
            "[CV 2/5] END C=0.1, degree=2, gamma=scale, kernel=poly;, score=0.801 total time=   0.9s\n",
            "[CV 3/5] END C=0.1, degree=2, gamma=scale, kernel=poly;, score=0.789 total time=   0.9s\n",
            "[CV 4/5] END C=0.1, degree=2, gamma=scale, kernel=poly;, score=0.800 total time=   1.4s\n",
            "[CV 5/5] END C=0.1, degree=2, gamma=scale, kernel=poly;, score=0.785 total time=   1.4s\n",
            "[CV 1/5] END C=0.1, degree=3, gamma=auto, kernel=poly;, score=0.730 total time=   1.1s\n",
            "[CV 2/5] END C=0.1, degree=3, gamma=auto, kernel=poly;, score=0.730 total time=   0.7s\n",
            "[CV 3/5] END C=0.1, degree=3, gamma=auto, kernel=poly;, score=0.730 total time=   0.6s\n",
            "[CV 4/5] END C=0.1, degree=3, gamma=auto, kernel=poly;, score=0.730 total time=   0.6s\n",
            "[CV 5/5] END C=0.1, degree=3, gamma=auto, kernel=poly;, score=0.730 total time=   0.6s\n",
            "[CV 1/5] END C=0.1, degree=3, gamma=scale, kernel=poly;, score=0.761 total time=   1.2s\n",
            "[CV 2/5] END C=0.1, degree=3, gamma=scale, kernel=poly;, score=0.769 total time=   1.2s\n",
            "[CV 3/5] END C=0.1, degree=3, gamma=scale, kernel=poly;, score=0.760 total time=   1.2s\n",
            "[CV 4/5] END C=0.1, degree=3, gamma=scale, kernel=poly;, score=0.767 total time=   1.2s\n",
            "[CV 5/5] END C=0.1, degree=3, gamma=scale, kernel=poly;, score=0.754 total time=   1.2s\n",
            "[CV 1/5] END C=0.1, degree=4, gamma=auto, kernel=poly;, score=0.730 total time=   0.6s\n",
            "[CV 2/5] END C=0.1, degree=4, gamma=auto, kernel=poly;, score=0.730 total time=   0.7s\n",
            "[CV 3/5] END C=0.1, degree=4, gamma=auto, kernel=poly;, score=0.730 total time=   0.7s\n",
            "[CV 4/5] END C=0.1, degree=4, gamma=auto, kernel=poly;, score=0.730 total time=   0.6s\n",
            "[CV 5/5] END C=0.1, degree=4, gamma=auto, kernel=poly;, score=0.730 total time=   0.7s\n",
            "[CV 1/5] END C=0.1, degree=4, gamma=scale, kernel=poly;, score=0.756 total time=   1.6s\n",
            "[CV 2/5] END C=0.1, degree=4, gamma=scale, kernel=poly;, score=0.765 total time=   1.6s\n",
            "[CV 3/5] END C=0.1, degree=4, gamma=scale, kernel=poly;, score=0.754 total time=   1.6s\n",
            "[CV 4/5] END C=0.1, degree=4, gamma=scale, kernel=poly;, score=0.759 total time=   1.6s\n",
            "[CV 5/5] END C=0.1, degree=4, gamma=scale, kernel=poly;, score=0.750 total time=   1.6s\n",
            "[CV 1/5] END C=0.1, degree=5, gamma=auto, kernel=poly;, score=0.730 total time=   0.6s\n",
            "[CV 2/5] END C=0.1, degree=5, gamma=auto, kernel=poly;, score=0.730 total time=   0.6s\n",
            "[CV 3/5] END C=0.1, degree=5, gamma=auto, kernel=poly;, score=0.730 total time=   0.7s\n",
            "[CV 4/5] END C=0.1, degree=5, gamma=auto, kernel=poly;, score=0.730 total time=   0.6s\n",
            "[CV 5/5] END C=0.1, degree=5, gamma=auto, kernel=poly;, score=0.730 total time=   0.6s\n",
            "[CV 1/5] END C=0.1, degree=5, gamma=scale, kernel=poly;, score=0.750 total time=   1.7s\n",
            "[CV 2/5] END C=0.1, degree=5, gamma=scale, kernel=poly;, score=0.760 total time=   1.7s\n",
            "[CV 3/5] END C=0.1, degree=5, gamma=scale, kernel=poly;, score=0.750 total time=   1.7s\n",
            "[CV 4/5] END C=0.1, degree=5, gamma=scale, kernel=poly;, score=0.756 total time=   1.7s\n",
            "[CV 5/5] END C=0.1, degree=5, gamma=scale, kernel=poly;, score=0.749 total time=   1.7s\n",
            "[CV 1/5] END C=0.1, degree=6, gamma=auto, kernel=poly;, score=0.730 total time=   0.6s\n",
            "[CV 2/5] END C=0.1, degree=6, gamma=auto, kernel=poly;, score=0.730 total time=   0.6s\n",
            "[CV 3/5] END C=0.1, degree=6, gamma=auto, kernel=poly;, score=0.730 total time=   0.6s\n",
            "[CV 4/5] END C=0.1, degree=6, gamma=auto, kernel=poly;, score=0.730 total time=   0.6s\n",
            "[CV 5/5] END C=0.1, degree=6, gamma=auto, kernel=poly;, score=0.730 total time=   0.6s\n",
            "[CV 1/5] END C=0.1, degree=6, gamma=scale, kernel=poly;, score=0.749 total time=   1.7s\n",
            "[CV 2/5] END C=0.1, degree=6, gamma=scale, kernel=poly;, score=0.754 total time=   1.7s\n",
            "[CV 3/5] END C=0.1, degree=6, gamma=scale, kernel=poly;, score=0.749 total time=   1.7s\n",
            "[CV 4/5] END C=0.1, degree=6, gamma=scale, kernel=poly;, score=0.755 total time=   1.7s\n",
            "[CV 5/5] END C=0.1, degree=6, gamma=scale, kernel=poly;, score=0.748 total time=   1.7s\n",
            "[CV 1/5] END C=1, degree=1, gamma=auto, kernel=poly;, score=0.730 total time=   0.9s\n",
            "[CV 2/5] END C=1, degree=1, gamma=auto, kernel=poly;, score=0.730 total time=   0.9s\n",
            "[CV 3/5] END C=1, degree=1, gamma=auto, kernel=poly;, score=0.730 total time=   0.9s\n",
            "[CV 4/5] END C=1, degree=1, gamma=auto, kernel=poly;, score=0.730 total time=   0.9s\n",
            "[CV 5/5] END C=1, degree=1, gamma=auto, kernel=poly;, score=0.730 total time=   0.9s\n",
            "[CV 1/5] END C=1, degree=1, gamma=scale, kernel=poly;, score=0.974 total time=   0.4s\n",
            "[CV 2/5] END C=1, degree=1, gamma=scale, kernel=poly;, score=0.971 total time=   0.4s\n",
            "[CV 3/5] END C=1, degree=1, gamma=scale, kernel=poly;, score=0.965 total time=   0.4s\n",
            "[CV 4/5] END C=1, degree=1, gamma=scale, kernel=poly;, score=0.971 total time=   0.4s\n",
            "[CV 5/5] END C=1, degree=1, gamma=scale, kernel=poly;, score=0.973 total time=   0.4s\n",
            "[CV 1/5] END C=1, degree=2, gamma=auto, kernel=poly;, score=0.730 total time=   0.6s\n",
            "[CV 2/5] END C=1, degree=2, gamma=auto, kernel=poly;, score=0.730 total time=   0.7s\n",
            "[CV 3/5] END C=1, degree=2, gamma=auto, kernel=poly;, score=0.730 total time=   0.7s\n",
            "[CV 4/5] END C=1, degree=2, gamma=auto, kernel=poly;, score=0.730 total time=   0.6s\n",
            "[CV 5/5] END C=1, degree=2, gamma=auto, kernel=poly;, score=0.730 total time=   0.6s\n",
            "[CV 1/5] END C=1, degree=2, gamma=scale, kernel=poly;, score=0.961 total time=   0.8s\n",
            "[CV 2/5] END C=1, degree=2, gamma=scale, kernel=poly;, score=0.954 total time=   0.8s\n",
            "[CV 3/5] END C=1, degree=2, gamma=scale, kernel=poly;, score=0.965 total time=   0.8s\n",
            "[CV 4/5] END C=1, degree=2, gamma=scale, kernel=poly;, score=0.961 total time=   0.8s\n",
            "[CV 5/5] END C=1, degree=2, gamma=scale, kernel=poly;, score=0.961 total time=   0.8s\n",
            "[CV 1/5] END C=1, degree=3, gamma=auto, kernel=poly;, score=0.730 total time=   0.6s\n",
            "[CV 2/5] END C=1, degree=3, gamma=auto, kernel=poly;, score=0.730 total time=   0.6s\n",
            "[CV 3/5] END C=1, degree=3, gamma=auto, kernel=poly;, score=0.730 total time=   0.6s\n",
            "[CV 4/5] END C=1, degree=3, gamma=auto, kernel=poly;, score=0.730 total time=   0.6s\n",
            "[CV 5/5] END C=1, degree=3, gamma=auto, kernel=poly;, score=0.730 total time=   0.6s\n",
            "[CV 1/5] END C=1, degree=3, gamma=scale, kernel=poly;, score=0.902 total time=   1.2s\n",
            "[CV 2/5] END C=1, degree=3, gamma=scale, kernel=poly;, score=0.899 total time=   1.2s\n",
            "[CV 3/5] END C=1, degree=3, gamma=scale, kernel=poly;, score=0.891 total time=   1.2s\n",
            "[CV 4/5] END C=1, degree=3, gamma=scale, kernel=poly;, score=0.896 total time=   1.2s\n",
            "[CV 5/5] END C=1, degree=3, gamma=scale, kernel=poly;, score=0.886 total time=   1.2s\n",
            "[CV 1/5] END C=1, degree=4, gamma=auto, kernel=poly;, score=0.730 total time=   0.7s\n",
            "[CV 2/5] END C=1, degree=4, gamma=auto, kernel=poly;, score=0.730 total time=   0.7s\n",
            "[CV 3/5] END C=1, degree=4, gamma=auto, kernel=poly;, score=0.730 total time=   0.7s\n",
            "[CV 4/5] END C=1, degree=4, gamma=auto, kernel=poly;, score=0.730 total time=   0.6s\n",
            "[CV 5/5] END C=1, degree=4, gamma=auto, kernel=poly;, score=0.730 total time=   0.6s\n",
            "[CV 1/5] END C=1, degree=4, gamma=scale, kernel=poly;, score=0.809 total time=   1.8s\n",
            "[CV 2/5] END C=1, degree=4, gamma=scale, kernel=poly;, score=0.815 total time=   1.6s\n",
            "[CV 3/5] END C=1, degree=4, gamma=scale, kernel=poly;, score=0.815 total time=   1.8s\n",
            "[CV 4/5] END C=1, degree=4, gamma=scale, kernel=poly;, score=0.821 total time=   1.8s\n",
            "[CV 5/5] END C=1, degree=4, gamma=scale, kernel=poly;, score=0.806 total time=   1.8s\n",
            "[CV 1/5] END C=1, degree=5, gamma=auto, kernel=poly;, score=0.730 total time=   0.6s\n",
            "[CV 2/5] END C=1, degree=5, gamma=auto, kernel=poly;, score=0.730 total time=   0.6s\n",
            "[CV 3/5] END C=1, degree=5, gamma=auto, kernel=poly;, score=0.730 total time=   0.7s\n",
            "[CV 4/5] END C=1, degree=5, gamma=auto, kernel=poly;, score=0.730 total time=   0.6s\n",
            "[CV 5/5] END C=1, degree=5, gamma=auto, kernel=poly;, score=0.730 total time=   0.6s\n",
            "[CV 1/5] END C=1, degree=5, gamma=scale, kernel=poly;, score=0.797 total time=   1.9s\n",
            "[CV 2/5] END C=1, degree=5, gamma=scale, kernel=poly;, score=0.801 total time=   1.9s\n",
            "[CV 3/5] END C=1, degree=5, gamma=scale, kernel=poly;, score=0.795 total time=   1.9s\n",
            "[CV 4/5] END C=1, degree=5, gamma=scale, kernel=poly;, score=0.800 total time=   1.8s\n",
            "[CV 5/5] END C=1, degree=5, gamma=scale, kernel=poly;, score=0.789 total time=   1.9s\n",
            "[CV 1/5] END C=1, degree=6, gamma=auto, kernel=poly;, score=0.730 total time=   0.6s\n",
            "[CV 2/5] END C=1, degree=6, gamma=auto, kernel=poly;, score=0.730 total time=   0.6s\n",
            "[CV 3/5] END C=1, degree=6, gamma=auto, kernel=poly;, score=0.730 total time=   0.6s\n",
            "[CV 4/5] END C=1, degree=6, gamma=auto, kernel=poly;, score=0.730 total time=   0.6s\n",
            "[CV 5/5] END C=1, degree=6, gamma=auto, kernel=poly;, score=0.730 total time=   0.6s\n",
            "[CV 1/5] END C=1, degree=6, gamma=scale, kernel=poly;, score=0.787 total time=   1.9s\n",
            "[CV 2/5] END C=1, degree=6, gamma=scale, kernel=poly;, score=0.789 total time=   1.9s\n",
            "[CV 3/5] END C=1, degree=6, gamma=scale, kernel=poly;, score=0.781 total time=   1.9s\n",
            "[CV 4/5] END C=1, degree=6, gamma=scale, kernel=poly;, score=0.796 total time=   1.9s\n",
            "[CV 5/5] END C=1, degree=6, gamma=scale, kernel=poly;, score=0.777 total time=   1.9s\n",
            "[CV 1/5] END C=10, degree=1, gamma=auto, kernel=poly;, score=0.730 total time=   0.9s\n",
            "[CV 2/5] END C=10, degree=1, gamma=auto, kernel=poly;, score=0.730 total time=   0.9s\n",
            "[CV 3/5] END C=10, degree=1, gamma=auto, kernel=poly;, score=0.730 total time=   0.9s\n",
            "[CV 4/5] END C=10, degree=1, gamma=auto, kernel=poly;, score=0.730 total time=   0.9s\n",
            "[CV 5/5] END C=10, degree=1, gamma=auto, kernel=poly;, score=0.730 total time=   0.9s\n",
            "[CV 1/5] END C=10, degree=1, gamma=scale, kernel=poly;, score=0.975 total time=   0.4s\n",
            "[CV 2/5] END C=10, degree=1, gamma=scale, kernel=poly;, score=0.976 total time=   0.4s\n",
            "[CV 3/5] END C=10, degree=1, gamma=scale, kernel=poly;, score=0.968 total time=   0.4s\n",
            "[CV 4/5] END C=10, degree=1, gamma=scale, kernel=poly;, score=0.973 total time=   0.4s\n",
            "[CV 5/5] END C=10, degree=1, gamma=scale, kernel=poly;, score=0.970 total time=   0.4s\n",
            "[CV 1/5] END C=10, degree=2, gamma=auto, kernel=poly;, score=0.730 total time=   0.6s\n",
            "[CV 2/5] END C=10, degree=2, gamma=auto, kernel=poly;, score=0.730 total time=   0.6s\n",
            "[CV 3/5] END C=10, degree=2, gamma=auto, kernel=poly;, score=0.730 total time=   0.7s\n",
            "[CV 4/5] END C=10, degree=2, gamma=auto, kernel=poly;, score=0.730 total time=   0.6s\n",
            "[CV 5/5] END C=10, degree=2, gamma=auto, kernel=poly;, score=0.730 total time=   0.6s\n",
            "[CV 1/5] END C=10, degree=2, gamma=scale, kernel=poly;, score=0.970 total time=   0.8s\n",
            "[CV 2/5] END C=10, degree=2, gamma=scale, kernel=poly;, score=0.956 total time=   0.8s\n",
            "[CV 3/5] END C=10, degree=2, gamma=scale, kernel=poly;, score=0.968 total time=   0.8s\n",
            "[CV 4/5] END C=10, degree=2, gamma=scale, kernel=poly;, score=0.964 total time=   0.8s\n",
            "[CV 5/5] END C=10, degree=2, gamma=scale, kernel=poly;, score=0.964 total time=   0.8s\n",
            "[CV 1/5] END C=10, degree=3, gamma=auto, kernel=poly;, score=0.730 total time=   0.6s\n",
            "[CV 2/5] END C=10, degree=3, gamma=auto, kernel=poly;, score=0.730 total time=   0.6s\n",
            "[CV 3/5] END C=10, degree=3, gamma=auto, kernel=poly;, score=0.730 total time=   0.6s\n",
            "[CV 4/5] END C=10, degree=3, gamma=auto, kernel=poly;, score=0.730 total time=   0.6s\n",
            "[CV 5/5] END C=10, degree=3, gamma=auto, kernel=poly;, score=0.730 total time=   0.6s\n",
            "[CV 1/5] END C=10, degree=3, gamma=scale, kernel=poly;, score=0.907 total time=   1.5s\n",
            "[CV 2/5] END C=10, degree=3, gamma=scale, kernel=poly;, score=0.911 total time=   1.5s\n",
            "[CV 3/5] END C=10, degree=3, gamma=scale, kernel=poly;, score=0.901 total time=   1.5s\n",
            "[CV 4/5] END C=10, degree=3, gamma=scale, kernel=poly;, score=0.901 total time=   1.5s\n",
            "[CV 5/5] END C=10, degree=3, gamma=scale, kernel=poly;, score=0.900 total time=   1.5s\n",
            "[CV 1/5] END C=10, degree=4, gamma=auto, kernel=poly;, score=0.730 total time=   0.7s\n",
            "[CV 2/5] END C=10, degree=4, gamma=auto, kernel=poly;, score=0.730 total time=   0.7s\n",
            "[CV 3/5] END C=10, degree=4, gamma=auto, kernel=poly;, score=0.730 total time=   0.7s\n",
            "[CV 4/5] END C=10, degree=4, gamma=auto, kernel=poly;, score=0.730 total time=   0.7s\n",
            "[CV 5/5] END C=10, degree=4, gamma=auto, kernel=poly;, score=0.730 total time=   0.7s\n",
            "[CV 1/5] END C=10, degree=4, gamma=scale, kernel=poly;, score=0.823 total time=   1.9s\n",
            "[CV 2/5] END C=10, degree=4, gamma=scale, kernel=poly;, score=0.829 total time=   1.9s\n",
            "[CV 3/5] END C=10, degree=4, gamma=scale, kernel=poly;, score=0.825 total time=   1.9s\n",
            "[CV 4/5] END C=10, degree=4, gamma=scale, kernel=poly;, score=0.826 total time=   1.9s\n",
            "[CV 5/5] END C=10, degree=4, gamma=scale, kernel=poly;, score=0.815 total time=   1.9s\n",
            "[CV 1/5] END C=10, degree=5, gamma=auto, kernel=poly;, score=0.730 total time=   0.7s\n",
            "[CV 2/5] END C=10, degree=5, gamma=auto, kernel=poly;, score=0.730 total time=   0.7s\n",
            "[CV 3/5] END C=10, degree=5, gamma=auto, kernel=poly;, score=0.730 total time=   0.6s\n",
            "[CV 4/5] END C=10, degree=5, gamma=auto, kernel=poly;, score=0.730 total time=   0.6s\n",
            "[CV 5/5] END C=10, degree=5, gamma=auto, kernel=poly;, score=0.730 total time=   0.7s\n",
            "[CV 1/5] END C=10, degree=5, gamma=scale, kernel=poly;, score=0.804 total time=   1.9s\n",
            "[CV 2/5] END C=10, degree=5, gamma=scale, kernel=poly;, score=0.805 total time=   1.9s\n",
            "[CV 3/5] END C=10, degree=5, gamma=scale, kernel=poly;, score=0.810 total time=   1.9s\n",
            "[CV 4/5] END C=10, degree=5, gamma=scale, kernel=poly;, score=0.814 total time=   1.9s\n",
            "[CV 5/5] END C=10, degree=5, gamma=scale, kernel=poly;, score=0.792 total time=   1.9s\n",
            "[CV 1/5] END C=10, degree=6, gamma=auto, kernel=poly;, score=0.730 total time=   0.6s\n",
            "[CV 2/5] END C=10, degree=6, gamma=auto, kernel=poly;, score=0.730 total time=   0.6s\n",
            "[CV 3/5] END C=10, degree=6, gamma=auto, kernel=poly;, score=0.730 total time=   0.6s\n",
            "[CV 4/5] END C=10, degree=6, gamma=auto, kernel=poly;, score=0.730 total time=   0.6s\n",
            "[CV 5/5] END C=10, degree=6, gamma=auto, kernel=poly;, score=0.730 total time=   0.6s\n",
            "[CV 1/5] END C=10, degree=6, gamma=scale, kernel=poly;, score=0.799 total time=   2.0s\n",
            "[CV 2/5] END C=10, degree=6, gamma=scale, kernel=poly;, score=0.796 total time=   2.0s\n",
            "[CV 3/5] END C=10, degree=6, gamma=scale, kernel=poly;, score=0.794 total time=   2.0s\n",
            "[CV 4/5] END C=10, degree=6, gamma=scale, kernel=poly;, score=0.799 total time=   2.0s\n",
            "[CV 5/5] END C=10, degree=6, gamma=scale, kernel=poly;, score=0.784 total time=   2.0s\n",
            "[CV 1/5] END C=100, degree=1, gamma=auto, kernel=poly;, score=0.931 total time=   0.7s\n",
            "[CV 2/5] END C=100, degree=1, gamma=auto, kernel=poly;, score=0.938 total time=   0.7s\n",
            "[CV 3/5] END C=100, degree=1, gamma=auto, kernel=poly;, score=0.939 total time=   0.7s\n",
            "[CV 4/5] END C=100, degree=1, gamma=auto, kernel=poly;, score=0.934 total time=   0.7s\n",
            "[CV 5/5] END C=100, degree=1, gamma=auto, kernel=poly;, score=0.930 total time=   0.7s\n",
            "[CV 1/5] END C=100, degree=1, gamma=scale, kernel=poly;, score=0.971 total time=   0.4s\n",
            "[CV 2/5] END C=100, degree=1, gamma=scale, kernel=poly;, score=0.976 total time=   0.4s\n",
            "[CV 3/5] END C=100, degree=1, gamma=scale, kernel=poly;, score=0.968 total time=   0.4s\n",
            "[CV 4/5] END C=100, degree=1, gamma=scale, kernel=poly;, score=0.975 total time=   0.3s\n",
            "[CV 5/5] END C=100, degree=1, gamma=scale, kernel=poly;, score=0.969 total time=   0.4s\n",
            "[CV 1/5] END C=100, degree=2, gamma=auto, kernel=poly;, score=0.730 total time=   0.7s\n",
            "[CV 2/5] END C=100, degree=2, gamma=auto, kernel=poly;, score=0.730 total time=   0.7s\n",
            "[CV 3/5] END C=100, degree=2, gamma=auto, kernel=poly;, score=0.730 total time=   0.7s\n",
            "[CV 4/5] END C=100, degree=2, gamma=auto, kernel=poly;, score=0.730 total time=   0.7s\n",
            "[CV 5/5] END C=100, degree=2, gamma=auto, kernel=poly;, score=0.730 total time=   0.7s\n",
            "[CV 1/5] END C=100, degree=2, gamma=scale, kernel=poly;, score=0.970 total time=   0.8s\n",
            "[CV 2/5] END C=100, degree=2, gamma=scale, kernel=poly;, score=0.956 total time=   0.8s\n",
            "[CV 3/5] END C=100, degree=2, gamma=scale, kernel=poly;, score=0.968 total time=   0.9s\n",
            "[CV 4/5] END C=100, degree=2, gamma=scale, kernel=poly;, score=0.964 total time=   0.8s\n",
            "[CV 5/5] END C=100, degree=2, gamma=scale, kernel=poly;, score=0.964 total time=   0.9s\n",
            "[CV 1/5] END C=100, degree=3, gamma=auto, kernel=poly;, score=0.730 total time=   0.6s\n",
            "[CV 2/5] END C=100, degree=3, gamma=auto, kernel=poly;, score=0.730 total time=   0.6s\n",
            "[CV 3/5] END C=100, degree=3, gamma=auto, kernel=poly;, score=0.730 total time=   0.6s\n",
            "[CV 4/5] END C=100, degree=3, gamma=auto, kernel=poly;, score=0.730 total time=   0.6s\n",
            "[CV 5/5] END C=100, degree=3, gamma=auto, kernel=poly;, score=0.730 total time=   0.7s\n",
            "[CV 1/5] END C=100, degree=3, gamma=scale, kernel=poly;, score=0.907 total time=   1.5s\n",
            "[CV 2/5] END C=100, degree=3, gamma=scale, kernel=poly;, score=0.911 total time=   1.5s\n",
            "[CV 3/5] END C=100, degree=3, gamma=scale, kernel=poly;, score=0.901 total time=   1.5s\n",
            "[CV 4/5] END C=100, degree=3, gamma=scale, kernel=poly;, score=0.901 total time=   1.5s\n",
            "[CV 5/5] END C=100, degree=3, gamma=scale, kernel=poly;, score=0.900 total time=   1.5s\n",
            "[CV 1/5] END C=100, degree=4, gamma=auto, kernel=poly;, score=0.730 total time=   0.7s\n",
            "[CV 2/5] END C=100, degree=4, gamma=auto, kernel=poly;, score=0.730 total time=   0.7s\n",
            "[CV 3/5] END C=100, degree=4, gamma=auto, kernel=poly;, score=0.730 total time=   0.7s\n",
            "[CV 4/5] END C=100, degree=4, gamma=auto, kernel=poly;, score=0.730 total time=   0.7s\n",
            "[CV 5/5] END C=100, degree=4, gamma=auto, kernel=poly;, score=0.730 total time=   0.7s\n",
            "[CV 1/5] END C=100, degree=4, gamma=scale, kernel=poly;, score=0.823 total time=   1.9s\n",
            "[CV 2/5] END C=100, degree=4, gamma=scale, kernel=poly;, score=0.829 total time=   1.9s\n",
            "[CV 3/5] END C=100, degree=4, gamma=scale, kernel=poly;, score=0.825 total time=   1.9s\n",
            "[CV 4/5] END C=100, degree=4, gamma=scale, kernel=poly;, score=0.826 total time=   1.9s\n",
            "[CV 5/5] END C=100, degree=4, gamma=scale, kernel=poly;, score=0.815 total time=   1.9s\n",
            "[CV 1/5] END C=100, degree=5, gamma=auto, kernel=poly;, score=0.730 total time=   0.7s\n",
            "[CV 2/5] END C=100, degree=5, gamma=auto, kernel=poly;, score=0.730 total time=   0.7s\n",
            "[CV 3/5] END C=100, degree=5, gamma=auto, kernel=poly;, score=0.730 total time=   0.6s\n",
            "[CV 4/5] END C=100, degree=5, gamma=auto, kernel=poly;, score=0.730 total time=   0.7s\n",
            "[CV 5/5] END C=100, degree=5, gamma=auto, kernel=poly;, score=0.730 total time=   0.6s\n",
            "[CV 1/5] END C=100, degree=5, gamma=scale, kernel=poly;, score=0.804 total time=   1.9s\n",
            "[CV 2/5] END C=100, degree=5, gamma=scale, kernel=poly;, score=0.805 total time=   1.9s\n",
            "[CV 3/5] END C=100, degree=5, gamma=scale, kernel=poly;, score=0.810 total time=   1.9s\n",
            "[CV 4/5] END C=100, degree=5, gamma=scale, kernel=poly;, score=0.814 total time=   1.9s\n",
            "[CV 5/5] END C=100, degree=5, gamma=scale, kernel=poly;, score=0.792 total time=   1.9s\n",
            "[CV 1/5] END C=100, degree=6, gamma=auto, kernel=poly;, score=0.730 total time=   0.6s\n",
            "[CV 2/5] END C=100, degree=6, gamma=auto, kernel=poly;, score=0.730 total time=   0.6s\n",
            "[CV 3/5] END C=100, degree=6, gamma=auto, kernel=poly;, score=0.730 total time=   0.6s\n",
            "[CV 4/5] END C=100, degree=6, gamma=auto, kernel=poly;, score=0.730 total time=   0.6s\n",
            "[CV 5/5] END C=100, degree=6, gamma=auto, kernel=poly;, score=0.730 total time=   0.6s\n",
            "[CV 1/5] END C=100, degree=6, gamma=scale, kernel=poly;, score=0.799 total time=   2.0s\n",
            "[CV 2/5] END C=100, degree=6, gamma=scale, kernel=poly;, score=0.796 total time=   2.0s\n",
            "[CV 3/5] END C=100, degree=6, gamma=scale, kernel=poly;, score=0.794 total time=   2.0s\n",
            "[CV 4/5] END C=100, degree=6, gamma=scale, kernel=poly;, score=0.799 total time=   2.0s\n",
            "[CV 5/5] END C=100, degree=6, gamma=scale, kernel=poly;, score=0.784 total time=   2.7s\n",
            "[CV 1/5] END C=1000, degree=1, gamma=auto, kernel=poly;, score=0.964 total time=   0.7s\n",
            "[CV 2/5] END C=1000, degree=1, gamma=auto, kernel=poly;, score=0.955 total time=   0.6s\n",
            "[CV 3/5] END C=1000, degree=1, gamma=auto, kernel=poly;, score=0.950 total time=   0.6s\n",
            "[CV 4/5] END C=1000, degree=1, gamma=auto, kernel=poly;, score=0.951 total time=   0.6s\n",
            "[CV 5/5] END C=1000, degree=1, gamma=auto, kernel=poly;, score=0.958 total time=   0.6s\n",
            "[CV 1/5] END C=1000, degree=1, gamma=scale, kernel=poly;, score=0.971 total time=   0.5s\n",
            "[CV 2/5] END C=1000, degree=1, gamma=scale, kernel=poly;, score=0.976 total time=   0.5s\n",
            "[CV 3/5] END C=1000, degree=1, gamma=scale, kernel=poly;, score=0.968 total time=   0.5s\n",
            "[CV 4/5] END C=1000, degree=1, gamma=scale, kernel=poly;, score=0.975 total time=   0.5s\n",
            "[CV 5/5] END C=1000, degree=1, gamma=scale, kernel=poly;, score=0.969 total time=   0.5s\n",
            "[CV 1/5] END C=1000, degree=2, gamma=auto, kernel=poly;, score=0.730 total time=   1.0s\n",
            "[CV 2/5] END C=1000, degree=2, gamma=auto, kernel=poly;, score=0.730 total time=   0.8s\n",
            "[CV 3/5] END C=1000, degree=2, gamma=auto, kernel=poly;, score=0.730 total time=   0.8s\n",
            "[CV 4/5] END C=1000, degree=2, gamma=auto, kernel=poly;, score=0.730 total time=   0.8s\n",
            "[CV 5/5] END C=1000, degree=2, gamma=auto, kernel=poly;, score=0.730 total time=   0.8s\n",
            "[CV 1/5] END C=1000, degree=2, gamma=scale, kernel=poly;, score=0.970 total time=   0.9s\n",
            "[CV 2/5] END C=1000, degree=2, gamma=scale, kernel=poly;, score=0.956 total time=   0.8s\n",
            "[CV 3/5] END C=1000, degree=2, gamma=scale, kernel=poly;, score=0.968 total time=   0.8s\n",
            "[CV 4/5] END C=1000, degree=2, gamma=scale, kernel=poly;, score=0.964 total time=   0.8s\n",
            "[CV 5/5] END C=1000, degree=2, gamma=scale, kernel=poly;, score=0.964 total time=   0.9s\n",
            "[CV 1/5] END C=1000, degree=3, gamma=auto, kernel=poly;, score=0.730 total time=   0.6s\n",
            "[CV 2/5] END C=1000, degree=3, gamma=auto, kernel=poly;, score=0.730 total time=   0.7s\n",
            "[CV 3/5] END C=1000, degree=3, gamma=auto, kernel=poly;, score=0.730 total time=   0.6s\n",
            "[CV 4/5] END C=1000, degree=3, gamma=auto, kernel=poly;, score=0.730 total time=   0.6s\n",
            "[CV 5/5] END C=1000, degree=3, gamma=auto, kernel=poly;, score=0.730 total time=   0.6s\n",
            "[CV 1/5] END C=1000, degree=3, gamma=scale, kernel=poly;, score=0.907 total time=   1.5s\n",
            "[CV 2/5] END C=1000, degree=3, gamma=scale, kernel=poly;, score=0.911 total time=   1.5s\n",
            "[CV 3/5] END C=1000, degree=3, gamma=scale, kernel=poly;, score=0.901 total time=   1.5s\n",
            "[CV 4/5] END C=1000, degree=3, gamma=scale, kernel=poly;, score=0.901 total time=   1.5s\n",
            "[CV 5/5] END C=1000, degree=3, gamma=scale, kernel=poly;, score=0.900 total time=   1.5s\n",
            "[CV 1/5] END C=1000, degree=4, gamma=auto, kernel=poly;, score=0.730 total time=   0.7s\n",
            "[CV 2/5] END C=1000, degree=4, gamma=auto, kernel=poly;, score=0.730 total time=   0.7s\n",
            "[CV 3/5] END C=1000, degree=4, gamma=auto, kernel=poly;, score=0.730 total time=   0.7s\n",
            "[CV 4/5] END C=1000, degree=4, gamma=auto, kernel=poly;, score=0.730 total time=   0.6s\n",
            "[CV 5/5] END C=1000, degree=4, gamma=auto, kernel=poly;, score=0.730 total time=   0.7s\n",
            "[CV 1/5] END C=1000, degree=4, gamma=scale, kernel=poly;, score=0.823 total time=   1.9s\n",
            "[CV 2/5] END C=1000, degree=4, gamma=scale, kernel=poly;, score=0.829 total time=   1.9s\n",
            "[CV 3/5] END C=1000, degree=4, gamma=scale, kernel=poly;, score=0.825 total time=   1.9s\n",
            "[CV 4/5] END C=1000, degree=4, gamma=scale, kernel=poly;, score=0.826 total time=   1.9s\n",
            "[CV 5/5] END C=1000, degree=4, gamma=scale, kernel=poly;, score=0.815 total time=   1.9s\n",
            "[CV 1/5] END C=1000, degree=5, gamma=auto, kernel=poly;, score=0.730 total time=   0.7s\n",
            "[CV 2/5] END C=1000, degree=5, gamma=auto, kernel=poly;, score=0.730 total time=   0.6s\n",
            "[CV 3/5] END C=1000, degree=5, gamma=auto, kernel=poly;, score=0.730 total time=   0.7s\n",
            "[CV 4/5] END C=1000, degree=5, gamma=auto, kernel=poly;, score=0.730 total time=   0.7s\n",
            "[CV 5/5] END C=1000, degree=5, gamma=auto, kernel=poly;, score=0.730 total time=   0.6s\n",
            "[CV 1/5] END C=1000, degree=5, gamma=scale, kernel=poly;, score=0.804 total time=   1.9s\n",
            "[CV 2/5] END C=1000, degree=5, gamma=scale, kernel=poly;, score=0.805 total time=   1.9s\n",
            "[CV 3/5] END C=1000, degree=5, gamma=scale, kernel=poly;, score=0.810 total time=   1.9s\n",
            "[CV 4/5] END C=1000, degree=5, gamma=scale, kernel=poly;, score=0.814 total time=   1.9s\n",
            "[CV 5/5] END C=1000, degree=5, gamma=scale, kernel=poly;, score=0.792 total time=   1.9s\n",
            "[CV 1/5] END C=1000, degree=6, gamma=auto, kernel=poly;, score=0.730 total time=   0.6s\n",
            "[CV 2/5] END C=1000, degree=6, gamma=auto, kernel=poly;, score=0.730 total time=   0.7s\n",
            "[CV 3/5] END C=1000, degree=6, gamma=auto, kernel=poly;, score=0.730 total time=   0.7s\n",
            "[CV 4/5] END C=1000, degree=6, gamma=auto, kernel=poly;, score=0.730 total time=   0.6s\n",
            "[CV 5/5] END C=1000, degree=6, gamma=auto, kernel=poly;, score=0.730 total time=   0.6s\n",
            "[CV 1/5] END C=1000, degree=6, gamma=scale, kernel=poly;, score=0.799 total time=   2.0s\n",
            "[CV 2/5] END C=1000, degree=6, gamma=scale, kernel=poly;, score=0.796 total time=   2.0s\n",
            "[CV 3/5] END C=1000, degree=6, gamma=scale, kernel=poly;, score=0.794 total time=   2.0s\n",
            "[CV 4/5] END C=1000, degree=6, gamma=scale, kernel=poly;, score=0.799 total time=   2.0s\n",
            "[CV 5/5] END C=1000, degree=6, gamma=scale, kernel=poly;, score=0.784 total time=   2.0s\n",
            "Selected Kernel:  poly\n",
            "Selected C:  10\n",
            "Selected Gamma:  scale\n",
            "Selected Degree:  1\n",
            "Best Score : 0.9722500000000001\n",
            "best estimator: SVC(C=10, degree=1, kernel='poly')\n"
          ]
        }
      ]
    },
    {
      "cell_type": "markdown",
      "source": [
        "* RBF Kernel"
      ],
      "metadata": {
        "id": "tuZVqSAY0BQO"
      }
    },
    {
      "cell_type": "code",
      "source": [
        "param_grid = {'C': [0.001, 0.1, 1, 10, 100, 1000],\n",
        "              'kernel': ['rbf'],\n",
        "              'gamma' :['auto', 'scale']\n",
        "             }\n",
        " \n",
        "grid = GridSearchCV(svm.SVC(), param_grid, scoring='accuracy', refit = True, verbose = 3) \n",
        "# fitting the model for grid search\n",
        "grid.fit(x_spesifikasi_train_vectorized, y_spesifikasi_train)\n",
        "\n",
        "selected_kernel_rbf = grid.best_params_['kernel']\n",
        "print(\"Selected Kernel: \", selected_kernel_rbf)\n",
        "selected_C_rbf = grid.best_params_['C']\n",
        "print(\"Selected C: \", selected_C_rbf)\n",
        "selected_gamma_rbf= grid.best_params_['gamma']\n",
        "print(\"Selected Gamma: \", selected_gamma_rbf)\n",
        "\n",
        "best_params_rbf_HT = grid.best_params_\n",
        "model_looks_rbf_HT= grid.best_estimator_\n",
        "\n",
        "print(f'Best Score : {grid.best_score_}')\n",
        "print(\"best estimator: %s\" % (model_looks_rbf_HT))"
      ],
      "metadata": {
        "colab": {
          "base_uri": "https://localhost:8080/"
        },
        "id": "itXr1dkV0Cs5",
        "outputId": "9462b54f-a709-446e-aa30-3b95219068ea"
      },
      "execution_count": 17,
      "outputs": [
        {
          "output_type": "stream",
          "name": "stdout",
          "text": [
            "Fitting 5 folds for each of 12 candidates, totalling 60 fits\n",
            "[CV 1/5] END ...C=0.001, gamma=auto, kernel=rbf;, score=0.730 total time=   0.8s\n",
            "[CV 2/5] END ...C=0.001, gamma=auto, kernel=rbf;, score=0.730 total time=   0.8s\n",
            "[CV 3/5] END ...C=0.001, gamma=auto, kernel=rbf;, score=0.730 total time=   0.8s\n",
            "[CV 4/5] END ...C=0.001, gamma=auto, kernel=rbf;, score=0.730 total time=   0.8s\n",
            "[CV 5/5] END ...C=0.001, gamma=auto, kernel=rbf;, score=0.730 total time=   0.8s\n",
            "[CV 1/5] END ..C=0.001, gamma=scale, kernel=rbf;, score=0.730 total time=   1.1s\n",
            "[CV 2/5] END ..C=0.001, gamma=scale, kernel=rbf;, score=0.730 total time=   1.0s\n",
            "[CV 3/5] END ..C=0.001, gamma=scale, kernel=rbf;, score=0.730 total time=   1.0s\n",
            "[CV 4/5] END ..C=0.001, gamma=scale, kernel=rbf;, score=0.730 total time=   1.0s\n",
            "[CV 5/5] END ..C=0.001, gamma=scale, kernel=rbf;, score=0.730 total time=   1.0s\n",
            "[CV 1/5] END .....C=0.1, gamma=auto, kernel=rbf;, score=0.730 total time=   1.0s\n",
            "[CV 2/5] END .....C=0.1, gamma=auto, kernel=rbf;, score=0.730 total time=   1.0s\n",
            "[CV 3/5] END .....C=0.1, gamma=auto, kernel=rbf;, score=0.730 total time=   1.0s\n",
            "[CV 4/5] END .....C=0.1, gamma=auto, kernel=rbf;, score=0.730 total time=   1.0s\n",
            "[CV 5/5] END .....C=0.1, gamma=auto, kernel=rbf;, score=0.730 total time=   1.0s\n",
            "[CV 1/5] END ....C=0.1, gamma=scale, kernel=rbf;, score=0.914 total time=   0.9s\n",
            "[CV 2/5] END ....C=0.1, gamma=scale, kernel=rbf;, score=0.916 total time=   0.9s\n",
            "[CV 3/5] END ....C=0.1, gamma=scale, kernel=rbf;, score=0.919 total time=   0.9s\n",
            "[CV 4/5] END ....C=0.1, gamma=scale, kernel=rbf;, score=0.926 total time=   0.9s\n",
            "[CV 5/5] END ....C=0.1, gamma=scale, kernel=rbf;, score=0.907 total time=   0.9s\n",
            "[CV 1/5] END .......C=1, gamma=auto, kernel=rbf;, score=0.730 total time=   1.0s\n",
            "[CV 2/5] END .......C=1, gamma=auto, kernel=rbf;, score=0.730 total time=   1.0s\n",
            "[CV 3/5] END .......C=1, gamma=auto, kernel=rbf;, score=0.730 total time=   1.0s\n",
            "[CV 4/5] END .......C=1, gamma=auto, kernel=rbf;, score=0.730 total time=   1.0s\n",
            "[CV 5/5] END .......C=1, gamma=auto, kernel=rbf;, score=0.730 total time=   1.0s\n",
            "[CV 1/5] END ......C=1, gamma=scale, kernel=rbf;, score=0.969 total time=   0.7s\n",
            "[CV 2/5] END ......C=1, gamma=scale, kernel=rbf;, score=0.961 total time=   0.8s\n",
            "[CV 3/5] END ......C=1, gamma=scale, kernel=rbf;, score=0.963 total time=   0.7s\n",
            "[CV 4/5] END ......C=1, gamma=scale, kernel=rbf;, score=0.963 total time=   0.7s\n",
            "[CV 5/5] END ......C=1, gamma=scale, kernel=rbf;, score=0.963 total time=   0.7s\n",
            "[CV 1/5] END ......C=10, gamma=auto, kernel=rbf;, score=0.730 total time=   1.0s\n",
            "[CV 2/5] END ......C=10, gamma=auto, kernel=rbf;, score=0.730 total time=   1.0s\n",
            "[CV 3/5] END ......C=10, gamma=auto, kernel=rbf;, score=0.730 total time=   1.0s\n",
            "[CV 4/5] END ......C=10, gamma=auto, kernel=rbf;, score=0.730 total time=   1.0s\n",
            "[CV 5/5] END ......C=10, gamma=auto, kernel=rbf;, score=0.730 total time=   1.0s\n",
            "[CV 1/5] END .....C=10, gamma=scale, kernel=rbf;, score=0.970 total time=   0.8s\n",
            "[CV 2/5] END .....C=10, gamma=scale, kernel=rbf;, score=0.965 total time=   0.8s\n",
            "[CV 3/5] END .....C=10, gamma=scale, kernel=rbf;, score=0.968 total time=   0.8s\n",
            "[CV 4/5] END .....C=10, gamma=scale, kernel=rbf;, score=0.970 total time=   0.8s\n",
            "[CV 5/5] END .....C=10, gamma=scale, kernel=rbf;, score=0.971 total time=   0.8s\n",
            "[CV 1/5] END .....C=100, gamma=auto, kernel=rbf;, score=0.949 total time=   0.7s\n",
            "[CV 2/5] END .....C=100, gamma=auto, kernel=rbf;, score=0.943 total time=   0.7s\n",
            "[CV 3/5] END .....C=100, gamma=auto, kernel=rbf;, score=0.941 total time=   0.7s\n",
            "[CV 4/5] END .....C=100, gamma=auto, kernel=rbf;, score=0.934 total time=   0.7s\n",
            "[CV 5/5] END .....C=100, gamma=auto, kernel=rbf;, score=0.949 total time=   0.7s\n",
            "[CV 1/5] END ....C=100, gamma=scale, kernel=rbf;, score=0.970 total time=   0.8s\n",
            "[CV 2/5] END ....C=100, gamma=scale, kernel=rbf;, score=0.965 total time=   0.8s\n",
            "[CV 3/5] END ....C=100, gamma=scale, kernel=rbf;, score=0.968 total time=   0.8s\n",
            "[CV 4/5] END ....C=100, gamma=scale, kernel=rbf;, score=0.970 total time=   0.8s\n",
            "[CV 5/5] END ....C=100, gamma=scale, kernel=rbf;, score=0.971 total time=   0.8s\n",
            "[CV 1/5] END ....C=1000, gamma=auto, kernel=rbf;, score=0.966 total time=   0.5s\n",
            "[CV 2/5] END ....C=1000, gamma=auto, kernel=rbf;, score=0.968 total time=   0.5s\n",
            "[CV 3/5] END ....C=1000, gamma=auto, kernel=rbf;, score=0.963 total time=   0.5s\n",
            "[CV 4/5] END ....C=1000, gamma=auto, kernel=rbf;, score=0.966 total time=   0.5s\n",
            "[CV 5/5] END ....C=1000, gamma=auto, kernel=rbf;, score=0.971 total time=   0.5s\n",
            "[CV 1/5] END ...C=1000, gamma=scale, kernel=rbf;, score=0.970 total time=   0.8s\n",
            "[CV 2/5] END ...C=1000, gamma=scale, kernel=rbf;, score=0.965 total time=   0.8s\n",
            "[CV 3/5] END ...C=1000, gamma=scale, kernel=rbf;, score=0.968 total time=   0.8s\n",
            "[CV 4/5] END ...C=1000, gamma=scale, kernel=rbf;, score=0.970 total time=   0.8s\n",
            "[CV 5/5] END ...C=1000, gamma=scale, kernel=rbf;, score=0.971 total time=   0.8s\n",
            "Selected Kernel:  rbf\n",
            "Selected C:  10\n",
            "Selected Gamma:  scale\n",
            "Best Score : 0.96875\n",
            "best estimator: SVC(C=10)\n"
          ]
        }
      ]
    },
    {
      "cell_type": "markdown",
      "source": [
        "## CV with Tuned Hyperparamater"
      ],
      "metadata": {
        "id": "ddmozdxJ9UX9"
      }
    },
    {
      "cell_type": "code",
      "source": [
        "cross_val_score_linear= cross_val_score(model_looks_linear_HT, x_spesifikasi_train_vectorized, y_spesifikasi_train, scoring='accuracy', cv=5)\n",
        "print(\"Accuracy Score Linear : %0.4f\" % cross_val_score_linear.mean(), cross_val_score_linear.std())\n",
        "\n",
        "cross_val_score_poly = cross_val_score(model_looks_poly_HT, x_spesifikasi_train_vectorized, y_spesifikasi_train, scoring='accuracy', cv=5)\n",
        "print(\"Accuracy Score poly : %0.4f\" % cross_val_score_poly.mean(), cross_val_score_poly.std())\n",
        "\n",
        "cross_val_score_rbf = cross_val_score(model_looks_rbf_HT, x_spesifikasi_train_vectorized, y_spesifikasi_train, scoring='accuracy', cv=5)\n",
        "print(\"Accuracy Score rbf : %0.4f\" % cross_val_score_rbf.mean(), cross_val_score_rbf.std())"
      ],
      "metadata": {
        "colab": {
          "base_uri": "https://localhost:8080/"
        },
        "id": "MZGVV_VP9lAY",
        "outputId": "82902b2e-b3ce-4227-ebd0-54b6ad04ade3"
      },
      "execution_count": 20,
      "outputs": [
        {
          "output_type": "stream",
          "name": "stdout",
          "text": [
            "Accuracy Score Linear : 0.9723 0.0032015621187164046\n",
            "Accuracy Score poly : 0.9723 0.0032015621187164046\n",
            "Accuracy Score rbf : 0.9688 0.0022360679774997795\n"
          ]
        }
      ]
    },
    {
      "cell_type": "code",
      "source": [
        "import numpy as np\n",
        "from matplotlib.ticker import FormatStrFormatter\n",
        "\n",
        "import matplotlib.pyplot as plt\n",
        "%matplotlib inline\n",
        "\n",
        "\n",
        "name = ['Linear', 'RBF', 'Polynomial']\n",
        "before_HT = [cv_linear.mean(), cv_rbf.mean(), cv_poly.mean()]\n",
        "after_HT = [cross_val_score_linear.mean(), cross_val_score_rbf.mean(), cross_val_score_poly.mean()]\n",
        "diff_linear = ((cross_val_score_linear.mean()-cv_linear.mean()))\n",
        "diff_rbf = ((cross_val_score_rbf.mean()-cv_rbf.mean()))\n",
        "diff_poly = ((cross_val_score_poly.mean()-cv_poly.mean()))\n",
        "diff_HT = [diff_linear, diff_rbf, diff_poly]\n",
        "\n",
        "x = np.arange(len(name))\n",
        "width = 0.2\n",
        "\n",
        "fig, ax = plt.subplots(figsize=(14, 7))\n",
        "\n",
        "bfr = ax.bar(x - width/2, before_HT, width, label='Before', color='steelblue')\n",
        "aftr = ax.bar(x + width/2, after_HT, width, label='After', color='orange')\n",
        "diff = ax.bar(x + 0.3, diff_HT, width, label='Diffrenciate', color='cyan')\n",
        "\n",
        "ax.set_title('Hasil Hyperparameter Aspek Spesifikasi', size=16)\n",
        "ax.set_ylabel('Accuracy', size=14)\n",
        "ax.set_xticks(x)\n",
        "ax.set_xticklabels(name, size=14)\n",
        "ax.legend(fontsize=14)\n",
        "ax.legend(bbox_to_anchor=(1.02, 1), loc='upper left', borderaxespad=0)\n",
        "ax.yaxis.set_major_formatter(FormatStrFormatter(\"%0.2f\"))\n",
        "for p in ax.patches:\n",
        "    h = p.get_height()\n",
        "    x = p.get_x()+p.get_width()/2\n",
        "    if h!= 0:\n",
        "      ax.annotate(\"%g\" % p.get_height(), xy=(x,h), xytext=(0,5), textcoords=\"offset points\",\n",
        "                  ha=\"center\", fontsize=10)\n",
        "    \n",
        "plt.show()"
      ],
      "metadata": {
        "colab": {
          "base_uri": "https://localhost:8080/",
          "height": 450
        },
        "id": "Dawno_AaW-mj",
        "outputId": "d3bf37df-b4cb-490c-ae5d-622d075c68bd"
      },
      "execution_count": 21,
      "outputs": [
        {
          "output_type": "display_data",
          "data": {
            "text/plain": [
              "<Figure size 1008x504 with 1 Axes>"
            ],
            "image/png": "[encoded data removed]"
          },
          "metadata": {
            "needs_background": "light"
          }
        }
      ]
    },
    {
      "cell_type": "markdown",
      "source": [
        "## Model Validation"
      ],
      "metadata": {
        "id": "P6SG8dgvAd-i"
      }
    },
    {
      "cell_type": "markdown",
      "source": [
        "### Model Validation Hyperparameter Tuning Test Dataset"
      ],
      "metadata": {
        "id": "xSMKBr_CA95O"
      }
    },
    {
      "cell_type": "markdown",
      "source": [
        "* Linear Kernel"
      ],
      "metadata": {
        "id": "a9DYVC85h5mq"
      }
    },
    {
      "cell_type": "code",
      "source": [
        "grid_predictions = model_looks_linear_HT.predict(x_spesifikasi_test_vectorized)\n",
        "\n",
        "print(\"F1-SCORE \",f1(y_spesifikasi_test,grid_predictions,average='macro') * 100)\n",
        "print(\"ACCURACY \",acc(y_spesifikasi_test,grid_predictions) * 100)\n",
        "print(\"PRECISION \",prec(y_spesifikasi_test,grid_predictions,average='macro') * 100)\n",
        "print(\"RECALL\",recall(y_spesifikasi_test,grid_predictions,average='macro') * 100)\n",
        "\n",
        "print('Confusion Matrix : \\n', confusion_matrix(y_spesifikasi_test, grid_predictions))\n",
        "print('Report Hasil : \\n',classification_report(y_spesifikasi_test, grid_predictions))"
      ],
      "metadata": {
        "colab": {
          "base_uri": "https://localhost:8080/"
        },
        "id": "wzIVFSATh_A5",
        "outputId": "04a21437-9c66-461f-ee22-15b0d8ee4822"
      },
      "execution_count": 22,
      "outputs": [
        {
          "output_type": "stream",
          "name": "stdout",
          "text": [
            "F1-SCORE  83.88982036219946\n",
            "ACCURACY  97.5\n",
            "PRECISION  83.78137662832123\n",
            "RECALL 84.0005173750989\n",
            "Confusion Matrix : \n",
            " [[  4   2   1]\n",
            " [  0 260   9]\n",
            " [  3  10 711]]\n",
            "Report Hasil : \n",
            "               precision    recall  f1-score   support\n",
            "\n",
            "          -1       0.57      0.57      0.57         7\n",
            "           0       0.96      0.97      0.96       269\n",
            "           1       0.99      0.98      0.98       724\n",
            "\n",
            "    accuracy                           0.97      1000\n",
            "   macro avg       0.84      0.84      0.84      1000\n",
            "weighted avg       0.98      0.97      0.98      1000\n",
            "\n"
          ]
        }
      ]
    },
    {
      "cell_type": "markdown",
      "source": [
        "* Poly Kernel"
      ],
      "metadata": {
        "id": "NCZZNnY9h6dg"
      }
    },
    {
      "cell_type": "code",
      "source": [
        "grid_predictions = model_looks_poly_HT.predict(x_spesifikasi_test_vectorized)\n",
        "\n",
        "print(\"F1-SCORE \",f1(y_spesifikasi_test,grid_predictions,average='macro') * 100)\n",
        "print(\"ACCURACY \",acc(y_spesifikasi_test,grid_predictions) * 100)\n",
        "print(\"PRECISION \",prec(y_spesifikasi_test,grid_predictions,average='macro') * 100)\n",
        "print(\"RECALL\",recall(y_spesifikasi_test,grid_predictions,average='macro') * 100)\n",
        "\n",
        "print('Confusion Matrix : \\n', confusion_matrix(y_spesifikasi_test, grid_predictions))\n",
        "print('Report Hasil : \\n',classification_report(y_spesifikasi_test, grid_predictions))"
      ],
      "metadata": {
        "colab": {
          "base_uri": "https://localhost:8080/"
        },
        "id": "6iuXz8jki85T",
        "outputId": "0f72dff9-c16e-431b-9a85-270b3a9846ec"
      },
      "execution_count": 23,
      "outputs": [
        {
          "output_type": "stream",
          "name": "stdout",
          "text": [
            "F1-SCORE  83.88982036219946\n",
            "ACCURACY  97.5\n",
            "PRECISION  83.78137662832123\n",
            "RECALL 84.0005173750989\n",
            "Confusion Matrix : \n",
            " [[  4   2   1]\n",
            " [  0 260   9]\n",
            " [  3  10 711]]\n",
            "Report Hasil : \n",
            "               precision    recall  f1-score   support\n",
            "\n",
            "          -1       0.57      0.57      0.57         7\n",
            "           0       0.96      0.97      0.96       269\n",
            "           1       0.99      0.98      0.98       724\n",
            "\n",
            "    accuracy                           0.97      1000\n",
            "   macro avg       0.84      0.84      0.84      1000\n",
            "weighted avg       0.98      0.97      0.98      1000\n",
            "\n"
          ]
        }
      ]
    },
    {
      "cell_type": "markdown",
      "source": [
        "* RBF Kernel"
      ],
      "metadata": {
        "id": "zfVKCG4Jh8La"
      }
    },
    {
      "cell_type": "code",
      "source": [
        "grid_predictions = model_looks_rbf_HT.predict(x_spesifikasi_test_vectorized)\n",
        "\n",
        "print(\"F1-SCORE \",f1(y_spesifikasi_test,grid_predictions,average='macro') * 100)\n",
        "print(\"ACCURACY \",acc(y_spesifikasi_test,grid_predictions) * 100)\n",
        "print(\"PRECISION \",prec(y_spesifikasi_test,grid_predictions,average='macro') * 100)\n",
        "print(\"RECALL\",recall(y_spesifikasi_test,grid_predictions,average='macro') * 100)\n",
        "\n",
        "print('Confusion Matrix : \\n', confusion_matrix(y_spesifikasi_test, grid_predictions))\n",
        "print('Report Hasil : \\n',classification_report(y_spesifikasi_test, grid_predictions))"
      ],
      "metadata": {
        "colab": {
          "base_uri": "https://localhost:8080/"
        },
        "id": "J8lpNpY3jDrH",
        "outputId": "f4a69f3e-eb9b-49d4-886b-391d32778ee7"
      },
      "execution_count": 24,
      "outputs": [
        {
          "output_type": "stream",
          "name": "stdout",
          "text": [
            "F1-SCORE  72.955560369492\n",
            "ACCURACY  97.3\n",
            "PRECISION  97.38221707864724\n",
            "RECALL 69.99446926997298\n",
            "Confusion Matrix : \n",
            " [[  1   4   2]\n",
            " [  0 263   6]\n",
            " [  0  15 709]]\n",
            "Report Hasil : \n",
            "               precision    recall  f1-score   support\n",
            "\n",
            "          -1       1.00      0.14      0.25         7\n",
            "           0       0.93      0.98      0.95       269\n",
            "           1       0.99      0.98      0.98       724\n",
            "\n",
            "    accuracy                           0.97      1000\n",
            "   macro avg       0.97      0.70      0.73      1000\n",
            "weighted avg       0.97      0.97      0.97      1000\n",
            "\n"
          ]
        }
      ]
    },
    {
      "cell_type": "markdown",
      "source": [
        "### Model Validation Hyperparameter Tuning Train Dataset"
      ],
      "metadata": {
        "id": "S7jltPrXZk1W"
      }
    },
    {
      "cell_type": "markdown",
      "source": [
        "* Linear Kernel"
      ],
      "metadata": {
        "id": "HTEm2He2Zk1W"
      }
    },
    {
      "cell_type": "code",
      "source": [
        "grid_predictions = model_looks_linear_HT.predict(x_spesifikasi_train_vectorized)\n",
        "\n",
        "print(\"F1-SCORE \",f1(y_spesifikasi_train,grid_predictions,average='macro') * 100)\n",
        "print(\"ACCURACY \",acc(y_spesifikasi_train,grid_predictions) * 100)\n",
        "print(\"PRECISION \",prec(y_spesifikasi_train,grid_predictions,average='macro') * 100)\n",
        "print(\"RECALL\",recall(y_spesifikasi_train,grid_predictions,average='macro') * 100)\n",
        "\n",
        "print('Confusion Matrix : \\n', confusion_matrix(y_spesifikasi_train, grid_predictions))\n",
        "print('Report Hasil : \\n',classification_report(y_spesifikasi_train, grid_predictions))"
      ],
      "metadata": {
        "colab": {
          "base_uri": "https://localhost:8080/"
        },
        "outputId": "25574d2b-ba6d-4fab-f8bc-478e8378065c",
        "id": "bOnP49DQZk1X"
      },
      "execution_count": 25,
      "outputs": [
        {
          "output_type": "stream",
          "name": "stdout",
          "text": [
            "F1-SCORE  99.97833466186563\n",
            "ACCURACY  99.97500000000001\n",
            "PRECISION  99.96810207336523\n",
            "RECALL 99.98858447488584\n",
            "Confusion Matrix : \n",
            " [[  36    0    0]\n",
            " [   0 1044    0]\n",
            " [   0    1 2919]]\n",
            "Report Hasil : \n",
            "               precision    recall  f1-score   support\n",
            "\n",
            "          -1       1.00      1.00      1.00        36\n",
            "           0       1.00      1.00      1.00      1044\n",
            "           1       1.00      1.00      1.00      2920\n",
            "\n",
            "    accuracy                           1.00      4000\n",
            "   macro avg       1.00      1.00      1.00      4000\n",
            "weighted avg       1.00      1.00      1.00      4000\n",
            "\n"
          ]
        }
      ]
    },
    {
      "cell_type": "markdown",
      "source": [
        "* Poly Kernel"
      ],
      "metadata": {
        "id": "abEyxPp5Zk1Y"
      }
    },
    {
      "cell_type": "code",
      "source": [
        "grid_predictions = model_looks_poly_HT.predict(x_spesifikasi_train_vectorized)\n",
        "\n",
        "print(\"F1-SCORE \",f1(y_spesifikasi_train,grid_predictions,average='macro') * 100)\n",
        "print(\"ACCURACY \",acc(y_spesifikasi_train,grid_predictions) * 100)\n",
        "print(\"PRECISION \",prec(y_spesifikasi_train,grid_predictions,average='macro') * 100)\n",
        "print(\"RECALL\",recall(y_spesifikasi_train,grid_predictions,average='macro') * 100)\n",
        "\n",
        "print('Confusion Matrix : \\n', confusion_matrix(y_spesifikasi_train, grid_predictions))\n",
        "print('Report Hasil : \\n',classification_report(y_spesifikasi_train, grid_predictions))"
      ],
      "metadata": {
        "colab": {
          "base_uri": "https://localhost:8080/"
        },
        "outputId": "3a879c30-2bd8-43ec-87d8-ed57a091e298",
        "id": "6UhuulfEZk1Y"
      },
      "execution_count": 26,
      "outputs": [
        {
          "output_type": "stream",
          "name": "stdout",
          "text": [
            "F1-SCORE  99.97833466186563\n",
            "ACCURACY  99.97500000000001\n",
            "PRECISION  99.96810207336523\n",
            "RECALL 99.98858447488584\n",
            "Confusion Matrix : \n",
            " [[  36    0    0]\n",
            " [   0 1044    0]\n",
            " [   0    1 2919]]\n",
            "Report Hasil : \n",
            "               precision    recall  f1-score   support\n",
            "\n",
            "          -1       1.00      1.00      1.00        36\n",
            "           0       1.00      1.00      1.00      1044\n",
            "           1       1.00      1.00      1.00      2920\n",
            "\n",
            "    accuracy                           1.00      4000\n",
            "   macro avg       1.00      1.00      1.00      4000\n",
            "weighted avg       1.00      1.00      1.00      4000\n",
            "\n"
          ]
        }
      ]
    },
    {
      "cell_type": "markdown",
      "source": [
        "* RBF Kernel"
      ],
      "metadata": {
        "id": "k6evb4xdZk1Y"
      }
    },
    {
      "cell_type": "code",
      "source": [
        "grid_predictions = model_looks_rbf_HT.predict(x_spesifikasi_train_vectorized)\n",
        "\n",
        "print(\"F1-SCORE \",f1(y_spesifikasi_train,grid_predictions,average='macro') * 100)\n",
        "print(\"ACCURACY \",acc(y_spesifikasi_train,grid_predictions) * 100)\n",
        "print(\"PRECISION \",prec(y_spesifikasi_train,grid_predictions,average='macro') * 100)\n",
        "print(\"RECALL\",recall(y_spesifikasi_train,grid_predictions,average='macro') * 100)\n",
        "\n",
        "print('Confusion Matrix : \\n', confusion_matrix(y_spesifikasi_train, grid_predictions))\n",
        "print('Report Hasil : \\n',classification_report(y_spesifikasi_train, grid_predictions))"
      ],
      "metadata": {
        "colab": {
          "base_uri": "https://localhost:8080/"
        },
        "outputId": "39759b66-428b-4183-e0ae-c5177c402307",
        "id": "7YExcT23Zk1Z"
      },
      "execution_count": 27,
      "outputs": [
        {
          "output_type": "stream",
          "name": "stdout",
          "text": [
            "F1-SCORE  100.0\n",
            "ACCURACY  100.0\n",
            "PRECISION  100.0\n",
            "RECALL 100.0\n",
            "Confusion Matrix : \n",
            " [[  36    0    0]\n",
            " [   0 1044    0]\n",
            " [   0    0 2920]]\n",
            "Report Hasil : \n",
            "               precision    recall  f1-score   support\n",
            "\n",
            "          -1       1.00      1.00      1.00        36\n",
            "           0       1.00      1.00      1.00      1044\n",
            "           1       1.00      1.00      1.00      2920\n",
            "\n",
            "    accuracy                           1.00      4000\n",
            "   macro avg       1.00      1.00      1.00      4000\n",
            "weighted avg       1.00      1.00      1.00      4000\n",
            "\n"
          ]
        }
      ]
    }
  ]
}