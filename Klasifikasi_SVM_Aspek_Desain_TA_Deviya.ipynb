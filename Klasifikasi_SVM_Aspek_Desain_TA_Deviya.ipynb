{
  "nbformat": 4,
  "nbformat_minor": 0,
  "metadata": {
    "colab": {
      "provenance": [],
      "collapsed_sections": [
        "2lxG9JbN1psE",
        "fH-_jTzA1woC",
        "W--Y7kGa114e",
        "YZSbWOM-2PHi",
        "4lfKg9___80e",
        "k19u6zZmAAkf",
        "SQ3fawOVADuP",
        "GV2dH2ayAGvg",
        "VHzk392bAVMk",
        "4jDusIX0AVMm",
        "hIgmnGtFAVMn",
        "bMOe71BiAVMn",
        "LTkYmsyvA_K7",
        "FXQpA_TZA_K7",
        "n8ste4wgA_K8",
        "AmlnKUFvA_K9"
      ]
    },
    "kernelspec": {
      "name": "python3",
      "display_name": "Python 3"
    },
    "language_info": {
      "name": "python"
    }
  },
  "cells": [
    {
      "cell_type": "code",
      "source": [
        "!pip install Sastrawi"
      ],
      "metadata": {
        "colab": {
          "base_uri": "https://localhost:8080/"
        },
        "id": "-8N2Rx-rPVWu",
        "outputId": "012b7b41-ec5c-4f3d-a9ca-fc4aee1822c1"
      },
      "execution_count": 1,
      "outputs": [
        {
          "output_type": "stream",
          "name": "stdout",
          "text": [
            "Looking in indexes: https://pypi.org/simple, https://us-python.pkg.dev/colab-wheels/public/simple/\n",
            "Collecting Sastrawi\n",
            "  Downloading Sastrawi-1.0.1-py2.py3-none-any.whl (209 kB)\n",
            "\u001b[K     |████████████████████████████████| 209 kB 14.9 MB/s \n",
            "\u001b[?25hInstalling collected packages: Sastrawi\n",
            "Successfully installed Sastrawi-1.0.1\n"
          ]
        }
      ]
    },
    {
      "cell_type": "markdown",
      "source": [
        "# **Import Library**"
      ],
      "metadata": {
        "id": "tWLJXv9btmm-"
      }
    },
    {
      "cell_type": "code",
      "execution_count": 2,
      "metadata": {
        "id": "gLIM0aldsSDX"
      },
      "outputs": [],
      "source": [
        "# LIBRARY UNTUK MENGOLAH DATA\n",
        "import pandas as pd\n",
        "import numpy as np\n",
        "import re,string #import regular expression\n",
        "import Sastrawi\n",
        "import joblib\n",
        "\n",
        "import matplotlib.pyplot as plt\n",
        "import seaborn as sns\n",
        "import matplotlib as mpl\n",
        "\n",
        "#Library Untuk Split Data\n",
        "from sklearn import model_selection\n",
        "from sklearn.model_selection import train_test_split\n",
        "\n",
        "#Library Ekstraksi Fitur TFIDF\n",
        "from sklearn.feature_extraction.text import TfidfVectorizer\n",
        "from sklearn.preprocessing import OneHotEncoder\n",
        "\n",
        "#Library Klasifikasi Support Vector Machine\n",
        "from sklearn.svm import SVC\n",
        "from sklearn import svm\n",
        "from sklearn.metrics import f1_score as f1\n",
        "from sklearn .metrics import accuracy_score as acc\n",
        "from sklearn.metrics import precision_score as prec\n",
        "from sklearn.metrics import recall_score as recall\n",
        "from sklearn.metrics import confusion_matrix\n",
        "from sklearn.metrics import classification_report\n",
        "from sklearn import metrics\n",
        "\n",
        "\n",
        "#Library HyperParameter Tuning\n",
        "from sklearn.model_selection import cross_val_score\n",
        "from sklearn.model_selection import GridSearchCV\n",
        "import timeit\n",
        "\n",
        "import warnings\n",
        "warnings.filterwarnings('ignore')"
      ]
    },
    {
      "cell_type": "code",
      "source": [
        "from google.colab import drive\n",
        "drive.mount('/content/drive')"
      ],
      "metadata": {
        "colab": {
          "base_uri": "https://localhost:8080/"
        },
        "id": "F6DeMTWSu6fR",
        "outputId": "67586da9-5bb3-4d5c-8962-be9651ac9e8b"
      },
      "execution_count": 3,
      "outputs": [
        {
          "output_type": "stream",
          "name": "stdout",
          "text": [
            "Mounted at /content/drive\n"
          ]
        }
      ]
    },
    {
      "cell_type": "markdown",
      "source": [
        "# **Aspek Desain**"
      ],
      "metadata": {
        "id": "AKnyAMHsuwki"
      }
    },
    {
      "cell_type": "code",
      "source": [
        "tweet_desain = pd.read_csv('/content/drive/MyDrive/Dataset TA/aspek_desain.csv')\n",
        "tweet_desain.shape"
      ],
      "metadata": {
        "colab": {
          "base_uri": "https://localhost:8080/"
        },
        "id": "XKDWbPlru2iS",
        "outputId": "9ddd42e6-4c2f-441a-ff3a-d5f3230e7e59"
      },
      "execution_count": 4,
      "outputs": [
        {
          "output_type": "execute_result",
          "data": {
            "text/plain": [
              "(5000, 3)"
            ]
          },
          "metadata": {},
          "execution_count": 4
        }
      ]
    },
    {
      "cell_type": "code",
      "source": [
        "tweet_desain['label'].value_counts()"
      ],
      "metadata": {
        "colab": {
          "base_uri": "https://localhost:8080/"
        },
        "id": "2M7qEwddz0AC",
        "outputId": "aa4bdca3-5921-41e9-8d8a-87a98ec11464"
      },
      "execution_count": 5,
      "outputs": [
        {
          "output_type": "execute_result",
          "data": {
            "text/plain": [
              " 1    3701\n",
              " 0    1249\n",
              "-1      50\n",
              "Name: label, dtype: int64"
            ]
          },
          "metadata": {},
          "execution_count": 5
        }
      ]
    },
    {
      "cell_type": "code",
      "source": [
        "desain = sns.countplot(tweet_desain['label'], palette = 'hls')\n",
        "plt.show()"
      ],
      "metadata": {
        "colab": {
          "base_uri": "https://localhost:8080/",
          "height": 279
        },
        "id": "MnWQRdtC0hkV",
        "outputId": "bc85224d-9d2a-4142-8504-d23de23224a0"
      },
      "execution_count": 6,
      "outputs": [
        {
          "output_type": "display_data",
          "data": {
            "text/plain": [
              "<Figure size 432x288 with 1 Axes>"
            ],
            "image/png": "[encoded data removed]"
          },
          "metadata": {
            "needs_background": "light"
          }
        }
      ]
    },
    {
      "cell_type": "code",
      "source": [
        "tweet_desain.isna().sum()"
      ],
      "metadata": {
        "colab": {
          "base_uri": "https://localhost:8080/"
        },
        "id": "-ZGgs4pjNTO4",
        "outputId": "f0e4a10a-eb97-4b89-90f3-fd5ffbb45e8c"
      },
      "execution_count": 7,
      "outputs": [
        {
          "output_type": "execute_result",
          "data": {
            "text/plain": [
              "tweet       0\n",
              "stemming    0\n",
              "label       0\n",
              "dtype: int64"
            ]
          },
          "metadata": {},
          "execution_count": 7
        }
      ]
    },
    {
      "cell_type": "markdown",
      "source": [
        "## Inisialisasi Data"
      ],
      "metadata": {
        "id": "C7etTqJU17mJ"
      }
    },
    {
      "cell_type": "code",
      "source": [
        "x_desain = tweet_desain['stemming']\n",
        "y_desain = tweet_desain['label'].values"
      ],
      "metadata": {
        "id": "kuNEQPmTwAxq"
      },
      "execution_count": 8,
      "outputs": []
    },
    {
      "cell_type": "markdown",
      "source": [
        "## Split Data\n",
        "\n"
      ],
      "metadata": {
        "id": "Gs8QMCc21DkM"
      }
    },
    {
      "cell_type": "code",
      "source": [
        "from sklearn.model_selection import train_test_split\n",
        "x_desain_train, x_desain_test, y_desain_train, y_desain_test = train_test_split(\n",
        "    tweet_desain['stemming'], \n",
        "    tweet_desain['label'], \n",
        "    test_size=0.2)\n",
        "\n",
        "train_df = pd.DataFrame()\n",
        "train_df['tweet'] = x_desain_train\n",
        "train_df['sentiment'] = y_desain_train\n",
        "test_df = pd.DataFrame()\n",
        "test_df['tweet'] = x_desain_test\n",
        "test_df['sentiment'] = y_desain_test"
      ],
      "metadata": {
        "id": "ogTyOQnb06mz"
      },
      "execution_count": 9,
      "outputs": []
    },
    {
      "cell_type": "markdown",
      "source": [
        "## Feature TF-IDF"
      ],
      "metadata": {
        "id": "5UeiexVgunm-"
      }
    },
    {
      "cell_type": "code",
      "source": [
        "tfidf_vect = TfidfVectorizer(use_idf=True)\n",
        "tfidf_vect.fit(x_desain_train)\n",
        "x_desain_train_vectorized = tfidf_vect.transform(x_desain_train)\n",
        "x_desain_test_vectorized = tfidf_vect.transform(x_desain_test)"
      ],
      "metadata": {
        "id": "t0fBDy8cKaHL"
      },
      "execution_count": 10,
      "outputs": []
    },
    {
      "cell_type": "code",
      "source": [
        "print (x_desain_train_vectorized)"
      ],
      "metadata": {
        "colab": {
          "base_uri": "https://localhost:8080/"
        },
        "id": "zL5IKnQKCovp",
        "outputId": "5e09bfb4-9e7a-41ce-e8f0-640ad7a2b9c7"
      },
      "execution_count": 11,
      "outputs": [
        {
          "output_type": "stream",
          "name": "stdout",
          "text": [
            "  (0, 2752)\t0.23710317009339063\n",
            "  (0, 2497)\t0.043564337465794745\n",
            "  (0, 2329)\t0.2551597358319975\n",
            "  (0, 1945)\t0.17396478397884999\n",
            "  (0, 1895)\t0.2551597358319975\n",
            "  (0, 1546)\t0.0435414537734387\n",
            "  (0, 1534)\t0.10035213820946358\n",
            "  (0, 1316)\t0.22899425752668828\n",
            "  (0, 1270)\t0.0506528833558687\n",
            "  (0, 1119)\t0.09791736058400341\n",
            "  (0, 996)\t0.1341782190595939\n",
            "  (0, 990)\t0.04365603487705145\n",
            "  (0, 902)\t0.4132583344468389\n",
            "  (0, 727)\t0.33664814683532174\n",
            "  (0, 681)\t0.20662916722341945\n",
            "  (0, 599)\t0.07147291828954798\n",
            "  (0, 540)\t0.23710317009339063\n",
            "  (0, 533)\t0.27752482613526636\n",
            "  (0, 301)\t0.11854203473642756\n",
            "  (0, 161)\t0.043008306741485244\n",
            "  (0, 80)\t0.2644420869826118\n",
            "  (0, 75)\t0.2881990437579534\n",
            "  (0, 8)\t0.22559469461541354\n",
            "  (1, 2497)\t0.14361677569481798\n",
            "  (1, 1945)\t0.2867513063765146\n",
            "  :\t:\n",
            "  (3997, 75)\t0.25122890727842573\n",
            "  (3998, 2497)\t0.11641945358627417\n",
            "  (3998, 2100)\t0.37052184548049866\n",
            "  (3998, 1945)\t0.23244798695692118\n",
            "  (3998, 1546)\t0.11635830019533328\n",
            "  (3998, 1534)\t0.26817671921977626\n",
            "  (3998, 1208)\t0.2687117340341477\n",
            "  (3998, 1119)\t0.0872233748896893\n",
            "  (3998, 998)\t0.741645357068993\n",
            "  (3998, 990)\t0.11666450178704536\n",
            "  (3998, 599)\t0.19100113940717772\n",
            "  (3998, 196)\t0.12851649915155258\n",
            "  (3998, 161)\t0.11493354109759882\n",
            "  (3999, 2497)\t0.18395515946731744\n",
            "  (3999, 1945)\t0.3672926232799185\n",
            "  (3999, 1546)\t0.18385853058411997\n",
            "  (3999, 1270)\t0.21388731648964762\n",
            "  (3999, 1212)\t0.2670395182370191\n",
            "  (3999, 1119)\t0.2756444793862549\n",
            "  (3999, 990)\t0.18434236177295818\n",
            "  (3999, 674)\t0.257177792668823\n",
            "  (3999, 234)\t0.19176270854218955\n",
            "  (3999, 196)\t0.20306978230305422\n",
            "  (3999, 161)\t0.1816072591775588\n",
            "  (3999, 150)\t0.6271370732187379\n"
          ]
        }
      ]
    },
    {
      "cell_type": "markdown",
      "source": [
        "## Klasifikasi SVM Dengan Cross Validation"
      ],
      "metadata": {
        "id": "j6IfZ89CuuYL"
      }
    },
    {
      "cell_type": "markdown",
      "source": [
        "* Cross Validation Using Linear Kernel"
      ],
      "metadata": {
        "id": "IJIUFix_znz6"
      }
    },
    {
      "cell_type": "code",
      "source": [
        "### create model\n",
        "clf_linear = SVC(kernel='linear')\n",
        "### cross-validation evaluation\n",
        "cv_linear = cross_val_score(clf_linear, x_desain_train_vectorized, y_desain_train, scoring='accuracy', cv=5)\n",
        "### Show CV result\n",
        "print(\"Accuracy Score Linear of : %0.4f\" % (cv_linear.mean()))\n"
      ],
      "metadata": {
        "colab": {
          "base_uri": "https://localhost:8080/"
        },
        "id": "_L8AVoYQUIzt",
        "outputId": "87e0119a-6abc-4aab-c463-51aea7b465ec"
      },
      "execution_count": 12,
      "outputs": [
        {
          "output_type": "stream",
          "name": "stdout",
          "text": [
            "Accuracy Score Linear of : 0.9682\n"
          ]
        }
      ]
    },
    {
      "cell_type": "markdown",
      "source": [
        "* Cross Validation Using Polynomial Kernel"
      ],
      "metadata": {
        "id": "Wba3ePrMzyKW"
      }
    },
    {
      "cell_type": "code",
      "source": [
        "### create model\n",
        "clf_poly = SVC(kernel='poly')\n",
        "### cross-validation evaluation\n",
        "cv_poly = cross_val_score(clf_poly, x_desain_train_vectorized, y_desain_train, scoring='accuracy', cv=5)\n",
        "### Show CV result\n",
        "print(\"Accuracy Score Poly of : %0.4f\" % (cv_poly.mean()))"
      ],
      "metadata": {
        "colab": {
          "base_uri": "https://localhost:8080/"
        },
        "id": "jSkdo0KAXCAM",
        "outputId": "d437e8ec-8af4-4003-9403-98fc0abf33b1"
      },
      "execution_count": 13,
      "outputs": [
        {
          "output_type": "stream",
          "name": "stdout",
          "text": [
            "Accuracy Score Poly of : 0.8890\n"
          ]
        }
      ]
    },
    {
      "cell_type": "markdown",
      "source": [
        "* Cross Validation with default RBF Kernel"
      ],
      "metadata": {
        "id": "BoAFNfsLz1-k"
      }
    },
    {
      "cell_type": "code",
      "source": [
        "### create model\n",
        "clf_rbf = SVC(kernel='rbf')\n",
        "### cross-validation evaluation\n",
        "cv_rbf= cross_val_score(clf_rbf, x_desain_train_vectorized, y_desain_train, scoring='accuracy', cv=5)\n",
        "### Show CV result\n",
        "print(\"Accuracy Score RBF of : %0.4f\" % (cv_rbf.mean()))"
      ],
      "metadata": {
        "colab": {
          "base_uri": "https://localhost:8080/"
        },
        "id": "TFl4s-wqXQ_1",
        "outputId": "ccf4f77d-fc1d-4e72-ece8-a5fc7c7a9b83"
      },
      "execution_count": 14,
      "outputs": [
        {
          "output_type": "stream",
          "name": "stdout",
          "text": [
            "Accuracy Score RBF of : 0.9645\n"
          ]
        }
      ]
    },
    {
      "cell_type": "markdown",
      "source": [
        "## Tuning Parameter with GridSearchCV"
      ],
      "metadata": {
        "id": "678jI1EfyRCU"
      }
    },
    {
      "cell_type": "markdown",
      "source": [
        "* Linear Kernel"
      ],
      "metadata": {
        "id": "RqtswuNByR9P"
      }
    },
    {
      "cell_type": "code",
      "source": [
        "param_grid = {'C': [0.001, 0.1, 1, 10, 100, 1000],\n",
        "              'kernel': ['linear']\n",
        "             }\n",
        " \n",
        "grid = GridSearchCV(svm.SVC(), param_grid, scoring='accuracy', refit = True, verbose = 3) \n",
        "# fitting the model for grid search\n",
        "grid.fit(x_desain_train_vectorized, y_desain_train)\n",
        "\n",
        "selected_kernel_linear = grid.best_params_['kernel']\n",
        "print(\"Selected Kernel: \", selected_kernel_linear)\n",
        "selected_C_linear = grid.best_params_['C']\n",
        "print(\"Selected C: \", selected_C_linear)\n",
        "\n",
        "best_params_linear_HT = grid.best_params_\n",
        "model_looks_linear_HT= grid.best_estimator_\n",
        "\n",
        "print(f'Best Score : {grid.best_score_}')\n",
        "print(\"best estimator: %s\" % (model_looks_linear_HT))"
      ],
      "metadata": {
        "colab": {
          "base_uri": "https://localhost:8080/"
        },
        "id": "mGhe6-voEz8j",
        "outputId": "b73f4761-88f4-4939-b1f2-59f0ce6d2beb"
      },
      "execution_count": 15,
      "outputs": [
        {
          "output_type": "stream",
          "name": "stdout",
          "text": [
            "Fitting 5 folds for each of 6 candidates, totalling 30 fits\n",
            "[CV 1/5] END ............C=0.001, kernel=linear;, score=0.750 total time=   1.2s\n",
            "[CV 2/5] END ............C=0.001, kernel=linear;, score=0.750 total time=   1.2s\n",
            "[CV 3/5] END ............C=0.001, kernel=linear;, score=0.750 total time=   1.2s\n",
            "[CV 4/5] END ............C=0.001, kernel=linear;, score=0.749 total time=   1.1s\n",
            "[CV 5/5] END ............C=0.001, kernel=linear;, score=0.749 total time=   1.2s\n",
            "[CV 1/5] END ..............C=0.1, kernel=linear;, score=0.941 total time=   0.8s\n",
            "[CV 2/5] END ..............C=0.1, kernel=linear;, score=0.943 total time=   0.7s\n",
            "[CV 3/5] END ..............C=0.1, kernel=linear;, score=0.948 total time=   0.8s\n",
            "[CV 4/5] END ..............C=0.1, kernel=linear;, score=0.955 total time=   0.9s\n",
            "[CV 5/5] END ..............C=0.1, kernel=linear;, score=0.954 total time=   0.5s\n",
            "[CV 1/5] END ................C=1, kernel=linear;, score=0.966 total time=   0.3s\n",
            "[CV 2/5] END ................C=1, kernel=linear;, score=0.965 total time=   0.3s\n",
            "[CV 3/5] END ................C=1, kernel=linear;, score=0.963 total time=   0.3s\n",
            "[CV 4/5] END ................C=1, kernel=linear;, score=0.978 total time=   0.3s\n",
            "[CV 5/5] END ................C=1, kernel=linear;, score=0.970 total time=   0.3s\n",
            "[CV 1/5] END ...............C=10, kernel=linear;, score=0.968 total time=   0.3s\n",
            "[CV 2/5] END ...............C=10, kernel=linear;, score=0.969 total time=   0.3s\n",
            "[CV 3/5] END ...............C=10, kernel=linear;, score=0.968 total time=   0.3s\n",
            "[CV 4/5] END ...............C=10, kernel=linear;, score=0.976 total time=   0.3s\n",
            "[CV 5/5] END ...............C=10, kernel=linear;, score=0.971 total time=   0.3s\n",
            "[CV 1/5] END ..............C=100, kernel=linear;, score=0.969 total time=   0.3s\n",
            "[CV 2/5] END ..............C=100, kernel=linear;, score=0.961 total time=   0.3s\n",
            "[CV 3/5] END ..............C=100, kernel=linear;, score=0.961 total time=   0.3s\n",
            "[CV 4/5] END ..............C=100, kernel=linear;, score=0.965 total time=   0.3s\n",
            "[CV 5/5] END ..............C=100, kernel=linear;, score=0.970 total time=   0.3s\n",
            "[CV 1/5] END .............C=1000, kernel=linear;, score=0.969 total time=   0.3s\n",
            "[CV 2/5] END .............C=1000, kernel=linear;, score=0.961 total time=   0.3s\n",
            "[CV 3/5] END .............C=1000, kernel=linear;, score=0.961 total time=   0.3s\n",
            "[CV 4/5] END .............C=1000, kernel=linear;, score=0.965 total time=   0.3s\n",
            "[CV 5/5] END .............C=1000, kernel=linear;, score=0.970 total time=   0.3s\n",
            "Selected Kernel:  linear\n",
            "Selected C:  10\n",
            "Best Score : 0.9702500000000001\n",
            "best estimator: SVC(C=10, kernel='linear')\n"
          ]
        }
      ]
    },
    {
      "cell_type": "markdown",
      "source": [
        "* Polynomial Kernel"
      ],
      "metadata": {
        "id": "zYzh-jrhyxVi"
      }
    },
    {
      "cell_type": "code",
      "source": [
        "param_grid = {'C': [0.001, 0.1, 1, 10, 100, 1000],\n",
        "              'kernel': ['poly'],\n",
        "              'degree':[1, 2, 3, 4, 5, 6],\n",
        "              'gamma' :['auto', 'scale']\n",
        "             }\n",
        " \n",
        "grid = GridSearchCV(svm.SVC(), param_grid, scoring='accuracy', refit = True, verbose = 3) \n",
        "# fitting the model for grid search\n",
        "grid.fit(x_desain_train_vectorized, y_desain_train)\n",
        "\n",
        "\n",
        "selected_kernel_poly = grid.best_params_['kernel']\n",
        "print(\"Selected Kernel: \", selected_kernel_poly)\n",
        "selected_C_poly= grid.best_params_['C']\n",
        "print(\"Selected C: \", selected_C_poly)\n",
        "selected_gamma_poly = grid.best_params_['gamma']\n",
        "print(\"Selected Gamma: \", selected_gamma_poly)\n",
        "selected_degree_poly = grid.best_params_['degree']\n",
        "print(\"Selected Degree: \", selected_degree_poly)\n",
        "\n",
        "best_params_poly_HT = grid.best_params_\n",
        "model_looks_poly_HT= grid.best_estimator_\n",
        "\n",
        "print(f'Best Score : {grid.best_score_}')\n",
        "print(\"best estimator: %s\" % (model_looks_poly_HT))"
      ],
      "metadata": {
        "colab": {
          "base_uri": "https://localhost:8080/"
        },
        "id": "kyy2Uaqpy1VZ",
        "outputId": "e8612f56-4b48-4204-a8ca-939a507423ca"
      },
      "execution_count": 16,
      "outputs": [
        {
          "output_type": "stream",
          "name": "stdout",
          "text": [
            "Fitting 5 folds for each of 72 candidates, totalling 360 fits\n",
            "[CV 1/5] END C=0.001, degree=1, gamma=auto, kernel=poly;, score=0.750 total time=   0.5s\n",
            "[CV 2/5] END C=0.001, degree=1, gamma=auto, kernel=poly;, score=0.750 total time=   0.5s\n",
            "[CV 3/5] END C=0.001, degree=1, gamma=auto, kernel=poly;, score=0.750 total time=   0.5s\n",
            "[CV 4/5] END C=0.001, degree=1, gamma=auto, kernel=poly;, score=0.749 total time=   0.5s\n",
            "[CV 5/5] END C=0.001, degree=1, gamma=auto, kernel=poly;, score=0.749 total time=   0.5s\n",
            "[CV 1/5] END C=0.001, degree=1, gamma=scale, kernel=poly;, score=0.750 total time=   0.7s\n",
            "[CV 2/5] END C=0.001, degree=1, gamma=scale, kernel=poly;, score=0.750 total time=   0.7s\n",
            "[CV 3/5] END C=0.001, degree=1, gamma=scale, kernel=poly;, score=0.750 total time=   0.7s\n",
            "[CV 4/5] END C=0.001, degree=1, gamma=scale, kernel=poly;, score=0.749 total time=   0.7s\n",
            "[CV 5/5] END C=0.001, degree=1, gamma=scale, kernel=poly;, score=0.749 total time=   0.7s\n",
            "[CV 1/5] END C=0.001, degree=2, gamma=auto, kernel=poly;, score=0.750 total time=   0.5s\n",
            "[CV 2/5] END C=0.001, degree=2, gamma=auto, kernel=poly;, score=0.750 total time=   0.5s\n",
            "[CV 3/5] END C=0.001, degree=2, gamma=auto, kernel=poly;, score=0.750 total time=   0.5s\n",
            "[CV 4/5] END C=0.001, degree=2, gamma=auto, kernel=poly;, score=0.749 total time=   0.5s\n",
            "[CV 5/5] END C=0.001, degree=2, gamma=auto, kernel=poly;, score=0.749 total time=   0.5s\n",
            "[CV 1/5] END C=0.001, degree=2, gamma=scale, kernel=poly;, score=0.750 total time=   0.7s\n",
            "[CV 2/5] END C=0.001, degree=2, gamma=scale, kernel=poly;, score=0.750 total time=   0.7s\n",
            "[CV 3/5] END C=0.001, degree=2, gamma=scale, kernel=poly;, score=0.750 total time=   0.7s\n",
            "[CV 4/5] END C=0.001, degree=2, gamma=scale, kernel=poly;, score=0.749 total time=   0.7s\n",
            "[CV 5/5] END C=0.001, degree=2, gamma=scale, kernel=poly;, score=0.749 total time=   0.7s\n",
            "[CV 1/5] END C=0.001, degree=3, gamma=auto, kernel=poly;, score=0.750 total time=   0.5s\n",
            "[CV 2/5] END C=0.001, degree=3, gamma=auto, kernel=poly;, score=0.750 total time=   0.5s\n",
            "[CV 3/5] END C=0.001, degree=3, gamma=auto, kernel=poly;, score=0.750 total time=   0.5s\n",
            "[CV 4/5] END C=0.001, degree=3, gamma=auto, kernel=poly;, score=0.749 total time=   0.5s\n",
            "[CV 5/5] END C=0.001, degree=3, gamma=auto, kernel=poly;, score=0.749 total time=   0.5s\n",
            "[CV 1/5] END C=0.001, degree=3, gamma=scale, kernel=poly;, score=0.750 total time=   0.7s\n",
            "[CV 2/5] END C=0.001, degree=3, gamma=scale, kernel=poly;, score=0.750 total time=   0.7s\n",
            "[CV 3/5] END C=0.001, degree=3, gamma=scale, kernel=poly;, score=0.750 total time=   0.7s\n",
            "[CV 4/5] END C=0.001, degree=3, gamma=scale, kernel=poly;, score=0.749 total time=   0.7s\n",
            "[CV 5/5] END C=0.001, degree=3, gamma=scale, kernel=poly;, score=0.749 total time=   0.7s\n",
            "[CV 1/5] END C=0.001, degree=4, gamma=auto, kernel=poly;, score=0.750 total time=   0.5s\n",
            "[CV 2/5] END C=0.001, degree=4, gamma=auto, kernel=poly;, score=0.750 total time=   0.5s\n",
            "[CV 3/5] END C=0.001, degree=4, gamma=auto, kernel=poly;, score=0.750 total time=   0.5s\n",
            "[CV 4/5] END C=0.001, degree=4, gamma=auto, kernel=poly;, score=0.749 total time=   0.5s\n",
            "[CV 5/5] END C=0.001, degree=4, gamma=auto, kernel=poly;, score=0.749 total time=   0.5s\n",
            "[CV 1/5] END C=0.001, degree=4, gamma=scale, kernel=poly;, score=0.750 total time=   0.7s\n",
            "[CV 2/5] END C=0.001, degree=4, gamma=scale, kernel=poly;, score=0.750 total time=   0.7s\n",
            "[CV 3/5] END C=0.001, degree=4, gamma=scale, kernel=poly;, score=0.750 total time=   0.7s\n",
            "[CV 4/5] END C=0.001, degree=4, gamma=scale, kernel=poly;, score=0.749 total time=   0.7s\n",
            "[CV 5/5] END C=0.001, degree=4, gamma=scale, kernel=poly;, score=0.749 total time=   0.7s\n",
            "[CV 1/5] END C=0.001, degree=5, gamma=auto, kernel=poly;, score=0.750 total time=   0.5s\n",
            "[CV 2/5] END C=0.001, degree=5, gamma=auto, kernel=poly;, score=0.750 total time=   0.5s\n",
            "[CV 3/5] END C=0.001, degree=5, gamma=auto, kernel=poly;, score=0.750 total time=   0.5s\n",
            "[CV 4/5] END C=0.001, degree=5, gamma=auto, kernel=poly;, score=0.749 total time=   0.5s\n",
            "[CV 5/5] END C=0.001, degree=5, gamma=auto, kernel=poly;, score=0.749 total time=   0.5s\n",
            "[CV 1/5] END C=0.001, degree=5, gamma=scale, kernel=poly;, score=0.750 total time=   0.7s\n",
            "[CV 2/5] END C=0.001, degree=5, gamma=scale, kernel=poly;, score=0.750 total time=   0.7s\n",
            "[CV 3/5] END C=0.001, degree=5, gamma=scale, kernel=poly;, score=0.750 total time=   0.7s\n",
            "[CV 4/5] END C=0.001, degree=5, gamma=scale, kernel=poly;, score=0.749 total time=   0.7s\n",
            "[CV 5/5] END C=0.001, degree=5, gamma=scale, kernel=poly;, score=0.749 total time=   0.7s\n",
            "[CV 1/5] END C=0.001, degree=6, gamma=auto, kernel=poly;, score=0.750 total time=   0.5s\n",
            "[CV 2/5] END C=0.001, degree=6, gamma=auto, kernel=poly;, score=0.750 total time=   0.5s\n",
            "[CV 3/5] END C=0.001, degree=6, gamma=auto, kernel=poly;, score=0.750 total time=   0.5s\n",
            "[CV 4/5] END C=0.001, degree=6, gamma=auto, kernel=poly;, score=0.749 total time=   0.5s\n",
            "[CV 5/5] END C=0.001, degree=6, gamma=auto, kernel=poly;, score=0.749 total time=   0.5s\n",
            "[CV 1/5] END C=0.001, degree=6, gamma=scale, kernel=poly;, score=0.750 total time=   0.7s\n",
            "[CV 2/5] END C=0.001, degree=6, gamma=scale, kernel=poly;, score=0.750 total time=   0.7s\n",
            "[CV 3/5] END C=0.001, degree=6, gamma=scale, kernel=poly;, score=0.750 total time=   0.7s\n",
            "[CV 4/5] END C=0.001, degree=6, gamma=scale, kernel=poly;, score=0.749 total time=   0.8s\n",
            "[CV 5/5] END C=0.001, degree=6, gamma=scale, kernel=poly;, score=0.749 total time=   0.7s\n",
            "[CV 1/5] END C=0.1, degree=1, gamma=auto, kernel=poly;, score=0.750 total time=   0.6s\n",
            "[CV 2/5] END C=0.1, degree=1, gamma=auto, kernel=poly;, score=0.750 total time=   0.6s\n",
            "[CV 3/5] END C=0.1, degree=1, gamma=auto, kernel=poly;, score=0.750 total time=   0.6s\n",
            "[CV 4/5] END C=0.1, degree=1, gamma=auto, kernel=poly;, score=0.749 total time=   0.6s\n",
            "[CV 5/5] END C=0.1, degree=1, gamma=auto, kernel=poly;, score=0.749 total time=   0.6s\n",
            "[CV 1/5] END C=0.1, degree=1, gamma=scale, kernel=poly;, score=0.941 total time=   0.5s\n",
            "[CV 2/5] END C=0.1, degree=1, gamma=scale, kernel=poly;, score=0.943 total time=   0.5s\n",
            "[CV 3/5] END C=0.1, degree=1, gamma=scale, kernel=poly;, score=0.948 total time=   0.5s\n",
            "[CV 4/5] END C=0.1, degree=1, gamma=scale, kernel=poly;, score=0.955 total time=   0.5s\n",
            "[CV 5/5] END C=0.1, degree=1, gamma=scale, kernel=poly;, score=0.955 total time=   0.5s\n",
            "[CV 1/5] END C=0.1, degree=2, gamma=auto, kernel=poly;, score=0.750 total time=   0.5s\n",
            "[CV 2/5] END C=0.1, degree=2, gamma=auto, kernel=poly;, score=0.750 total time=   0.5s\n",
            "[CV 3/5] END C=0.1, degree=2, gamma=auto, kernel=poly;, score=0.750 total time=   0.5s\n",
            "[CV 4/5] END C=0.1, degree=2, gamma=auto, kernel=poly;, score=0.749 total time=   0.5s\n",
            "[CV 5/5] END C=0.1, degree=2, gamma=auto, kernel=poly;, score=0.749 total time=   0.5s\n",
            "[CV 1/5] END C=0.1, degree=2, gamma=scale, kernel=poly;, score=0.801 total time=   0.8s\n",
            "[CV 2/5] END C=0.1, degree=2, gamma=scale, kernel=poly;, score=0.805 total time=   0.8s\n",
            "[CV 3/5] END C=0.1, degree=2, gamma=scale, kernel=poly;, score=0.815 total time=   0.8s\n",
            "[CV 4/5] END C=0.1, degree=2, gamma=scale, kernel=poly;, score=0.789 total time=   0.7s\n",
            "[CV 5/5] END C=0.1, degree=2, gamma=scale, kernel=poly;, score=0.791 total time=   0.8s\n",
            "[CV 1/5] END C=0.1, degree=3, gamma=auto, kernel=poly;, score=0.750 total time=   0.5s\n",
            "[CV 2/5] END C=0.1, degree=3, gamma=auto, kernel=poly;, score=0.750 total time=   0.5s\n",
            "[CV 3/5] END C=0.1, degree=3, gamma=auto, kernel=poly;, score=0.750 total time=   0.5s\n",
            "[CV 4/5] END C=0.1, degree=3, gamma=auto, kernel=poly;, score=0.749 total time=   0.5s\n",
            "[CV 5/5] END C=0.1, degree=3, gamma=auto, kernel=poly;, score=0.749 total time=   0.5s\n",
            "[CV 1/5] END C=0.1, degree=3, gamma=scale, kernel=poly;, score=0.781 total time=   1.0s\n",
            "[CV 2/5] END C=0.1, degree=3, gamma=scale, kernel=poly;, score=0.781 total time=   1.0s\n",
            "[CV 3/5] END C=0.1, degree=3, gamma=scale, kernel=poly;, score=0.787 total time=   1.0s\n",
            "[CV 4/5] END C=0.1, degree=3, gamma=scale, kernel=poly;, score=0.765 total time=   1.0s\n",
            "[CV 5/5] END C=0.1, degree=3, gamma=scale, kernel=poly;, score=0.780 total time=   1.1s\n",
            "[CV 1/5] END C=0.1, degree=4, gamma=auto, kernel=poly;, score=0.750 total time=   0.5s\n",
            "[CV 2/5] END C=0.1, degree=4, gamma=auto, kernel=poly;, score=0.750 total time=   0.9s\n",
            "[CV 3/5] END C=0.1, degree=4, gamma=auto, kernel=poly;, score=0.750 total time=   0.6s\n",
            "[CV 4/5] END C=0.1, degree=4, gamma=auto, kernel=poly;, score=0.749 total time=   0.8s\n",
            "[CV 5/5] END C=0.1, degree=4, gamma=auto, kernel=poly;, score=0.749 total time=   0.8s\n",
            "[CV 1/5] END C=0.1, degree=4, gamma=scale, kernel=poly;, score=0.779 total time=   1.3s\n",
            "[CV 2/5] END C=0.1, degree=4, gamma=scale, kernel=poly;, score=0.775 total time=   1.4s\n",
            "[CV 3/5] END C=0.1, degree=4, gamma=scale, kernel=poly;, score=0.784 total time=   1.3s\n",
            "[CV 4/5] END C=0.1, degree=4, gamma=scale, kernel=poly;, score=0.764 total time=   1.4s\n",
            "[CV 5/5] END C=0.1, degree=4, gamma=scale, kernel=poly;, score=0.777 total time=   1.4s\n",
            "[CV 1/5] END C=0.1, degree=5, gamma=auto, kernel=poly;, score=0.750 total time=   0.5s\n",
            "[CV 2/5] END C=0.1, degree=5, gamma=auto, kernel=poly;, score=0.750 total time=   0.5s\n",
            "[CV 3/5] END C=0.1, degree=5, gamma=auto, kernel=poly;, score=0.750 total time=   0.5s\n",
            "[CV 4/5] END C=0.1, degree=5, gamma=auto, kernel=poly;, score=0.749 total time=   0.5s\n",
            "[CV 5/5] END C=0.1, degree=5, gamma=auto, kernel=poly;, score=0.749 total time=   0.5s\n",
            "[CV 1/5] END C=0.1, degree=5, gamma=scale, kernel=poly;, score=0.776 total time=   1.5s\n",
            "[CV 2/5] END C=0.1, degree=5, gamma=scale, kernel=poly;, score=0.770 total time=   1.5s\n",
            "[CV 3/5] END C=0.1, degree=5, gamma=scale, kernel=poly;, score=0.781 total time=   1.5s\n",
            "[CV 4/5] END C=0.1, degree=5, gamma=scale, kernel=poly;, score=0.761 total time=   2.1s\n",
            "[CV 5/5] END C=0.1, degree=5, gamma=scale, kernel=poly;, score=0.776 total time=   2.1s\n",
            "[CV 1/5] END C=0.1, degree=6, gamma=auto, kernel=poly;, score=0.750 total time=   0.7s\n",
            "[CV 2/5] END C=0.1, degree=6, gamma=auto, kernel=poly;, score=0.750 total time=   0.5s\n",
            "[CV 3/5] END C=0.1, degree=6, gamma=auto, kernel=poly;, score=0.750 total time=   0.5s\n",
            "[CV 4/5] END C=0.1, degree=6, gamma=auto, kernel=poly;, score=0.749 total time=   0.5s\n",
            "[CV 5/5] END C=0.1, degree=6, gamma=auto, kernel=poly;, score=0.749 total time=   0.5s\n",
            "[CV 1/5] END C=0.1, degree=6, gamma=scale, kernel=poly;, score=0.774 total time=   1.6s\n",
            "[CV 2/5] END C=0.1, degree=6, gamma=scale, kernel=poly;, score=0.770 total time=   1.6s\n",
            "[CV 3/5] END C=0.1, degree=6, gamma=scale, kernel=poly;, score=0.781 total time=   1.6s\n",
            "[CV 4/5] END C=0.1, degree=6, gamma=scale, kernel=poly;, score=0.760 total time=   1.6s\n",
            "[CV 5/5] END C=0.1, degree=6, gamma=scale, kernel=poly;, score=0.775 total time=   1.6s\n",
            "[CV 1/5] END C=1, degree=1, gamma=auto, kernel=poly;, score=0.750 total time=   0.7s\n",
            "[CV 2/5] END C=1, degree=1, gamma=auto, kernel=poly;, score=0.750 total time=   0.7s\n",
            "[CV 3/5] END C=1, degree=1, gamma=auto, kernel=poly;, score=0.750 total time=   0.7s\n",
            "[CV 4/5] END C=1, degree=1, gamma=auto, kernel=poly;, score=0.749 total time=   0.7s\n",
            "[CV 5/5] END C=1, degree=1, gamma=auto, kernel=poly;, score=0.749 total time=   0.7s\n",
            "[CV 1/5] END C=1, degree=1, gamma=scale, kernel=poly;, score=0.966 total time=   0.3s\n",
            "[CV 2/5] END C=1, degree=1, gamma=scale, kernel=poly;, score=0.965 total time=   0.3s\n",
            "[CV 3/5] END C=1, degree=1, gamma=scale, kernel=poly;, score=0.963 total time=   0.3s\n",
            "[CV 4/5] END C=1, degree=1, gamma=scale, kernel=poly;, score=0.978 total time=   0.3s\n",
            "[CV 5/5] END C=1, degree=1, gamma=scale, kernel=poly;, score=0.970 total time=   0.3s\n",
            "[CV 1/5] END C=1, degree=2, gamma=auto, kernel=poly;, score=0.750 total time=   0.5s\n",
            "[CV 2/5] END C=1, degree=2, gamma=auto, kernel=poly;, score=0.750 total time=   0.5s\n",
            "[CV 3/5] END C=1, degree=2, gamma=auto, kernel=poly;, score=0.750 total time=   0.5s\n",
            "[CV 4/5] END C=1, degree=2, gamma=auto, kernel=poly;, score=0.749 total time=   0.5s\n",
            "[CV 5/5] END C=1, degree=2, gamma=auto, kernel=poly;, score=0.749 total time=   0.5s\n",
            "[CV 1/5] END C=1, degree=2, gamma=scale, kernel=poly;, score=0.963 total time=   0.7s\n",
            "[CV 2/5] END C=1, degree=2, gamma=scale, kernel=poly;, score=0.970 total time=   0.7s\n",
            "[CV 3/5] END C=1, degree=2, gamma=scale, kernel=poly;, score=0.963 total time=   0.7s\n",
            "[CV 4/5] END C=1, degree=2, gamma=scale, kernel=poly;, score=0.964 total time=   0.7s\n",
            "[CV 5/5] END C=1, degree=2, gamma=scale, kernel=poly;, score=0.971 total time=   0.7s\n",
            "[CV 1/5] END C=1, degree=3, gamma=auto, kernel=poly;, score=0.750 total time=   0.5s\n",
            "[CV 2/5] END C=1, degree=3, gamma=auto, kernel=poly;, score=0.750 total time=   0.5s\n",
            "[CV 3/5] END C=1, degree=3, gamma=auto, kernel=poly;, score=0.750 total time=   0.5s\n",
            "[CV 4/5] END C=1, degree=3, gamma=auto, kernel=poly;, score=0.749 total time=   0.5s\n",
            "[CV 5/5] END C=1, degree=3, gamma=auto, kernel=poly;, score=0.749 total time=   0.5s\n",
            "[CV 1/5] END C=1, degree=3, gamma=scale, kernel=poly;, score=0.890 total time=   1.1s\n",
            "[CV 2/5] END C=1, degree=3, gamma=scale, kernel=poly;, score=0.900 total time=   1.1s\n",
            "[CV 3/5] END C=1, degree=3, gamma=scale, kernel=poly;, score=0.895 total time=   1.1s\n",
            "[CV 4/5] END C=1, degree=3, gamma=scale, kernel=poly;, score=0.877 total time=   1.1s\n",
            "[CV 5/5] END C=1, degree=3, gamma=scale, kernel=poly;, score=0.882 total time=   1.1s\n",
            "[CV 1/5] END C=1, degree=4, gamma=auto, kernel=poly;, score=0.750 total time=   0.5s\n",
            "[CV 2/5] END C=1, degree=4, gamma=auto, kernel=poly;, score=0.750 total time=   0.5s\n",
            "[CV 3/5] END C=1, degree=4, gamma=auto, kernel=poly;, score=0.750 total time=   0.5s\n",
            "[CV 4/5] END C=1, degree=4, gamma=auto, kernel=poly;, score=0.749 total time=   0.5s\n",
            "[CV 5/5] END C=1, degree=4, gamma=auto, kernel=poly;, score=0.749 total time=   0.5s\n",
            "[CV 1/5] END C=1, degree=4, gamma=scale, kernel=poly;, score=0.823 total time=   1.5s\n",
            "[CV 2/5] END C=1, degree=4, gamma=scale, kernel=poly;, score=0.829 total time=   1.6s\n",
            "[CV 3/5] END C=1, degree=4, gamma=scale, kernel=poly;, score=0.841 total time=   1.6s\n",
            "[CV 4/5] END C=1, degree=4, gamma=scale, kernel=poly;, score=0.807 total time=   1.6s\n",
            "[CV 5/5] END C=1, degree=4, gamma=scale, kernel=poly;, score=0.812 total time=   1.6s\n",
            "[CV 1/5] END C=1, degree=5, gamma=auto, kernel=poly;, score=0.750 total time=   0.5s\n",
            "[CV 2/5] END C=1, degree=5, gamma=auto, kernel=poly;, score=0.750 total time=   0.5s\n",
            "[CV 3/5] END C=1, degree=5, gamma=auto, kernel=poly;, score=0.750 total time=   0.5s\n",
            "[CV 4/5] END C=1, degree=5, gamma=auto, kernel=poly;, score=0.749 total time=   0.5s\n",
            "[CV 5/5] END C=1, degree=5, gamma=auto, kernel=poly;, score=0.749 total time=   0.5s\n",
            "[CV 1/5] END C=1, degree=5, gamma=scale, kernel=poly;, score=0.805 total time=   1.6s\n",
            "[CV 2/5] END C=1, degree=5, gamma=scale, kernel=poly;, score=0.820 total time=   1.7s\n",
            "[CV 3/5] END C=1, degree=5, gamma=scale, kernel=poly;, score=0.825 total time=   1.6s\n",
            "[CV 4/5] END C=1, degree=5, gamma=scale, kernel=poly;, score=0.795 total time=   1.6s\n",
            "[CV 5/5] END C=1, degree=5, gamma=scale, kernel=poly;, score=0.792 total time=   1.7s\n",
            "[CV 1/5] END C=1, degree=6, gamma=auto, kernel=poly;, score=0.750 total time=   0.5s\n",
            "[CV 2/5] END C=1, degree=6, gamma=auto, kernel=poly;, score=0.750 total time=   0.5s\n",
            "[CV 3/5] END C=1, degree=6, gamma=auto, kernel=poly;, score=0.750 total time=   0.5s\n",
            "[CV 4/5] END C=1, degree=6, gamma=auto, kernel=poly;, score=0.749 total time=   0.5s\n",
            "[CV 5/5] END C=1, degree=6, gamma=auto, kernel=poly;, score=0.749 total time=   0.5s\n",
            "[CV 1/5] END C=1, degree=6, gamma=scale, kernel=poly;, score=0.800 total time=   1.7s\n",
            "[CV 2/5] END C=1, degree=6, gamma=scale, kernel=poly;, score=0.809 total time=   1.7s\n",
            "[CV 3/5] END C=1, degree=6, gamma=scale, kernel=poly;, score=0.812 total time=   1.7s\n",
            "[CV 4/5] END C=1, degree=6, gamma=scale, kernel=poly;, score=0.791 total time=   1.7s\n",
            "[CV 5/5] END C=1, degree=6, gamma=scale, kernel=poly;, score=0.786 total time=   1.7s\n",
            "[CV 1/5] END C=10, degree=1, gamma=auto, kernel=poly;, score=0.750 total time=   0.7s\n",
            "[CV 2/5] END C=10, degree=1, gamma=auto, kernel=poly;, score=0.750 total time=   0.7s\n",
            "[CV 3/5] END C=10, degree=1, gamma=auto, kernel=poly;, score=0.750 total time=   0.7s\n",
            "[CV 4/5] END C=10, degree=1, gamma=auto, kernel=poly;, score=0.749 total time=   0.7s\n",
            "[CV 5/5] END C=10, degree=1, gamma=auto, kernel=poly;, score=0.749 total time=   0.7s\n",
            "[CV 1/5] END C=10, degree=1, gamma=scale, kernel=poly;, score=0.968 total time=   0.3s\n",
            "[CV 2/5] END C=10, degree=1, gamma=scale, kernel=poly;, score=0.969 total time=   0.3s\n",
            "[CV 3/5] END C=10, degree=1, gamma=scale, kernel=poly;, score=0.968 total time=   0.3s\n",
            "[CV 4/5] END C=10, degree=1, gamma=scale, kernel=poly;, score=0.976 total time=   0.3s\n",
            "[CV 5/5] END C=10, degree=1, gamma=scale, kernel=poly;, score=0.971 total time=   0.3s\n",
            "[CV 1/5] END C=10, degree=2, gamma=auto, kernel=poly;, score=0.750 total time=   0.5s\n",
            "[CV 2/5] END C=10, degree=2, gamma=auto, kernel=poly;, score=0.750 total time=   0.5s\n",
            "[CV 3/5] END C=10, degree=2, gamma=auto, kernel=poly;, score=0.750 total time=   0.5s\n",
            "[CV 4/5] END C=10, degree=2, gamma=auto, kernel=poly;, score=0.749 total time=   0.5s\n",
            "[CV 5/5] END C=10, degree=2, gamma=auto, kernel=poly;, score=0.749 total time=   0.5s\n",
            "[CV 1/5] END C=10, degree=2, gamma=scale, kernel=poly;, score=0.965 total time=   0.7s\n",
            "[CV 2/5] END C=10, degree=2, gamma=scale, kernel=poly;, score=0.970 total time=   0.7s\n",
            "[CV 3/5] END C=10, degree=2, gamma=scale, kernel=poly;, score=0.963 total time=   0.7s\n",
            "[CV 4/5] END C=10, degree=2, gamma=scale, kernel=poly;, score=0.965 total time=   0.7s\n",
            "[CV 5/5] END C=10, degree=2, gamma=scale, kernel=poly;, score=0.970 total time=   0.7s\n",
            "[CV 1/5] END C=10, degree=3, gamma=auto, kernel=poly;, score=0.750 total time=   0.5s\n",
            "[CV 2/5] END C=10, degree=3, gamma=auto, kernel=poly;, score=0.750 total time=   0.5s\n",
            "[CV 3/5] END C=10, degree=3, gamma=auto, kernel=poly;, score=0.750 total time=   0.5s\n",
            "[CV 4/5] END C=10, degree=3, gamma=auto, kernel=poly;, score=0.749 total time=   0.5s\n",
            "[CV 5/5] END C=10, degree=3, gamma=auto, kernel=poly;, score=0.749 total time=   0.5s\n",
            "[CV 1/5] END C=10, degree=3, gamma=scale, kernel=poly;, score=0.899 total time=   1.3s\n",
            "[CV 2/5] END C=10, degree=3, gamma=scale, kernel=poly;, score=0.910 total time=   1.3s\n",
            "[CV 3/5] END C=10, degree=3, gamma=scale, kernel=poly;, score=0.904 total time=   1.3s\n",
            "[CV 4/5] END C=10, degree=3, gamma=scale, kernel=poly;, score=0.897 total time=   1.3s\n",
            "[CV 5/5] END C=10, degree=3, gamma=scale, kernel=poly;, score=0.891 total time=   1.3s\n",
            "[CV 1/5] END C=10, degree=4, gamma=auto, kernel=poly;, score=0.750 total time=   0.5s\n",
            "[CV 2/5] END C=10, degree=4, gamma=auto, kernel=poly;, score=0.750 total time=   0.5s\n",
            "[CV 3/5] END C=10, degree=4, gamma=auto, kernel=poly;, score=0.750 total time=   0.5s\n",
            "[CV 4/5] END C=10, degree=4, gamma=auto, kernel=poly;, score=0.749 total time=   0.5s\n",
            "[CV 5/5] END C=10, degree=4, gamma=auto, kernel=poly;, score=0.749 total time=   0.5s\n",
            "[CV 1/5] END C=10, degree=4, gamma=scale, kernel=poly;, score=0.834 total time=   1.6s\n",
            "[CV 2/5] END C=10, degree=4, gamma=scale, kernel=poly;, score=0.844 total time=   1.6s\n",
            "[CV 3/5] END C=10, degree=4, gamma=scale, kernel=poly;, score=0.846 total time=   1.7s\n",
            "[CV 4/5] END C=10, degree=4, gamma=scale, kernel=poly;, score=0.821 total time=   1.6s\n",
            "[CV 5/5] END C=10, degree=4, gamma=scale, kernel=poly;, score=0.828 total time=   1.7s\n",
            "[CV 1/5] END C=10, degree=5, gamma=auto, kernel=poly;, score=0.750 total time=   0.5s\n",
            "[CV 2/5] END C=10, degree=5, gamma=auto, kernel=poly;, score=0.750 total time=   0.5s\n",
            "[CV 3/5] END C=10, degree=5, gamma=auto, kernel=poly;, score=0.750 total time=   0.5s\n",
            "[CV 4/5] END C=10, degree=5, gamma=auto, kernel=poly;, score=0.749 total time=   0.5s\n",
            "[CV 5/5] END C=10, degree=5, gamma=auto, kernel=poly;, score=0.749 total time=   0.5s\n",
            "[CV 1/5] END C=10, degree=5, gamma=scale, kernel=poly;, score=0.819 total time=   1.7s\n",
            "[CV 2/5] END C=10, degree=5, gamma=scale, kernel=poly;, score=0.826 total time=   1.7s\n",
            "[CV 3/5] END C=10, degree=5, gamma=scale, kernel=poly;, score=0.829 total time=   1.7s\n",
            "[CV 4/5] END C=10, degree=5, gamma=scale, kernel=poly;, score=0.804 total time=   1.7s\n",
            "[CV 5/5] END C=10, degree=5, gamma=scale, kernel=poly;, score=0.807 total time=   1.7s\n",
            "[CV 1/5] END C=10, degree=6, gamma=auto, kernel=poly;, score=0.750 total time=   0.5s\n",
            "[CV 2/5] END C=10, degree=6, gamma=auto, kernel=poly;, score=0.750 total time=   0.5s\n",
            "[CV 3/5] END C=10, degree=6, gamma=auto, kernel=poly;, score=0.750 total time=   0.5s\n",
            "[CV 4/5] END C=10, degree=6, gamma=auto, kernel=poly;, score=0.749 total time=   0.5s\n",
            "[CV 5/5] END C=10, degree=6, gamma=auto, kernel=poly;, score=0.749 total time=   0.5s\n",
            "[CV 1/5] END C=10, degree=6, gamma=scale, kernel=poly;, score=0.814 total time=   1.7s\n",
            "[CV 2/5] END C=10, degree=6, gamma=scale, kernel=poly;, score=0.819 total time=   1.8s\n",
            "[CV 3/5] END C=10, degree=6, gamma=scale, kernel=poly;, score=0.821 total time=   1.7s\n",
            "[CV 4/5] END C=10, degree=6, gamma=scale, kernel=poly;, score=0.795 total time=   1.7s\n",
            "[CV 5/5] END C=10, degree=6, gamma=scale, kernel=poly;, score=0.791 total time=   1.7s\n",
            "[CV 1/5] END C=100, degree=1, gamma=auto, kernel=poly;, score=0.907 total time=   0.6s\n",
            "[CV 2/5] END C=100, degree=1, gamma=auto, kernel=poly;, score=0.904 total time=   0.6s\n",
            "[CV 3/5] END C=100, degree=1, gamma=auto, kernel=poly;, score=0.910 total time=   0.6s\n",
            "[CV 4/5] END C=100, degree=1, gamma=auto, kernel=poly;, score=0.882 total time=   0.6s\n",
            "[CV 5/5] END C=100, degree=1, gamma=auto, kernel=poly;, score=0.892 total time=   0.6s\n",
            "[CV 1/5] END C=100, degree=1, gamma=scale, kernel=poly;, score=0.969 total time=   0.3s\n",
            "[CV 2/5] END C=100, degree=1, gamma=scale, kernel=poly;, score=0.961 total time=   0.3s\n",
            "[CV 3/5] END C=100, degree=1, gamma=scale, kernel=poly;, score=0.961 total time=   0.3s\n",
            "[CV 4/5] END C=100, degree=1, gamma=scale, kernel=poly;, score=0.965 total time=   0.3s\n",
            "[CV 5/5] END C=100, degree=1, gamma=scale, kernel=poly;, score=0.970 total time=   0.3s\n",
            "[CV 1/5] END C=100, degree=2, gamma=auto, kernel=poly;, score=0.750 total time=   0.5s\n",
            "[CV 2/5] END C=100, degree=2, gamma=auto, kernel=poly;, score=0.750 total time=   0.6s\n",
            "[CV 3/5] END C=100, degree=2, gamma=auto, kernel=poly;, score=0.750 total time=   0.5s\n",
            "[CV 4/5] END C=100, degree=2, gamma=auto, kernel=poly;, score=0.749 total time=   0.5s\n",
            "[CV 5/5] END C=100, degree=2, gamma=auto, kernel=poly;, score=0.749 total time=   0.5s\n",
            "[CV 1/5] END C=100, degree=2, gamma=scale, kernel=poly;, score=0.965 total time=   0.7s\n",
            "[CV 2/5] END C=100, degree=2, gamma=scale, kernel=poly;, score=0.970 total time=   0.7s\n",
            "[CV 3/5] END C=100, degree=2, gamma=scale, kernel=poly;, score=0.963 total time=   0.7s\n",
            "[CV 4/5] END C=100, degree=2, gamma=scale, kernel=poly;, score=0.965 total time=   0.7s\n",
            "[CV 5/5] END C=100, degree=2, gamma=scale, kernel=poly;, score=0.970 total time=   0.7s\n",
            "[CV 1/5] END C=100, degree=3, gamma=auto, kernel=poly;, score=0.750 total time=   0.5s\n",
            "[CV 2/5] END C=100, degree=3, gamma=auto, kernel=poly;, score=0.750 total time=   0.5s\n",
            "[CV 3/5] END C=100, degree=3, gamma=auto, kernel=poly;, score=0.750 total time=   0.5s\n",
            "[CV 4/5] END C=100, degree=3, gamma=auto, kernel=poly;, score=0.749 total time=   0.5s\n",
            "[CV 5/5] END C=100, degree=3, gamma=auto, kernel=poly;, score=0.749 total time=   0.5s\n",
            "[CV 1/5] END C=100, degree=3, gamma=scale, kernel=poly;, score=0.899 total time=   1.3s\n",
            "[CV 2/5] END C=100, degree=3, gamma=scale, kernel=poly;, score=0.910 total time=   1.3s\n",
            "[CV 3/5] END C=100, degree=3, gamma=scale, kernel=poly;, score=0.904 total time=   1.3s\n",
            "[CV 4/5] END C=100, degree=3, gamma=scale, kernel=poly;, score=0.897 total time=   1.3s\n",
            "[CV 5/5] END C=100, degree=3, gamma=scale, kernel=poly;, score=0.891 total time=   1.3s\n",
            "[CV 1/5] END C=100, degree=4, gamma=auto, kernel=poly;, score=0.750 total time=   0.5s\n",
            "[CV 2/5] END C=100, degree=4, gamma=auto, kernel=poly;, score=0.750 total time=   0.5s\n",
            "[CV 3/5] END C=100, degree=4, gamma=auto, kernel=poly;, score=0.750 total time=   0.5s\n",
            "[CV 4/5] END C=100, degree=4, gamma=auto, kernel=poly;, score=0.749 total time=   0.5s\n",
            "[CV 5/5] END C=100, degree=4, gamma=auto, kernel=poly;, score=0.749 total time=   0.5s\n",
            "[CV 1/5] END C=100, degree=4, gamma=scale, kernel=poly;, score=0.834 total time=   1.6s\n",
            "[CV 2/5] END C=100, degree=4, gamma=scale, kernel=poly;, score=0.844 total time=   1.6s\n",
            "[CV 3/5] END C=100, degree=4, gamma=scale, kernel=poly;, score=0.846 total time=   1.6s\n",
            "[CV 4/5] END C=100, degree=4, gamma=scale, kernel=poly;, score=0.821 total time=   1.6s\n",
            "[CV 5/5] END C=100, degree=4, gamma=scale, kernel=poly;, score=0.828 total time=   1.6s\n",
            "[CV 1/5] END C=100, degree=5, gamma=auto, kernel=poly;, score=0.750 total time=   0.5s\n",
            "[CV 2/5] END C=100, degree=5, gamma=auto, kernel=poly;, score=0.750 total time=   0.5s\n",
            "[CV 3/5] END C=100, degree=5, gamma=auto, kernel=poly;, score=0.750 total time=   0.5s\n",
            "[CV 4/5] END C=100, degree=5, gamma=auto, kernel=poly;, score=0.749 total time=   0.5s\n",
            "[CV 5/5] END C=100, degree=5, gamma=auto, kernel=poly;, score=0.749 total time=   0.5s\n",
            "[CV 1/5] END C=100, degree=5, gamma=scale, kernel=poly;, score=0.819 total time=   1.7s\n",
            "[CV 2/5] END C=100, degree=5, gamma=scale, kernel=poly;, score=0.826 total time=   1.7s\n",
            "[CV 3/5] END C=100, degree=5, gamma=scale, kernel=poly;, score=0.829 total time=   1.7s\n",
            "[CV 4/5] END C=100, degree=5, gamma=scale, kernel=poly;, score=0.804 total time=   1.7s\n",
            "[CV 5/5] END C=100, degree=5, gamma=scale, kernel=poly;, score=0.807 total time=   1.7s\n",
            "[CV 1/5] END C=100, degree=6, gamma=auto, kernel=poly;, score=0.750 total time=   0.5s\n",
            "[CV 2/5] END C=100, degree=6, gamma=auto, kernel=poly;, score=0.750 total time=   0.5s\n",
            "[CV 3/5] END C=100, degree=6, gamma=auto, kernel=poly;, score=0.750 total time=   0.5s\n",
            "[CV 4/5] END C=100, degree=6, gamma=auto, kernel=poly;, score=0.749 total time=   0.5s\n",
            "[CV 5/5] END C=100, degree=6, gamma=auto, kernel=poly;, score=0.749 total time=   0.5s\n",
            "[CV 1/5] END C=100, degree=6, gamma=scale, kernel=poly;, score=0.814 total time=   1.7s\n",
            "[CV 2/5] END C=100, degree=6, gamma=scale, kernel=poly;, score=0.819 total time=   1.8s\n",
            "[CV 3/5] END C=100, degree=6, gamma=scale, kernel=poly;, score=0.821 total time=   1.8s\n",
            "[CV 4/5] END C=100, degree=6, gamma=scale, kernel=poly;, score=0.795 total time=   1.7s\n",
            "[CV 5/5] END C=100, degree=6, gamma=scale, kernel=poly;, score=0.791 total time=   1.7s\n",
            "[CV 1/5] END C=1000, degree=1, gamma=auto, kernel=poly;, score=0.959 total time=   0.4s\n",
            "[CV 2/5] END C=1000, degree=1, gamma=auto, kernel=poly;, score=0.949 total time=   0.4s\n",
            "[CV 3/5] END C=1000, degree=1, gamma=auto, kernel=poly;, score=0.959 total time=   0.4s\n",
            "[CV 4/5] END C=1000, degree=1, gamma=auto, kernel=poly;, score=0.966 total time=   0.4s\n",
            "[CV 5/5] END C=1000, degree=1, gamma=auto, kernel=poly;, score=0.963 total time=   0.4s\n",
            "[CV 1/5] END C=1000, degree=1, gamma=scale, kernel=poly;, score=0.969 total time=   0.3s\n",
            "[CV 2/5] END C=1000, degree=1, gamma=scale, kernel=poly;, score=0.961 total time=   0.3s\n",
            "[CV 3/5] END C=1000, degree=1, gamma=scale, kernel=poly;, score=0.961 total time=   0.3s\n",
            "[CV 4/5] END C=1000, degree=1, gamma=scale, kernel=poly;, score=0.965 total time=   0.3s\n",
            "[CV 5/5] END C=1000, degree=1, gamma=scale, kernel=poly;, score=0.970 total time=   0.3s\n",
            "[CV 1/5] END C=1000, degree=2, gamma=auto, kernel=poly;, score=0.750 total time=   0.7s\n",
            "[CV 2/5] END C=1000, degree=2, gamma=auto, kernel=poly;, score=0.750 total time=   0.7s\n",
            "[CV 3/5] END C=1000, degree=2, gamma=auto, kernel=poly;, score=0.750 total time=   0.7s\n",
            "[CV 4/5] END C=1000, degree=2, gamma=auto, kernel=poly;, score=0.749 total time=   0.7s\n",
            "[CV 5/5] END C=1000, degree=2, gamma=auto, kernel=poly;, score=0.749 total time=   0.7s\n",
            "[CV 1/5] END C=1000, degree=2, gamma=scale, kernel=poly;, score=0.965 total time=   0.7s\n",
            "[CV 2/5] END C=1000, degree=2, gamma=scale, kernel=poly;, score=0.970 total time=   0.7s\n",
            "[CV 3/5] END C=1000, degree=2, gamma=scale, kernel=poly;, score=0.963 total time=   0.7s\n",
            "[CV 4/5] END C=1000, degree=2, gamma=scale, kernel=poly;, score=0.965 total time=   0.7s\n",
            "[CV 5/5] END C=1000, degree=2, gamma=scale, kernel=poly;, score=0.970 total time=   0.7s\n",
            "[CV 1/5] END C=1000, degree=3, gamma=auto, kernel=poly;, score=0.750 total time=   0.5s\n",
            "[CV 2/5] END C=1000, degree=3, gamma=auto, kernel=poly;, score=0.750 total time=   0.5s\n",
            "[CV 3/5] END C=1000, degree=3, gamma=auto, kernel=poly;, score=0.750 total time=   0.5s\n",
            "[CV 4/5] END C=1000, degree=3, gamma=auto, kernel=poly;, score=0.749 total time=   0.5s\n",
            "[CV 5/5] END C=1000, degree=3, gamma=auto, kernel=poly;, score=0.749 total time=   0.5s\n",
            "[CV 1/5] END C=1000, degree=3, gamma=scale, kernel=poly;, score=0.899 total time=   1.3s\n",
            "[CV 2/5] END C=1000, degree=3, gamma=scale, kernel=poly;, score=0.910 total time=   1.3s\n",
            "[CV 3/5] END C=1000, degree=3, gamma=scale, kernel=poly;, score=0.904 total time=   1.3s\n",
            "[CV 4/5] END C=1000, degree=3, gamma=scale, kernel=poly;, score=0.897 total time=   1.3s\n",
            "[CV 5/5] END C=1000, degree=3, gamma=scale, kernel=poly;, score=0.891 total time=   1.3s\n",
            "[CV 1/5] END C=1000, degree=4, gamma=auto, kernel=poly;, score=0.750 total time=   0.5s\n",
            "[CV 2/5] END C=1000, degree=4, gamma=auto, kernel=poly;, score=0.750 total time=   0.5s\n",
            "[CV 3/5] END C=1000, degree=4, gamma=auto, kernel=poly;, score=0.750 total time=   0.5s\n",
            "[CV 4/5] END C=1000, degree=4, gamma=auto, kernel=poly;, score=0.749 total time=   0.5s\n",
            "[CV 5/5] END C=1000, degree=4, gamma=auto, kernel=poly;, score=0.749 total time=   0.5s\n",
            "[CV 1/5] END C=1000, degree=4, gamma=scale, kernel=poly;, score=0.834 total time=   1.6s\n",
            "[CV 2/5] END C=1000, degree=4, gamma=scale, kernel=poly;, score=0.844 total time=   1.6s\n",
            "[CV 3/5] END C=1000, degree=4, gamma=scale, kernel=poly;, score=0.846 total time=   1.6s\n",
            "[CV 4/5] END C=1000, degree=4, gamma=scale, kernel=poly;, score=0.821 total time=   1.6s\n",
            "[CV 5/5] END C=1000, degree=4, gamma=scale, kernel=poly;, score=0.828 total time=   1.6s\n",
            "[CV 1/5] END C=1000, degree=5, gamma=auto, kernel=poly;, score=0.750 total time=   0.5s\n",
            "[CV 2/5] END C=1000, degree=5, gamma=auto, kernel=poly;, score=0.750 total time=   0.5s\n",
            "[CV 3/5] END C=1000, degree=5, gamma=auto, kernel=poly;, score=0.750 total time=   0.5s\n",
            "[CV 4/5] END C=1000, degree=5, gamma=auto, kernel=poly;, score=0.749 total time=   0.5s\n",
            "[CV 5/5] END C=1000, degree=5, gamma=auto, kernel=poly;, score=0.749 total time=   0.5s\n",
            "[CV 1/5] END C=1000, degree=5, gamma=scale, kernel=poly;, score=0.819 total time=   1.7s\n",
            "[CV 2/5] END C=1000, degree=5, gamma=scale, kernel=poly;, score=0.826 total time=   1.7s\n",
            "[CV 3/5] END C=1000, degree=5, gamma=scale, kernel=poly;, score=0.829 total time=   1.7s\n",
            "[CV 4/5] END C=1000, degree=5, gamma=scale, kernel=poly;, score=0.804 total time=   1.8s\n",
            "[CV 5/5] END C=1000, degree=5, gamma=scale, kernel=poly;, score=0.807 total time=   1.8s\n",
            "[CV 1/5] END C=1000, degree=6, gamma=auto, kernel=poly;, score=0.750 total time=   0.5s\n",
            "[CV 2/5] END C=1000, degree=6, gamma=auto, kernel=poly;, score=0.750 total time=   0.5s\n",
            "[CV 3/5] END C=1000, degree=6, gamma=auto, kernel=poly;, score=0.750 total time=   0.5s\n",
            "[CV 4/5] END C=1000, degree=6, gamma=auto, kernel=poly;, score=0.749 total time=   0.5s\n",
            "[CV 5/5] END C=1000, degree=6, gamma=auto, kernel=poly;, score=0.749 total time=   0.5s\n",
            "[CV 1/5] END C=1000, degree=6, gamma=scale, kernel=poly;, score=0.814 total time=   1.8s\n",
            "[CV 2/5] END C=1000, degree=6, gamma=scale, kernel=poly;, score=0.819 total time=   2.0s\n",
            "[CV 3/5] END C=1000, degree=6, gamma=scale, kernel=poly;, score=0.821 total time=   2.4s\n",
            "[CV 4/5] END C=1000, degree=6, gamma=scale, kernel=poly;, score=0.795 total time=   2.2s\n",
            "[CV 5/5] END C=1000, degree=6, gamma=scale, kernel=poly;, score=0.791 total time=   1.8s\n",
            "Selected Kernel:  poly\n",
            "Selected C:  10\n",
            "Selected Gamma:  scale\n",
            "Selected Degree:  1\n",
            "Best Score : 0.9702500000000001\n",
            "best estimator: SVC(C=10, degree=1, kernel='poly')\n"
          ]
        }
      ]
    },
    {
      "cell_type": "markdown",
      "source": [
        "* RBF Kernel"
      ],
      "metadata": {
        "id": "tuZVqSAY0BQO"
      }
    },
    {
      "cell_type": "code",
      "source": [
        "param_grid = {'C': [0.001, 0.1, 1, 10, 100, 1000],\n",
        "              'kernel': ['rbf'],\n",
        "              'gamma' :['auto', 'scale']\n",
        "             }\n",
        " \n",
        "grid = GridSearchCV(svm.SVC(), param_grid, scoring='accuracy', refit = True, verbose = 3) \n",
        "# fitting the model for grid search\n",
        "grid.fit(x_desain_train_vectorized, y_desain_train)\n",
        "\n",
        "selected_kernel_rbf = grid.best_params_['kernel']\n",
        "print(\"Selected Kernel: \", selected_kernel_rbf)\n",
        "selected_C_rbf = grid.best_params_['C']\n",
        "print(\"Selected C: \", selected_C_rbf)\n",
        "selected_gamma_rbf= grid.best_params_['gamma']\n",
        "print(\"Selected Gamma: \", selected_gamma_rbf)\n",
        "\n",
        "best_params_rbf_HT = grid.best_params_\n",
        "model_looks_rbf_HT= grid.best_estimator_\n",
        "\n",
        "print(f'Best Score : {grid.best_score_}')\n",
        "print(\"best estimator: %s\" % (model_looks_rbf_HT))"
      ],
      "metadata": {
        "colab": {
          "base_uri": "https://localhost:8080/"
        },
        "id": "itXr1dkV0Cs5",
        "outputId": "1ed604d4-f328-4e5c-f805-d2c96da9b8a3"
      },
      "execution_count": 17,
      "outputs": [
        {
          "output_type": "stream",
          "name": "stdout",
          "text": [
            "Fitting 5 folds for each of 12 candidates, totalling 60 fits\n",
            "[CV 1/5] END ...C=0.001, gamma=auto, kernel=rbf;, score=0.750 total time=   0.6s\n",
            "[CV 2/5] END ...C=0.001, gamma=auto, kernel=rbf;, score=0.750 total time=   0.6s\n",
            "[CV 3/5] END ...C=0.001, gamma=auto, kernel=rbf;, score=0.750 total time=   0.6s\n",
            "[CV 4/5] END ...C=0.001, gamma=auto, kernel=rbf;, score=0.749 total time=   0.6s\n",
            "[CV 5/5] END ...C=0.001, gamma=auto, kernel=rbf;, score=0.749 total time=   0.6s\n",
            "[CV 1/5] END ..C=0.001, gamma=scale, kernel=rbf;, score=0.750 total time=   0.8s\n",
            "[CV 2/5] END ..C=0.001, gamma=scale, kernel=rbf;, score=0.750 total time=   0.8s\n",
            "[CV 3/5] END ..C=0.001, gamma=scale, kernel=rbf;, score=0.750 total time=   0.8s\n",
            "[CV 4/5] END ..C=0.001, gamma=scale, kernel=rbf;, score=0.749 total time=   0.8s\n",
            "[CV 5/5] END ..C=0.001, gamma=scale, kernel=rbf;, score=0.749 total time=   0.8s\n",
            "[CV 1/5] END .....C=0.1, gamma=auto, kernel=rbf;, score=0.750 total time=   0.8s\n",
            "[CV 2/5] END .....C=0.1, gamma=auto, kernel=rbf;, score=0.750 total time=   0.8s\n",
            "[CV 3/5] END .....C=0.1, gamma=auto, kernel=rbf;, score=0.750 total time=   0.8s\n",
            "[CV 4/5] END .....C=0.1, gamma=auto, kernel=rbf;, score=0.749 total time=   0.8s\n",
            "[CV 5/5] END .....C=0.1, gamma=auto, kernel=rbf;, score=0.749 total time=   0.8s\n",
            "[CV 1/5] END ....C=0.1, gamma=scale, kernel=rbf;, score=0.894 total time=   0.8s\n",
            "[CV 2/5] END ....C=0.1, gamma=scale, kernel=rbf;, score=0.897 total time=   0.8s\n",
            "[CV 3/5] END ....C=0.1, gamma=scale, kernel=rbf;, score=0.904 total time=   0.8s\n",
            "[CV 4/5] END ....C=0.1, gamma=scale, kernel=rbf;, score=0.875 total time=   0.8s\n",
            "[CV 5/5] END ....C=0.1, gamma=scale, kernel=rbf;, score=0.877 total time=   0.8s\n",
            "[CV 1/5] END .......C=1, gamma=auto, kernel=rbf;, score=0.750 total time=   0.8s\n",
            "[CV 2/5] END .......C=1, gamma=auto, kernel=rbf;, score=0.750 total time=   0.8s\n",
            "[CV 3/5] END .......C=1, gamma=auto, kernel=rbf;, score=0.750 total time=   0.8s\n",
            "[CV 4/5] END .......C=1, gamma=auto, kernel=rbf;, score=0.749 total time=   0.8s\n",
            "[CV 5/5] END .......C=1, gamma=auto, kernel=rbf;, score=0.749 total time=   0.8s\n",
            "[CV 1/5] END ......C=1, gamma=scale, kernel=rbf;, score=0.966 total time=   0.6s\n",
            "[CV 2/5] END ......C=1, gamma=scale, kernel=rbf;, score=0.959 total time=   0.6s\n",
            "[CV 3/5] END ......C=1, gamma=scale, kernel=rbf;, score=0.965 total time=   0.6s\n",
            "[CV 4/5] END ......C=1, gamma=scale, kernel=rbf;, score=0.968 total time=   0.6s\n",
            "[CV 5/5] END ......C=1, gamma=scale, kernel=rbf;, score=0.965 total time=   0.7s\n",
            "[CV 1/5] END ......C=10, gamma=auto, kernel=rbf;, score=0.750 total time=   0.8s\n",
            "[CV 2/5] END ......C=10, gamma=auto, kernel=rbf;, score=0.750 total time=   0.8s\n",
            "[CV 3/5] END ......C=10, gamma=auto, kernel=rbf;, score=0.750 total time=   0.8s\n",
            "[CV 4/5] END ......C=10, gamma=auto, kernel=rbf;, score=0.749 total time=   0.8s\n",
            "[CV 5/5] END ......C=10, gamma=auto, kernel=rbf;, score=0.749 total time=   0.8s\n",
            "[CV 1/5] END .....C=10, gamma=scale, kernel=rbf;, score=0.969 total time=   0.6s\n",
            "[CV 2/5] END .....C=10, gamma=scale, kernel=rbf;, score=0.966 total time=   0.6s\n",
            "[CV 3/5] END .....C=10, gamma=scale, kernel=rbf;, score=0.968 total time=   0.6s\n",
            "[CV 4/5] END .....C=10, gamma=scale, kernel=rbf;, score=0.971 total time=   0.6s\n",
            "[CV 5/5] END .....C=10, gamma=scale, kernel=rbf;, score=0.970 total time=   0.6s\n",
            "[CV 1/5] END .....C=100, gamma=auto, kernel=rbf;, score=0.943 total time=   0.6s\n",
            "[CV 2/5] END .....C=100, gamma=auto, kernel=rbf;, score=0.948 total time=   0.6s\n",
            "[CV 3/5] END .....C=100, gamma=auto, kernel=rbf;, score=0.946 total time=   0.6s\n",
            "[CV 4/5] END .....C=100, gamma=auto, kernel=rbf;, score=0.955 total time=   0.6s\n",
            "[CV 5/5] END .....C=100, gamma=auto, kernel=rbf;, score=0.951 total time=   0.6s\n",
            "[CV 1/5] END ....C=100, gamma=scale, kernel=rbf;, score=0.969 total time=   0.6s\n",
            "[CV 2/5] END ....C=100, gamma=scale, kernel=rbf;, score=0.966 total time=   0.6s\n",
            "[CV 3/5] END ....C=100, gamma=scale, kernel=rbf;, score=0.968 total time=   0.6s\n",
            "[CV 4/5] END ....C=100, gamma=scale, kernel=rbf;, score=0.971 total time=   0.6s\n",
            "[CV 5/5] END ....C=100, gamma=scale, kernel=rbf;, score=0.970 total time=   0.6s\n",
            "[CV 1/5] END ....C=1000, gamma=auto, kernel=rbf;, score=0.965 total time=   0.4s\n",
            "[CV 2/5] END ....C=1000, gamma=auto, kernel=rbf;, score=0.960 total time=   0.4s\n",
            "[CV 3/5] END ....C=1000, gamma=auto, kernel=rbf;, score=0.963 total time=   0.4s\n",
            "[CV 4/5] END ....C=1000, gamma=auto, kernel=rbf;, score=0.976 total time=   0.4s\n",
            "[CV 5/5] END ....C=1000, gamma=auto, kernel=rbf;, score=0.966 total time=   0.4s\n",
            "[CV 1/5] END ...C=1000, gamma=scale, kernel=rbf;, score=0.969 total time=   0.6s\n",
            "[CV 2/5] END ...C=1000, gamma=scale, kernel=rbf;, score=0.966 total time=   0.6s\n",
            "[CV 3/5] END ...C=1000, gamma=scale, kernel=rbf;, score=0.968 total time=   0.7s\n",
            "[CV 4/5] END ...C=1000, gamma=scale, kernel=rbf;, score=0.971 total time=   0.6s\n",
            "[CV 5/5] END ...C=1000, gamma=scale, kernel=rbf;, score=0.970 total time=   0.7s\n",
            "Selected Kernel:  rbf\n",
            "Selected C:  10\n",
            "Selected Gamma:  scale\n",
            "Best Score : 0.96875\n",
            "best estimator: SVC(C=10)\n"
          ]
        }
      ]
    },
    {
      "cell_type": "markdown",
      "source": [
        "## CV with Tuned Hyperparamater"
      ],
      "metadata": {
        "id": "ddmozdxJ9UX9"
      }
    },
    {
      "cell_type": "code",
      "source": [
        "cross_val_score_linear= cross_val_score(model_looks_linear_HT, x_desain_train_vectorized, y_desain_train, scoring='accuracy', cv=5)\n",
        "print(\"Accuracy Score Linear : %0.4f\" % cross_val_score_linear.mean(), cross_val_score_linear.std())\n",
        "\n",
        "cross_val_score_poly = cross_val_score(model_looks_poly_HT, x_desain_train_vectorized, y_desain_train, scoring='accuracy', cv=5)\n",
        "print(\"Accuracy Score poly : %0.4f\" % cross_val_score_poly.mean(), cross_val_score_poly.std())\n",
        "\n",
        "cross_val_score_rbf = cross_val_score(model_looks_rbf_HT, x_desain_train_vectorized, y_desain_train, scoring='accuracy', cv=5)\n",
        "print(\"Accuracy Score rbf : %0.4f\" % cross_val_score_rbf.mean(), cross_val_score_rbf.std())"
      ],
      "metadata": {
        "colab": {
          "base_uri": "https://localhost:8080/"
        },
        "id": "MZGVV_VP9lAY",
        "outputId": "89a3f580-8d26-47bb-818d-86ef55dee939"
      },
      "execution_count": 26,
      "outputs": [
        {
          "output_type": "stream",
          "name": "stdout",
          "text": [
            "Accuracy Score Linear : 0.9703 0.0032977264895682\n",
            "Accuracy Score poly : 0.9703 0.0032977264895682\n",
            "Accuracy Score rbf : 0.9688 0.001767766952966331\n"
          ]
        }
      ]
    },
    {
      "cell_type": "code",
      "source": [
        "import numpy as np\n",
        "from matplotlib.ticker import FormatStrFormatter\n",
        "\n",
        "import matplotlib.pyplot as plt\n",
        "%matplotlib inline\n",
        "\n",
        "\n",
        "name = ['Linear', 'RBF', 'Polynomial']\n",
        "before_HT = [cv_linear.mean(), cv_rbf.mean(), cv_poly.mean()]\n",
        "after_HT = [cross_val_score_linear.mean(), cross_val_score_rbf.mean(), cross_val_score_poly.mean()]\n",
        "diff_linear = ((cross_val_score_linear.mean()-cv_linear.mean()))\n",
        "diff_rbf = ((cross_val_score_rbf.mean()-cv_rbf.mean()))\n",
        "diff_poly = ((cross_val_score_poly.mean()-cv_poly.mean()))\n",
        "diff_HT = [diff_linear, diff_rbf, diff_poly]\n",
        "\n",
        "x = np.arange(len(name))\n",
        "width = 0.2\n",
        "\n",
        "fig, ax = plt.subplots(figsize=(14, 7))\n",
        "\n",
        "bfr = ax.bar(x - width/2, before_HT, width, label='Before', color='steelblue')\n",
        "aftr = ax.bar(x + width/2, after_HT, width, label='After', color='orange')\n",
        "diff = ax.bar(x + 0.3, diff_HT, width, label='Diffrenciate', color='cyan')\n",
        "\n",
        "ax.set_title('Hasil Hyperparameter Aspek Desain', size=16)\n",
        "ax.set_ylabel('Accuracy', size=14)\n",
        "ax.set_xticks(x)\n",
        "ax.set_xticklabels(name, size=14)\n",
        "ax.legend(fontsize=14)\n",
        "ax.legend(bbox_to_anchor=(1.02, 1), loc='upper left', borderaxespad=0)\n",
        "ax.yaxis.set_major_formatter(FormatStrFormatter(\"%0.2f\"))\n",
        "for p in ax.patches:\n",
        "    h = p.get_height()\n",
        "    x = p.get_x()+p.get_width()/2\n",
        "    if h!= 0:\n",
        "      ax.annotate(\"%g\" % p.get_height(), xy=(x,h), xytext=(0,5), textcoords=\"offset points\",\n",
        "                  ha=\"center\", fontsize=10)\n",
        "    \n",
        "plt.show()"
      ],
      "metadata": {
        "colab": {
          "base_uri": "https://localhost:8080/",
          "height": 450
        },
        "id": "qGDPjOulW5cq",
        "outputId": "1817a734-6669-4fa4-cce3-7f47abe4a072"
      },
      "execution_count": 19,
      "outputs": [
        {
          "output_type": "display_data",
          "data": {
            "text/plain": [
              "<Figure size 1008x504 with 1 Axes>"
            ],
            "image/png": "[encoded data removed]"
          },
          "metadata": {
            "needs_background": "light"
          }
        }
      ]
    },
    {
      "cell_type": "markdown",
      "source": [
        "## Model Validation"
      ],
      "metadata": {
        "id": "P6SG8dgvAd-i"
      }
    },
    {
      "cell_type": "markdown",
      "source": [
        "### Model Validation Hyperparameter Tuning Test Dataset"
      ],
      "metadata": {
        "id": "xSMKBr_CA95O"
      }
    },
    {
      "cell_type": "markdown",
      "source": [
        "* Linear Kernel"
      ],
      "metadata": {
        "id": "a9DYVC85h5mq"
      }
    },
    {
      "cell_type": "code",
      "source": [
        "grid_predictions = model_looks_linear_HT.predict(x_desain_test_vectorized)\n",
        "\n",
        "print(\"F1-SCORE \",f1(y_desain_test,grid_predictions,average='macro') * 100)\n",
        "print(\"ACCURACY \",acc(y_desain_test,grid_predictions) * 100)\n",
        "print(\"PRECISION \",prec(y_desain_test,grid_predictions,average='macro') * 100)\n",
        "print(\"RECALL\",recall(y_desain_test,grid_predictions,average='macro') * 100)\n",
        "\n",
        "print('Confusion Matrix : \\n', confusion_matrix(y_desain_test, grid_predictions))\n",
        "print('Report Hasil : \\n',classification_report(y_desain_test, grid_predictions))"
      ],
      "metadata": {
        "colab": {
          "base_uri": "https://localhost:8080/"
        },
        "id": "wzIVFSATh_A5",
        "outputId": "90a7082f-e61a-4b02-f154-be74607d4402"
      },
      "execution_count": 20,
      "outputs": [
        {
          "output_type": "stream",
          "name": "stdout",
          "text": [
            "F1-SCORE  84.79493514339931\n",
            "ACCURACY  96.8\n",
            "PRECISION  97.4683874714708\n",
            "RECALL 79.24470523154733\n",
            "Confusion Matrix : \n",
            " [[  4   2   3]\n",
            " [  0 274  14]\n",
            " [  0  13 690]]\n",
            "Report Hasil : \n",
            "               precision    recall  f1-score   support\n",
            "\n",
            "          -1       1.00      0.44      0.62         9\n",
            "           0       0.95      0.95      0.95       288\n",
            "           1       0.98      0.98      0.98       703\n",
            "\n",
            "    accuracy                           0.97      1000\n",
            "   macro avg       0.97      0.79      0.85      1000\n",
            "weighted avg       0.97      0.97      0.97      1000\n",
            "\n"
          ]
        }
      ]
    },
    {
      "cell_type": "markdown",
      "source": [
        "* Poly Kernel"
      ],
      "metadata": {
        "id": "NCZZNnY9h6dg"
      }
    },
    {
      "cell_type": "code",
      "source": [
        "grid_predictions = model_looks_poly_HT.predict(x_desain_test_vectorized)\n",
        "\n",
        "print(\"F1-SCORE \",f1(y_desain_test,grid_predictions,average='macro') * 100)\n",
        "print(\"ACCURACY \",acc(y_desain_test,grid_predictions) * 100)\n",
        "print(\"PRECISION \",prec(y_desain_test,grid_predictions,average='macro') * 100)\n",
        "print(\"RECALL\",recall(y_desain_test,grid_predictions,average='macro') * 100)\n",
        "\n",
        "print('Confusion Matrix : \\n', confusion_matrix(y_desain_test, grid_predictions))\n",
        "print('Report Hasil : \\n',classification_report(y_desain_test, grid_predictions))"
      ],
      "metadata": {
        "colab": {
          "base_uri": "https://localhost:8080/"
        },
        "id": "6iuXz8jki85T",
        "outputId": "f1f71fd7-2a0b-495f-9c04-bc671752665f"
      },
      "execution_count": 21,
      "outputs": [
        {
          "output_type": "stream",
          "name": "stdout",
          "text": [
            "F1-SCORE  84.79493514339931\n",
            "ACCURACY  96.8\n",
            "PRECISION  97.4683874714708\n",
            "RECALL 79.24470523154733\n",
            "Confusion Matrix : \n",
            " [[  4   2   3]\n",
            " [  0 274  14]\n",
            " [  0  13 690]]\n",
            "Report Hasil : \n",
            "               precision    recall  f1-score   support\n",
            "\n",
            "          -1       1.00      0.44      0.62         9\n",
            "           0       0.95      0.95      0.95       288\n",
            "           1       0.98      0.98      0.98       703\n",
            "\n",
            "    accuracy                           0.97      1000\n",
            "   macro avg       0.97      0.79      0.85      1000\n",
            "weighted avg       0.97      0.97      0.97      1000\n",
            "\n"
          ]
        }
      ]
    },
    {
      "cell_type": "markdown",
      "source": [
        "* RBF Kernel"
      ],
      "metadata": {
        "id": "zfVKCG4Jh8La"
      }
    },
    {
      "cell_type": "code",
      "source": [
        "grid_predictions = model_looks_rbf_HT.predict(x_desain_test_vectorized)\n",
        "\n",
        "print(\"F1-SCORE \",f1(y_desain_test,grid_predictions,average='macro') * 100)\n",
        "print(\"ACCURACY \",acc(y_desain_test,grid_predictions) * 100)\n",
        "print(\"PRECISION \",prec(y_desain_test,grid_predictions,average='macro') * 100)\n",
        "print(\"RECALL\",recall(y_desain_test,grid_predictions,average='macro') * 100)\n",
        "\n",
        "print('Confusion Matrix : \\n', confusion_matrix(y_desain_test, grid_predictions))\n",
        "print('Report Hasil : \\n',classification_report(y_desain_test, grid_predictions))"
      ],
      "metadata": {
        "colab": {
          "base_uri": "https://localhost:8080/"
        },
        "id": "J8lpNpY3jDrH",
        "outputId": "e6c5cf83-b5cd-4dc6-9f25-9de5398ad9f9"
      },
      "execution_count": 22,
      "outputs": [
        {
          "output_type": "stream",
          "name": "stdout",
          "text": [
            "F1-SCORE  76.55367725159662\n",
            "ACCURACY  96.89999999999999\n",
            "PRECISION  97.30329178651326\n",
            "RECALL 72.32116985406459\n",
            "Confusion Matrix : \n",
            " [[  2   4   3]\n",
            " [  0 279   9]\n",
            " [  0  15 688]]\n",
            "Report Hasil : \n",
            "               precision    recall  f1-score   support\n",
            "\n",
            "          -1       1.00      0.22      0.36         9\n",
            "           0       0.94      0.97      0.95       288\n",
            "           1       0.98      0.98      0.98       703\n",
            "\n",
            "    accuracy                           0.97      1000\n",
            "   macro avg       0.97      0.72      0.77      1000\n",
            "weighted avg       0.97      0.97      0.97      1000\n",
            "\n"
          ]
        }
      ]
    },
    {
      "cell_type": "markdown",
      "source": [
        "### Model Validation Hyperparameter Tuning Train Dataset"
      ],
      "metadata": {
        "id": "S7jltPrXZk1W"
      }
    },
    {
      "cell_type": "markdown",
      "source": [
        "* Linear Kernel"
      ],
      "metadata": {
        "id": "HTEm2He2Zk1W"
      }
    },
    {
      "cell_type": "code",
      "source": [
        "grid_predictions = model_looks_linear_HT.predict(x_desain_train_vectorized)\n",
        "\n",
        "print(\"F1-SCORE \",f1(y_desain_train,grid_predictions,average='macro') * 100)\n",
        "print(\"ACCURACY \",acc(y_desain_train,grid_predictions) * 100)\n",
        "print(\"PRECISION \",prec(y_desain_train,grid_predictions,average='macro') * 100)\n",
        "print(\"RECALL\",recall(y_desain_train,grid_predictions,average='macro') * 100)\n",
        "\n",
        "print('Confusion Matrix : \\n', confusion_matrix(y_desain_train, grid_predictions))\n",
        "print('Report Hasil : \\n',classification_report(y_desain_train, grid_predictions))"
      ],
      "metadata": {
        "colab": {
          "base_uri": "https://localhost:8080/"
        },
        "outputId": "10017cce-5d8f-448e-c9b3-f6f0a4a2b55e",
        "id": "bOnP49DQZk1X"
      },
      "execution_count": 23,
      "outputs": [
        {
          "output_type": "stream",
          "name": "stdout",
          "text": [
            "F1-SCORE  99.56002481610065\n",
            "ACCURACY  99.95\n",
            "PRECISION  99.95423144188989\n",
            "RECALL 99.17587334645862\n",
            "Confusion Matrix : \n",
            " [[  40    0    1]\n",
            " [   0  961    0]\n",
            " [   0    1 2997]]\n",
            "Report Hasil : \n",
            "               precision    recall  f1-score   support\n",
            "\n",
            "          -1       1.00      0.98      0.99        41\n",
            "           0       1.00      1.00      1.00       961\n",
            "           1       1.00      1.00      1.00      2998\n",
            "\n",
            "    accuracy                           1.00      4000\n",
            "   macro avg       1.00      0.99      1.00      4000\n",
            "weighted avg       1.00      1.00      1.00      4000\n",
            "\n"
          ]
        }
      ]
    },
    {
      "cell_type": "markdown",
      "source": [
        "* Poly Kernel"
      ],
      "metadata": {
        "id": "abEyxPp5Zk1Y"
      }
    },
    {
      "cell_type": "code",
      "source": [
        "grid_predictions = model_looks_poly_HT.predict(x_desain_train_vectorized)\n",
        "\n",
        "print(\"F1-SCORE \",f1(y_desain_train,grid_predictions,average='macro') * 100)\n",
        "print(\"ACCURACY \",acc(y_desain_train,grid_predictions) * 100)\n",
        "print(\"PRECISION \",prec(y_desain_train,grid_predictions,average='macro') * 100)\n",
        "print(\"RECALL\",recall(y_desain_train,grid_predictions,average='macro') * 100)\n",
        "\n",
        "print('Confusion Matrix : \\n', confusion_matrix(y_desain_train, grid_predictions))\n",
        "print('Report Hasil : \\n',classification_report(y_desain_train, grid_predictions))"
      ],
      "metadata": {
        "colab": {
          "base_uri": "https://localhost:8080/"
        },
        "outputId": "a2fa3979-e70c-4bd0-a320-eb3caa6836fc",
        "id": "6UhuulfEZk1Y"
      },
      "execution_count": 24,
      "outputs": [
        {
          "output_type": "stream",
          "name": "stdout",
          "text": [
            "F1-SCORE  99.56002481610065\n",
            "ACCURACY  99.95\n",
            "PRECISION  99.95423144188989\n",
            "RECALL 99.17587334645862\n",
            "Confusion Matrix : \n",
            " [[  40    0    1]\n",
            " [   0  961    0]\n",
            " [   0    1 2997]]\n",
            "Report Hasil : \n",
            "               precision    recall  f1-score   support\n",
            "\n",
            "          -1       1.00      0.98      0.99        41\n",
            "           0       1.00      1.00      1.00       961\n",
            "           1       1.00      1.00      1.00      2998\n",
            "\n",
            "    accuracy                           1.00      4000\n",
            "   macro avg       1.00      0.99      1.00      4000\n",
            "weighted avg       1.00      1.00      1.00      4000\n",
            "\n"
          ]
        }
      ]
    },
    {
      "cell_type": "markdown",
      "source": [
        "* RBF Kernel"
      ],
      "metadata": {
        "id": "k6evb4xdZk1Y"
      }
    },
    {
      "cell_type": "code",
      "source": [
        "grid_predictions = model_looks_rbf_HT.predict(x_desain_train_vectorized)\n",
        "\n",
        "print(\"F1-SCORE \",f1(y_desain_train,grid_predictions,average='macro') * 100)\n",
        "print(\"ACCURACY \",acc(y_desain_train,grid_predictions) * 100)\n",
        "print(\"PRECISION \",prec(y_desain_train,grid_predictions,average='macro') * 100)\n",
        "print(\"RECALL\",recall(y_desain_train,grid_predictions,average='macro') * 100)\n",
        "\n",
        "print('Confusion Matrix : \\n', confusion_matrix(y_desain_train, grid_predictions))\n",
        "print('Report Hasil : \\n',classification_report(y_desain_train, grid_predictions))"
      ],
      "metadata": {
        "colab": {
          "base_uri": "https://localhost:8080/"
        },
        "outputId": "d41ec3fe-9228-48fb-9c54-87fa0d1365d6",
        "id": "7YExcT23Zk1Z"
      },
      "execution_count": 25,
      "outputs": [
        {
          "output_type": "stream",
          "name": "stdout",
          "text": [
            "F1-SCORE  100.0\n",
            "ACCURACY  100.0\n",
            "PRECISION  100.0\n",
            "RECALL 100.0\n",
            "Confusion Matrix : \n",
            " [[  41    0    0]\n",
            " [   0  961    0]\n",
            " [   0    0 2998]]\n",
            "Report Hasil : \n",
            "               precision    recall  f1-score   support\n",
            "\n",
            "          -1       1.00      1.00      1.00        41\n",
            "           0       1.00      1.00      1.00       961\n",
            "           1       1.00      1.00      1.00      2998\n",
            "\n",
            "    accuracy                           1.00      4000\n",
            "   macro avg       1.00      1.00      1.00      4000\n",
            "weighted avg       1.00      1.00      1.00      4000\n",
            "\n"
          ]
        }
      ]
    }
  ]
}