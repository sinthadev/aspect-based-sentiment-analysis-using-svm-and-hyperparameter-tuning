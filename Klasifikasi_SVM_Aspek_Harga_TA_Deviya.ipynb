{
  "nbformat": 4,
  "nbformat_minor": 0,
  "metadata": {
    "colab": {
      "provenance": [],
      "collapsed_sections": [
        "2lxG9JbN1psE",
        "fH-_jTzA1woC",
        "W--Y7kGa114e",
        "YZSbWOM-2PHi",
        "4lfKg9___80e",
        "k19u6zZmAAkf",
        "SQ3fawOVADuP",
        "GV2dH2ayAGvg",
        "VHzk392bAVMk",
        "4jDusIX0AVMm",
        "hIgmnGtFAVMn",
        "bMOe71BiAVMn",
        "LTkYmsyvA_K7",
        "FXQpA_TZA_K7",
        "n8ste4wgA_K8",
        "AmlnKUFvA_K9"
      ]
    },
    "kernelspec": {
      "name": "python3",
      "display_name": "Python 3"
    },
    "language_info": {
      "name": "python"
    }
  },
  "cells": [
    {
      "cell_type": "code",
      "source": [
        "!pip install Sastrawi"
      ],
      "metadata": {
        "colab": {
          "base_uri": "https://localhost:8080/"
        },
        "id": "-8N2Rx-rPVWu",
        "outputId": "3bac0a80-a9fa-4113-93fe-2833e90f1779"
      },
      "execution_count": 1,
      "outputs": [
        {
          "output_type": "stream",
          "name": "stdout",
          "text": [
            "Looking in indexes: https://pypi.org/simple, https://us-python.pkg.dev/colab-wheels/public/simple/\n",
            "Collecting Sastrawi\n",
            "  Downloading Sastrawi-1.0.1-py2.py3-none-any.whl (209 kB)\n",
            "\u001b[K     |████████████████████████████████| 209 kB 8.6 MB/s \n",
            "\u001b[?25hInstalling collected packages: Sastrawi\n",
            "Successfully installed Sastrawi-1.0.1\n"
          ]
        }
      ]
    },
    {
      "cell_type": "markdown",
      "source": [
        "# **Import Library**"
      ],
      "metadata": {
        "id": "tWLJXv9btmm-"
      }
    },
    {
      "cell_type": "code",
      "execution_count": 2,
      "metadata": {
        "id": "gLIM0aldsSDX"
      },
      "outputs": [],
      "source": [
        "# LIBRARY UNTUK MENGOLAH DATA\n",
        "import pandas as pd\n",
        "import numpy as np\n",
        "import re,string #import regular expression\n",
        "import Sastrawi\n",
        "import joblib\n",
        "\n",
        "import matplotlib.pyplot as plt\n",
        "import seaborn as sns\n",
        "import matplotlib as mpl\n",
        "\n",
        "#Library Untuk Split Data\n",
        "from sklearn import model_selection\n",
        "from sklearn.model_selection import train_test_split\n",
        "\n",
        "#Library Ekstraksi Fitur TFIDF\n",
        "from sklearn.feature_extraction.text import TfidfVectorizer\n",
        "from sklearn.preprocessing import OneHotEncoder\n",
        "\n",
        "#Library Klasifikasi Support Vector Machine\n",
        "from sklearn.svm import SVC\n",
        "from sklearn import svm\n",
        "from sklearn.metrics import f1_score as f1\n",
        "from sklearn .metrics import accuracy_score as acc\n",
        "from sklearn.metrics import precision_score as prec\n",
        "from sklearn.metrics import recall_score as recall\n",
        "from sklearn.metrics import confusion_matrix\n",
        "from sklearn.metrics import classification_report\n",
        "from sklearn import metrics\n",
        "\n",
        "\n",
        "#Library HyperParameter Tuning\n",
        "from sklearn.model_selection import cross_val_score\n",
        "from sklearn.model_selection import GridSearchCV\n",
        "import timeit\n",
        "\n",
        "import warnings\n",
        "warnings.filterwarnings('ignore')"
      ]
    },
    {
      "cell_type": "code",
      "source": [
        "from google.colab import drive\n",
        "drive.mount('/content/drive')"
      ],
      "metadata": {
        "colab": {
          "base_uri": "https://localhost:8080/"
        },
        "id": "F6DeMTWSu6fR",
        "outputId": "33a1e12e-82a0-4504-f247-26c0d65aa7f3"
      },
      "execution_count": 3,
      "outputs": [
        {
          "output_type": "stream",
          "name": "stdout",
          "text": [
            "Mounted at /content/drive\n"
          ]
        }
      ]
    },
    {
      "cell_type": "markdown",
      "source": [
        "# **Aspek Harga**"
      ],
      "metadata": {
        "id": "AKnyAMHsuwki"
      }
    },
    {
      "cell_type": "code",
      "source": [
        "tweet_harga = pd.read_csv('/content/drive/MyDrive/Dataset TA/aspek_harga.csv')\n",
        "tweet_harga.shape"
      ],
      "metadata": {
        "colab": {
          "base_uri": "https://localhost:8080/"
        },
        "id": "XKDWbPlru2iS",
        "outputId": "91a072c2-2c62-4b97-cdbe-54a5bf03bc8f"
      },
      "execution_count": 4,
      "outputs": [
        {
          "output_type": "execute_result",
          "data": {
            "text/plain": [
              "(5000, 3)"
            ]
          },
          "metadata": {},
          "execution_count": 4
        }
      ]
    },
    {
      "cell_type": "code",
      "source": [
        "tweet_harga['label'].value_counts()"
      ],
      "metadata": {
        "colab": {
          "base_uri": "https://localhost:8080/"
        },
        "id": "2M7qEwddz0AC",
        "outputId": "7557ede6-e3bb-4d27-8126-a2fd6c6a0d02"
      },
      "execution_count": 5,
      "outputs": [
        {
          "output_type": "execute_result",
          "data": {
            "text/plain": [
              "-1    3517\n",
              " 0    1460\n",
              " 1      23\n",
              "Name: label, dtype: int64"
            ]
          },
          "metadata": {},
          "execution_count": 5
        }
      ]
    },
    {
      "cell_type": "code",
      "source": [
        "harga = sns.countplot(tweet_harga['label'], palette = 'hls')\n",
        "plt.show()"
      ],
      "metadata": {
        "colab": {
          "base_uri": "https://localhost:8080/",
          "height": 279
        },
        "id": "MnWQRdtC0hkV",
        "outputId": "1405f972-612e-4adf-ea60-c58532246db3"
      },
      "execution_count": 6,
      "outputs": [
        {
          "output_type": "display_data",
          "data": {
            "text/plain": [
              "<Figure size 432x288 with 1 Axes>"
            ],
            "image/png": "[encoded data removed]"
          },
          "metadata": {
            "needs_background": "light"
          }
        }
      ]
    },
    {
      "cell_type": "code",
      "source": [
        "tweet_harga.isna().sum()"
      ],
      "metadata": {
        "colab": {
          "base_uri": "https://localhost:8080/"
        },
        "id": "-ZGgs4pjNTO4",
        "outputId": "b34364a6-929d-489a-db12-eb9d8fdcfd11"
      },
      "execution_count": 7,
      "outputs": [
        {
          "output_type": "execute_result",
          "data": {
            "text/plain": [
              "tweet       0\n",
              "stemming    0\n",
              "label       0\n",
              "dtype: int64"
            ]
          },
          "metadata": {},
          "execution_count": 7
        }
      ]
    },
    {
      "cell_type": "markdown",
      "source": [
        "## Inisialisasi Data"
      ],
      "metadata": {
        "id": "C7etTqJU17mJ"
      }
    },
    {
      "cell_type": "code",
      "source": [
        "x_harga = tweet_harga['stemming']\n",
        "y_harga = tweet_harga['label'].values"
      ],
      "metadata": {
        "id": "kuNEQPmTwAxq"
      },
      "execution_count": 8,
      "outputs": []
    },
    {
      "cell_type": "markdown",
      "source": [
        "## Split Data\n",
        "\n"
      ],
      "metadata": {
        "id": "Gs8QMCc21DkM"
      }
    },
    {
      "cell_type": "code",
      "source": [
        "from sklearn.model_selection import train_test_split\n",
        "x_harga_train, x_harga_test, y_harga_train, y_harga_test = train_test_split(\n",
        "    tweet_harga['stemming'], \n",
        "    tweet_harga['label'], \n",
        "    test_size=0.2)\n",
        "\n",
        "train_df = pd.DataFrame()\n",
        "train_df['tweet'] = x_harga_train\n",
        "train_df['sentiment'] = y_harga_train\n",
        "test_df = pd.DataFrame()\n",
        "test_df['tweet'] = x_harga_test\n",
        "test_df['sentiment'] = y_harga_test"
      ],
      "metadata": {
        "id": "ogTyOQnb06mz"
      },
      "execution_count": 9,
      "outputs": []
    },
    {
      "cell_type": "markdown",
      "source": [
        "## Feature TF-IDF"
      ],
      "metadata": {
        "id": "5UeiexVgunm-"
      }
    },
    {
      "cell_type": "code",
      "source": [
        "tfidf_vect = TfidfVectorizer(use_idf=True)\n",
        "tfidf_vect.fit(x_harga_train)\n",
        "x_harga_train_vectorized = tfidf_vect.transform(x_harga_train)\n",
        "x_harga_test_vectorized = tfidf_vect.transform(x_harga_test)"
      ],
      "metadata": {
        "id": "t0fBDy8cKaHL"
      },
      "execution_count": 10,
      "outputs": []
    },
    {
      "cell_type": "code",
      "source": [
        "print (x_harga_train_vectorized)"
      ],
      "metadata": {
        "colab": {
          "base_uri": "https://localhost:8080/"
        },
        "id": "zL5IKnQKCovp",
        "outputId": "33f2dd4f-ad00-40bc-8c45-d5e1f4c3807f"
      },
      "execution_count": 11,
      "outputs": [
        {
          "output_type": "stream",
          "name": "stdout",
          "text": [
            "  (0, 2566)\t0.22936393155034293\n",
            "  (0, 2083)\t0.5032543034793885\n",
            "  (0, 1961)\t0.3610315723450422\n",
            "  (0, 1472)\t0.3303484945465283\n",
            "  (0, 1241)\t0.3610315723450422\n",
            "  (0, 1121)\t0.06793838061818183\n",
            "  (0, 853)\t0.5154840425232312\n",
            "  (0, 395)\t0.1645207918549934\n",
            "  (0, 239)\t0.09375786508825215\n",
            "  (0, 206)\t0.10008621706260881\n",
            "  (0, 171)\t0.08997372895852801\n",
            "  (1, 2532)\t0.15369039166840937\n",
            "  (1, 1541)\t0.15381193728447853\n",
            "  (1, 1529)\t0.3498597908362902\n",
            "  (1, 1272)\t0.17905344936414894\n",
            "  (1, 1121)\t0.11438495343979424\n",
            "  (1, 984)\t0.15413669990663462\n",
            "  (1, 585)\t0.25102608685002614\n",
            "  (1, 450)\t0.7788531754581206\n",
            "  (1, 171)\t0.30296985898341\n",
            "  (2, 2566)\t0.3223479543853412\n",
            "  (2, 2532)\t0.12828999927075962\n",
            "  (2, 1541)\t0.12839145705759722\n",
            "  (2, 1355)\t0.22128497776235728\n",
            "  (2, 1121)\t0.09548056605280529\n",
            "  :\t:\n",
            "  (3997, 1357)\t0.854561373443657\n",
            "  (3997, 1272)\t0.17630190940421162\n",
            "  (3997, 1121)\t0.2252543670078592\n",
            "  (3997, 984)\t0.15176805919855516\n",
            "  (3997, 665)\t0.21235862296747066\n",
            "  (3997, 239)\t0.15543032053674297\n",
            "  (3997, 206)\t0.16592136334064778\n",
            "  (3997, 171)\t0.14915703891877885\n",
            "  (3998, 2843)\t0.37149182921103496\n",
            "  (3998, 2810)\t0.353979411433529\n",
            "  (3998, 1587)\t0.2641663836449978\n",
            "  (3998, 1475)\t0.5882081191490164\n",
            "  (3998, 1272)\t0.06847663885923165\n",
            "  (3998, 1121)\t0.043745022368695693\n",
            "  (3998, 965)\t0.2138164805658039\n",
            "  (3998, 859)\t0.3850919198426515\n",
            "  (3998, 324)\t0.34155415328152455\n",
            "  (3998, 239)\t0.06036999805127981\n",
            "  (3999, 2450)\t0.487473077253402\n",
            "  (3999, 2119)\t0.3185453771112455\n",
            "  (3999, 1702)\t0.46618064563616285\n",
            "  (3999, 1272)\t0.11734437485738382\n",
            "  (3999, 1121)\t0.07496326321636963\n",
            "  (3999, 783)\t0.404533910431824\n",
            "  (3999, 499)\t0.5104288094106991\n"
          ]
        }
      ]
    },
    {
      "cell_type": "markdown",
      "source": [
        "## Klasifikasi SVM Dengan Cross Validation"
      ],
      "metadata": {
        "id": "j6IfZ89CuuYL"
      }
    },
    {
      "cell_type": "markdown",
      "source": [
        "* Cross Validation Using Linear Kernel"
      ],
      "metadata": {
        "id": "IJIUFix_znz6"
      }
    },
    {
      "cell_type": "code",
      "source": [
        "### create model\n",
        "clf_linear = SVC(kernel='linear')\n",
        "### cross-validation evaluation\n",
        "cv_linear = cross_val_score(clf_linear, x_harga_train_vectorized, y_harga_train, scoring='accuracy', cv=5)\n",
        "### Show CV result\n",
        "print(\"Accuracy Score Linear of : %0.4f\" % (cv_linear.mean()))\n"
      ],
      "metadata": {
        "colab": {
          "base_uri": "https://localhost:8080/"
        },
        "id": "_L8AVoYQUIzt",
        "outputId": "753861d6-5bae-4b9e-e97e-b3ee735f4fe1"
      },
      "execution_count": 12,
      "outputs": [
        {
          "output_type": "stream",
          "name": "stdout",
          "text": [
            "Accuracy Score Linear of : 0.9863\n"
          ]
        }
      ]
    },
    {
      "cell_type": "markdown",
      "source": [
        "* Cross Validation Using Polynomial Kernel"
      ],
      "metadata": {
        "id": "Wba3ePrMzyKW"
      }
    },
    {
      "cell_type": "code",
      "source": [
        "### create model\n",
        "clf_poly = SVC(kernel='poly')\n",
        "### cross-validation evaluation\n",
        "cv_poly = cross_val_score(clf_poly, x_harga_train_vectorized, y_harga_train, scoring='accuracy', cv=5)\n",
        "### Show CV result\n",
        "print(\"Accuracy Score Poly of : %0.4f\" % (cv_poly.mean()))"
      ],
      "metadata": {
        "colab": {
          "base_uri": "https://localhost:8080/"
        },
        "id": "jSkdo0KAXCAM",
        "outputId": "2c3a7996-2bcb-4a24-e0d7-e5ae467ac1a6"
      },
      "execution_count": 13,
      "outputs": [
        {
          "output_type": "stream",
          "name": "stdout",
          "text": [
            "Accuracy Score Poly of : 0.9688\n"
          ]
        }
      ]
    },
    {
      "cell_type": "markdown",
      "source": [
        "* Cross Validation with default RBF Kernel"
      ],
      "metadata": {
        "id": "BoAFNfsLz1-k"
      }
    },
    {
      "cell_type": "code",
      "source": [
        "### create model\n",
        "clf_rbf = SVC(kernel='rbf')\n",
        "### cross-validation evaluation\n",
        "cv_rbf= cross_val_score(clf_rbf, x_harga_train_vectorized, y_harga_train, scoring='accuracy', cv=5)\n",
        "### Show CV result\n",
        "print(\"Accuracy Score RBF of : %0.4f\" % (cv_rbf.mean()))"
      ],
      "metadata": {
        "colab": {
          "base_uri": "https://localhost:8080/"
        },
        "id": "TFl4s-wqXQ_1",
        "outputId": "96a73575-3755-467c-c693-a93be4914bc6"
      },
      "execution_count": 14,
      "outputs": [
        {
          "output_type": "stream",
          "name": "stdout",
          "text": [
            "Accuracy Score RBF of : 0.9830\n"
          ]
        }
      ]
    },
    {
      "cell_type": "markdown",
      "source": [
        "## Tuning Parameter with GridSearchCV"
      ],
      "metadata": {
        "id": "678jI1EfyRCU"
      }
    },
    {
      "cell_type": "markdown",
      "source": [
        "* Linear Kernel"
      ],
      "metadata": {
        "id": "RqtswuNByR9P"
      }
    },
    {
      "cell_type": "code",
      "source": [
        "param_grid = {'C': [0.001, 0.1, 1, 10, 100, 1000],\n",
        "              'kernel': ['linear']\n",
        "             }\n",
        " \n",
        "grid = GridSearchCV(svm.SVC(), param_grid, scoring='accuracy', refit = True, verbose = 3) \n",
        "# fitting the model for grid search\n",
        "grid.fit(x_harga_train_vectorized, y_harga_train)\n",
        "\n",
        "selected_kernel_linear = grid.best_params_['kernel']\n",
        "print(\"Selected Kernel: \", selected_kernel_linear)\n",
        "selected_C_linear = grid.best_params_['C']\n",
        "print(\"Selected C: \", selected_C_linear)\n",
        "\n",
        "best_params_linear_HT = grid.best_params_\n",
        "model_looks_linear_HT= grid.best_estimator_\n",
        "\n",
        "print(f'Best Score : {grid.best_score_}')\n",
        "print(\"best estimator: %s\" % (model_looks_linear_HT))"
      ],
      "metadata": {
        "colab": {
          "base_uri": "https://localhost:8080/"
        },
        "id": "mGhe6-voEz8j",
        "outputId": "e110e271-fcc3-41e3-af38-9b0c0f8eb96f"
      },
      "execution_count": 15,
      "outputs": [
        {
          "output_type": "stream",
          "name": "stdout",
          "text": [
            "Fitting 5 folds for each of 6 candidates, totalling 30 fits\n",
            "[CV 1/5] END ............C=0.001, kernel=linear;, score=0.703 total time=   0.7s\n",
            "[CV 2/5] END ............C=0.001, kernel=linear;, score=0.703 total time=   0.7s\n",
            "[CV 3/5] END ............C=0.001, kernel=linear;, score=0.703 total time=   0.7s\n",
            "[CV 4/5] END ............C=0.001, kernel=linear;, score=0.704 total time=   0.7s\n",
            "[CV 5/5] END ............C=0.001, kernel=linear;, score=0.703 total time=   0.7s\n",
            "[CV 1/5] END ..............C=0.1, kernel=linear;, score=0.975 total time=   0.5s\n",
            "[CV 2/5] END ..............C=0.1, kernel=linear;, score=0.970 total time=   0.5s\n",
            "[CV 3/5] END ..............C=0.1, kernel=linear;, score=0.979 total time=   0.5s\n",
            "[CV 4/5] END ..............C=0.1, kernel=linear;, score=0.970 total time=   0.5s\n",
            "[CV 5/5] END ..............C=0.1, kernel=linear;, score=0.974 total time=   0.5s\n",
            "[CV 1/5] END ................C=1, kernel=linear;, score=0.991 total time=   0.3s\n",
            "[CV 2/5] END ................C=1, kernel=linear;, score=0.986 total time=   0.3s\n",
            "[CV 3/5] END ................C=1, kernel=linear;, score=0.986 total time=   0.3s\n",
            "[CV 4/5] END ................C=1, kernel=linear;, score=0.983 total time=   0.3s\n",
            "[CV 5/5] END ................C=1, kernel=linear;, score=0.985 total time=   0.3s\n",
            "[CV 1/5] END ...............C=10, kernel=linear;, score=0.990 total time=   0.3s\n",
            "[CV 2/5] END ...............C=10, kernel=linear;, score=0.991 total time=   0.3s\n",
            "[CV 3/5] END ...............C=10, kernel=linear;, score=0.991 total time=   0.3s\n",
            "[CV 4/5] END ...............C=10, kernel=linear;, score=0.983 total time=   0.3s\n",
            "[CV 5/5] END ...............C=10, kernel=linear;, score=0.986 total time=   0.3s\n",
            "[CV 1/5] END ..............C=100, kernel=linear;, score=0.990 total time=   0.3s\n",
            "[CV 2/5] END ..............C=100, kernel=linear;, score=0.990 total time=   0.3s\n",
            "[CV 3/5] END ..............C=100, kernel=linear;, score=0.990 total time=   0.3s\n",
            "[CV 4/5] END ..............C=100, kernel=linear;, score=0.984 total time=   0.3s\n",
            "[CV 5/5] END ..............C=100, kernel=linear;, score=0.986 total time=   0.3s\n",
            "[CV 1/5] END .............C=1000, kernel=linear;, score=0.990 total time=   0.3s\n",
            "[CV 2/5] END .............C=1000, kernel=linear;, score=0.990 total time=   0.3s\n",
            "[CV 3/5] END .............C=1000, kernel=linear;, score=0.990 total time=   0.3s\n",
            "[CV 4/5] END .............C=1000, kernel=linear;, score=0.984 total time=   0.3s\n",
            "[CV 5/5] END .............C=1000, kernel=linear;, score=0.986 total time=   0.3s\n",
            "Selected Kernel:  linear\n",
            "Selected C:  10\n",
            "Best Score : 0.9882500000000001\n",
            "best estimator: SVC(C=10, kernel='linear')\n"
          ]
        }
      ]
    },
    {
      "cell_type": "markdown",
      "source": [
        "* Polynomial Kernel"
      ],
      "metadata": {
        "id": "zYzh-jrhyxVi"
      }
    },
    {
      "cell_type": "code",
      "source": [
        "param_grid = {'C': [0.001, 0.1, 1, 10, 100, 1000],\n",
        "              'kernel': ['poly'],\n",
        "              'degree':[1, 2, 3, 4, 5, 6],\n",
        "              'gamma' :['auto', 'scale']\n",
        "             }\n",
        " \n",
        "grid = GridSearchCV(svm.SVC(), param_grid, scoring='accuracy', refit = True, verbose = 3) \n",
        "# fitting the model for grid search\n",
        "grid.fit(x_harga_train_vectorized, y_harga_train)\n",
        "\n",
        "\n",
        "selected_kernel_poly = grid.best_params_['kernel']\n",
        "print(\"Selected Kernel: \", selected_kernel_poly)\n",
        "selected_C_poly= grid.best_params_['C']\n",
        "print(\"Selected C: \", selected_C_poly)\n",
        "selected_gamma_poly = grid.best_params_['gamma']\n",
        "print(\"Selected Gamma: \", selected_gamma_poly)\n",
        "selected_degree_poly = grid.best_params_['degree']\n",
        "print(\"Selected Degree: \", selected_degree_poly)\n",
        "\n",
        "best_params_poly_HT = grid.best_params_\n",
        "model_looks_poly_HT= grid.best_estimator_\n",
        "\n",
        "print(f'Best Score : {grid.best_score_}')\n",
        "print(\"best estimator: %s\" % (model_looks_poly_HT))"
      ],
      "metadata": {
        "colab": {
          "base_uri": "https://localhost:8080/"
        },
        "id": "kyy2Uaqpy1VZ",
        "outputId": "70d145ad-7287-4f8b-bd27-8a6ebfb4a6f8"
      },
      "execution_count": 16,
      "outputs": [
        {
          "output_type": "stream",
          "name": "stdout",
          "text": [
            "Fitting 5 folds for each of 72 candidates, totalling 360 fits\n",
            "[CV 1/5] END C=0.001, degree=1, gamma=auto, kernel=poly;, score=0.703 total time=   0.7s\n",
            "[CV 2/5] END C=0.001, degree=1, gamma=auto, kernel=poly;, score=0.703 total time=   0.7s\n",
            "[CV 3/5] END C=0.001, degree=1, gamma=auto, kernel=poly;, score=0.703 total time=   0.7s\n",
            "[CV 4/5] END C=0.001, degree=1, gamma=auto, kernel=poly;, score=0.704 total time=   0.8s\n",
            "[CV 5/5] END C=0.001, degree=1, gamma=auto, kernel=poly;, score=0.703 total time=   0.7s\n",
            "[CV 1/5] END C=0.001, degree=1, gamma=scale, kernel=poly;, score=0.703 total time=   0.7s\n",
            "[CV 2/5] END C=0.001, degree=1, gamma=scale, kernel=poly;, score=0.703 total time=   0.7s\n",
            "[CV 3/5] END C=0.001, degree=1, gamma=scale, kernel=poly;, score=0.703 total time=   0.7s\n",
            "[CV 4/5] END C=0.001, degree=1, gamma=scale, kernel=poly;, score=0.704 total time=   0.7s\n",
            "[CV 5/5] END C=0.001, degree=1, gamma=scale, kernel=poly;, score=0.703 total time=   0.7s\n",
            "[CV 1/5] END C=0.001, degree=2, gamma=auto, kernel=poly;, score=0.703 total time=   0.8s\n",
            "[CV 2/5] END C=0.001, degree=2, gamma=auto, kernel=poly;, score=0.703 total time=   0.7s\n",
            "[CV 3/5] END C=0.001, degree=2, gamma=auto, kernel=poly;, score=0.703 total time=   0.7s\n",
            "[CV 4/5] END C=0.001, degree=2, gamma=auto, kernel=poly;, score=0.704 total time=   0.7s\n",
            "[CV 5/5] END C=0.001, degree=2, gamma=auto, kernel=poly;, score=0.703 total time=   0.7s\n",
            "[CV 1/5] END C=0.001, degree=2, gamma=scale, kernel=poly;, score=0.703 total time=   0.8s\n",
            "[CV 2/5] END C=0.001, degree=2, gamma=scale, kernel=poly;, score=0.703 total time=   0.8s\n",
            "[CV 3/5] END C=0.001, degree=2, gamma=scale, kernel=poly;, score=0.703 total time=   0.8s\n",
            "[CV 4/5] END C=0.001, degree=2, gamma=scale, kernel=poly;, score=0.704 total time=   0.8s\n",
            "[CV 5/5] END C=0.001, degree=2, gamma=scale, kernel=poly;, score=0.703 total time=   0.8s\n",
            "[CV 1/5] END C=0.001, degree=3, gamma=auto, kernel=poly;, score=0.703 total time=   0.7s\n",
            "[CV 2/5] END C=0.001, degree=3, gamma=auto, kernel=poly;, score=0.703 total time=   0.7s\n",
            "[CV 3/5] END C=0.001, degree=3, gamma=auto, kernel=poly;, score=0.703 total time=   0.7s\n",
            "[CV 4/5] END C=0.001, degree=3, gamma=auto, kernel=poly;, score=0.704 total time=   0.7s\n",
            "[CV 5/5] END C=0.001, degree=3, gamma=auto, kernel=poly;, score=0.703 total time=   0.7s\n",
            "[CV 1/5] END C=0.001, degree=3, gamma=scale, kernel=poly;, score=0.703 total time=   0.8s\n",
            "[CV 2/5] END C=0.001, degree=3, gamma=scale, kernel=poly;, score=0.703 total time=   0.8s\n",
            "[CV 3/5] END C=0.001, degree=3, gamma=scale, kernel=poly;, score=0.703 total time=   0.7s\n",
            "[CV 4/5] END C=0.001, degree=3, gamma=scale, kernel=poly;, score=0.704 total time=   0.7s\n",
            "[CV 5/5] END C=0.001, degree=3, gamma=scale, kernel=poly;, score=0.703 total time=   0.8s\n",
            "[CV 1/5] END C=0.001, degree=4, gamma=auto, kernel=poly;, score=0.703 total time=   0.7s\n",
            "[CV 2/5] END C=0.001, degree=4, gamma=auto, kernel=poly;, score=0.703 total time=   0.7s\n",
            "[CV 3/5] END C=0.001, degree=4, gamma=auto, kernel=poly;, score=0.703 total time=   0.7s\n",
            "[CV 4/5] END C=0.001, degree=4, gamma=auto, kernel=poly;, score=0.704 total time=   0.7s\n",
            "[CV 5/5] END C=0.001, degree=4, gamma=auto, kernel=poly;, score=0.703 total time=   0.7s\n",
            "[CV 1/5] END C=0.001, degree=4, gamma=scale, kernel=poly;, score=0.703 total time=   0.8s\n",
            "[CV 2/5] END C=0.001, degree=4, gamma=scale, kernel=poly;, score=0.703 total time=   0.8s\n",
            "[CV 3/5] END C=0.001, degree=4, gamma=scale, kernel=poly;, score=0.703 total time=   0.8s\n",
            "[CV 4/5] END C=0.001, degree=4, gamma=scale, kernel=poly;, score=0.704 total time=   0.8s\n",
            "[CV 5/5] END C=0.001, degree=4, gamma=scale, kernel=poly;, score=0.703 total time=   0.8s\n",
            "[CV 1/5] END C=0.001, degree=5, gamma=auto, kernel=poly;, score=0.703 total time=   0.7s\n",
            "[CV 2/5] END C=0.001, degree=5, gamma=auto, kernel=poly;, score=0.703 total time=   0.7s\n",
            "[CV 3/5] END C=0.001, degree=5, gamma=auto, kernel=poly;, score=0.703 total time=   0.7s\n",
            "[CV 4/5] END C=0.001, degree=5, gamma=auto, kernel=poly;, score=0.704 total time=   0.7s\n",
            "[CV 5/5] END C=0.001, degree=5, gamma=auto, kernel=poly;, score=0.703 total time=   0.7s\n",
            "[CV 1/5] END C=0.001, degree=5, gamma=scale, kernel=poly;, score=0.703 total time=   0.8s\n",
            "[CV 2/5] END C=0.001, degree=5, gamma=scale, kernel=poly;, score=0.703 total time=   0.8s\n",
            "[CV 3/5] END C=0.001, degree=5, gamma=scale, kernel=poly;, score=0.703 total time=   0.8s\n",
            "[CV 4/5] END C=0.001, degree=5, gamma=scale, kernel=poly;, score=0.704 total time=   0.8s\n",
            "[CV 5/5] END C=0.001, degree=5, gamma=scale, kernel=poly;, score=0.703 total time=   0.8s\n",
            "[CV 1/5] END C=0.001, degree=6, gamma=auto, kernel=poly;, score=0.703 total time=   0.7s\n",
            "[CV 2/5] END C=0.001, degree=6, gamma=auto, kernel=poly;, score=0.703 total time=   0.7s\n",
            "[CV 3/5] END C=0.001, degree=6, gamma=auto, kernel=poly;, score=0.703 total time=   0.7s\n",
            "[CV 4/5] END C=0.001, degree=6, gamma=auto, kernel=poly;, score=0.704 total time=   0.7s\n",
            "[CV 5/5] END C=0.001, degree=6, gamma=auto, kernel=poly;, score=0.703 total time=   0.7s\n",
            "[CV 1/5] END C=0.001, degree=6, gamma=scale, kernel=poly;, score=0.703 total time=   0.8s\n",
            "[CV 2/5] END C=0.001, degree=6, gamma=scale, kernel=poly;, score=0.703 total time=   0.8s\n",
            "[CV 3/5] END C=0.001, degree=6, gamma=scale, kernel=poly;, score=0.703 total time=   0.8s\n",
            "[CV 4/5] END C=0.001, degree=6, gamma=scale, kernel=poly;, score=0.704 total time=   0.8s\n",
            "[CV 5/5] END C=0.001, degree=6, gamma=scale, kernel=poly;, score=0.703 total time=   0.8s\n",
            "[CV 1/5] END C=0.1, degree=1, gamma=auto, kernel=poly;, score=0.703 total time=   0.7s\n",
            "[CV 2/5] END C=0.1, degree=1, gamma=auto, kernel=poly;, score=0.703 total time=   0.7s\n",
            "[CV 3/5] END C=0.1, degree=1, gamma=auto, kernel=poly;, score=0.703 total time=   0.7s\n",
            "[CV 4/5] END C=0.1, degree=1, gamma=auto, kernel=poly;, score=0.704 total time=   0.7s\n",
            "[CV 5/5] END C=0.1, degree=1, gamma=auto, kernel=poly;, score=0.703 total time=   0.7s\n",
            "[CV 1/5] END C=0.1, degree=1, gamma=scale, kernel=poly;, score=0.975 total time=   0.5s\n",
            "[CV 2/5] END C=0.1, degree=1, gamma=scale, kernel=poly;, score=0.970 total time=   0.5s\n",
            "[CV 3/5] END C=0.1, degree=1, gamma=scale, kernel=poly;, score=0.979 total time=   0.5s\n",
            "[CV 4/5] END C=0.1, degree=1, gamma=scale, kernel=poly;, score=0.970 total time=   0.5s\n",
            "[CV 5/5] END C=0.1, degree=1, gamma=scale, kernel=poly;, score=0.974 total time=   0.5s\n",
            "[CV 1/5] END C=0.1, degree=2, gamma=auto, kernel=poly;, score=0.703 total time=   0.7s\n",
            "[CV 2/5] END C=0.1, degree=2, gamma=auto, kernel=poly;, score=0.703 total time=   0.7s\n",
            "[CV 3/5] END C=0.1, degree=2, gamma=auto, kernel=poly;, score=0.703 total time=   0.8s\n",
            "[CV 4/5] END C=0.1, degree=2, gamma=auto, kernel=poly;, score=0.704 total time=   0.8s\n",
            "[CV 5/5] END C=0.1, degree=2, gamma=auto, kernel=poly;, score=0.703 total time=   0.8s\n",
            "[CV 1/5] END C=0.1, degree=2, gamma=scale, kernel=poly;, score=0.834 total time=   0.9s\n",
            "[CV 2/5] END C=0.1, degree=2, gamma=scale, kernel=poly;, score=0.838 total time=   0.9s\n",
            "[CV 3/5] END C=0.1, degree=2, gamma=scale, kernel=poly;, score=0.821 total time=   0.9s\n",
            "[CV 4/5] END C=0.1, degree=2, gamma=scale, kernel=poly;, score=0.838 total time=   0.9s\n",
            "[CV 5/5] END C=0.1, degree=2, gamma=scale, kernel=poly;, score=0.819 total time=   0.9s\n",
            "[CV 1/5] END C=0.1, degree=3, gamma=auto, kernel=poly;, score=0.703 total time=   0.7s\n",
            "[CV 2/5] END C=0.1, degree=3, gamma=auto, kernel=poly;, score=0.703 total time=   0.7s\n",
            "[CV 3/5] END C=0.1, degree=3, gamma=auto, kernel=poly;, score=0.703 total time=   0.7s\n",
            "[CV 4/5] END C=0.1, degree=3, gamma=auto, kernel=poly;, score=0.704 total time=   0.7s\n",
            "[CV 5/5] END C=0.1, degree=3, gamma=auto, kernel=poly;, score=0.703 total time=   0.7s\n",
            "[CV 1/5] END C=0.1, degree=3, gamma=scale, kernel=poly;, score=0.741 total time=   1.1s\n",
            "[CV 2/5] END C=0.1, degree=3, gamma=scale, kernel=poly;, score=0.743 total time=   1.1s\n",
            "[CV 3/5] END C=0.1, degree=3, gamma=scale, kernel=poly;, score=0.733 total time=   1.1s\n",
            "[CV 4/5] END C=0.1, degree=3, gamma=scale, kernel=poly;, score=0.735 total time=   1.1s\n",
            "[CV 5/5] END C=0.1, degree=3, gamma=scale, kernel=poly;, score=0.738 total time=   2.1s\n",
            "[CV 1/5] END C=0.1, degree=4, gamma=auto, kernel=poly;, score=0.703 total time=   1.3s\n",
            "[CV 2/5] END C=0.1, degree=4, gamma=auto, kernel=poly;, score=0.703 total time=   0.8s\n",
            "[CV 3/5] END C=0.1, degree=4, gamma=auto, kernel=poly;, score=0.703 total time=   0.8s\n",
            "[CV 4/5] END C=0.1, degree=4, gamma=auto, kernel=poly;, score=0.704 total time=   0.8s\n",
            "[CV 5/5] END C=0.1, degree=4, gamma=auto, kernel=poly;, score=0.703 total time=   0.8s\n",
            "[CV 1/5] END C=0.1, degree=4, gamma=scale, kernel=poly;, score=0.735 total time=   1.5s\n",
            "[CV 2/5] END C=0.1, degree=4, gamma=scale, kernel=poly;, score=0.735 total time=   2.0s\n",
            "[CV 3/5] END C=0.1, degree=4, gamma=scale, kernel=poly;, score=0.726 total time=   1.9s\n",
            "[CV 4/5] END C=0.1, degree=4, gamma=scale, kernel=poly;, score=0.735 total time=   1.7s\n",
            "[CV 5/5] END C=0.1, degree=4, gamma=scale, kernel=poly;, score=0.731 total time=   1.8s\n",
            "[CV 1/5] END C=0.1, degree=5, gamma=auto, kernel=poly;, score=0.703 total time=   1.0s\n",
            "[CV 2/5] END C=0.1, degree=5, gamma=auto, kernel=poly;, score=0.703 total time=   0.9s\n",
            "[CV 3/5] END C=0.1, degree=5, gamma=auto, kernel=poly;, score=0.703 total time=   0.7s\n",
            "[CV 4/5] END C=0.1, degree=5, gamma=auto, kernel=poly;, score=0.704 total time=   0.7s\n",
            "[CV 5/5] END C=0.1, degree=5, gamma=auto, kernel=poly;, score=0.703 total time=   0.7s\n",
            "[CV 1/5] END C=0.1, degree=5, gamma=scale, kernel=poly;, score=0.730 total time=   1.5s\n",
            "[CV 2/5] END C=0.1, degree=5, gamma=scale, kernel=poly;, score=0.733 total time=   1.5s\n",
            "[CV 3/5] END C=0.1, degree=5, gamma=scale, kernel=poly;, score=0.724 total time=   1.5s\n",
            "[CV 4/5] END C=0.1, degree=5, gamma=scale, kernel=poly;, score=0.731 total time=   1.5s\n",
            "[CV 5/5] END C=0.1, degree=5, gamma=scale, kernel=poly;, score=0.726 total time=   1.5s\n",
            "[CV 1/5] END C=0.1, degree=6, gamma=auto, kernel=poly;, score=0.703 total time=   0.7s\n",
            "[CV 2/5] END C=0.1, degree=6, gamma=auto, kernel=poly;, score=0.703 total time=   0.7s\n",
            "[CV 3/5] END C=0.1, degree=6, gamma=auto, kernel=poly;, score=0.703 total time=   0.7s\n",
            "[CV 4/5] END C=0.1, degree=6, gamma=auto, kernel=poly;, score=0.704 total time=   0.7s\n",
            "[CV 5/5] END C=0.1, degree=6, gamma=auto, kernel=poly;, score=0.703 total time=   0.7s\n",
            "[CV 1/5] END C=0.1, degree=6, gamma=scale, kernel=poly;, score=0.729 total time=   1.6s\n",
            "[CV 2/5] END C=0.1, degree=6, gamma=scale, kernel=poly;, score=0.733 total time=   1.6s\n",
            "[CV 3/5] END C=0.1, degree=6, gamma=scale, kernel=poly;, score=0.724 total time=   1.6s\n",
            "[CV 4/5] END C=0.1, degree=6, gamma=scale, kernel=poly;, score=0.730 total time=   1.6s\n",
            "[CV 5/5] END C=0.1, degree=6, gamma=scale, kernel=poly;, score=0.725 total time=   1.6s\n",
            "[CV 1/5] END C=1, degree=1, gamma=auto, kernel=poly;, score=0.703 total time=   0.7s\n",
            "[CV 2/5] END C=1, degree=1, gamma=auto, kernel=poly;, score=0.703 total time=   0.7s\n",
            "[CV 3/5] END C=1, degree=1, gamma=auto, kernel=poly;, score=0.703 total time=   0.7s\n",
            "[CV 4/5] END C=1, degree=1, gamma=auto, kernel=poly;, score=0.704 total time=   0.7s\n",
            "[CV 5/5] END C=1, degree=1, gamma=auto, kernel=poly;, score=0.703 total time=   0.7s\n",
            "[CV 1/5] END C=1, degree=1, gamma=scale, kernel=poly;, score=0.991 total time=   0.4s\n",
            "[CV 2/5] END C=1, degree=1, gamma=scale, kernel=poly;, score=0.986 total time=   0.3s\n",
            "[CV 3/5] END C=1, degree=1, gamma=scale, kernel=poly;, score=0.986 total time=   0.4s\n",
            "[CV 4/5] END C=1, degree=1, gamma=scale, kernel=poly;, score=0.983 total time=   0.3s\n",
            "[CV 5/5] END C=1, degree=1, gamma=scale, kernel=poly;, score=0.985 total time=   0.3s\n",
            "[CV 1/5] END C=1, degree=2, gamma=auto, kernel=poly;, score=0.703 total time=   0.8s\n",
            "[CV 2/5] END C=1, degree=2, gamma=auto, kernel=poly;, score=0.703 total time=   0.8s\n",
            "[CV 3/5] END C=1, degree=2, gamma=auto, kernel=poly;, score=0.703 total time=   0.7s\n",
            "[CV 4/5] END C=1, degree=2, gamma=auto, kernel=poly;, score=0.704 total time=   0.8s\n",
            "[CV 5/5] END C=1, degree=2, gamma=auto, kernel=poly;, score=0.703 total time=   0.8s\n",
            "[CV 1/5] END C=1, degree=2, gamma=scale, kernel=poly;, score=0.980 total time=   0.8s\n",
            "[CV 2/5] END C=1, degree=2, gamma=scale, kernel=poly;, score=0.973 total time=   0.8s\n",
            "[CV 3/5] END C=1, degree=2, gamma=scale, kernel=poly;, score=0.978 total time=   0.8s\n",
            "[CV 4/5] END C=1, degree=2, gamma=scale, kernel=poly;, score=0.969 total time=   0.8s\n",
            "[CV 5/5] END C=1, degree=2, gamma=scale, kernel=poly;, score=0.976 total time=   0.8s\n",
            "[CV 1/5] END C=1, degree=3, gamma=auto, kernel=poly;, score=0.703 total time=   0.7s\n",
            "[CV 2/5] END C=1, degree=3, gamma=auto, kernel=poly;, score=0.703 total time=   0.7s\n",
            "[CV 3/5] END C=1, degree=3, gamma=auto, kernel=poly;, score=0.703 total time=   0.7s\n",
            "[CV 4/5] END C=1, degree=3, gamma=auto, kernel=poly;, score=0.704 total time=   0.8s\n",
            "[CV 5/5] END C=1, degree=3, gamma=auto, kernel=poly;, score=0.703 total time=   0.7s\n",
            "[CV 1/5] END C=1, degree=3, gamma=scale, kernel=poly;, score=0.971 total time=   1.5s\n",
            "[CV 2/5] END C=1, degree=3, gamma=scale, kernel=poly;, score=0.966 total time=   1.5s\n",
            "[CV 3/5] END C=1, degree=3, gamma=scale, kernel=poly;, score=0.970 total time=   1.5s\n",
            "[CV 4/5] END C=1, degree=3, gamma=scale, kernel=poly;, score=0.969 total time=   1.4s\n",
            "[CV 5/5] END C=1, degree=3, gamma=scale, kernel=poly;, score=0.968 total time=   1.5s\n",
            "[CV 1/5] END C=1, degree=4, gamma=auto, kernel=poly;, score=0.703 total time=   0.8s\n",
            "[CV 2/5] END C=1, degree=4, gamma=auto, kernel=poly;, score=0.703 total time=   0.8s\n",
            "[CV 3/5] END C=1, degree=4, gamma=auto, kernel=poly;, score=0.703 total time=   0.8s\n",
            "[CV 4/5] END C=1, degree=4, gamma=auto, kernel=poly;, score=0.704 total time=   0.8s\n",
            "[CV 5/5] END C=1, degree=4, gamma=auto, kernel=poly;, score=0.703 total time=   0.8s\n",
            "[CV 1/5] END C=1, degree=4, gamma=scale, kernel=poly;, score=0.828 total time=   1.7s\n",
            "[CV 2/5] END C=1, degree=4, gamma=scale, kernel=poly;, score=0.824 total time=   1.7s\n",
            "[CV 3/5] END C=1, degree=4, gamma=scale, kernel=poly;, score=0.800 total time=   1.6s\n",
            "[CV 4/5] END C=1, degree=4, gamma=scale, kernel=poly;, score=0.815 total time=   1.7s\n",
            "[CV 5/5] END C=1, degree=4, gamma=scale, kernel=poly;, score=0.810 total time=   1.6s\n",
            "[CV 1/5] END C=1, degree=5, gamma=auto, kernel=poly;, score=0.703 total time=   0.7s\n",
            "[CV 2/5] END C=1, degree=5, gamma=auto, kernel=poly;, score=0.703 total time=   0.7s\n",
            "[CV 3/5] END C=1, degree=5, gamma=auto, kernel=poly;, score=0.703 total time=   0.7s\n",
            "[CV 4/5] END C=1, degree=5, gamma=auto, kernel=poly;, score=0.704 total time=   0.7s\n",
            "[CV 5/5] END C=1, degree=5, gamma=auto, kernel=poly;, score=0.703 total time=   0.7s\n",
            "[CV 1/5] END C=1, degree=5, gamma=scale, kernel=poly;, score=0.784 total time=   1.8s\n",
            "[CV 2/5] END C=1, degree=5, gamma=scale, kernel=poly;, score=0.784 total time=   1.8s\n",
            "[CV 3/5] END C=1, degree=5, gamma=scale, kernel=poly;, score=0.764 total time=   1.8s\n",
            "[CV 4/5] END C=1, degree=5, gamma=scale, kernel=poly;, score=0.781 total time=   1.8s\n",
            "[CV 5/5] END C=1, degree=5, gamma=scale, kernel=poly;, score=0.780 total time=   1.8s\n",
            "[CV 1/5] END C=1, degree=6, gamma=auto, kernel=poly;, score=0.703 total time=   0.7s\n",
            "[CV 2/5] END C=1, degree=6, gamma=auto, kernel=poly;, score=0.703 total time=   0.7s\n",
            "[CV 3/5] END C=1, degree=6, gamma=auto, kernel=poly;, score=0.703 total time=   0.7s\n",
            "[CV 4/5] END C=1, degree=6, gamma=auto, kernel=poly;, score=0.704 total time=   0.7s\n",
            "[CV 5/5] END C=1, degree=6, gamma=auto, kernel=poly;, score=0.703 total time=   0.7s\n",
            "[CV 1/5] END C=1, degree=6, gamma=scale, kernel=poly;, score=0.770 total time=   1.9s\n",
            "[CV 2/5] END C=1, degree=6, gamma=scale, kernel=poly;, score=0.770 total time=   1.9s\n",
            "[CV 3/5] END C=1, degree=6, gamma=scale, kernel=poly;, score=0.756 total time=   1.9s\n",
            "[CV 4/5] END C=1, degree=6, gamma=scale, kernel=poly;, score=0.774 total time=   1.9s\n",
            "[CV 5/5] END C=1, degree=6, gamma=scale, kernel=poly;, score=0.760 total time=   1.9s\n",
            "[CV 1/5] END C=10, degree=1, gamma=auto, kernel=poly;, score=0.703 total time=   0.8s\n",
            "[CV 2/5] END C=10, degree=1, gamma=auto, kernel=poly;, score=0.703 total time=   0.8s\n",
            "[CV 3/5] END C=10, degree=1, gamma=auto, kernel=poly;, score=0.703 total time=   0.8s\n",
            "[CV 4/5] END C=10, degree=1, gamma=auto, kernel=poly;, score=0.704 total time=   0.8s\n",
            "[CV 5/5] END C=10, degree=1, gamma=auto, kernel=poly;, score=0.703 total time=   0.8s\n",
            "[CV 1/5] END C=10, degree=1, gamma=scale, kernel=poly;, score=0.990 total time=   0.4s\n",
            "[CV 2/5] END C=10, degree=1, gamma=scale, kernel=poly;, score=0.991 total time=   0.3s\n",
            "[CV 3/5] END C=10, degree=1, gamma=scale, kernel=poly;, score=0.991 total time=   0.3s\n",
            "[CV 4/5] END C=10, degree=1, gamma=scale, kernel=poly;, score=0.983 total time=   0.3s\n",
            "[CV 5/5] END C=10, degree=1, gamma=scale, kernel=poly;, score=0.986 total time=   0.3s\n",
            "[CV 1/5] END C=10, degree=2, gamma=auto, kernel=poly;, score=0.703 total time=   0.8s\n",
            "[CV 2/5] END C=10, degree=2, gamma=auto, kernel=poly;, score=0.703 total time=   0.8s\n",
            "[CV 3/5] END C=10, degree=2, gamma=auto, kernel=poly;, score=0.703 total time=   0.8s\n",
            "[CV 4/5] END C=10, degree=2, gamma=auto, kernel=poly;, score=0.704 total time=   0.8s\n",
            "[CV 5/5] END C=10, degree=2, gamma=auto, kernel=poly;, score=0.703 total time=   0.8s\n",
            "[CV 1/5] END C=10, degree=2, gamma=scale, kernel=poly;, score=0.979 total time=   0.8s\n",
            "[CV 2/5] END C=10, degree=2, gamma=scale, kernel=poly;, score=0.976 total time=   0.8s\n",
            "[CV 3/5] END C=10, degree=2, gamma=scale, kernel=poly;, score=0.979 total time=   0.8s\n",
            "[CV 4/5] END C=10, degree=2, gamma=scale, kernel=poly;, score=0.971 total time=   0.8s\n",
            "[CV 5/5] END C=10, degree=2, gamma=scale, kernel=poly;, score=0.978 total time=   0.8s\n",
            "[CV 1/5] END C=10, degree=3, gamma=auto, kernel=poly;, score=0.703 total time=   0.7s\n",
            "[CV 2/5] END C=10, degree=3, gamma=auto, kernel=poly;, score=0.703 total time=   0.8s\n",
            "[CV 3/5] END C=10, degree=3, gamma=auto, kernel=poly;, score=0.703 total time=   0.8s\n",
            "[CV 4/5] END C=10, degree=3, gamma=auto, kernel=poly;, score=0.704 total time=   0.7s\n",
            "[CV 5/5] END C=10, degree=3, gamma=auto, kernel=poly;, score=0.703 total time=   0.7s\n",
            "[CV 1/5] END C=10, degree=3, gamma=scale, kernel=poly;, score=0.973 total time=   1.5s\n",
            "[CV 2/5] END C=10, degree=3, gamma=scale, kernel=poly;, score=0.968 total time=   1.5s\n",
            "[CV 3/5] END C=10, degree=3, gamma=scale, kernel=poly;, score=0.969 total time=   1.5s\n",
            "[CV 4/5] END C=10, degree=3, gamma=scale, kernel=poly;, score=0.966 total time=   1.5s\n",
            "[CV 5/5] END C=10, degree=3, gamma=scale, kernel=poly;, score=0.969 total time=   1.5s\n",
            "[CV 1/5] END C=10, degree=4, gamma=auto, kernel=poly;, score=0.703 total time=   0.8s\n",
            "[CV 2/5] END C=10, degree=4, gamma=auto, kernel=poly;, score=0.703 total time=   0.8s\n",
            "[CV 3/5] END C=10, degree=4, gamma=auto, kernel=poly;, score=0.703 total time=   0.8s\n",
            "[CV 4/5] END C=10, degree=4, gamma=auto, kernel=poly;, score=0.704 total time=   0.8s\n",
            "[CV 5/5] END C=10, degree=4, gamma=auto, kernel=poly;, score=0.703 total time=   0.8s\n",
            "[CV 1/5] END C=10, degree=4, gamma=scale, kernel=poly;, score=0.844 total time=   1.9s\n",
            "[CV 2/5] END C=10, degree=4, gamma=scale, kernel=poly;, score=0.839 total time=   1.8s\n",
            "[CV 3/5] END C=10, degree=4, gamma=scale, kernel=poly;, score=0.820 total time=   1.9s\n",
            "[CV 4/5] END C=10, degree=4, gamma=scale, kernel=poly;, score=0.830 total time=   1.9s\n",
            "[CV 5/5] END C=10, degree=4, gamma=scale, kernel=poly;, score=0.829 total time=   1.9s\n",
            "[CV 1/5] END C=10, degree=5, gamma=auto, kernel=poly;, score=0.703 total time=   0.7s\n",
            "[CV 2/5] END C=10, degree=5, gamma=auto, kernel=poly;, score=0.703 total time=   0.7s\n",
            "[CV 3/5] END C=10, degree=5, gamma=auto, kernel=poly;, score=0.703 total time=   0.7s\n",
            "[CV 4/5] END C=10, degree=5, gamma=auto, kernel=poly;, score=0.704 total time=   0.7s\n",
            "[CV 5/5] END C=10, degree=5, gamma=auto, kernel=poly;, score=0.703 total time=   0.7s\n",
            "[CV 1/5] END C=10, degree=5, gamma=scale, kernel=poly;, score=0.800 total time=   1.9s\n",
            "[CV 2/5] END C=10, degree=5, gamma=scale, kernel=poly;, score=0.790 total time=   1.9s\n",
            "[CV 3/5] END C=10, degree=5, gamma=scale, kernel=poly;, score=0.779 total time=   2.0s\n",
            "[CV 4/5] END C=10, degree=5, gamma=scale, kernel=poly;, score=0.795 total time=   1.9s\n",
            "[CV 5/5] END C=10, degree=5, gamma=scale, kernel=poly;, score=0.792 total time=   1.9s\n",
            "[CV 1/5] END C=10, degree=6, gamma=auto, kernel=poly;, score=0.703 total time=   0.7s\n",
            "[CV 2/5] END C=10, degree=6, gamma=auto, kernel=poly;, score=0.703 total time=   0.7s\n",
            "[CV 3/5] END C=10, degree=6, gamma=auto, kernel=poly;, score=0.703 total time=   0.7s\n",
            "[CV 4/5] END C=10, degree=6, gamma=auto, kernel=poly;, score=0.704 total time=   0.7s\n",
            "[CV 5/5] END C=10, degree=6, gamma=auto, kernel=poly;, score=0.703 total time=   0.7s\n",
            "[CV 1/5] END C=10, degree=6, gamma=scale, kernel=poly;, score=0.780 total time=   2.0s\n",
            "[CV 2/5] END C=10, degree=6, gamma=scale, kernel=poly;, score=0.780 total time=   1.9s\n",
            "[CV 3/5] END C=10, degree=6, gamma=scale, kernel=poly;, score=0.761 total time=   2.0s\n",
            "[CV 4/5] END C=10, degree=6, gamma=scale, kernel=poly;, score=0.780 total time=   2.0s\n",
            "[CV 5/5] END C=10, degree=6, gamma=scale, kernel=poly;, score=0.776 total time=   1.9s\n",
            "[CV 1/5] END C=100, degree=1, gamma=auto, kernel=poly;, score=0.975 total time=   0.7s\n",
            "[CV 2/5] END C=100, degree=1, gamma=auto, kernel=poly;, score=0.969 total time=   0.7s\n",
            "[CV 3/5] END C=100, degree=1, gamma=auto, kernel=poly;, score=0.971 total time=   0.7s\n",
            "[CV 4/5] END C=100, degree=1, gamma=auto, kernel=poly;, score=0.966 total time=   0.7s\n",
            "[CV 5/5] END C=100, degree=1, gamma=auto, kernel=poly;, score=0.968 total time=   0.7s\n",
            "[CV 1/5] END C=100, degree=1, gamma=scale, kernel=poly;, score=0.990 total time=   0.3s\n",
            "[CV 2/5] END C=100, degree=1, gamma=scale, kernel=poly;, score=0.990 total time=   0.3s\n",
            "[CV 3/5] END C=100, degree=1, gamma=scale, kernel=poly;, score=0.990 total time=   0.3s\n",
            "[CV 4/5] END C=100, degree=1, gamma=scale, kernel=poly;, score=0.984 total time=   0.3s\n",
            "[CV 5/5] END C=100, degree=1, gamma=scale, kernel=poly;, score=0.986 total time=   0.3s\n",
            "[CV 1/5] END C=100, degree=2, gamma=auto, kernel=poly;, score=0.703 total time=   0.8s\n",
            "[CV 2/5] END C=100, degree=2, gamma=auto, kernel=poly;, score=0.703 total time=   0.8s\n",
            "[CV 3/5] END C=100, degree=2, gamma=auto, kernel=poly;, score=0.703 total time=   0.8s\n",
            "[CV 4/5] END C=100, degree=2, gamma=auto, kernel=poly;, score=0.704 total time=   0.8s\n",
            "[CV 5/5] END C=100, degree=2, gamma=auto, kernel=poly;, score=0.703 total time=   0.8s\n",
            "[CV 1/5] END C=100, degree=2, gamma=scale, kernel=poly;, score=0.980 total time=   0.8s\n",
            "[CV 2/5] END C=100, degree=2, gamma=scale, kernel=poly;, score=0.976 total time=   0.8s\n",
            "[CV 3/5] END C=100, degree=2, gamma=scale, kernel=poly;, score=0.979 total time=   0.8s\n",
            "[CV 4/5] END C=100, degree=2, gamma=scale, kernel=poly;, score=0.971 total time=   0.8s\n",
            "[CV 5/5] END C=100, degree=2, gamma=scale, kernel=poly;, score=0.978 total time=   0.8s\n",
            "[CV 1/5] END C=100, degree=3, gamma=auto, kernel=poly;, score=0.703 total time=   0.8s\n",
            "[CV 2/5] END C=100, degree=3, gamma=auto, kernel=poly;, score=0.703 total time=   0.8s\n",
            "[CV 3/5] END C=100, degree=3, gamma=auto, kernel=poly;, score=0.703 total time=   0.8s\n",
            "[CV 4/5] END C=100, degree=3, gamma=auto, kernel=poly;, score=0.704 total time=   0.8s\n",
            "[CV 5/5] END C=100, degree=3, gamma=auto, kernel=poly;, score=0.703 total time=   0.8s\n",
            "[CV 1/5] END C=100, degree=3, gamma=scale, kernel=poly;, score=0.973 total time=   1.5s\n",
            "[CV 2/5] END C=100, degree=3, gamma=scale, kernel=poly;, score=0.968 total time=   1.5s\n",
            "[CV 3/5] END C=100, degree=3, gamma=scale, kernel=poly;, score=0.969 total time=   1.5s\n",
            "[CV 4/5] END C=100, degree=3, gamma=scale, kernel=poly;, score=0.966 total time=   1.5s\n",
            "[CV 5/5] END C=100, degree=3, gamma=scale, kernel=poly;, score=0.969 total time=   1.5s\n",
            "[CV 1/5] END C=100, degree=4, gamma=auto, kernel=poly;, score=0.703 total time=   0.8s\n",
            "[CV 2/5] END C=100, degree=4, gamma=auto, kernel=poly;, score=0.703 total time=   0.8s\n",
            "[CV 3/5] END C=100, degree=4, gamma=auto, kernel=poly;, score=0.703 total time=   0.8s\n",
            "[CV 4/5] END C=100, degree=4, gamma=auto, kernel=poly;, score=0.704 total time=   0.8s\n",
            "[CV 5/5] END C=100, degree=4, gamma=auto, kernel=poly;, score=0.703 total time=   0.8s\n",
            "[CV 1/5] END C=100, degree=4, gamma=scale, kernel=poly;, score=0.844 total time=   1.9s\n",
            "[CV 2/5] END C=100, degree=4, gamma=scale, kernel=poly;, score=0.839 total time=   1.9s\n",
            "[CV 3/5] END C=100, degree=4, gamma=scale, kernel=poly;, score=0.820 total time=   1.9s\n",
            "[CV 4/5] END C=100, degree=4, gamma=scale, kernel=poly;, score=0.830 total time=   1.9s\n",
            "[CV 5/5] END C=100, degree=4, gamma=scale, kernel=poly;, score=0.829 total time=   1.9s\n",
            "[CV 1/5] END C=100, degree=5, gamma=auto, kernel=poly;, score=0.703 total time=   0.8s\n",
            "[CV 2/5] END C=100, degree=5, gamma=auto, kernel=poly;, score=0.703 total time=   0.8s\n",
            "[CV 3/5] END C=100, degree=5, gamma=auto, kernel=poly;, score=0.703 total time=   0.8s\n",
            "[CV 4/5] END C=100, degree=5, gamma=auto, kernel=poly;, score=0.704 total time=   0.8s\n",
            "[CV 5/5] END C=100, degree=5, gamma=auto, kernel=poly;, score=0.703 total time=   0.8s\n",
            "[CV 1/5] END C=100, degree=5, gamma=scale, kernel=poly;, score=0.800 total time=   2.0s\n",
            "[CV 2/5] END C=100, degree=5, gamma=scale, kernel=poly;, score=0.790 total time=   1.9s\n",
            "[CV 3/5] END C=100, degree=5, gamma=scale, kernel=poly;, score=0.779 total time=   2.0s\n",
            "[CV 4/5] END C=100, degree=5, gamma=scale, kernel=poly;, score=0.795 total time=   1.9s\n",
            "[CV 5/5] END C=100, degree=5, gamma=scale, kernel=poly;, score=0.792 total time=   1.9s\n",
            "[CV 1/5] END C=100, degree=6, gamma=auto, kernel=poly;, score=0.703 total time=   0.7s\n",
            "[CV 2/5] END C=100, degree=6, gamma=auto, kernel=poly;, score=0.703 total time=   0.7s\n",
            "[CV 3/5] END C=100, degree=6, gamma=auto, kernel=poly;, score=0.703 total time=   0.7s\n",
            "[CV 4/5] END C=100, degree=6, gamma=auto, kernel=poly;, score=0.704 total time=   0.7s\n",
            "[CV 5/5] END C=100, degree=6, gamma=auto, kernel=poly;, score=0.703 total time=   0.7s\n",
            "[CV 1/5] END C=100, degree=6, gamma=scale, kernel=poly;, score=0.780 total time=   2.0s\n",
            "[CV 2/5] END C=100, degree=6, gamma=scale, kernel=poly;, score=0.780 total time=   1.9s\n",
            "[CV 3/5] END C=100, degree=6, gamma=scale, kernel=poly;, score=0.761 total time=   2.0s\n",
            "[CV 4/5] END C=100, degree=6, gamma=scale, kernel=poly;, score=0.780 total time=   2.0s\n",
            "[CV 5/5] END C=100, degree=6, gamma=scale, kernel=poly;, score=0.776 total time=   2.0s\n",
            "[CV 1/5] END C=1000, degree=1, gamma=auto, kernel=poly;, score=0.986 total time=   0.4s\n",
            "[CV 2/5] END C=1000, degree=1, gamma=auto, kernel=poly;, score=0.984 total time=   0.4s\n",
            "[CV 3/5] END C=1000, degree=1, gamma=auto, kernel=poly;, score=0.984 total time=   0.4s\n",
            "[CV 4/5] END C=1000, degree=1, gamma=auto, kernel=poly;, score=0.979 total time=   0.4s\n",
            "[CV 5/5] END C=1000, degree=1, gamma=auto, kernel=poly;, score=0.983 total time=   0.4s\n",
            "[CV 1/5] END C=1000, degree=1, gamma=scale, kernel=poly;, score=0.990 total time=   0.3s\n",
            "[CV 2/5] END C=1000, degree=1, gamma=scale, kernel=poly;, score=0.990 total time=   0.3s\n",
            "[CV 3/5] END C=1000, degree=1, gamma=scale, kernel=poly;, score=0.990 total time=   0.3s\n",
            "[CV 4/5] END C=1000, degree=1, gamma=scale, kernel=poly;, score=0.984 total time=   0.3s\n",
            "[CV 5/5] END C=1000, degree=1, gamma=scale, kernel=poly;, score=0.986 total time=   0.3s\n",
            "[CV 1/5] END C=1000, degree=2, gamma=auto, kernel=poly;, score=0.703 total time=   0.8s\n",
            "[CV 2/5] END C=1000, degree=2, gamma=auto, kernel=poly;, score=0.703 total time=   0.8s\n",
            "[CV 3/5] END C=1000, degree=2, gamma=auto, kernel=poly;, score=0.703 total time=   0.8s\n",
            "[CV 4/5] END C=1000, degree=2, gamma=auto, kernel=poly;, score=0.704 total time=   0.8s\n",
            "[CV 5/5] END C=1000, degree=2, gamma=auto, kernel=poly;, score=0.703 total time=   0.8s\n",
            "[CV 1/5] END C=1000, degree=2, gamma=scale, kernel=poly;, score=0.980 total time=   0.8s\n",
            "[CV 2/5] END C=1000, degree=2, gamma=scale, kernel=poly;, score=0.976 total time=   0.8s\n",
            "[CV 3/5] END C=1000, degree=2, gamma=scale, kernel=poly;, score=0.979 total time=   0.8s\n",
            "[CV 4/5] END C=1000, degree=2, gamma=scale, kernel=poly;, score=0.971 total time=   0.8s\n",
            "[CV 5/5] END C=1000, degree=2, gamma=scale, kernel=poly;, score=0.978 total time=   1.0s\n",
            "[CV 1/5] END C=1000, degree=3, gamma=auto, kernel=poly;, score=0.703 total time=   0.9s\n",
            "[CV 2/5] END C=1000, degree=3, gamma=auto, kernel=poly;, score=0.703 total time=   1.0s\n",
            "[CV 3/5] END C=1000, degree=3, gamma=auto, kernel=poly;, score=0.703 total time=   1.0s\n",
            "[CV 4/5] END C=1000, degree=3, gamma=auto, kernel=poly;, score=0.704 total time=   1.0s\n",
            "[CV 5/5] END C=1000, degree=3, gamma=auto, kernel=poly;, score=0.703 total time=   1.0s\n",
            "[CV 1/5] END C=1000, degree=3, gamma=scale, kernel=poly;, score=0.973 total time=   1.9s\n",
            "[CV 2/5] END C=1000, degree=3, gamma=scale, kernel=poly;, score=0.968 total time=   1.9s\n",
            "[CV 3/5] END C=1000, degree=3, gamma=scale, kernel=poly;, score=0.969 total time=   1.5s\n",
            "[CV 4/5] END C=1000, degree=3, gamma=scale, kernel=poly;, score=0.966 total time=   1.5s\n",
            "[CV 5/5] END C=1000, degree=3, gamma=scale, kernel=poly;, score=0.969 total time=   1.5s\n",
            "[CV 1/5] END C=1000, degree=4, gamma=auto, kernel=poly;, score=0.703 total time=   0.8s\n",
            "[CV 2/5] END C=1000, degree=4, gamma=auto, kernel=poly;, score=0.703 total time=   0.8s\n",
            "[CV 3/5] END C=1000, degree=4, gamma=auto, kernel=poly;, score=0.703 total time=   0.8s\n",
            "[CV 4/5] END C=1000, degree=4, gamma=auto, kernel=poly;, score=0.704 total time=   0.8s\n",
            "[CV 5/5] END C=1000, degree=4, gamma=auto, kernel=poly;, score=0.703 total time=   0.8s\n",
            "[CV 1/5] END C=1000, degree=4, gamma=scale, kernel=poly;, score=0.844 total time=   1.9s\n",
            "[CV 2/5] END C=1000, degree=4, gamma=scale, kernel=poly;, score=0.839 total time=   1.8s\n",
            "[CV 3/5] END C=1000, degree=4, gamma=scale, kernel=poly;, score=0.820 total time=   1.9s\n",
            "[CV 4/5] END C=1000, degree=4, gamma=scale, kernel=poly;, score=0.830 total time=   1.9s\n",
            "[CV 5/5] END C=1000, degree=4, gamma=scale, kernel=poly;, score=0.829 total time=   1.9s\n",
            "[CV 1/5] END C=1000, degree=5, gamma=auto, kernel=poly;, score=0.703 total time=   0.8s\n",
            "[CV 2/5] END C=1000, degree=5, gamma=auto, kernel=poly;, score=0.703 total time=   0.8s\n",
            "[CV 3/5] END C=1000, degree=5, gamma=auto, kernel=poly;, score=0.703 total time=   0.8s\n",
            "[CV 4/5] END C=1000, degree=5, gamma=auto, kernel=poly;, score=0.704 total time=   0.8s\n",
            "[CV 5/5] END C=1000, degree=5, gamma=auto, kernel=poly;, score=0.703 total time=   0.8s\n",
            "[CV 1/5] END C=1000, degree=5, gamma=scale, kernel=poly;, score=0.800 total time=   2.0s\n",
            "[CV 2/5] END C=1000, degree=5, gamma=scale, kernel=poly;, score=0.790 total time=   1.9s\n",
            "[CV 3/5] END C=1000, degree=5, gamma=scale, kernel=poly;, score=0.779 total time=   2.0s\n",
            "[CV 4/5] END C=1000, degree=5, gamma=scale, kernel=poly;, score=0.795 total time=   1.9s\n",
            "[CV 5/5] END C=1000, degree=5, gamma=scale, kernel=poly;, score=0.792 total time=   1.9s\n",
            "[CV 1/5] END C=1000, degree=6, gamma=auto, kernel=poly;, score=0.703 total time=   0.7s\n",
            "[CV 2/5] END C=1000, degree=6, gamma=auto, kernel=poly;, score=0.703 total time=   0.7s\n",
            "[CV 3/5] END C=1000, degree=6, gamma=auto, kernel=poly;, score=0.703 total time=   0.7s\n",
            "[CV 4/5] END C=1000, degree=6, gamma=auto, kernel=poly;, score=0.704 total time=   0.7s\n",
            "[CV 5/5] END C=1000, degree=6, gamma=auto, kernel=poly;, score=0.703 total time=   0.7s\n",
            "[CV 1/5] END C=1000, degree=6, gamma=scale, kernel=poly;, score=0.780 total time=   2.0s\n",
            "[CV 2/5] END C=1000, degree=6, gamma=scale, kernel=poly;, score=0.780 total time=   1.9s\n",
            "[CV 3/5] END C=1000, degree=6, gamma=scale, kernel=poly;, score=0.761 total time=   2.0s\n",
            "[CV 4/5] END C=1000, degree=6, gamma=scale, kernel=poly;, score=0.780 total time=   1.9s\n",
            "[CV 5/5] END C=1000, degree=6, gamma=scale, kernel=poly;, score=0.776 total time=   1.9s\n",
            "Selected Kernel:  poly\n",
            "Selected C:  10\n",
            "Selected Gamma:  scale\n",
            "Selected Degree:  1\n",
            "Best Score : 0.9882500000000001\n",
            "best estimator: SVC(C=10, degree=1, kernel='poly')\n"
          ]
        }
      ]
    },
    {
      "cell_type": "markdown",
      "source": [
        "* RBF Kernel"
      ],
      "metadata": {
        "id": "tuZVqSAY0BQO"
      }
    },
    {
      "cell_type": "code",
      "source": [
        "param_grid = {'C': [0.001, 0.1, 1, 10, 100, 1000],\n",
        "              'kernel': ['rbf'],\n",
        "              'gamma' :['auto', 'scale']\n",
        "             }\n",
        " \n",
        "grid = GridSearchCV(svm.SVC(), param_grid, scoring='accuracy', refit = True, verbose = 3) \n",
        "# fitting the model for grid search\n",
        "grid.fit(x_harga_train_vectorized, y_harga_train)\n",
        "\n",
        "selected_kernel_rbf = grid.best_params_['kernel']\n",
        "print(\"Selected Kernel: \", selected_kernel_rbf)\n",
        "selected_C_rbf = grid.best_params_['C']\n",
        "print(\"Selected C: \", selected_C_rbf)\n",
        "selected_gamma_rbf= grid.best_params_['gamma']\n",
        "print(\"Selected Gamma: \", selected_gamma_rbf)\n",
        "\n",
        "best_params_rbf_HT = grid.best_params_\n",
        "model_looks_rbf_HT= grid.best_estimator_\n",
        "\n",
        "print(f'Best Score : {grid.best_score_}')\n",
        "print(\"best estimator: %s\" % (model_looks_rbf_HT))"
      ],
      "metadata": {
        "colab": {
          "base_uri": "https://localhost:8080/"
        },
        "id": "itXr1dkV0Cs5",
        "outputId": "635a93fa-66e9-4a1f-837a-1920e8707f03"
      },
      "execution_count": 17,
      "outputs": [
        {
          "output_type": "stream",
          "name": "stdout",
          "text": [
            "Fitting 5 folds for each of 12 candidates, totalling 60 fits\n",
            "[CV 1/5] END ...C=0.001, gamma=auto, kernel=rbf;, score=0.703 total time=   0.9s\n",
            "[CV 2/5] END ...C=0.001, gamma=auto, kernel=rbf;, score=0.703 total time=   0.9s\n",
            "[CV 3/5] END ...C=0.001, gamma=auto, kernel=rbf;, score=0.703 total time=   0.9s\n",
            "[CV 4/5] END ...C=0.001, gamma=auto, kernel=rbf;, score=0.704 total time=   0.9s\n",
            "[CV 5/5] END ...C=0.001, gamma=auto, kernel=rbf;, score=0.703 total time=   0.9s\n",
            "[CV 1/5] END ..C=0.001, gamma=scale, kernel=rbf;, score=0.703 total time=   0.9s\n",
            "[CV 2/5] END ..C=0.001, gamma=scale, kernel=rbf;, score=0.703 total time=   0.9s\n",
            "[CV 3/5] END ..C=0.001, gamma=scale, kernel=rbf;, score=0.703 total time=   0.9s\n",
            "[CV 4/5] END ..C=0.001, gamma=scale, kernel=rbf;, score=0.704 total time=   0.9s\n",
            "[CV 5/5] END ..C=0.001, gamma=scale, kernel=rbf;, score=0.703 total time=   0.9s\n",
            "[CV 1/5] END .....C=0.1, gamma=auto, kernel=rbf;, score=0.703 total time=   0.9s\n",
            "[CV 2/5] END .....C=0.1, gamma=auto, kernel=rbf;, score=0.703 total time=   0.9s\n",
            "[CV 3/5] END .....C=0.1, gamma=auto, kernel=rbf;, score=0.703 total time=   0.9s\n",
            "[CV 4/5] END .....C=0.1, gamma=auto, kernel=rbf;, score=0.704 total time=   0.9s\n",
            "[CV 5/5] END .....C=0.1, gamma=auto, kernel=rbf;, score=0.703 total time=   0.9s\n",
            "[CV 1/5] END ....C=0.1, gamma=scale, kernel=rbf;, score=0.975 total time=   0.9s\n",
            "[CV 2/5] END ....C=0.1, gamma=scale, kernel=rbf;, score=0.966 total time=   0.9s\n",
            "[CV 3/5] END ....C=0.1, gamma=scale, kernel=rbf;, score=0.974 total time=   0.9s\n",
            "[CV 4/5] END ....C=0.1, gamma=scale, kernel=rbf;, score=0.965 total time=   0.9s\n",
            "[CV 5/5] END ....C=0.1, gamma=scale, kernel=rbf;, score=0.966 total time=   0.9s\n",
            "[CV 1/5] END .......C=1, gamma=auto, kernel=rbf;, score=0.703 total time=   0.9s\n",
            "[CV 2/5] END .......C=1, gamma=auto, kernel=rbf;, score=0.703 total time=   0.9s\n",
            "[CV 3/5] END .......C=1, gamma=auto, kernel=rbf;, score=0.703 total time=   0.9s\n",
            "[CV 4/5] END .......C=1, gamma=auto, kernel=rbf;, score=0.704 total time=   0.9s\n",
            "[CV 5/5] END .......C=1, gamma=auto, kernel=rbf;, score=0.703 total time=   0.9s\n",
            "[CV 1/5] END ......C=1, gamma=scale, kernel=rbf;, score=0.988 total time=   0.7s\n",
            "[CV 2/5] END ......C=1, gamma=scale, kernel=rbf;, score=0.984 total time=   0.7s\n",
            "[CV 3/5] END ......C=1, gamma=scale, kernel=rbf;, score=0.984 total time=   0.7s\n",
            "[CV 4/5] END ......C=1, gamma=scale, kernel=rbf;, score=0.978 total time=   0.7s\n",
            "[CV 5/5] END ......C=1, gamma=scale, kernel=rbf;, score=0.983 total time=   0.7s\n",
            "[CV 1/5] END ......C=10, gamma=auto, kernel=rbf;, score=0.703 total time=   0.9s\n",
            "[CV 2/5] END ......C=10, gamma=auto, kernel=rbf;, score=0.703 total time=   0.9s\n",
            "[CV 3/5] END ......C=10, gamma=auto, kernel=rbf;, score=0.703 total time=   0.9s\n",
            "[CV 4/5] END ......C=10, gamma=auto, kernel=rbf;, score=0.704 total time=   0.9s\n",
            "[CV 5/5] END ......C=10, gamma=auto, kernel=rbf;, score=0.705 total time=   0.9s\n",
            "[CV 1/5] END .....C=10, gamma=scale, kernel=rbf;, score=0.990 total time=   0.7s\n",
            "[CV 2/5] END .....C=10, gamma=scale, kernel=rbf;, score=0.985 total time=   0.7s\n",
            "[CV 3/5] END .....C=10, gamma=scale, kernel=rbf;, score=0.984 total time=   0.7s\n",
            "[CV 4/5] END .....C=10, gamma=scale, kernel=rbf;, score=0.980 total time=   0.7s\n",
            "[CV 5/5] END .....C=10, gamma=scale, kernel=rbf;, score=0.983 total time=   0.7s\n",
            "[CV 1/5] END .....C=100, gamma=auto, kernel=rbf;, score=0.975 total time=   0.7s\n",
            "[CV 2/5] END .....C=100, gamma=auto, kernel=rbf;, score=0.970 total time=   0.7s\n",
            "[CV 3/5] END .....C=100, gamma=auto, kernel=rbf;, score=0.975 total time=   0.7s\n",
            "[CV 4/5] END .....C=100, gamma=auto, kernel=rbf;, score=0.966 total time=   0.7s\n",
            "[CV 5/5] END .....C=100, gamma=auto, kernel=rbf;, score=0.973 total time=   0.7s\n",
            "[CV 1/5] END ....C=100, gamma=scale, kernel=rbf;, score=0.990 total time=   0.8s\n",
            "[CV 2/5] END ....C=100, gamma=scale, kernel=rbf;, score=0.985 total time=   0.7s\n",
            "[CV 3/5] END ....C=100, gamma=scale, kernel=rbf;, score=0.984 total time=   0.7s\n",
            "[CV 4/5] END ....C=100, gamma=scale, kernel=rbf;, score=0.980 total time=   0.7s\n",
            "[CV 5/5] END ....C=100, gamma=scale, kernel=rbf;, score=0.983 total time=   0.8s\n",
            "[CV 1/5] END ....C=1000, gamma=auto, kernel=rbf;, score=0.991 total time=   0.4s\n",
            "[CV 2/5] END ....C=1000, gamma=auto, kernel=rbf;, score=0.985 total time=   0.4s\n",
            "[CV 3/5] END ....C=1000, gamma=auto, kernel=rbf;, score=0.984 total time=   0.4s\n",
            "[CV 4/5] END ....C=1000, gamma=auto, kernel=rbf;, score=0.981 total time=   0.4s\n",
            "[CV 5/5] END ....C=1000, gamma=auto, kernel=rbf;, score=0.985 total time=   0.4s\n",
            "[CV 1/5] END ...C=1000, gamma=scale, kernel=rbf;, score=0.990 total time=   0.7s\n",
            "[CV 2/5] END ...C=1000, gamma=scale, kernel=rbf;, score=0.985 total time=   0.8s\n",
            "[CV 3/5] END ...C=1000, gamma=scale, kernel=rbf;, score=0.984 total time=   0.7s\n",
            "[CV 4/5] END ...C=1000, gamma=scale, kernel=rbf;, score=0.980 total time=   0.7s\n",
            "[CV 5/5] END ...C=1000, gamma=scale, kernel=rbf;, score=0.983 total time=   0.7s\n",
            "Selected Kernel:  rbf\n",
            "Selected C:  1000\n",
            "Selected Gamma:  auto\n",
            "Best Score : 0.9852500000000001\n",
            "best estimator: SVC(C=1000, gamma='auto')\n"
          ]
        }
      ]
    },
    {
      "cell_type": "markdown",
      "source": [
        "## CV with Tuned Hyperparamater"
      ],
      "metadata": {
        "id": "ddmozdxJ9UX9"
      }
    },
    {
      "cell_type": "code",
      "source": [
        "cross_val_score_linear= cross_val_score(model_looks_linear_HT, x_harga_train_vectorized, y_harga_train, scoring='accuracy', cv=5)\n",
        "print(\"Accuracy Score Linear : %0.4f\" % cross_val_score_linear.mean(), cross_val_score_linear.std())\n",
        "\n",
        "cross_val_score_poly = cross_val_score(model_looks_poly_HT, x_harga_train_vectorized, y_harga_train, scoring='accuracy', cv=5)\n",
        "print(\"Accuracy Score poly : %0.4f\" % cross_val_score_poly.mean(), cross_val_score_poly.std())\n",
        "\n",
        "cross_val_score_rbf = cross_val_score(model_looks_rbf_HT, x_harga_train_vectorized, y_harga_train, scoring='accuracy', cv=5)\n",
        "print(\"Accuracy Score rbf : %0.4f\" % cross_val_score_rbf.mean(), cross_val_score_rbf.std())"
      ],
      "metadata": {
        "colab": {
          "base_uri": "https://localhost:8080/"
        },
        "id": "MZGVV_VP9lAY",
        "outputId": "8d27e670-9991-426e-9030-f04dc95e5206"
      },
      "execution_count": 26,
      "outputs": [
        {
          "output_type": "stream",
          "name": "stdout",
          "text": [
            "Accuracy Score Linear : 0.9883 0.0034095454242464417\n",
            "Accuracy Score poly : 0.9883 0.0034095454242464417\n",
            "Accuracy Score rbf : 0.9853 0.003297726489568227\n"
          ]
        }
      ]
    },
    {
      "cell_type": "code",
      "source": [
        "import numpy as np\n",
        "from matplotlib.ticker import FormatStrFormatter\n",
        "\n",
        "import matplotlib.pyplot as plt\n",
        "%matplotlib inline\n",
        "\n",
        "\n",
        "name = ['Linear', 'RBF', 'Polynomial']\n",
        "before_HT = [cv_linear.mean(), cv_rbf.mean(), cv_poly.mean()]\n",
        "after_HT = [cross_val_score_linear.mean(), cross_val_score_rbf.mean(), cross_val_score_poly.mean()]\n",
        "diff_linear = ((cross_val_score_linear.mean()-cv_linear.mean()))\n",
        "diff_rbf = ((cross_val_score_rbf.mean()-cv_rbf.mean()))\n",
        "diff_poly = ((cross_val_score_poly.mean()-cv_poly.mean()))\n",
        "diff_HT = [diff_linear, diff_rbf, diff_poly]\n",
        "\n",
        "x = np.arange(len(name))\n",
        "width = 0.2\n",
        "\n",
        "fig, ax = plt.subplots(figsize=(14, 7))\n",
        "\n",
        "bfr = ax.bar(x - width/2, before_HT, width, label='Before', color='steelblue')\n",
        "aftr = ax.bar(x + width/2, after_HT, width, label='After', color='orange')\n",
        "diff = ax.bar(x + 0.3, diff_HT, width, label='Diffrenciate', color='cyan')\n",
        "\n",
        "ax.set_title('Hasil Hyperparameter Aspek Harga', size=16)\n",
        "ax.set_ylabel('Accuracy', size=14)\n",
        "ax.set_xticks(x)\n",
        "ax.set_xticklabels(name, size=14)\n",
        "ax.legend(fontsize=14)\n",
        "ax.legend(bbox_to_anchor=(1.02, 1), loc='upper left', borderaxespad=0)\n",
        "ax.yaxis.set_major_formatter(FormatStrFormatter(\"%0.2f\"))\n",
        "for p in ax.patches:\n",
        "    h = p.get_height()\n",
        "    x = p.get_x()+p.get_width()/2\n",
        "    if h!= 0:\n",
        "      ax.annotate(\"%g\" % p.get_height(), xy=(x,h), xytext=(0,5), textcoords=\"offset points\",\n",
        "                  ha=\"center\", fontsize=10)\n",
        "    \n",
        "plt.show()"
      ],
      "metadata": {
        "colab": {
          "base_uri": "https://localhost:8080/",
          "height": 450
        },
        "id": "25nGK-pJW8nI",
        "outputId": "73699068-bd03-469c-8d21-ddd08189f61d"
      },
      "execution_count": 19,
      "outputs": [
        {
          "output_type": "display_data",
          "data": {
            "text/plain": [
              "<Figure size 1008x504 with 1 Axes>"
            ],
            "image/png": "[encoded data removed]"
          },
          "metadata": {
            "needs_background": "light"
          }
        }
      ]
    },
    {
      "cell_type": "markdown",
      "source": [
        "## Model Validation"
      ],
      "metadata": {
        "id": "P6SG8dgvAd-i"
      }
    },
    {
      "cell_type": "markdown",
      "source": [
        "### Model Validation Hyperparameter Tuning Test Dataset"
      ],
      "metadata": {
        "id": "xSMKBr_CA95O"
      }
    },
    {
      "cell_type": "markdown",
      "source": [
        "* Linear Kernel"
      ],
      "metadata": {
        "id": "a9DYVC85h5mq"
      }
    },
    {
      "cell_type": "code",
      "source": [
        "grid_predictions = model_looks_linear_HT.predict(x_harga_test_vectorized)\n",
        "\n",
        "print(\"F1-SCORE \",f1(y_harga_test,grid_predictions,average='macro') * 100)\n",
        "print(\"ACCURACY \",acc(y_harga_test,grid_predictions) * 100)\n",
        "print(\"PRECISION \",prec(y_harga_test,grid_predictions,average='macro') * 100)\n",
        "print(\"RECALL\",recall(y_harga_test,grid_predictions,average='macro') * 100)\n",
        "\n",
        "print('Confusion Matrix : \\n', confusion_matrix(y_harga_test, grid_predictions))\n",
        "print('Report Hasil : \\n',classification_report(y_harga_test, grid_predictions))"
      ],
      "metadata": {
        "colab": {
          "base_uri": "https://localhost:8080/"
        },
        "id": "wzIVFSATh_A5",
        "outputId": "9f56761c-016c-44ae-cd43-c423de09772a"
      },
      "execution_count": 20,
      "outputs": [
        {
          "output_type": "stream",
          "name": "stdout",
          "text": [
            "F1-SCORE  88.19112125450931\n",
            "ACCURACY  98.9\n",
            "PRECISION  92.45665417057168\n",
            "RECALL 85.19871155813945\n",
            "Confusion Matrix : \n",
            " [[700   5   1]\n",
            " [  2 285   0]\n",
            " [  2   1   4]]\n",
            "Report Hasil : \n",
            "               precision    recall  f1-score   support\n",
            "\n",
            "          -1       0.99      0.99      0.99       706\n",
            "           0       0.98      0.99      0.99       287\n",
            "           1       0.80      0.57      0.67         7\n",
            "\n",
            "    accuracy                           0.99      1000\n",
            "   macro avg       0.92      0.85      0.88      1000\n",
            "weighted avg       0.99      0.99      0.99      1000\n",
            "\n"
          ]
        }
      ]
    },
    {
      "cell_type": "markdown",
      "source": [
        "* Poly Kernel"
      ],
      "metadata": {
        "id": "NCZZNnY9h6dg"
      }
    },
    {
      "cell_type": "code",
      "source": [
        "grid_predictions = model_looks_poly_HT.predict(x_harga_test_vectorized)\n",
        "\n",
        "print(\"F1-SCORE \",f1(y_harga_test,grid_predictions,average='macro') * 100)\n",
        "print(\"ACCURACY \",acc(y_harga_test,grid_predictions) * 100)\n",
        "print(\"PRECISION \",prec(y_harga_test,grid_predictions,average='macro') * 100)\n",
        "print(\"RECALL\",recall(y_harga_test,grid_predictions,average='macro') * 100)\n",
        "\n",
        "print('Confusion Matrix : \\n', confusion_matrix(y_harga_test, grid_predictions))\n",
        "print('Report Hasil : \\n',classification_report(y_harga_test, grid_predictions))"
      ],
      "metadata": {
        "colab": {
          "base_uri": "https://localhost:8080/"
        },
        "id": "6iuXz8jki85T",
        "outputId": "44f59b86-2b2c-447c-f98b-9bcf052348bc"
      },
      "execution_count": 21,
      "outputs": [
        {
          "output_type": "stream",
          "name": "stdout",
          "text": [
            "F1-SCORE  88.19112125450931\n",
            "ACCURACY  98.9\n",
            "PRECISION  92.45665417057168\n",
            "RECALL 85.19871155813945\n",
            "Confusion Matrix : \n",
            " [[700   5   1]\n",
            " [  2 285   0]\n",
            " [  2   1   4]]\n",
            "Report Hasil : \n",
            "               precision    recall  f1-score   support\n",
            "\n",
            "          -1       0.99      0.99      0.99       706\n",
            "           0       0.98      0.99      0.99       287\n",
            "           1       0.80      0.57      0.67         7\n",
            "\n",
            "    accuracy                           0.99      1000\n",
            "   macro avg       0.92      0.85      0.88      1000\n",
            "weighted avg       0.99      0.99      0.99      1000\n",
            "\n"
          ]
        }
      ]
    },
    {
      "cell_type": "markdown",
      "source": [
        "* RBF Kernel"
      ],
      "metadata": {
        "id": "zfVKCG4Jh8La"
      }
    },
    {
      "cell_type": "code",
      "source": [
        "grid_predictions = model_looks_rbf_HT.predict(x_harga_test_vectorized)\n",
        "\n",
        "print(\"F1-SCORE \",f1(y_harga_test,grid_predictions,average='macro') * 100)\n",
        "print(\"ACCURACY \",acc(y_harga_test,grid_predictions) * 100)\n",
        "print(\"PRECISION \",prec(y_harga_test,grid_predictions,average='macro') * 100)\n",
        "print(\"RECALL\",recall(y_harga_test,grid_predictions,average='macro') * 100)\n",
        "\n",
        "print('Confusion Matrix : \\n', confusion_matrix(y_harga_test, grid_predictions))\n",
        "print('Report Hasil : \\n',classification_report(y_harga_test, grid_predictions))"
      ],
      "metadata": {
        "colab": {
          "base_uri": "https://localhost:8080/"
        },
        "id": "J8lpNpY3jDrH",
        "outputId": "de85d292-7913-4f88-878f-272bd8c0c702"
      },
      "execution_count": 22,
      "outputs": [
        {
          "output_type": "stream",
          "name": "stdout",
          "text": [
            "F1-SCORE  65.72150331690275\n",
            "ACCURACY  98.5\n",
            "PRECISION  65.242435417874\n",
            "RECALL 66.2200221759401\n",
            "Confusion Matrix : \n",
            " [[699   7   0]\n",
            " [  1 286   0]\n",
            " [  3   4   0]]\n",
            "Report Hasil : \n",
            "               precision    recall  f1-score   support\n",
            "\n",
            "          -1       0.99      0.99      0.99       706\n",
            "           0       0.96      1.00      0.98       287\n",
            "           1       0.00      0.00      0.00         7\n",
            "\n",
            "    accuracy                           0.98      1000\n",
            "   macro avg       0.65      0.66      0.66      1000\n",
            "weighted avg       0.98      0.98      0.98      1000\n",
            "\n"
          ]
        }
      ]
    },
    {
      "cell_type": "markdown",
      "source": [
        "### Model Validation Hyperparameter Tuning Train Dataset"
      ],
      "metadata": {
        "id": "S7jltPrXZk1W"
      }
    },
    {
      "cell_type": "markdown",
      "source": [
        "* Linear Kernel"
      ],
      "metadata": {
        "id": "HTEm2He2Zk1W"
      }
    },
    {
      "cell_type": "code",
      "source": [
        "grid_predictions = model_looks_linear_HT.predict(x_harga_train_vectorized)\n",
        "\n",
        "print(\"F1-SCORE \",f1(y_harga_train,grid_predictions,average='macro') * 100)\n",
        "print(\"ACCURACY \",acc(y_harga_train,grid_predictions) * 100)\n",
        "print(\"PRECISION \",prec(y_harga_train,grid_predictions,average='macro') * 100)\n",
        "print(\"RECALL\",recall(y_harga_train,grid_predictions,average='macro') * 100)\n",
        "\n",
        "print('Confusion Matrix : \\n', confusion_matrix(y_harga_train, grid_predictions))\n",
        "print('Report Hasil : \\n',classification_report(y_harga_train, grid_predictions))"
      ],
      "metadata": {
        "colab": {
          "base_uri": "https://localhost:8080/"
        },
        "outputId": "98bb1154-afbe-43ef-b884-f00a8b810049",
        "id": "bOnP49DQZk1X"
      },
      "execution_count": 23,
      "outputs": [
        {
          "output_type": "stream",
          "name": "stdout",
          "text": [
            "F1-SCORE  100.0\n",
            "ACCURACY  100.0\n",
            "PRECISION  100.0\n",
            "RECALL 100.0\n",
            "Confusion Matrix : \n",
            " [[2811    0    0]\n",
            " [   0 1173    0]\n",
            " [   0    0   16]]\n",
            "Report Hasil : \n",
            "               precision    recall  f1-score   support\n",
            "\n",
            "          -1       1.00      1.00      1.00      2811\n",
            "           0       1.00      1.00      1.00      1173\n",
            "           1       1.00      1.00      1.00        16\n",
            "\n",
            "    accuracy                           1.00      4000\n",
            "   macro avg       1.00      1.00      1.00      4000\n",
            "weighted avg       1.00      1.00      1.00      4000\n",
            "\n"
          ]
        }
      ]
    },
    {
      "cell_type": "markdown",
      "source": [
        "* Poly Kernel"
      ],
      "metadata": {
        "id": "abEyxPp5Zk1Y"
      }
    },
    {
      "cell_type": "code",
      "source": [
        "grid_predictions = model_looks_poly_HT.predict(x_harga_train_vectorized)\n",
        "\n",
        "print(\"F1-SCORE \",f1(y_harga_train,grid_predictions,average='macro') * 100)\n",
        "print(\"ACCURACY \",acc(y_harga_train,grid_predictions) * 100)\n",
        "print(\"PRECISION \",prec(y_harga_train,grid_predictions,average='macro') * 100)\n",
        "print(\"RECALL\",recall(y_harga_train,grid_predictions,average='macro') * 100)\n",
        "\n",
        "print('Confusion Matrix : \\n', confusion_matrix(y_harga_train, grid_predictions))\n",
        "print('Report Hasil : \\n',classification_report(y_harga_train, grid_predictions))"
      ],
      "metadata": {
        "colab": {
          "base_uri": "https://localhost:8080/"
        },
        "outputId": "c0b239de-4a09-4f04-db9d-b8e121f21b56",
        "id": "6UhuulfEZk1Y"
      },
      "execution_count": 24,
      "outputs": [
        {
          "output_type": "stream",
          "name": "stdout",
          "text": [
            "F1-SCORE  100.0\n",
            "ACCURACY  100.0\n",
            "PRECISION  100.0\n",
            "RECALL 100.0\n",
            "Confusion Matrix : \n",
            " [[2811    0    0]\n",
            " [   0 1173    0]\n",
            " [   0    0   16]]\n",
            "Report Hasil : \n",
            "               precision    recall  f1-score   support\n",
            "\n",
            "          -1       1.00      1.00      1.00      2811\n",
            "           0       1.00      1.00      1.00      1173\n",
            "           1       1.00      1.00      1.00        16\n",
            "\n",
            "    accuracy                           1.00      4000\n",
            "   macro avg       1.00      1.00      1.00      4000\n",
            "weighted avg       1.00      1.00      1.00      4000\n",
            "\n"
          ]
        }
      ]
    },
    {
      "cell_type": "markdown",
      "source": [
        "* RBF Kernel"
      ],
      "metadata": {
        "id": "k6evb4xdZk1Y"
      }
    },
    {
      "cell_type": "code",
      "source": [
        "grid_predictions = model_looks_rbf_HT.predict(x_harga_train_vectorized)\n",
        "\n",
        "print(\"F1-SCORE \",f1(y_harga_train,grid_predictions,average='macro') * 100)\n",
        "print(\"ACCURACY \",acc(y_harga_train,grid_predictions) * 100)\n",
        "print(\"PRECISION \",prec(y_harga_train,grid_predictions,average='macro') * 100)\n",
        "print(\"RECALL\",recall(y_harga_train,grid_predictions,average='macro') * 100)\n",
        "\n",
        "print('Confusion Matrix : \\n', confusion_matrix(y_harga_train, grid_predictions))\n",
        "print('Report Hasil : \\n',classification_report(y_harga_train, grid_predictions))"
      ],
      "metadata": {
        "colab": {
          "base_uri": "https://localhost:8080/"
        },
        "outputId": "346decf1-de53-4a86-99d3-49e887a83ca5",
        "id": "7YExcT23Zk1Z"
      },
      "execution_count": 25,
      "outputs": [
        {
          "output_type": "stream",
          "name": "stdout",
          "text": [
            "F1-SCORE  70.05804533991687\n",
            "ACCURACY  99.225\n",
            "PRECISION  99.15613571390472\n",
            "RECALL 68.54371019284548\n",
            "Confusion Matrix : \n",
            " [[2796   15    0]\n",
            " [   1 1172    0]\n",
            " [   0   15    1]]\n",
            "Report Hasil : \n",
            "               precision    recall  f1-score   support\n",
            "\n",
            "          -1       1.00      0.99      1.00      2811\n",
            "           0       0.98      1.00      0.99      1173\n",
            "           1       1.00      0.06      0.12        16\n",
            "\n",
            "    accuracy                           0.99      4000\n",
            "   macro avg       0.99      0.69      0.70      4000\n",
            "weighted avg       0.99      0.99      0.99      4000\n",
            "\n"
          ]
        }
      ]
    }
  ]
}