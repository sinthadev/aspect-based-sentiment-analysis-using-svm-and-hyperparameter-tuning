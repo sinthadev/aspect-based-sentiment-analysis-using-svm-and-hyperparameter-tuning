{
  "nbformat": 4,
  "nbformat_minor": 0,
  "metadata": {
    "colab": {
      "provenance": []
    },
    "kernelspec": {
      "name": "python3",
      "display_name": "Python 3"
    },
    "language_info": {
      "name": "python"
    }
  },
  "cells": [
    {
      "cell_type": "code",
      "source": [
        "!pip install Sastrawi"
      ],
      "metadata": {
        "colab": {
          "base_uri": "https://localhost:8080/"
        },
        "id": "-8N2Rx-rPVWu",
        "outputId": "115c372e-8be0-4dfb-f16d-4c69f5320a3c"
      },
      "execution_count": 1,
      "outputs": [
        {
          "output_type": "stream",
          "name": "stdout",
          "text": [
            "Looking in indexes: https://pypi.org/simple, https://us-python.pkg.dev/colab-wheels/public/simple/\n",
            "Collecting Sastrawi\n",
            "  Downloading Sastrawi-1.0.1-py2.py3-none-any.whl (209 kB)\n",
            "\u001b[K     |████████████████████████████████| 209 kB 4.9 MB/s \n",
            "\u001b[?25hInstalling collected packages: Sastrawi\n",
            "Successfully installed Sastrawi-1.0.1\n"
          ]
        }
      ]
    },
    {
      "cell_type": "markdown",
      "source": [
        "# **Import Library**"
      ],
      "metadata": {
        "id": "tWLJXv9btmm-"
      }
    },
    {
      "cell_type": "code",
      "execution_count": 2,
      "metadata": {
        "id": "gLIM0aldsSDX"
      },
      "outputs": [],
      "source": [
        "# LIBRARY UNTUK MENGOLAH DATA\n",
        "import pandas as pd\n",
        "import numpy as np\n",
        "import re,string #import regular expression\n",
        "import Sastrawi\n",
        "import joblib\n",
        "\n",
        "import matplotlib.pyplot as plt\n",
        "import seaborn as sns\n",
        "import matplotlib as mpl\n",
        "\n",
        "#Library Untuk Split Data\n",
        "from sklearn import model_selection\n",
        "from sklearn.model_selection import train_test_split\n",
        "\n",
        "#Library Ekstraksi Fitur TFIDF\n",
        "from sklearn.feature_extraction.text import TfidfVectorizer\n",
        "from sklearn.preprocessing import OneHotEncoder\n",
        "\n",
        "#Library Klasifikasi Support Vector Machine\n",
        "from sklearn.svm import SVC\n",
        "from sklearn import svm\n",
        "from sklearn.metrics import f1_score\n",
        "from sklearn.metrics import accuracy_score\n",
        "from sklearn.metrics import precision_score as prec\n",
        "from sklearn.metrics import recall_score as recall\n",
        "from sklearn.metrics import confusion_matrix\n",
        "from sklearn.metrics import classification_report\n",
        "from sklearn import metrics\n",
        "\n",
        "\n",
        "#Library HyperParameter Tuning\n",
        "from sklearn.model_selection import cross_val_score\n",
        "from sklearn.model_selection import GridSearchCV\n",
        "import timeit\n",
        "\n",
        "import warnings\n",
        "warnings.filterwarnings('ignore')"
      ]
    },
    {
      "cell_type": "code",
      "source": [
        "from google.colab import drive\n",
        "drive.mount('/content/drive')"
      ],
      "metadata": {
        "colab": {
          "base_uri": "https://localhost:8080/"
        },
        "id": "F6DeMTWSu6fR",
        "outputId": "24f39493-95ba-4063-c8d3-8408b11c0f5f"
      },
      "execution_count": 3,
      "outputs": [
        {
          "output_type": "stream",
          "name": "stdout",
          "text": [
            "Mounted at /content/drive\n"
          ]
        }
      ]
    },
    {
      "cell_type": "markdown",
      "source": [
        "# **Aspek Kamera**"
      ],
      "metadata": {
        "id": "AKnyAMHsuwki"
      }
    },
    {
      "cell_type": "code",
      "source": [
        "tweet_kamera = pd.read_csv('/content/drive/MyDrive/Dataset TA/aspek_kamera.csv')\n",
        "tweet_kamera.shape"
      ],
      "metadata": {
        "colab": {
          "base_uri": "https://localhost:8080/"
        },
        "id": "XKDWbPlru2iS",
        "outputId": "fc440b7e-a759-4e21-e197-90767230e257"
      },
      "execution_count": 4,
      "outputs": [
        {
          "output_type": "execute_result",
          "data": {
            "text/plain": [
              "(3000, 3)"
            ]
          },
          "metadata": {},
          "execution_count": 4
        }
      ]
    },
    {
      "cell_type": "code",
      "source": [
        "tweet_kamera['label'].value_counts()"
      ],
      "metadata": {
        "colab": {
          "base_uri": "https://localhost:8080/"
        },
        "id": "2M7qEwddz0AC",
        "outputId": "68c1c3c6-3ceb-4720-df44-06be1fc225c2"
      },
      "execution_count": 5,
      "outputs": [
        {
          "output_type": "execute_result",
          "data": {
            "text/plain": [
              " 1    1538\n",
              " 0    1430\n",
              "-1      32\n",
              "Name: label, dtype: int64"
            ]
          },
          "metadata": {},
          "execution_count": 5
        }
      ]
    },
    {
      "cell_type": "code",
      "source": [
        "kamera = sns.countplot(tweet_kamera['label'], palette = 'hls')\n",
        "plt.show()"
      ],
      "metadata": {
        "colab": {
          "base_uri": "https://localhost:8080/",
          "height": 281
        },
        "id": "MnWQRdtC0hkV",
        "outputId": "e0c1aded-44e1-408f-db82-527304c8e23f"
      },
      "execution_count": 6,
      "outputs": [
        {
          "output_type": "display_data",
          "data": {
            "text/plain": [
              "<Figure size 432x288 with 1 Axes>"
            ],
            "image/png": "[encoded data removed]"
          },
          "metadata": {
            "needs_background": "light"
          }
        }
      ]
    },
    {
      "cell_type": "code",
      "source": [
        "tweet_kamera.isna().sum()"
      ],
      "metadata": {
        "colab": {
          "base_uri": "https://localhost:8080/"
        },
        "id": "-ZGgs4pjNTO4",
        "outputId": "e70bdf35-363d-4fa3-a0e2-7bb9e91c26f5"
      },
      "execution_count": 7,
      "outputs": [
        {
          "output_type": "execute_result",
          "data": {
            "text/plain": [
              "tweet       0\n",
              "stemming    0\n",
              "label       0\n",
              "dtype: int64"
            ]
          },
          "metadata": {},
          "execution_count": 7
        }
      ]
    },
    {
      "cell_type": "markdown",
      "source": [
        "## Inisialisasi Data"
      ],
      "metadata": {
        "id": "C7etTqJU17mJ"
      }
    },
    {
      "cell_type": "code",
      "source": [
        "x_kamera = tweet_kamera['stemming']\n",
        "y_kamera = tweet_kamera['label'].values"
      ],
      "metadata": {
        "id": "kuNEQPmTwAxq"
      },
      "execution_count": 8,
      "outputs": []
    },
    {
      "cell_type": "markdown",
      "source": [
        "## Split Data\n",
        "\n"
      ],
      "metadata": {
        "id": "Gs8QMCc21DkM"
      }
    },
    {
      "cell_type": "code",
      "source": [
        "from sklearn.model_selection import train_test_split\n",
        "x_kamera_train, x_kamera_test, y_kamera_train, y_kamera_test = train_test_split(\n",
        "    tweet_kamera['stemming'], \n",
        "    tweet_kamera['label'], \n",
        "    test_size=0.2)\n",
        "\n",
        "train_df = pd.DataFrame()\n",
        "train_df['tweet'] = x_kamera_train\n",
        "train_df['sentiment'] = y_kamera_train\n",
        "test_df = pd.DataFrame()\n",
        "test_df['tweet'] = x_kamera_test\n",
        "test_df['sentiment'] = y_kamera_test"
      ],
      "metadata": {
        "id": "ogTyOQnb06mz"
      },
      "execution_count": 9,
      "outputs": []
    },
    {
      "cell_type": "markdown",
      "source": [
        "## Feature TF-IDF"
      ],
      "metadata": {
        "id": "5UeiexVgunm-"
      }
    },
    {
      "cell_type": "code",
      "source": [
        "tfidf_vect = TfidfVectorizer(use_idf=True)\n",
        "tfidf_vect.fit(x_kamera_train)\n",
        "x_kamera_train_vectorized = tfidf_vect.transform(x_kamera_train)\n",
        "x_kamera_test_vectorized = tfidf_vect.transform(x_kamera_test)"
      ],
      "metadata": {
        "id": "t0fBDy8cKaHL"
      },
      "execution_count": 10,
      "outputs": []
    },
    {
      "cell_type": "code",
      "source": [
        "print (x_kamera_train_vectorized)"
      ],
      "metadata": {
        "colab": {
          "base_uri": "https://localhost:8080/"
        },
        "id": "zL5IKnQKCovp",
        "outputId": "3e968b03-783a-40c0-f52d-ccaed297104d"
      },
      "execution_count": 11,
      "outputs": [
        {
          "output_type": "stream",
          "name": "stdout",
          "text": [
            "  (0, 2009)\t0.18808806253354576\n",
            "  (0, 1243)\t0.1870701446044448\n",
            "  (0, 1103)\t0.2181426515917979\n",
            "  (0, 924)\t0.11253233334301486\n",
            "  (0, 816)\t0.1881810678275829\n",
            "  (0, 490)\t0.1906271357066872\n",
            "  (0, 328)\t0.2125495554365115\n",
            "  (0, 210)\t0.8480488284277544\n",
            "  (0, 139)\t0.18238133448495983\n",
            "  (1, 2009)\t0.19884533253235445\n",
            "  (1, 1243)\t0.1977691970967702\n",
            "  (1, 1148)\t0.5832461333640531\n",
            "  (1, 1103)\t0.23061882562336622\n",
            "  (1, 924)\t0.11896836483305613\n",
            "  (1, 816)\t0.19894365705317182\n",
            "  (1, 490)\t0.2015296222349359\n",
            "  (1, 334)\t0.5943652130910593\n",
            "  (1, 191)\t0.20783162727711688\n",
            "  (1, 139)\t0.1928122211205635\n",
            "  (2, 2106)\t0.4735942722166662\n",
            "  (2, 1591)\t0.33970909563884844\n",
            "  (2, 1103)\t0.13049624046138475\n",
            "  (2, 1036)\t0.1220107927288992\n",
            "  (2, 924)\t0.06731854740213915\n",
            "  (2, 733)\t0.5073156626178322\n",
            "  :\t:\n",
            "  (2398, 2009)\t0.1232137522434425\n",
            "  (2398, 1243)\t0.12254692902334559\n",
            "  (2398, 1116)\t0.4761266559714604\n",
            "  (2398, 1103)\t0.14290207610685354\n",
            "  (2398, 924)\t0.1474365874488157\n",
            "  (2398, 816)\t0.12327467865792334\n",
            "  (2398, 490)\t0.12487706212430016\n",
            "  (2398, 310)\t0.5848551874210385\n",
            "  (2398, 191)\t0.12878207552348503\n",
            "  (2398, 139)\t0.1194753577572227\n",
            "  (2398, 126)\t0.3080858154594959\n",
            "  (2398, 63)\t0.3800444995915198\n",
            "  (2399, 2009)\t0.10240544983590015\n",
            "  (2399, 1419)\t0.48608501458812314\n",
            "  (2399, 1243)\t0.10185123952599798\n",
            "  (2399, 1103)\t0.11876881532909571\n",
            "  (2399, 1036)\t0.1110459370978068\n",
            "  (2399, 924)\t0.061268769861562024\n",
            "  (2399, 876)\t0.48608501458812314\n",
            "  (2399, 816)\t0.10245608701533993\n",
            "  (2399, 695)\t0.44444003200622256\n",
            "  (2399, 490)\t0.10378786043101934\n",
            "  (2399, 191)\t0.10703339631055851\n",
            "  (2399, 139)\t0.09929839431608287\n",
            "  (2399, 127)\t0.48608501458812314\n"
          ]
        }
      ]
    },
    {
      "cell_type": "markdown",
      "source": [
        "## Klasifikasi SVM"
      ],
      "metadata": {
        "id": "j6IfZ89CuuYL"
      }
    },
    {
      "cell_type": "markdown",
      "source": [
        "* SVM Using Linear Kernel"
      ],
      "metadata": {
        "id": "IJIUFix_znz6"
      }
    },
    {
      "cell_type": "code",
      "source": [
        "linear_svc = SVC(kernel='linear')\n",
        "linear_svc.fit(x_kamera_train_vectorized , y_kamera_train)\n",
        "y_pred= linear_svc.predict(x_kamera_test_vectorized)\n",
        "print('Model accuracy score with linear kernel: {0:0.4f}'. format(accuracy_score(y_kamera_test, y_pred))) "
      ],
      "metadata": {
        "id": "-LrfOHpTLClZ",
        "colab": {
          "base_uri": "https://localhost:8080/"
        },
        "outputId": "c0c938ca-2816-4365-f26a-a0cd942e0112"
      },
      "execution_count": 32,
      "outputs": [
        {
          "output_type": "stream",
          "name": "stdout",
          "text": [
            "Model accuracy score with linear kernel: 0.9867\n"
          ]
        }
      ]
    },
    {
      "cell_type": "markdown",
      "source": [
        "* SVM Using Polynomial Kernel"
      ],
      "metadata": {
        "id": "Wba3ePrMzyKW"
      }
    },
    {
      "cell_type": "code",
      "source": [
        "poly_svc = SVC(kernel='poly')\n",
        "poly_svc.fit(x_kamera_train_vectorized , y_kamera_train)\n",
        "y_pred= poly_svc.predict(x_kamera_test_vectorized)\n",
        "print('Model accuracy score with poly kernel: {0:0.4f}'. format(accuracy_score(y_kamera_test, y_pred))) "
      ],
      "metadata": {
        "colab": {
          "base_uri": "https://localhost:8080/"
        },
        "id": "YZ_YtYQQzEGP",
        "outputId": "462c4b51-e1a0-41fb-ba3e-f34bbf6af327"
      },
      "execution_count": 33,
      "outputs": [
        {
          "output_type": "stream",
          "name": "stdout",
          "text": [
            "Model accuracy score with poly kernel: 0.9400\n"
          ]
        }
      ]
    },
    {
      "cell_type": "markdown",
      "source": [
        "* SVM with default RBF Kernel"
      ],
      "metadata": {
        "id": "BoAFNfsLz1-k"
      }
    },
    {
      "cell_type": "code",
      "source": [
        "rbf_svc=SVC(kernel='rbf') \n",
        "rbf_svc.fit(x_kamera_train_vectorized , y_kamera_train)\n",
        "y_pred= rbf_svc.predict(x_kamera_test_vectorized)\n",
        "print('Model accuracy score with rbf kernel: {0:0.4f}'. format(accuracy_score(y_kamera_test, y_pred))) "
      ],
      "metadata": {
        "colab": {
          "base_uri": "https://localhost:8080/"
        },
        "id": "HfIcHNpCzPem",
        "outputId": "076db625-fb87-41bf-d338-850384e99a2b"
      },
      "execution_count": 34,
      "outputs": [
        {
          "output_type": "stream",
          "name": "stdout",
          "text": [
            "Model accuracy score with rbf kernel: 0.9817\n"
          ]
        }
      ]
    },
    {
      "cell_type": "markdown",
      "source": [
        "## Before Tuning with Hyperparameter"
      ],
      "metadata": {
        "id": "vw_GTnJCf6ZE"
      }
    },
    {
      "cell_type": "code",
      "source": [
        "### create model\n",
        "clf_linear = SVC(kernel='linear')\n",
        "### cross-validation evaluation\n",
        "cv_linear = cross_val_score(clf_linear, x_kamera_train_vectorized, y_kamera_train, scoring='accuracy', cv=5)\n",
        "### Show CV result\n",
        "print(\"Accuracy Score Linear of : %0.4f\" % (cv_linear.mean()))\n"
      ],
      "metadata": {
        "colab": {
          "base_uri": "https://localhost:8080/"
        },
        "id": "_L8AVoYQUIzt",
        "outputId": "de774504-39e1-417a-fa42-9b7ca1e898e0"
      },
      "execution_count": 35,
      "outputs": [
        {
          "output_type": "stream",
          "name": "stdout",
          "text": [
            "Accuracy Score Linear of : 0.9700\n"
          ]
        }
      ]
    },
    {
      "cell_type": "code",
      "source": [
        "### create model\n",
        "clf_poly = SVC(kernel='poly')\n",
        "### cross-validation evaluation\n",
        "cv_poly = cross_val_score(clf_poly, x_kamera_train_vectorized, y_kamera_train, scoring='accuracy', cv=5)\n",
        "### Show CV result\n",
        "print(\"Accuracy Score Poly' of : %0.4f\" % (cv_poly.mean()))"
      ],
      "metadata": {
        "colab": {
          "base_uri": "https://localhost:8080/"
        },
        "id": "jSkdo0KAXCAM",
        "outputId": "acf62b33-6055-4259-8eb6-0d52fe7491e4"
      },
      "execution_count": 36,
      "outputs": [
        {
          "output_type": "stream",
          "name": "stdout",
          "text": [
            "Accuracy Score Poly' of : 0.9150\n"
          ]
        }
      ]
    },
    {
      "cell_type": "code",
      "source": [
        "### create model\n",
        "clf_rbf = SVC(kernel='rbf')\n",
        "### cross-validation evaluation\n",
        "cv_rbf= cross_val_score(clf_rbf, x_kamera_train_vectorized, y_kamera_train, scoring='accuracy', cv=5)\n",
        "### Show CV result\n",
        "print(\"Accuracy Score RBF' of : %0.4f\" % (cv_rbf.mean()))"
      ],
      "metadata": {
        "colab": {
          "base_uri": "https://localhost:8080/"
        },
        "id": "TFl4s-wqXQ_1",
        "outputId": "8188ce45-bd29-4e76-8c22-18e84246b468"
      },
      "execution_count": 37,
      "outputs": [
        {
          "output_type": "stream",
          "name": "stdout",
          "text": [
            "Accuracy Score RBF' of : 0.9658\n"
          ]
        }
      ]
    },
    {
      "cell_type": "markdown",
      "source": [
        "## Tuning Parameter with GridSearchCV"
      ],
      "metadata": {
        "id": "678jI1EfyRCU"
      }
    },
    {
      "cell_type": "markdown",
      "source": [
        "* Linear Kernel"
      ],
      "metadata": {
        "id": "RqtswuNByR9P"
      }
    },
    {
      "cell_type": "code",
      "source": [
        "param_grid = {'C': [0.001, 0.1, 1, 10, 100, 1000],\n",
        "              'kernel': ['linear']\n",
        "             }\n",
        " \n",
        "grid = GridSearchCV(svm.SVC(), param_grid, scoring='accuracy', refit = True, verbose = 3) \n",
        "# fitting the model for grid search\n",
        "grid.fit(x_kamera_train_vectorized, y_kamera_train)\n",
        "\n",
        "selected_kernel_linear = grid.best_params_['kernel']\n",
        "print(\"Selected Kernel: \", selected_kernel_linear)\n",
        "selected_C_linear = grid.best_params_['C']\n",
        "print(\"Selected C: \", selected_C_linear)\n",
        "\n",
        "best_params_linear_HT = grid.best_params_\n",
        "model_looks_linear_HT= grid.best_estimator_\n",
        "print(f'Best Score : {grid.best_score_}')\n",
        "print(\"best estimator: %s\" % (model_looks_linear_HT))"
      ],
      "metadata": {
        "colab": {
          "base_uri": "https://localhost:8080/"
        },
        "id": "mGhe6-voEz8j",
        "outputId": "a1bb03bc-be49-439e-b9c3-9bdeab16de56"
      },
      "execution_count": 18,
      "outputs": [
        {
          "output_type": "stream",
          "name": "stdout",
          "text": [
            "Fitting 5 folds for each of 6 candidates, totalling 30 fits\n",
            "[CV 1/5] END ............C=0.001, kernel=linear;, score=0.512 total time=   0.4s\n",
            "[CV 2/5] END ............C=0.001, kernel=linear;, score=0.512 total time=   0.4s\n",
            "[CV 3/5] END ............C=0.001, kernel=linear;, score=0.512 total time=   0.4s\n",
            "[CV 4/5] END ............C=0.001, kernel=linear;, score=0.510 total time=   0.4s\n",
            "[CV 5/5] END ............C=0.001, kernel=linear;, score=0.512 total time=   0.4s\n",
            "[CV 1/5] END ..............C=0.1, kernel=linear;, score=0.944 total time=   0.3s\n",
            "[CV 2/5] END ..............C=0.1, kernel=linear;, score=0.952 total time=   0.3s\n",
            "[CV 3/5] END ..............C=0.1, kernel=linear;, score=0.946 total time=   0.3s\n",
            "[CV 4/5] END ..............C=0.1, kernel=linear;, score=0.950 total time=   0.3s\n",
            "[CV 5/5] END ..............C=0.1, kernel=linear;, score=0.950 total time=   0.3s\n",
            "[CV 1/5] END ................C=1, kernel=linear;, score=0.960 total time=   0.2s\n",
            "[CV 2/5] END ................C=1, kernel=linear;, score=0.975 total time=   0.2s\n",
            "[CV 3/5] END ................C=1, kernel=linear;, score=0.971 total time=   0.2s\n",
            "[CV 4/5] END ................C=1, kernel=linear;, score=0.971 total time=   0.2s\n",
            "[CV 5/5] END ................C=1, kernel=linear;, score=0.973 total time=   0.2s\n",
            "[CV 1/5] END ...............C=10, kernel=linear;, score=0.963 total time=   0.2s\n",
            "[CV 2/5] END ...............C=10, kernel=linear;, score=0.971 total time=   0.2s\n",
            "[CV 3/5] END ...............C=10, kernel=linear;, score=0.960 total time=   0.2s\n",
            "[CV 4/5] END ...............C=10, kernel=linear;, score=0.977 total time=   0.2s\n",
            "[CV 5/5] END ...............C=10, kernel=linear;, score=0.969 total time=   0.2s\n",
            "[CV 1/5] END ..............C=100, kernel=linear;, score=0.963 total time=   0.2s\n",
            "[CV 2/5] END ..............C=100, kernel=linear;, score=0.969 total time=   0.2s\n",
            "[CV 3/5] END ..............C=100, kernel=linear;, score=0.958 total time=   0.2s\n",
            "[CV 4/5] END ..............C=100, kernel=linear;, score=0.975 total time=   0.2s\n",
            "[CV 5/5] END ..............C=100, kernel=linear;, score=0.969 total time=   0.2s\n",
            "[CV 1/5] END .............C=1000, kernel=linear;, score=0.963 total time=   0.2s\n",
            "[CV 2/5] END .............C=1000, kernel=linear;, score=0.969 total time=   0.2s\n",
            "[CV 3/5] END .............C=1000, kernel=linear;, score=0.958 total time=   0.2s\n",
            "[CV 4/5] END .............C=1000, kernel=linear;, score=0.975 total time=   0.2s\n",
            "[CV 5/5] END .............C=1000, kernel=linear;, score=0.969 total time=   0.2s\n",
            "Selected Kernel:  linear\n",
            "Selected C:  1\n",
            "Best Score : 0.97\n",
            "best estimator: SVC(C=1, kernel='linear')\n"
          ]
        }
      ]
    },
    {
      "cell_type": "markdown",
      "source": [
        "* Polynomial Kernel"
      ],
      "metadata": {
        "id": "zYzh-jrhyxVi"
      }
    },
    {
      "cell_type": "code",
      "source": [
        "param_grid = {'C': [0.001, 0.1, 1, 10, 100, 1000],\n",
        "              'kernel': ['poly'],\n",
        "              'degree':[1, 2, 3, 4, 5, 6],\n",
        "              'gamma' :['auto', 'scale']\n",
        "             }\n",
        " \n",
        "grid = GridSearchCV(svm.SVC(), param_grid, scoring='accuracy', refit = True, verbose = 3) \n",
        "# fitting the model for grid search\n",
        "grid.fit(x_kamera_train_vectorized, y_kamera_train)\n",
        "\n",
        "selected_kernel_poly = grid.best_params_['kernel']\n",
        "print(\"Selected Kernel: \", selected_kernel_poly)\n",
        "selected_C_poly= grid.best_params_['C']\n",
        "print(\"Selected C: \", selected_C_poly)\n",
        "selected_gamma_poly = grid.best_params_['gamma']\n",
        "print(\"Selected Gamma: \", selected_gamma_poly)\n",
        "selected_degree_poly = grid.best_params_['degree']\n",
        "print(\"Selected Degree: \", selected_degree_poly)\n",
        "\n",
        "best_params_poly_HT = grid.best_params_\n",
        "model_looks_poly_HT= grid.best_estimator_\n",
        "\n",
        "print(f'Best Score : {grid.best_score_}')\n",
        "print(\"best estimator: %s\" % (model_looks_poly_HT))"
      ],
      "metadata": {
        "colab": {
          "base_uri": "https://localhost:8080/"
        },
        "id": "kyy2Uaqpy1VZ",
        "outputId": "63188406-8f74-4e6d-e206-5cdfb78e1765"
      },
      "execution_count": 19,
      "outputs": [
        {
          "output_type": "stream",
          "name": "stdout",
          "text": [
            "Fitting 5 folds for each of 72 candidates, totalling 360 fits\n",
            "[CV 1/5] END C=0.001, degree=1, gamma=auto, kernel=poly;, score=0.512 total time=   0.4s\n",
            "[CV 2/5] END C=0.001, degree=1, gamma=auto, kernel=poly;, score=0.512 total time=   0.4s\n",
            "[CV 3/5] END C=0.001, degree=1, gamma=auto, kernel=poly;, score=0.512 total time=   0.4s\n",
            "[CV 4/5] END C=0.001, degree=1, gamma=auto, kernel=poly;, score=0.510 total time=   0.4s\n",
            "[CV 5/5] END C=0.001, degree=1, gamma=auto, kernel=poly;, score=0.512 total time=   0.4s\n",
            "[CV 1/5] END C=0.001, degree=1, gamma=scale, kernel=poly;, score=0.512 total time=   0.4s\n",
            "[CV 2/5] END C=0.001, degree=1, gamma=scale, kernel=poly;, score=0.512 total time=   0.4s\n",
            "[CV 3/5] END C=0.001, degree=1, gamma=scale, kernel=poly;, score=0.512 total time=   0.4s\n",
            "[CV 4/5] END C=0.001, degree=1, gamma=scale, kernel=poly;, score=0.510 total time=   0.4s\n",
            "[CV 5/5] END C=0.001, degree=1, gamma=scale, kernel=poly;, score=0.512 total time=   0.4s\n",
            "[CV 1/5] END C=0.001, degree=2, gamma=auto, kernel=poly;, score=0.512 total time=   0.4s\n",
            "[CV 2/5] END C=0.001, degree=2, gamma=auto, kernel=poly;, score=0.512 total time=   0.4s\n",
            "[CV 3/5] END C=0.001, degree=2, gamma=auto, kernel=poly;, score=0.512 total time=   0.4s\n",
            "[CV 4/5] END C=0.001, degree=2, gamma=auto, kernel=poly;, score=0.510 total time=   0.4s\n",
            "[CV 5/5] END C=0.001, degree=2, gamma=auto, kernel=poly;, score=0.512 total time=   0.4s\n",
            "[CV 1/5] END C=0.001, degree=2, gamma=scale, kernel=poly;, score=0.512 total time=   0.4s\n",
            "[CV 2/5] END C=0.001, degree=2, gamma=scale, kernel=poly;, score=0.512 total time=   0.4s\n",
            "[CV 3/5] END C=0.001, degree=2, gamma=scale, kernel=poly;, score=0.512 total time=   0.4s\n",
            "[CV 4/5] END C=0.001, degree=2, gamma=scale, kernel=poly;, score=0.510 total time=   0.4s\n",
            "[CV 5/5] END C=0.001, degree=2, gamma=scale, kernel=poly;, score=0.512 total time=   0.4s\n",
            "[CV 1/5] END C=0.001, degree=3, gamma=auto, kernel=poly;, score=0.512 total time=   0.4s\n",
            "[CV 2/5] END C=0.001, degree=3, gamma=auto, kernel=poly;, score=0.512 total time=   0.4s\n",
            "[CV 3/5] END C=0.001, degree=3, gamma=auto, kernel=poly;, score=0.512 total time=   0.4s\n",
            "[CV 4/5] END C=0.001, degree=3, gamma=auto, kernel=poly;, score=0.510 total time=   0.4s\n",
            "[CV 5/5] END C=0.001, degree=3, gamma=auto, kernel=poly;, score=0.512 total time=   0.4s\n",
            "[CV 1/5] END C=0.001, degree=3, gamma=scale, kernel=poly;, score=0.512 total time=   0.4s\n",
            "[CV 2/5] END C=0.001, degree=3, gamma=scale, kernel=poly;, score=0.512 total time=   0.4s\n",
            "[CV 3/5] END C=0.001, degree=3, gamma=scale, kernel=poly;, score=0.512 total time=   0.4s\n",
            "[CV 4/5] END C=0.001, degree=3, gamma=scale, kernel=poly;, score=0.510 total time=   0.4s\n",
            "[CV 5/5] END C=0.001, degree=3, gamma=scale, kernel=poly;, score=0.512 total time=   0.4s\n",
            "[CV 1/5] END C=0.001, degree=4, gamma=auto, kernel=poly;, score=0.512 total time=   0.4s\n",
            "[CV 2/5] END C=0.001, degree=4, gamma=auto, kernel=poly;, score=0.512 total time=   0.4s\n",
            "[CV 3/5] END C=0.001, degree=4, gamma=auto, kernel=poly;, score=0.512 total time=   0.4s\n",
            "[CV 4/5] END C=0.001, degree=4, gamma=auto, kernel=poly;, score=0.510 total time=   0.4s\n",
            "[CV 5/5] END C=0.001, degree=4, gamma=auto, kernel=poly;, score=0.512 total time=   0.4s\n",
            "[CV 1/5] END C=0.001, degree=4, gamma=scale, kernel=poly;, score=0.512 total time=   0.5s\n",
            "[CV 2/5] END C=0.001, degree=4, gamma=scale, kernel=poly;, score=0.512 total time=   0.5s\n",
            "[CV 3/5] END C=0.001, degree=4, gamma=scale, kernel=poly;, score=0.512 total time=   0.5s\n",
            "[CV 4/5] END C=0.001, degree=4, gamma=scale, kernel=poly;, score=0.510 total time=   0.5s\n",
            "[CV 5/5] END C=0.001, degree=4, gamma=scale, kernel=poly;, score=0.512 total time=   0.5s\n",
            "[CV 1/5] END C=0.001, degree=5, gamma=auto, kernel=poly;, score=0.512 total time=   0.4s\n",
            "[CV 2/5] END C=0.001, degree=5, gamma=auto, kernel=poly;, score=0.512 total time=   0.4s\n",
            "[CV 3/5] END C=0.001, degree=5, gamma=auto, kernel=poly;, score=0.512 total time=   0.4s\n",
            "[CV 4/5] END C=0.001, degree=5, gamma=auto, kernel=poly;, score=0.510 total time=   0.4s\n",
            "[CV 5/5] END C=0.001, degree=5, gamma=auto, kernel=poly;, score=0.512 total time=   0.4s\n",
            "[CV 1/5] END C=0.001, degree=5, gamma=scale, kernel=poly;, score=0.512 total time=   0.5s\n",
            "[CV 2/5] END C=0.001, degree=5, gamma=scale, kernel=poly;, score=0.512 total time=   0.5s\n",
            "[CV 3/5] END C=0.001, degree=5, gamma=scale, kernel=poly;, score=0.512 total time=   0.4s\n",
            "[CV 4/5] END C=0.001, degree=5, gamma=scale, kernel=poly;, score=0.510 total time=   0.4s\n",
            "[CV 5/5] END C=0.001, degree=5, gamma=scale, kernel=poly;, score=0.512 total time=   0.5s\n",
            "[CV 1/5] END C=0.001, degree=6, gamma=auto, kernel=poly;, score=0.512 total time=   0.4s\n",
            "[CV 2/5] END C=0.001, degree=6, gamma=auto, kernel=poly;, score=0.512 total time=   0.4s\n",
            "[CV 3/5] END C=0.001, degree=6, gamma=auto, kernel=poly;, score=0.512 total time=   0.4s\n",
            "[CV 4/5] END C=0.001, degree=6, gamma=auto, kernel=poly;, score=0.510 total time=   0.4s\n",
            "[CV 5/5] END C=0.001, degree=6, gamma=auto, kernel=poly;, score=0.512 total time=   0.4s\n",
            "[CV 1/5] END C=0.001, degree=6, gamma=scale, kernel=poly;, score=0.512 total time=   0.4s\n",
            "[CV 2/5] END C=0.001, degree=6, gamma=scale, kernel=poly;, score=0.512 total time=   0.5s\n",
            "[CV 3/5] END C=0.001, degree=6, gamma=scale, kernel=poly;, score=0.512 total time=   0.4s\n",
            "[CV 4/5] END C=0.001, degree=6, gamma=scale, kernel=poly;, score=0.510 total time=   0.5s\n",
            "[CV 5/5] END C=0.001, degree=6, gamma=scale, kernel=poly;, score=0.512 total time=   0.5s\n",
            "[CV 1/5] END C=0.1, degree=1, gamma=auto, kernel=poly;, score=0.512 total time=   0.4s\n",
            "[CV 2/5] END C=0.1, degree=1, gamma=auto, kernel=poly;, score=0.512 total time=   0.4s\n",
            "[CV 3/5] END C=0.1, degree=1, gamma=auto, kernel=poly;, score=0.512 total time=   0.4s\n",
            "[CV 4/5] END C=0.1, degree=1, gamma=auto, kernel=poly;, score=0.510 total time=   0.4s\n",
            "[CV 5/5] END C=0.1, degree=1, gamma=auto, kernel=poly;, score=0.512 total time=   0.4s\n",
            "[CV 1/5] END C=0.1, degree=1, gamma=scale, kernel=poly;, score=0.944 total time=   0.3s\n",
            "[CV 2/5] END C=0.1, degree=1, gamma=scale, kernel=poly;, score=0.952 total time=   0.3s\n",
            "[CV 3/5] END C=0.1, degree=1, gamma=scale, kernel=poly;, score=0.946 total time=   0.3s\n",
            "[CV 4/5] END C=0.1, degree=1, gamma=scale, kernel=poly;, score=0.952 total time=   0.3s\n",
            "[CV 5/5] END C=0.1, degree=1, gamma=scale, kernel=poly;, score=0.950 total time=   0.3s\n",
            "[CV 1/5] END C=0.1, degree=2, gamma=auto, kernel=poly;, score=0.512 total time=   0.4s\n",
            "[CV 2/5] END C=0.1, degree=2, gamma=auto, kernel=poly;, score=0.512 total time=   0.4s\n",
            "[CV 3/5] END C=0.1, degree=2, gamma=auto, kernel=poly;, score=0.512 total time=   0.4s\n",
            "[CV 4/5] END C=0.1, degree=2, gamma=auto, kernel=poly;, score=0.510 total time=   0.4s\n",
            "[CV 5/5] END C=0.1, degree=2, gamma=auto, kernel=poly;, score=0.512 total time=   0.4s\n",
            "[CV 1/5] END C=0.1, degree=2, gamma=scale, kernel=poly;, score=0.879 total time=   0.5s\n",
            "[CV 2/5] END C=0.1, degree=2, gamma=scale, kernel=poly;, score=0.906 total time=   0.4s\n",
            "[CV 3/5] END C=0.1, degree=2, gamma=scale, kernel=poly;, score=0.860 total time=   0.5s\n",
            "[CV 4/5] END C=0.1, degree=2, gamma=scale, kernel=poly;, score=0.927 total time=   0.5s\n",
            "[CV 5/5] END C=0.1, degree=2, gamma=scale, kernel=poly;, score=0.898 total time=   0.5s\n",
            "[CV 1/5] END C=0.1, degree=3, gamma=auto, kernel=poly;, score=0.512 total time=   0.4s\n",
            "[CV 2/5] END C=0.1, degree=3, gamma=auto, kernel=poly;, score=0.512 total time=   0.4s\n",
            "[CV 3/5] END C=0.1, degree=3, gamma=auto, kernel=poly;, score=0.512 total time=   0.4s\n",
            "[CV 4/5] END C=0.1, degree=3, gamma=auto, kernel=poly;, score=0.510 total time=   0.4s\n",
            "[CV 5/5] END C=0.1, degree=3, gamma=auto, kernel=poly;, score=0.512 total time=   0.4s\n",
            "[CV 1/5] END C=0.1, degree=3, gamma=scale, kernel=poly;, score=0.713 total time=   0.5s\n",
            "[CV 2/5] END C=0.1, degree=3, gamma=scale, kernel=poly;, score=0.762 total time=   0.5s\n",
            "[CV 3/5] END C=0.1, degree=3, gamma=scale, kernel=poly;, score=0.823 total time=   0.5s\n",
            "[CV 4/5] END C=0.1, degree=3, gamma=scale, kernel=poly;, score=0.715 total time=   0.5s\n",
            "[CV 5/5] END C=0.1, degree=3, gamma=scale, kernel=poly;, score=0.740 total time=   0.5s\n",
            "[CV 1/5] END C=0.1, degree=4, gamma=auto, kernel=poly;, score=0.512 total time=   0.4s\n",
            "[CV 2/5] END C=0.1, degree=4, gamma=auto, kernel=poly;, score=0.512 total time=   0.4s\n",
            "[CV 3/5] END C=0.1, degree=4, gamma=auto, kernel=poly;, score=0.512 total time=   0.4s\n",
            "[CV 4/5] END C=0.1, degree=4, gamma=auto, kernel=poly;, score=0.510 total time=   0.5s\n",
            "[CV 5/5] END C=0.1, degree=4, gamma=auto, kernel=poly;, score=0.512 total time=   0.4s\n",
            "[CV 1/5] END C=0.1, degree=4, gamma=scale, kernel=poly;, score=0.588 total time=   0.6s\n",
            "[CV 2/5] END C=0.1, degree=4, gamma=scale, kernel=poly;, score=0.606 total time=   0.6s\n",
            "[CV 3/5] END C=0.1, degree=4, gamma=scale, kernel=poly;, score=0.660 total time=   0.6s\n",
            "[CV 4/5] END C=0.1, degree=4, gamma=scale, kernel=poly;, score=0.617 total time=   0.6s\n",
            "[CV 5/5] END C=0.1, degree=4, gamma=scale, kernel=poly;, score=0.608 total time=   0.6s\n",
            "[CV 1/5] END C=0.1, degree=5, gamma=auto, kernel=poly;, score=0.512 total time=   0.4s\n",
            "[CV 2/5] END C=0.1, degree=5, gamma=auto, kernel=poly;, score=0.512 total time=   0.4s\n",
            "[CV 3/5] END C=0.1, degree=5, gamma=auto, kernel=poly;, score=0.512 total time=   0.4s\n",
            "[CV 4/5] END C=0.1, degree=5, gamma=auto, kernel=poly;, score=0.510 total time=   0.4s\n",
            "[CV 5/5] END C=0.1, degree=5, gamma=auto, kernel=poly;, score=0.512 total time=   0.4s\n",
            "[CV 1/5] END C=0.1, degree=5, gamma=scale, kernel=poly;, score=0.567 total time=   0.6s\n",
            "[CV 2/5] END C=0.1, degree=5, gamma=scale, kernel=poly;, score=0.583 total time=   0.6s\n",
            "[CV 3/5] END C=0.1, degree=5, gamma=scale, kernel=poly;, score=0.604 total time=   0.6s\n",
            "[CV 4/5] END C=0.1, degree=5, gamma=scale, kernel=poly;, score=0.577 total time=   0.6s\n",
            "[CV 5/5] END C=0.1, degree=5, gamma=scale, kernel=poly;, score=0.571 total time=   0.6s\n",
            "[CV 1/5] END C=0.1, degree=6, gamma=auto, kernel=poly;, score=0.512 total time=   0.4s\n",
            "[CV 2/5] END C=0.1, degree=6, gamma=auto, kernel=poly;, score=0.512 total time=   0.4s\n",
            "[CV 3/5] END C=0.1, degree=6, gamma=auto, kernel=poly;, score=0.512 total time=   0.4s\n",
            "[CV 4/5] END C=0.1, degree=6, gamma=auto, kernel=poly;, score=0.510 total time=   0.4s\n",
            "[CV 5/5] END C=0.1, degree=6, gamma=auto, kernel=poly;, score=0.512 total time=   0.4s\n",
            "[CV 1/5] END C=0.1, degree=6, gamma=scale, kernel=poly;, score=0.556 total time=   0.6s\n",
            "[CV 2/5] END C=0.1, degree=6, gamma=scale, kernel=poly;, score=0.569 total time=   0.6s\n",
            "[CV 3/5] END C=0.1, degree=6, gamma=scale, kernel=poly;, score=0.583 total time=   0.6s\n",
            "[CV 4/5] END C=0.1, degree=6, gamma=scale, kernel=poly;, score=0.573 total time=   0.6s\n",
            "[CV 5/5] END C=0.1, degree=6, gamma=scale, kernel=poly;, score=0.569 total time=   0.6s\n",
            "[CV 1/5] END C=1, degree=1, gamma=auto, kernel=poly;, score=0.512 total time=   0.5s\n",
            "[CV 2/5] END C=1, degree=1, gamma=auto, kernel=poly;, score=0.512 total time=   0.4s\n",
            "[CV 3/5] END C=1, degree=1, gamma=auto, kernel=poly;, score=0.512 total time=   0.5s\n",
            "[CV 4/5] END C=1, degree=1, gamma=auto, kernel=poly;, score=0.510 total time=   0.5s\n",
            "[CV 5/5] END C=1, degree=1, gamma=auto, kernel=poly;, score=0.512 total time=   0.4s\n",
            "[CV 1/5] END C=1, degree=1, gamma=scale, kernel=poly;, score=0.960 total time=   0.2s\n",
            "[CV 2/5] END C=1, degree=1, gamma=scale, kernel=poly;, score=0.975 total time=   0.2s\n",
            "[CV 3/5] END C=1, degree=1, gamma=scale, kernel=poly;, score=0.971 total time=   0.2s\n",
            "[CV 4/5] END C=1, degree=1, gamma=scale, kernel=poly;, score=0.971 total time=   0.2s\n",
            "[CV 5/5] END C=1, degree=1, gamma=scale, kernel=poly;, score=0.973 total time=   0.2s\n",
            "[CV 1/5] END C=1, degree=2, gamma=auto, kernel=poly;, score=0.512 total time=   0.4s\n",
            "[CV 2/5] END C=1, degree=2, gamma=auto, kernel=poly;, score=0.512 total time=   0.4s\n",
            "[CV 3/5] END C=1, degree=2, gamma=auto, kernel=poly;, score=0.512 total time=   0.4s\n",
            "[CV 4/5] END C=1, degree=2, gamma=auto, kernel=poly;, score=0.510 total time=   0.4s\n",
            "[CV 5/5] END C=1, degree=2, gamma=auto, kernel=poly;, score=0.512 total time=   0.4s\n",
            "[CV 1/5] END C=1, degree=2, gamma=scale, kernel=poly;, score=0.950 total time=   0.5s\n",
            "[CV 2/5] END C=1, degree=2, gamma=scale, kernel=poly;, score=0.956 total time=   0.5s\n",
            "[CV 3/5] END C=1, degree=2, gamma=scale, kernel=poly;, score=0.940 total time=   0.5s\n",
            "[CV 4/5] END C=1, degree=2, gamma=scale, kernel=poly;, score=0.958 total time=   0.5s\n",
            "[CV 5/5] END C=1, degree=2, gamma=scale, kernel=poly;, score=0.948 total time=   0.5s\n",
            "[CV 1/5] END C=1, degree=3, gamma=auto, kernel=poly;, score=0.512 total time=   0.4s\n",
            "[CV 2/5] END C=1, degree=3, gamma=auto, kernel=poly;, score=0.512 total time=   0.4s\n",
            "[CV 3/5] END C=1, degree=3, gamma=auto, kernel=poly;, score=0.512 total time=   0.4s\n",
            "[CV 4/5] END C=1, degree=3, gamma=auto, kernel=poly;, score=0.510 total time=   0.5s\n",
            "[CV 5/5] END C=1, degree=3, gamma=auto, kernel=poly;, score=0.512 total time=   0.6s\n",
            "[CV 1/5] END C=1, degree=3, gamma=scale, kernel=poly;, score=0.915 total time=   1.0s\n",
            "[CV 2/5] END C=1, degree=3, gamma=scale, kernel=poly;, score=0.917 total time=   1.1s\n",
            "[CV 3/5] END C=1, degree=3, gamma=scale, kernel=poly;, score=0.904 total time=   0.6s\n",
            "[CV 4/5] END C=1, degree=3, gamma=scale, kernel=poly;, score=0.921 total time=   0.6s\n",
            "[CV 5/5] END C=1, degree=3, gamma=scale, kernel=poly;, score=0.919 total time=   0.6s\n",
            "[CV 1/5] END C=1, degree=4, gamma=auto, kernel=poly;, score=0.512 total time=   0.4s\n",
            "[CV 2/5] END C=1, degree=4, gamma=auto, kernel=poly;, score=0.512 total time=   0.4s\n",
            "[CV 3/5] END C=1, degree=4, gamma=auto, kernel=poly;, score=0.512 total time=   0.4s\n",
            "[CV 4/5] END C=1, degree=4, gamma=auto, kernel=poly;, score=0.510 total time=   0.5s\n",
            "[CV 5/5] END C=1, degree=4, gamma=auto, kernel=poly;, score=0.512 total time=   0.4s\n",
            "[CV 1/5] END C=1, degree=4, gamma=scale, kernel=poly;, score=0.883 total time=   0.7s\n",
            "[CV 2/5] END C=1, degree=4, gamma=scale, kernel=poly;, score=0.879 total time=   0.7s\n",
            "[CV 3/5] END C=1, degree=4, gamma=scale, kernel=poly;, score=0.873 total time=   0.7s\n",
            "[CV 4/5] END C=1, degree=4, gamma=scale, kernel=poly;, score=0.858 total time=   0.7s\n",
            "[CV 5/5] END C=1, degree=4, gamma=scale, kernel=poly;, score=0.887 total time=   0.7s\n",
            "[CV 1/5] END C=1, degree=5, gamma=auto, kernel=poly;, score=0.512 total time=   0.4s\n",
            "[CV 2/5] END C=1, degree=5, gamma=auto, kernel=poly;, score=0.512 total time=   0.4s\n",
            "[CV 3/5] END C=1, degree=5, gamma=auto, kernel=poly;, score=0.512 total time=   0.5s\n",
            "[CV 4/5] END C=1, degree=5, gamma=auto, kernel=poly;, score=0.510 total time=   0.4s\n",
            "[CV 5/5] END C=1, degree=5, gamma=auto, kernel=poly;, score=0.512 total time=   0.4s\n",
            "[CV 1/5] END C=1, degree=5, gamma=scale, kernel=poly;, score=0.815 total time=   0.7s\n",
            "[CV 2/5] END C=1, degree=5, gamma=scale, kernel=poly;, score=0.823 total time=   0.7s\n",
            "[CV 3/5] END C=1, degree=5, gamma=scale, kernel=poly;, score=0.842 total time=   0.7s\n",
            "[CV 4/5] END C=1, degree=5, gamma=scale, kernel=poly;, score=0.812 total time=   0.7s\n",
            "[CV 5/5] END C=1, degree=5, gamma=scale, kernel=poly;, score=0.819 total time=   0.7s\n",
            "[CV 1/5] END C=1, degree=6, gamma=auto, kernel=poly;, score=0.512 total time=   0.5s\n",
            "[CV 2/5] END C=1, degree=6, gamma=auto, kernel=poly;, score=0.512 total time=   0.4s\n",
            "[CV 3/5] END C=1, degree=6, gamma=auto, kernel=poly;, score=0.512 total time=   0.5s\n",
            "[CV 4/5] END C=1, degree=6, gamma=auto, kernel=poly;, score=0.510 total time=   0.5s\n",
            "[CV 5/5] END C=1, degree=6, gamma=auto, kernel=poly;, score=0.512 total time=   0.4s\n",
            "[CV 1/5] END C=1, degree=6, gamma=scale, kernel=poly;, score=0.765 total time=   0.7s\n",
            "[CV 2/5] END C=1, degree=6, gamma=scale, kernel=poly;, score=0.754 total time=   0.7s\n",
            "[CV 3/5] END C=1, degree=6, gamma=scale, kernel=poly;, score=0.802 total time=   0.7s\n",
            "[CV 4/5] END C=1, degree=6, gamma=scale, kernel=poly;, score=0.758 total time=   0.7s\n",
            "[CV 5/5] END C=1, degree=6, gamma=scale, kernel=poly;, score=0.754 total time=   0.7s\n",
            "[CV 1/5] END C=10, degree=1, gamma=auto, kernel=poly;, score=0.527 total time=   0.5s\n",
            "[CV 2/5] END C=10, degree=1, gamma=auto, kernel=poly;, score=0.542 total time=   0.5s\n",
            "[CV 3/5] END C=10, degree=1, gamma=auto, kernel=poly;, score=0.544 total time=   0.5s\n",
            "[CV 4/5] END C=10, degree=1, gamma=auto, kernel=poly;, score=0.540 total time=   0.5s\n",
            "[CV 5/5] END C=10, degree=1, gamma=auto, kernel=poly;, score=0.531 total time=   0.5s\n",
            "[CV 1/5] END C=10, degree=1, gamma=scale, kernel=poly;, score=0.963 total time=   0.2s\n",
            "[CV 2/5] END C=10, degree=1, gamma=scale, kernel=poly;, score=0.971 total time=   0.2s\n",
            "[CV 3/5] END C=10, degree=1, gamma=scale, kernel=poly;, score=0.958 total time=   0.2s\n",
            "[CV 4/5] END C=10, degree=1, gamma=scale, kernel=poly;, score=0.977 total time=   0.2s\n",
            "[CV 5/5] END C=10, degree=1, gamma=scale, kernel=poly;, score=0.969 total time=   0.2s\n",
            "[CV 1/5] END C=10, degree=2, gamma=auto, kernel=poly;, score=0.512 total time=   0.4s\n",
            "[CV 2/5] END C=10, degree=2, gamma=auto, kernel=poly;, score=0.512 total time=   0.4s\n",
            "[CV 3/5] END C=10, degree=2, gamma=auto, kernel=poly;, score=0.512 total time=   0.4s\n",
            "[CV 4/5] END C=10, degree=2, gamma=auto, kernel=poly;, score=0.510 total time=   0.4s\n",
            "[CV 5/5] END C=10, degree=2, gamma=auto, kernel=poly;, score=0.512 total time=   0.4s\n",
            "[CV 1/5] END C=10, degree=2, gamma=scale, kernel=poly;, score=0.950 total time=   0.5s\n",
            "[CV 2/5] END C=10, degree=2, gamma=scale, kernel=poly;, score=0.952 total time=   0.5s\n",
            "[CV 3/5] END C=10, degree=2, gamma=scale, kernel=poly;, score=0.942 total time=   0.5s\n",
            "[CV 4/5] END C=10, degree=2, gamma=scale, kernel=poly;, score=0.956 total time=   0.5s\n",
            "[CV 5/5] END C=10, degree=2, gamma=scale, kernel=poly;, score=0.948 total time=   0.5s\n",
            "[CV 1/5] END C=10, degree=3, gamma=auto, kernel=poly;, score=0.512 total time=   0.4s\n",
            "[CV 2/5] END C=10, degree=3, gamma=auto, kernel=poly;, score=0.512 total time=   0.4s\n",
            "[CV 3/5] END C=10, degree=3, gamma=auto, kernel=poly;, score=0.512 total time=   0.4s\n",
            "[CV 4/5] END C=10, degree=3, gamma=auto, kernel=poly;, score=0.510 total time=   0.4s\n",
            "[CV 5/5] END C=10, degree=3, gamma=auto, kernel=poly;, score=0.512 total time=   0.4s\n",
            "[CV 1/5] END C=10, degree=3, gamma=scale, kernel=poly;, score=0.917 total time=   0.6s\n",
            "[CV 2/5] END C=10, degree=3, gamma=scale, kernel=poly;, score=0.919 total time=   0.6s\n",
            "[CV 3/5] END C=10, degree=3, gamma=scale, kernel=poly;, score=0.912 total time=   0.6s\n",
            "[CV 4/5] END C=10, degree=3, gamma=scale, kernel=poly;, score=0.929 total time=   0.6s\n",
            "[CV 5/5] END C=10, degree=3, gamma=scale, kernel=poly;, score=0.919 total time=   0.6s\n",
            "[CV 1/5] END C=10, degree=4, gamma=auto, kernel=poly;, score=0.512 total time=   0.4s\n",
            "[CV 2/5] END C=10, degree=4, gamma=auto, kernel=poly;, score=0.512 total time=   0.4s\n",
            "[CV 3/5] END C=10, degree=4, gamma=auto, kernel=poly;, score=0.512 total time=   0.5s\n",
            "[CV 4/5] END C=10, degree=4, gamma=auto, kernel=poly;, score=0.510 total time=   0.4s\n",
            "[CV 5/5] END C=10, degree=4, gamma=auto, kernel=poly;, score=0.512 total time=   0.4s\n",
            "[CV 1/5] END C=10, degree=4, gamma=scale, kernel=poly;, score=0.885 total time=   0.7s\n",
            "[CV 2/5] END C=10, degree=4, gamma=scale, kernel=poly;, score=0.885 total time=   0.7s\n",
            "[CV 3/5] END C=10, degree=4, gamma=scale, kernel=poly;, score=0.883 total time=   0.7s\n",
            "[CV 4/5] END C=10, degree=4, gamma=scale, kernel=poly;, score=0.863 total time=   0.7s\n",
            "[CV 5/5] END C=10, degree=4, gamma=scale, kernel=poly;, score=0.894 total time=   0.7s\n",
            "[CV 1/5] END C=10, degree=5, gamma=auto, kernel=poly;, score=0.512 total time=   0.4s\n",
            "[CV 2/5] END C=10, degree=5, gamma=auto, kernel=poly;, score=0.512 total time=   0.5s\n",
            "[CV 3/5] END C=10, degree=5, gamma=auto, kernel=poly;, score=0.512 total time=   0.4s\n",
            "[CV 4/5] END C=10, degree=5, gamma=auto, kernel=poly;, score=0.510 total time=   0.4s\n",
            "[CV 5/5] END C=10, degree=5, gamma=auto, kernel=poly;, score=0.512 total time=   0.4s\n",
            "[CV 1/5] END C=10, degree=5, gamma=scale, kernel=poly;, score=0.819 total time=   0.7s\n",
            "[CV 2/5] END C=10, degree=5, gamma=scale, kernel=poly;, score=0.823 total time=   0.7s\n",
            "[CV 3/5] END C=10, degree=5, gamma=scale, kernel=poly;, score=0.848 total time=   0.7s\n",
            "[CV 4/5] END C=10, degree=5, gamma=scale, kernel=poly;, score=0.821 total time=   0.7s\n",
            "[CV 5/5] END C=10, degree=5, gamma=scale, kernel=poly;, score=0.823 total time=   0.7s\n",
            "[CV 1/5] END C=10, degree=6, gamma=auto, kernel=poly;, score=0.512 total time=   0.5s\n",
            "[CV 2/5] END C=10, degree=6, gamma=auto, kernel=poly;, score=0.512 total time=   0.4s\n",
            "[CV 3/5] END C=10, degree=6, gamma=auto, kernel=poly;, score=0.512 total time=   0.5s\n",
            "[CV 4/5] END C=10, degree=6, gamma=auto, kernel=poly;, score=0.510 total time=   0.4s\n",
            "[CV 5/5] END C=10, degree=6, gamma=auto, kernel=poly;, score=0.512 total time=   0.5s\n",
            "[CV 1/5] END C=10, degree=6, gamma=scale, kernel=poly;, score=0.771 total time=   0.7s\n",
            "[CV 2/5] END C=10, degree=6, gamma=scale, kernel=poly;, score=0.756 total time=   0.7s\n",
            "[CV 3/5] END C=10, degree=6, gamma=scale, kernel=poly;, score=0.815 total time=   0.7s\n",
            "[CV 4/5] END C=10, degree=6, gamma=scale, kernel=poly;, score=0.771 total time=   0.7s\n",
            "[CV 5/5] END C=10, degree=6, gamma=scale, kernel=poly;, score=0.754 total time=   0.7s\n",
            "[CV 1/5] END C=100, degree=1, gamma=auto, kernel=poly;, score=0.917 total time=   0.4s\n",
            "[CV 2/5] END C=100, degree=1, gamma=auto, kernel=poly;, score=0.938 total time=   0.4s\n",
            "[CV 3/5] END C=100, degree=1, gamma=auto, kernel=poly;, score=0.929 total time=   0.4s\n",
            "[CV 4/5] END C=100, degree=1, gamma=auto, kernel=poly;, score=0.942 total time=   0.4s\n",
            "[CV 5/5] END C=100, degree=1, gamma=auto, kernel=poly;, score=0.935 total time=   0.4s\n",
            "[CV 1/5] END C=100, degree=1, gamma=scale, kernel=poly;, score=0.963 total time=   0.2s\n",
            "[CV 2/5] END C=100, degree=1, gamma=scale, kernel=poly;, score=0.969 total time=   0.2s\n",
            "[CV 3/5] END C=100, degree=1, gamma=scale, kernel=poly;, score=0.958 total time=   0.2s\n",
            "[CV 4/5] END C=100, degree=1, gamma=scale, kernel=poly;, score=0.975 total time=   0.2s\n",
            "[CV 5/5] END C=100, degree=1, gamma=scale, kernel=poly;, score=0.969 total time=   0.2s\n",
            "[CV 1/5] END C=100, degree=2, gamma=auto, kernel=poly;, score=0.512 total time=   0.5s\n",
            "[CV 2/5] END C=100, degree=2, gamma=auto, kernel=poly;, score=0.512 total time=   0.5s\n",
            "[CV 3/5] END C=100, degree=2, gamma=auto, kernel=poly;, score=0.512 total time=   0.5s\n",
            "[CV 4/5] END C=100, degree=2, gamma=auto, kernel=poly;, score=0.510 total time=   0.5s\n",
            "[CV 5/5] END C=100, degree=2, gamma=auto, kernel=poly;, score=0.512 total time=   0.5s\n",
            "[CV 1/5] END C=100, degree=2, gamma=scale, kernel=poly;, score=0.950 total time=   0.5s\n",
            "[CV 2/5] END C=100, degree=2, gamma=scale, kernel=poly;, score=0.952 total time=   0.5s\n",
            "[CV 3/5] END C=100, degree=2, gamma=scale, kernel=poly;, score=0.942 total time=   0.5s\n",
            "[CV 4/5] END C=100, degree=2, gamma=scale, kernel=poly;, score=0.956 total time=   0.5s\n",
            "[CV 5/5] END C=100, degree=2, gamma=scale, kernel=poly;, score=0.948 total time=   0.5s\n",
            "[CV 1/5] END C=100, degree=3, gamma=auto, kernel=poly;, score=0.512 total time=   0.4s\n",
            "[CV 2/5] END C=100, degree=3, gamma=auto, kernel=poly;, score=0.512 total time=   0.4s\n",
            "[CV 3/5] END C=100, degree=3, gamma=auto, kernel=poly;, score=0.512 total time=   0.5s\n",
            "[CV 4/5] END C=100, degree=3, gamma=auto, kernel=poly;, score=0.510 total time=   0.5s\n",
            "[CV 5/5] END C=100, degree=3, gamma=auto, kernel=poly;, score=0.512 total time=   0.4s\n",
            "[CV 1/5] END C=100, degree=3, gamma=scale, kernel=poly;, score=0.917 total time=   0.6s\n",
            "[CV 2/5] END C=100, degree=3, gamma=scale, kernel=poly;, score=0.919 total time=   0.6s\n",
            "[CV 3/5] END C=100, degree=3, gamma=scale, kernel=poly;, score=0.912 total time=   0.6s\n",
            "[CV 4/5] END C=100, degree=3, gamma=scale, kernel=poly;, score=0.929 total time=   0.6s\n",
            "[CV 5/5] END C=100, degree=3, gamma=scale, kernel=poly;, score=0.919 total time=   0.6s\n",
            "[CV 1/5] END C=100, degree=4, gamma=auto, kernel=poly;, score=0.512 total time=   0.5s\n",
            "[CV 2/5] END C=100, degree=4, gamma=auto, kernel=poly;, score=0.512 total time=   0.4s\n",
            "[CV 3/5] END C=100, degree=4, gamma=auto, kernel=poly;, score=0.512 total time=   0.5s\n",
            "[CV 4/5] END C=100, degree=4, gamma=auto, kernel=poly;, score=0.510 total time=   0.5s\n",
            "[CV 5/5] END C=100, degree=4, gamma=auto, kernel=poly;, score=0.512 total time=   0.5s\n",
            "[CV 1/5] END C=100, degree=4, gamma=scale, kernel=poly;, score=0.885 total time=   0.7s\n",
            "[CV 2/5] END C=100, degree=4, gamma=scale, kernel=poly;, score=0.885 total time=   0.7s\n",
            "[CV 3/5] END C=100, degree=4, gamma=scale, kernel=poly;, score=0.883 total time=   0.7s\n",
            "[CV 4/5] END C=100, degree=4, gamma=scale, kernel=poly;, score=0.863 total time=   0.7s\n",
            "[CV 5/5] END C=100, degree=4, gamma=scale, kernel=poly;, score=0.894 total time=   0.7s\n",
            "[CV 1/5] END C=100, degree=5, gamma=auto, kernel=poly;, score=0.512 total time=   0.5s\n",
            "[CV 2/5] END C=100, degree=5, gamma=auto, kernel=poly;, score=0.512 total time=   0.5s\n",
            "[CV 3/5] END C=100, degree=5, gamma=auto, kernel=poly;, score=0.512 total time=   0.4s\n",
            "[CV 4/5] END C=100, degree=5, gamma=auto, kernel=poly;, score=0.510 total time=   0.5s\n",
            "[CV 5/5] END C=100, degree=5, gamma=auto, kernel=poly;, score=0.512 total time=   0.4s\n",
            "[CV 1/5] END C=100, degree=5, gamma=scale, kernel=poly;, score=0.819 total time=   0.7s\n",
            "[CV 2/5] END C=100, degree=5, gamma=scale, kernel=poly;, score=0.823 total time=   0.7s\n",
            "[CV 3/5] END C=100, degree=5, gamma=scale, kernel=poly;, score=0.848 total time=   0.7s\n",
            "[CV 4/5] END C=100, degree=5, gamma=scale, kernel=poly;, score=0.821 total time=   0.7s\n",
            "[CV 5/5] END C=100, degree=5, gamma=scale, kernel=poly;, score=0.823 total time=   0.7s\n",
            "[CV 1/5] END C=100, degree=6, gamma=auto, kernel=poly;, score=0.512 total time=   0.5s\n",
            "[CV 2/5] END C=100, degree=6, gamma=auto, kernel=poly;, score=0.512 total time=   0.5s\n",
            "[CV 3/5] END C=100, degree=6, gamma=auto, kernel=poly;, score=0.512 total time=   0.5s\n",
            "[CV 4/5] END C=100, degree=6, gamma=auto, kernel=poly;, score=0.510 total time=   0.5s\n",
            "[CV 5/5] END C=100, degree=6, gamma=auto, kernel=poly;, score=0.512 total time=   0.4s\n",
            "[CV 1/5] END C=100, degree=6, gamma=scale, kernel=poly;, score=0.771 total time=   0.7s\n",
            "[CV 2/5] END C=100, degree=6, gamma=scale, kernel=poly;, score=0.756 total time=   0.7s\n",
            "[CV 3/5] END C=100, degree=6, gamma=scale, kernel=poly;, score=0.815 total time=   0.7s\n",
            "[CV 4/5] END C=100, degree=6, gamma=scale, kernel=poly;, score=0.771 total time=   0.7s\n",
            "[CV 5/5] END C=100, degree=6, gamma=scale, kernel=poly;, score=0.754 total time=   0.7s\n",
            "[CV 1/5] END C=1000, degree=1, gamma=auto, kernel=poly;, score=0.958 total time=   0.2s\n",
            "[CV 2/5] END C=1000, degree=1, gamma=auto, kernel=poly;, score=0.971 total time=   0.2s\n",
            "[CV 3/5] END C=1000, degree=1, gamma=auto, kernel=poly;, score=0.967 total time=   0.2s\n",
            "[CV 4/5] END C=1000, degree=1, gamma=auto, kernel=poly;, score=0.967 total time=   0.2s\n",
            "[CV 5/5] END C=1000, degree=1, gamma=auto, kernel=poly;, score=0.967 total time=   0.2s\n",
            "[CV 1/5] END C=1000, degree=1, gamma=scale, kernel=poly;, score=0.963 total time=   0.2s\n",
            "[CV 2/5] END C=1000, degree=1, gamma=scale, kernel=poly;, score=0.969 total time=   0.2s\n",
            "[CV 3/5] END C=1000, degree=1, gamma=scale, kernel=poly;, score=0.958 total time=   0.2s\n",
            "[CV 4/5] END C=1000, degree=1, gamma=scale, kernel=poly;, score=0.975 total time=   0.2s\n",
            "[CV 5/5] END C=1000, degree=1, gamma=scale, kernel=poly;, score=0.969 total time=   0.2s\n",
            "[CV 1/5] END C=1000, degree=2, gamma=auto, kernel=poly;, score=0.512 total time=   0.5s\n",
            "[CV 2/5] END C=1000, degree=2, gamma=auto, kernel=poly;, score=0.512 total time=   0.5s\n",
            "[CV 3/5] END C=1000, degree=2, gamma=auto, kernel=poly;, score=0.512 total time=   0.5s\n",
            "[CV 4/5] END C=1000, degree=2, gamma=auto, kernel=poly;, score=0.510 total time=   0.5s\n",
            "[CV 5/5] END C=1000, degree=2, gamma=auto, kernel=poly;, score=0.512 total time=   0.5s\n",
            "[CV 1/5] END C=1000, degree=2, gamma=scale, kernel=poly;, score=0.950 total time=   0.5s\n",
            "[CV 2/5] END C=1000, degree=2, gamma=scale, kernel=poly;, score=0.952 total time=   0.5s\n",
            "[CV 3/5] END C=1000, degree=2, gamma=scale, kernel=poly;, score=0.942 total time=   0.5s\n",
            "[CV 4/5] END C=1000, degree=2, gamma=scale, kernel=poly;, score=0.956 total time=   0.5s\n",
            "[CV 5/5] END C=1000, degree=2, gamma=scale, kernel=poly;, score=0.948 total time=   0.5s\n",
            "[CV 1/5] END C=1000, degree=3, gamma=auto, kernel=poly;, score=0.512 total time=   0.4s\n",
            "[CV 2/5] END C=1000, degree=3, gamma=auto, kernel=poly;, score=0.512 total time=   0.5s\n",
            "[CV 3/5] END C=1000, degree=3, gamma=auto, kernel=poly;, score=0.512 total time=   0.4s\n",
            "[CV 4/5] END C=1000, degree=3, gamma=auto, kernel=poly;, score=0.510 total time=   0.5s\n",
            "[CV 5/5] END C=1000, degree=3, gamma=auto, kernel=poly;, score=0.512 total time=   0.4s\n",
            "[CV 1/5] END C=1000, degree=3, gamma=scale, kernel=poly;, score=0.917 total time=   0.6s\n",
            "[CV 2/5] END C=1000, degree=3, gamma=scale, kernel=poly;, score=0.919 total time=   0.6s\n",
            "[CV 3/5] END C=1000, degree=3, gamma=scale, kernel=poly;, score=0.912 total time=   0.6s\n",
            "[CV 4/5] END C=1000, degree=3, gamma=scale, kernel=poly;, score=0.929 total time=   0.7s\n",
            "[CV 5/5] END C=1000, degree=3, gamma=scale, kernel=poly;, score=0.919 total time=   0.6s\n",
            "[CV 1/5] END C=1000, degree=4, gamma=auto, kernel=poly;, score=0.512 total time=   0.5s\n",
            "[CV 2/5] END C=1000, degree=4, gamma=auto, kernel=poly;, score=0.512 total time=   0.4s\n",
            "[CV 3/5] END C=1000, degree=4, gamma=auto, kernel=poly;, score=0.512 total time=   0.5s\n",
            "[CV 4/5] END C=1000, degree=4, gamma=auto, kernel=poly;, score=0.510 total time=   0.5s\n",
            "[CV 5/5] END C=1000, degree=4, gamma=auto, kernel=poly;, score=0.512 total time=   0.5s\n",
            "[CV 1/5] END C=1000, degree=4, gamma=scale, kernel=poly;, score=0.885 total time=   0.7s\n",
            "[CV 2/5] END C=1000, degree=4, gamma=scale, kernel=poly;, score=0.885 total time=   0.7s\n",
            "[CV 3/5] END C=1000, degree=4, gamma=scale, kernel=poly;, score=0.883 total time=   0.7s\n",
            "[CV 4/5] END C=1000, degree=4, gamma=scale, kernel=poly;, score=0.863 total time=   0.7s\n",
            "[CV 5/5] END C=1000, degree=4, gamma=scale, kernel=poly;, score=0.894 total time=   0.7s\n",
            "[CV 1/5] END C=1000, degree=5, gamma=auto, kernel=poly;, score=0.512 total time=   0.4s\n",
            "[CV 2/5] END C=1000, degree=5, gamma=auto, kernel=poly;, score=0.512 total time=   0.5s\n",
            "[CV 3/5] END C=1000, degree=5, gamma=auto, kernel=poly;, score=0.512 total time=   0.4s\n",
            "[CV 4/5] END C=1000, degree=5, gamma=auto, kernel=poly;, score=0.510 total time=   0.5s\n",
            "[CV 5/5] END C=1000, degree=5, gamma=auto, kernel=poly;, score=0.512 total time=   0.5s\n",
            "[CV 1/5] END C=1000, degree=5, gamma=scale, kernel=poly;, score=0.819 total time=   0.7s\n",
            "[CV 2/5] END C=1000, degree=5, gamma=scale, kernel=poly;, score=0.823 total time=   0.7s\n",
            "[CV 3/5] END C=1000, degree=5, gamma=scale, kernel=poly;, score=0.848 total time=   0.7s\n",
            "[CV 4/5] END C=1000, degree=5, gamma=scale, kernel=poly;, score=0.821 total time=   0.7s\n",
            "[CV 5/5] END C=1000, degree=5, gamma=scale, kernel=poly;, score=0.823 total time=   0.7s\n",
            "[CV 1/5] END C=1000, degree=6, gamma=auto, kernel=poly;, score=0.512 total time=   0.5s\n",
            "[CV 2/5] END C=1000, degree=6, gamma=auto, kernel=poly;, score=0.512 total time=   0.5s\n",
            "[CV 3/5] END C=1000, degree=6, gamma=auto, kernel=poly;, score=0.512 total time=   0.5s\n",
            "[CV 4/5] END C=1000, degree=6, gamma=auto, kernel=poly;, score=0.510 total time=   0.4s\n",
            "[CV 5/5] END C=1000, degree=6, gamma=auto, kernel=poly;, score=0.512 total time=   0.5s\n",
            "[CV 1/5] END C=1000, degree=6, gamma=scale, kernel=poly;, score=0.771 total time=   0.7s\n",
            "[CV 2/5] END C=1000, degree=6, gamma=scale, kernel=poly;, score=0.756 total time=   0.7s\n",
            "[CV 3/5] END C=1000, degree=6, gamma=scale, kernel=poly;, score=0.815 total time=   0.7s\n",
            "[CV 4/5] END C=1000, degree=6, gamma=scale, kernel=poly;, score=0.771 total time=   0.7s\n",
            "[CV 5/5] END C=1000, degree=6, gamma=scale, kernel=poly;, score=0.754 total time=   0.7s\n",
            "Selected Kernel:  poly\n",
            "Selected C:  1\n",
            "Selected Gamma:  scale\n",
            "Selected Degree:  1\n",
            "Best Score : 0.97\n",
            "best estimator: SVC(C=1, degree=1, kernel='poly')\n"
          ]
        }
      ]
    },
    {
      "cell_type": "markdown",
      "source": [
        "* RBF Kernel"
      ],
      "metadata": {
        "id": "tuZVqSAY0BQO"
      }
    },
    {
      "cell_type": "code",
      "source": [
        "param_grid = {'C': [0.001, 0.1, 1, 10, 100, 1000],\n",
        "              'kernel': ['rbf'],\n",
        "              'gamma' :['auto', 'scale']\n",
        "             }\n",
        " \n",
        "grid = GridSearchCV(svm.SVC(), param_grid, scoring='accuracy', refit = True, verbose = 3) \n",
        "# fitting the model for grid search\n",
        "grid.fit(x_kamera_train_vectorized, y_kamera_train)\n",
        "\n",
        "selected_kernel_rbf = grid.best_params_['kernel']\n",
        "print(\"Selected Kernel: \", selected_kernel_rbf)\n",
        "selected_C_rbf = grid.best_params_['C']\n",
        "print(\"Selected C: \", selected_C_rbf)\n",
        "selected_gamma_rbf= grid.best_params_['gamma']\n",
        "print(\"Selected Gamma: \", selected_gamma_rbf)\n",
        "\n",
        "best_params_rbf_HT = grid.best_params_\n",
        "model_looks_rbf_HT= grid.best_estimator_\n",
        "\n",
        "print(f'Best Score : {grid.best_score_}')\n",
        "print(\"best estimator: %s\" % (model_looks_rbf_HT))"
      ],
      "metadata": {
        "colab": {
          "base_uri": "https://localhost:8080/"
        },
        "id": "itXr1dkV0Cs5",
        "outputId": "cca5e6f0-2e6b-4a0a-9fdb-d4093d0a75f4"
      },
      "execution_count": 20,
      "outputs": [
        {
          "output_type": "stream",
          "name": "stdout",
          "text": [
            "Fitting 5 folds for each of 12 candidates, totalling 60 fits\n",
            "[CV 1/5] END ...C=0.001, gamma=auto, kernel=rbf;, score=0.512 total time=   0.5s\n",
            "[CV 2/5] END ...C=0.001, gamma=auto, kernel=rbf;, score=0.512 total time=   0.5s\n",
            "[CV 3/5] END ...C=0.001, gamma=auto, kernel=rbf;, score=0.512 total time=   0.5s\n",
            "[CV 4/5] END ...C=0.001, gamma=auto, kernel=rbf;, score=0.510 total time=   0.5s\n",
            "[CV 5/5] END ...C=0.001, gamma=auto, kernel=rbf;, score=0.512 total time=   0.5s\n",
            "[CV 1/5] END ..C=0.001, gamma=scale, kernel=rbf;, score=0.512 total time=   0.5s\n",
            "[CV 2/5] END ..C=0.001, gamma=scale, kernel=rbf;, score=0.512 total time=   0.5s\n",
            "[CV 3/5] END ..C=0.001, gamma=scale, kernel=rbf;, score=0.512 total time=   0.5s\n",
            "[CV 4/5] END ..C=0.001, gamma=scale, kernel=rbf;, score=0.510 total time=   0.5s\n",
            "[CV 5/5] END ..C=0.001, gamma=scale, kernel=rbf;, score=0.512 total time=   0.5s\n",
            "[CV 1/5] END .....C=0.1, gamma=auto, kernel=rbf;, score=0.512 total time=   0.5s\n",
            "[CV 2/5] END .....C=0.1, gamma=auto, kernel=rbf;, score=0.512 total time=   0.5s\n",
            "[CV 3/5] END .....C=0.1, gamma=auto, kernel=rbf;, score=0.512 total time=   0.5s\n",
            "[CV 4/5] END .....C=0.1, gamma=auto, kernel=rbf;, score=0.510 total time=   0.5s\n",
            "[CV 5/5] END .....C=0.1, gamma=auto, kernel=rbf;, score=0.512 total time=   0.5s\n",
            "[CV 1/5] END ....C=0.1, gamma=scale, kernel=rbf;, score=0.915 total time=   0.5s\n",
            "[CV 2/5] END ....C=0.1, gamma=scale, kernel=rbf;, score=0.931 total time=   0.5s\n",
            "[CV 3/5] END ....C=0.1, gamma=scale, kernel=rbf;, score=0.925 total time=   0.5s\n",
            "[CV 4/5] END ....C=0.1, gamma=scale, kernel=rbf;, score=0.942 total time=   0.5s\n",
            "[CV 5/5] END ....C=0.1, gamma=scale, kernel=rbf;, score=0.929 total time=   0.5s\n",
            "[CV 1/5] END .......C=1, gamma=auto, kernel=rbf;, score=0.512 total time=   0.5s\n",
            "[CV 2/5] END .......C=1, gamma=auto, kernel=rbf;, score=0.512 total time=   0.5s\n",
            "[CV 3/5] END .......C=1, gamma=auto, kernel=rbf;, score=0.512 total time=   0.5s\n",
            "[CV 4/5] END .......C=1, gamma=auto, kernel=rbf;, score=0.510 total time=   0.5s\n",
            "[CV 5/5] END .......C=1, gamma=auto, kernel=rbf;, score=0.512 total time=   0.5s\n",
            "[CV 1/5] END ......C=1, gamma=scale, kernel=rbf;, score=0.960 total time=   0.4s\n",
            "[CV 2/5] END ......C=1, gamma=scale, kernel=rbf;, score=0.971 total time=   0.4s\n",
            "[CV 3/5] END ......C=1, gamma=scale, kernel=rbf;, score=0.963 total time=   0.4s\n",
            "[CV 4/5] END ......C=1, gamma=scale, kernel=rbf;, score=0.969 total time=   0.4s\n",
            "[CV 5/5] END ......C=1, gamma=scale, kernel=rbf;, score=0.967 total time=   0.4s\n",
            "[CV 1/5] END ......C=10, gamma=auto, kernel=rbf;, score=0.710 total time=   0.5s\n",
            "[CV 2/5] END ......C=10, gamma=auto, kernel=rbf;, score=0.744 total time=   0.5s\n",
            "[CV 3/5] END ......C=10, gamma=auto, kernel=rbf;, score=0.750 total time=   0.5s\n",
            "[CV 4/5] END ......C=10, gamma=auto, kernel=rbf;, score=0.702 total time=   0.5s\n",
            "[CV 5/5] END ......C=10, gamma=auto, kernel=rbf;, score=0.758 total time=   0.5s\n",
            "[CV 1/5] END .....C=10, gamma=scale, kernel=rbf;, score=0.967 total time=   0.4s\n",
            "[CV 2/5] END .....C=10, gamma=scale, kernel=rbf;, score=0.975 total time=   0.5s\n",
            "[CV 3/5] END .....C=10, gamma=scale, kernel=rbf;, score=0.965 total time=   0.5s\n",
            "[CV 4/5] END .....C=10, gamma=scale, kernel=rbf;, score=0.973 total time=   0.5s\n",
            "[CV 5/5] END .....C=10, gamma=scale, kernel=rbf;, score=0.973 total time=   0.5s\n",
            "[CV 1/5] END .....C=100, gamma=auto, kernel=rbf;, score=0.935 total time=   0.4s\n",
            "[CV 2/5] END .....C=100, gamma=auto, kernel=rbf;, score=0.950 total time=   0.3s\n",
            "[CV 3/5] END .....C=100, gamma=auto, kernel=rbf;, score=0.942 total time=   0.4s\n",
            "[CV 4/5] END .....C=100, gamma=auto, kernel=rbf;, score=0.952 total time=   0.4s\n",
            "[CV 5/5] END .....C=100, gamma=auto, kernel=rbf;, score=0.946 total time=   0.4s\n",
            "[CV 1/5] END ....C=100, gamma=scale, kernel=rbf;, score=0.967 total time=   0.4s\n",
            "[CV 2/5] END ....C=100, gamma=scale, kernel=rbf;, score=0.975 total time=   0.5s\n",
            "[CV 3/5] END ....C=100, gamma=scale, kernel=rbf;, score=0.965 total time=   0.5s\n",
            "[CV 4/5] END ....C=100, gamma=scale, kernel=rbf;, score=0.973 total time=   0.5s\n",
            "[CV 5/5] END ....C=100, gamma=scale, kernel=rbf;, score=0.973 total time=   0.5s\n",
            "[CV 1/5] END ....C=1000, gamma=auto, kernel=rbf;, score=0.956 total time=   0.2s\n",
            "[CV 2/5] END ....C=1000, gamma=auto, kernel=rbf;, score=0.975 total time=   0.2s\n",
            "[CV 3/5] END ....C=1000, gamma=auto, kernel=rbf;, score=0.971 total time=   0.2s\n",
            "[CV 4/5] END ....C=1000, gamma=auto, kernel=rbf;, score=0.967 total time=   0.2s\n",
            "[CV 5/5] END ....C=1000, gamma=auto, kernel=rbf;, score=0.973 total time=   0.2s\n",
            "[CV 1/5] END ...C=1000, gamma=scale, kernel=rbf;, score=0.967 total time=   0.4s\n",
            "[CV 2/5] END ...C=1000, gamma=scale, kernel=rbf;, score=0.975 total time=   0.5s\n",
            "[CV 3/5] END ...C=1000, gamma=scale, kernel=rbf;, score=0.965 total time=   0.5s\n",
            "[CV 4/5] END ...C=1000, gamma=scale, kernel=rbf;, score=0.973 total time=   0.5s\n",
            "[CV 5/5] END ...C=1000, gamma=scale, kernel=rbf;, score=0.973 total time=   0.5s\n",
            "Selected Kernel:  rbf\n",
            "Selected C:  10\n",
            "Selected Gamma:  scale\n",
            "Best Score : 0.9704166666666666\n",
            "best estimator: SVC(C=10)\n"
          ]
        }
      ]
    },
    {
      "cell_type": "markdown",
      "source": [
        "## CV with Tuned Hyperparamater"
      ],
      "metadata": {
        "id": "ddmozdxJ9UX9"
      }
    },
    {
      "cell_type": "code",
      "source": [
        "#(Linear)\n",
        "\n",
        "cross_val_score_linear= cross_val_score(model_looks_linear_HT, x_kamera_train_vectorized, y_kamera_train, scoring='accuracy', cv=5)\n",
        "print(\"Accuracy Score Linear of : %0.2f\" % cross_val_score_linear.mean(), cross_val_score_linear.std())\n",
        "\n",
        "cross_val_score_poly = cross_val_score(model_looks_poly_HT, x_kamera_train_vectorized, y_kamera_train, scoring='accuracy', cv=5)\n",
        "print(\"Accuracy Score Poly of : %0.2f\" % cross_val_score_poly.mean(), cross_val_score_poly.std())\n",
        "\n",
        "cross_val_score_rbf = cross_val_score(model_looks_rbf_HT, x_kamera_train_vectorized, y_kamera_train, scoring='accuracy', cv=5)\n",
        "print(\"Accuracy Score RBF of : %0.2f\" % cross_val_score_rbf.mean(), cross_val_score_rbf.std())"
      ],
      "metadata": {
        "id": "MZGVV_VP9lAY",
        "colab": {
          "base_uri": "https://localhost:8080/"
        },
        "outputId": "058728c5-3fe4-4fdc-8454-e66ce378e321"
      },
      "execution_count": 21,
      "outputs": [
        {
          "output_type": "stream",
          "name": "stdout",
          "text": [
            "Accuracy Score Linear of : 0.97 0.005034602488997721\n",
            "Accuracy Score Poly of : 0.97 0.005034602488997721\n",
            "Accuracy Score RBF of : 0.97 0.004039733214513593\n"
          ]
        }
      ]
    },
    {
      "cell_type": "code",
      "source": [
        "import numpy as np\n",
        "from matplotlib.ticker import FormatStrFormatter\n",
        "\n",
        "import matplotlib.pyplot as plt\n",
        "%matplotlib inline\n",
        "\n",
        "\n",
        "name = ['Linear', 'RBF', 'Polynomial']\n",
        "before_HT = [cv_linear.mean(), cv_rbf.mean(), cv_poly.mean()]\n",
        "after_HT = [cross_val_score_linear.mean(), cross_val_score_rbf.mean(), cross_val_score_poly.mean()]\n",
        "diff_linear = ((cross_val_score_linear.mean()-cv_linear.mean()))\n",
        "diff_rbf = ((cross_val_score_rbf.mean()-cv_rbf.mean()))\n",
        "diff_poly = ((cross_val_score_poly.mean()-cv_poly.mean()))\n",
        "diff_HT = [diff_linear, diff_rbf, diff_poly]\n",
        "\n",
        "x = np.arange(len(name))\n",
        "width = 0.2\n",
        "\n",
        "fig, ax = plt.subplots(figsize=(14, 7))\n",
        "\n",
        "bfr = ax.bar(x - width/2, before_HT, width, label='Before', color='steelblue')\n",
        "aftr = ax.bar(x + width/2, after_HT, width, label='After', color='orange')\n",
        "diff = ax.bar(x + 0.3, diff_HT, width, label='Diffrenciate', color='cyan')\n",
        "\n",
        "ax.set_title('Hasil Hyperparameter Aspek Kamera', size=16)\n",
        "ax.set_ylabel('Accuracy', size=14)\n",
        "ax.set_xticks(x)\n",
        "ax.set_xticklabels(name, size=14)\n",
        "ax.legend(fontsize=14)\n",
        "ax.legend(bbox_to_anchor=(1.02, 1), loc='upper left', borderaxespad=0)\n",
        "ax.yaxis.set_major_formatter(FormatStrFormatter(\"%0.2f\"))\n",
        "for p in ax.patches:\n",
        "    h = p.get_height()\n",
        "    x = p.get_x()+p.get_width()/2\n",
        "    if h!= 0:\n",
        "      ax.annotate(\"%g\" % p.get_height(), xy=(x,h), xytext=(0,5), textcoords=\"offset points\",\n",
        "                  ha=\"center\", fontsize=10)\n",
        "    \n",
        "plt.show()"
      ],
      "metadata": {
        "id": "o8JMcYaRShZ2",
        "colab": {
          "base_uri": "https://localhost:8080/",
          "height": 450
        },
        "outputId": "ee542569-6742-428d-9ff4-0866d0c3b656"
      },
      "execution_count": 22,
      "outputs": [
        {
          "output_type": "display_data",
          "data": {
            "text/plain": [
              "<Figure size 1008x504 with 1 Axes>"
            ],
            "image/png": "[encoded data removed]"
          },
          "metadata": {
            "needs_background": "light"
          }
        }
      ]
    },
    {
      "cell_type": "markdown",
      "source": [
        "## Model Validation"
      ],
      "metadata": {
        "id": "P6SG8dgvAd-i"
      }
    },
    {
      "cell_type": "markdown",
      "source": [
        "### Model Validation SVM"
      ],
      "metadata": {
        "id": "D_F29KWtBDJW"
      }
    },
    {
      "cell_type": "markdown",
      "source": [
        "* Linear Kernel"
      ],
      "metadata": {
        "id": "ZvDLyAjrfa6H"
      }
    },
    {
      "cell_type": "code",
      "source": [
        "predictions_SVM = linear_svc.predict(x_kamera_test_vectorized)\n",
        "\n",
        "print('Confusion Matrix : \\n', confusion_matrix(y_kamera_test, predictions_SVM))\n",
        "print('Report Hasil : \\n',classification_report(y_kamera_test, predictions_SVM))"
      ],
      "metadata": {
        "id": "c8PhaBphfjEs",
        "colab": {
          "base_uri": "https://localhost:8080/"
        },
        "outputId": "da9ec222-72bb-47b7-f86e-d7cdf19a97b8"
      },
      "execution_count": 23,
      "outputs": [
        {
          "output_type": "stream",
          "name": "stdout",
          "text": [
            "Confusion Matrix : \n",
            " [[  1   0   4]\n",
            " [  0 283   3]\n",
            " [  0   1 308]]\n",
            "Report Hasil : \n",
            "               precision    recall  f1-score   support\n",
            "\n",
            "          -1       1.00      0.20      0.33         5\n",
            "           0       1.00      0.99      0.99       286\n",
            "           1       0.98      1.00      0.99       309\n",
            "\n",
            "    accuracy                           0.99       600\n",
            "   macro avg       0.99      0.73      0.77       600\n",
            "weighted avg       0.99      0.99      0.98       600\n",
            "\n"
          ]
        }
      ]
    },
    {
      "cell_type": "markdown",
      "source": [
        "* Poly Kernel"
      ],
      "metadata": {
        "id": "M3kHb30qfgxB"
      }
    },
    {
      "cell_type": "code",
      "source": [
        "predictions_SVM = poly_svc.predict(x_kamera_test_vectorized)\n",
        "\n",
        "print('Confusion Matrix : \\n', confusion_matrix(y_kamera_test, predictions_SVM))\n",
        "print('Report Hasil : \\n',classification_report(y_kamera_test, predictions_SVM))"
      ],
      "metadata": {
        "id": "4F-boUNLgcfe",
        "colab": {
          "base_uri": "https://localhost:8080/"
        },
        "outputId": "3cdd7e9f-3eaa-4d7b-9c10-875cc1135115"
      },
      "execution_count": 24,
      "outputs": [
        {
          "output_type": "stream",
          "name": "stdout",
          "text": [
            "Confusion Matrix : \n",
            " [[  0   1   4]\n",
            " [  0 271  15]\n",
            " [  0  16 293]]\n",
            "Report Hasil : \n",
            "               precision    recall  f1-score   support\n",
            "\n",
            "          -1       0.00      0.00      0.00         5\n",
            "           0       0.94      0.95      0.94       286\n",
            "           1       0.94      0.95      0.94       309\n",
            "\n",
            "    accuracy                           0.94       600\n",
            "   macro avg       0.63      0.63      0.63       600\n",
            "weighted avg       0.93      0.94      0.94       600\n",
            "\n"
          ]
        }
      ]
    },
    {
      "cell_type": "markdown",
      "source": [
        "* RBF Kernel"
      ],
      "metadata": {
        "id": "j06q0P7cfe_O"
      }
    },
    {
      "cell_type": "code",
      "source": [
        "predictions_SVM = rbf_svc.predict(x_kamera_test_vectorized)\n",
        "\n",
        "print('Confusion Matrix : \\n', confusion_matrix(y_kamera_test, predictions_SVM))\n",
        "print('Report Hasil : \\n',classification_report(y_kamera_test, predictions_SVM))"
      ],
      "metadata": {
        "id": "kKVh71rHgnKU",
        "colab": {
          "base_uri": "https://localhost:8080/"
        },
        "outputId": "bf28110d-96a1-402e-9fb5-4b2000368409"
      },
      "execution_count": 25,
      "outputs": [
        {
          "output_type": "stream",
          "name": "stdout",
          "text": [
            "Confusion Matrix : \n",
            " [[  0   0   5]\n",
            " [  0 282   4]\n",
            " [  0   2 307]]\n",
            "Report Hasil : \n",
            "               precision    recall  f1-score   support\n",
            "\n",
            "          -1       0.00      0.00      0.00         5\n",
            "           0       0.99      0.99      0.99       286\n",
            "           1       0.97      0.99      0.98       309\n",
            "\n",
            "    accuracy                           0.98       600\n",
            "   macro avg       0.65      0.66      0.66       600\n",
            "weighted avg       0.97      0.98      0.98       600\n",
            "\n"
          ]
        }
      ]
    },
    {
      "cell_type": "markdown",
      "source": [
        "### Model Validation Hyperparameter Tuning Test Dataset"
      ],
      "metadata": {
        "id": "xSMKBr_CA95O"
      }
    },
    {
      "cell_type": "markdown",
      "source": [
        "* Linear Kernel"
      ],
      "metadata": {
        "id": "a9DYVC85h5mq"
      }
    },
    {
      "cell_type": "code",
      "source": [
        "grid_predictions = model_looks_linear_HT.predict(x_kamera_test_vectorized)\n",
        "\n",
        "print('Confusion Matrix : \\n', confusion_matrix(y_kamera_test, grid_predictions))\n",
        "print('Report Hasil : \\n',classification_report(y_kamera_test, grid_predictions))"
      ],
      "metadata": {
        "id": "wzIVFSATh_A5",
        "colab": {
          "base_uri": "https://localhost:8080/"
        },
        "outputId": "18f9ff84-f1d8-4c74-e586-95a1a293edf1"
      },
      "execution_count": 26,
      "outputs": [
        {
          "output_type": "stream",
          "name": "stdout",
          "text": [
            "Confusion Matrix : \n",
            " [[  1   0   4]\n",
            " [  0 283   3]\n",
            " [  0   1 308]]\n",
            "Report Hasil : \n",
            "               precision    recall  f1-score   support\n",
            "\n",
            "          -1       1.00      0.20      0.33         5\n",
            "           0       1.00      0.99      0.99       286\n",
            "           1       0.98      1.00      0.99       309\n",
            "\n",
            "    accuracy                           0.99       600\n",
            "   macro avg       0.99      0.73      0.77       600\n",
            "weighted avg       0.99      0.99      0.98       600\n",
            "\n"
          ]
        }
      ]
    },
    {
      "cell_type": "markdown",
      "source": [
        "* Poly Kernel"
      ],
      "metadata": {
        "id": "NCZZNnY9h6dg"
      }
    },
    {
      "cell_type": "code",
      "source": [
        "grid_predictions = model_looks_poly_HT.predict(x_kamera_test_vectorized)\n",
        "\n",
        "print('Confusion Matrix : \\n', confusion_matrix(y_kamera_test, grid_predictions))\n",
        "print('Report Hasil : \\n',classification_report(y_kamera_test, grid_predictions))"
      ],
      "metadata": {
        "id": "6iuXz8jki85T",
        "colab": {
          "base_uri": "https://localhost:8080/"
        },
        "outputId": "305dba38-ef7c-48c4-ae1f-cb6c06f20124"
      },
      "execution_count": 27,
      "outputs": [
        {
          "output_type": "stream",
          "name": "stdout",
          "text": [
            "Confusion Matrix : \n",
            " [[  1   0   4]\n",
            " [  0 283   3]\n",
            " [  0   1 308]]\n",
            "Report Hasil : \n",
            "               precision    recall  f1-score   support\n",
            "\n",
            "          -1       1.00      0.20      0.33         5\n",
            "           0       1.00      0.99      0.99       286\n",
            "           1       0.98      1.00      0.99       309\n",
            "\n",
            "    accuracy                           0.99       600\n",
            "   macro avg       0.99      0.73      0.77       600\n",
            "weighted avg       0.99      0.99      0.98       600\n",
            "\n"
          ]
        }
      ]
    },
    {
      "cell_type": "markdown",
      "source": [
        "* RBF Kernel"
      ],
      "metadata": {
        "id": "zfVKCG4Jh8La"
      }
    },
    {
      "cell_type": "code",
      "source": [
        "grid_predictions = model_looks_rbf_HT.predict(x_kamera_test_vectorized)\n",
        "\n",
        "print('Confusion Matrix : \\n', confusion_matrix(y_kamera_test, grid_predictions))\n",
        "print('Report Hasil : \\n',classification_report(y_kamera_test, grid_predictions))"
      ],
      "metadata": {
        "id": "J8lpNpY3jDrH",
        "colab": {
          "base_uri": "https://localhost:8080/"
        },
        "outputId": "900eac13-2cfa-48b2-d36b-feb7c23b48a8"
      },
      "execution_count": 28,
      "outputs": [
        {
          "output_type": "stream",
          "name": "stdout",
          "text": [
            "Confusion Matrix : \n",
            " [[  0   0   5]\n",
            " [  0 281   5]\n",
            " [  0   2 307]]\n",
            "Report Hasil : \n",
            "               precision    recall  f1-score   support\n",
            "\n",
            "          -1       0.00      0.00      0.00         5\n",
            "           0       0.99      0.98      0.99       286\n",
            "           1       0.97      0.99      0.98       309\n",
            "\n",
            "    accuracy                           0.98       600\n",
            "   macro avg       0.65      0.66      0.66       600\n",
            "weighted avg       0.97      0.98      0.98       600\n",
            "\n"
          ]
        }
      ]
    },
    {
      "cell_type": "code",
      "source": [],
      "metadata": {
        "id": "xUqKxgBxZkZT"
      },
      "execution_count": 28,
      "outputs": []
    },
    {
      "cell_type": "markdown",
      "source": [
        "### Model Validation Hyperparameter Tuning Train Dataset"
      ],
      "metadata": {
        "id": "S7jltPrXZk1W"
      }
    },
    {
      "cell_type": "markdown",
      "source": [
        "* Linear Kernel"
      ],
      "metadata": {
        "id": "HTEm2He2Zk1W"
      }
    },
    {
      "cell_type": "code",
      "source": [
        "grid_predictions = model_looks_linear_HT.predict(x_kamera_train_vectorized)\n",
        "\n",
        "print('Confusion Matrix : \\n', confusion_matrix(y_kamera_train, grid_predictions))\n",
        "print('Report Hasil : \\n',classification_report(y_kamera_train, grid_predictions))"
      ],
      "metadata": {
        "id": "bOnP49DQZk1X",
        "colab": {
          "base_uri": "https://localhost:8080/"
        },
        "outputId": "6e0c54ec-7a34-4fd9-a1ce-50baf396f7cb"
      },
      "execution_count": 29,
      "outputs": [
        {
          "output_type": "stream",
          "name": "stdout",
          "text": [
            "Confusion Matrix : \n",
            " [[  14    1   12]\n",
            " [   0 1138    6]\n",
            " [   1    8 1220]]\n",
            "Report Hasil : \n",
            "               precision    recall  f1-score   support\n",
            "\n",
            "          -1       0.93      0.52      0.67        27\n",
            "           0       0.99      0.99      0.99      1144\n",
            "           1       0.99      0.99      0.99      1229\n",
            "\n",
            "    accuracy                           0.99      2400\n",
            "   macro avg       0.97      0.84      0.88      2400\n",
            "weighted avg       0.99      0.99      0.99      2400\n",
            "\n"
          ]
        }
      ]
    },
    {
      "cell_type": "markdown",
      "source": [
        "* Poly Kernel"
      ],
      "metadata": {
        "id": "abEyxPp5Zk1Y"
      }
    },
    {
      "cell_type": "code",
      "source": [
        "grid_predictions = model_looks_poly_HT.predict(x_kamera_train_vectorized)\n",
        "\n",
        "print('Confusion Matrix : \\n', confusion_matrix(y_kamera_train, grid_predictions))\n",
        "print('Report Hasil : \\n',classification_report(y_kamera_train, grid_predictions))"
      ],
      "metadata": {
        "id": "6UhuulfEZk1Y",
        "colab": {
          "base_uri": "https://localhost:8080/"
        },
        "outputId": "173e7561-a978-4298-dbf0-92b74e011a61"
      },
      "execution_count": 30,
      "outputs": [
        {
          "output_type": "stream",
          "name": "stdout",
          "text": [
            "Confusion Matrix : \n",
            " [[  14    1   12]\n",
            " [   0 1138    6]\n",
            " [   1    7 1221]]\n",
            "Report Hasil : \n",
            "               precision    recall  f1-score   support\n",
            "\n",
            "          -1       0.93      0.52      0.67        27\n",
            "           0       0.99      0.99      0.99      1144\n",
            "           1       0.99      0.99      0.99      1229\n",
            "\n",
            "    accuracy                           0.99      2400\n",
            "   macro avg       0.97      0.84      0.88      2400\n",
            "weighted avg       0.99      0.99      0.99      2400\n",
            "\n"
          ]
        }
      ]
    },
    {
      "cell_type": "markdown",
      "source": [
        "* RBF Kernel"
      ],
      "metadata": {
        "id": "k6evb4xdZk1Y"
      }
    },
    {
      "cell_type": "code",
      "source": [
        "grid_predictions = model_looks_rbf_HT.predict(x_kamera_train_vectorized)\n",
        "\n",
        "print('Confusion Matrix : \\n', confusion_matrix(y_kamera_train, grid_predictions))\n",
        "print('Report Hasil : \\n',classification_report(y_kamera_train, grid_predictions))"
      ],
      "metadata": {
        "id": "7YExcT23Zk1Z",
        "colab": {
          "base_uri": "https://localhost:8080/"
        },
        "outputId": "f0f8d100-8435-46af-d3fb-fd45ac0cdaed"
      },
      "execution_count": 31,
      "outputs": [
        {
          "output_type": "stream",
          "name": "stdout",
          "text": [
            "Confusion Matrix : \n",
            " [[  26    0    1]\n",
            " [   0 1144    0]\n",
            " [   0    0 1229]]\n",
            "Report Hasil : \n",
            "               precision    recall  f1-score   support\n",
            "\n",
            "          -1       1.00      0.96      0.98        27\n",
            "           0       1.00      1.00      1.00      1144\n",
            "           1       1.00      1.00      1.00      1229\n",
            "\n",
            "    accuracy                           1.00      2400\n",
            "   macro avg       1.00      0.99      0.99      2400\n",
            "weighted avg       1.00      1.00      1.00      2400\n",
            "\n"
          ]
        }
      ]
    }
  ]
}